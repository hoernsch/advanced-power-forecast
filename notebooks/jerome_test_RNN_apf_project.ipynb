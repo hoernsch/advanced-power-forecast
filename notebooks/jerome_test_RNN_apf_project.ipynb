{
  "cells": [
    {
      "cell_type": "markdown",
      "metadata": {
        "id": "2qAlSZB7RAvX"
      },
      "source": [
        "# Imports and Define Paths"
      ]
    },
    {
      "cell_type": "code",
      "execution_count": 12,
      "metadata": {
        "id": "OXeNNT3CEtjO"
      },
      "outputs": [],
      "source": [
        "import numpy as np\n",
        "import pandas as pd\n",
        "import tensorflow as tf\n",
        "import matplotlib.pyplot as plt\n",
        "\n",
        "import glob\n",
        "import os\n",
        "import time\n",
        "import pickle\n",
        "\n",
        "from colorama import Fore, Style\n",
        "from tensorflow import keras\n",
        "from google.cloud import storage\n",
        "\n",
        "\n",
        "from pathlib import Path\n",
        "from colorama import Fore, Style\n",
        "from dateutil.parser import parse\n",
        "from typing import Dict, List, Tuple, Sequence\n",
        "from datetime import datetime\n",
        "\n",
        "from power.params import *\n",
        "from power.ml_ops.data import get_data_with_cache, load_data_to_bq, clean_pv_data\n",
        "from power.ml_ops.model import initialize_model, compile_model, train_model\n",
        "from power.ml_ops.registry import load_model, save_model, save_results\n",
        "from power.ml_ops.cross_val import get_Xi_yi, get_X_y_seq"
      ]
    },
    {
      "cell_type": "markdown",
      "metadata": {
        "id": "bTJNnbpCROmz"
      },
      "source": [
        "# Load Processed data and split into train and test sets"
      ]
    },
    {
      "cell_type": "code",
      "execution_count": null,
      "metadata": {
        "colab": {
          "base_uri": "https://localhost:8080/"
        },
        "id": "c5CsTRK4GzQv",
        "outputId": "5b94b49f-2d5e-4a03-bb86-4f09face50fc"
      },
      "outputs": [],
      "source": [
        "print(Fore.MAGENTA + \"\\n⭐️ Use case: train\" + Style.RESET_ALL)\n",
        "print(Fore.BLUE + \"\\nLoading preprocessed validation data...\" + Style.RESET_ALL)\n",
        "\n",
        "\n",
        "# Load processed data using `get_data_with_cache` in chronological order\n",
        "\n",
        "query = f\"\"\"\n",
        "    SELECT *\n",
        "    FROM {GCP_PROJECT}.{BQ_DATASET}.processed_pv\n",
        "    ORDER BY utc_time\n",
        "\"\"\"\n",
        "\n",
        "data_processed_cache_path = Path(LOCAL_DATA_PATH).joinpath(\"processed\", f\"processed_pv.csv\")\n",
        "data_processed = get_data_with_cache(\n",
        "    gcp_project=GCP_PROJECT,\n",
        "    query=query,\n",
        "    cache_path=data_processed_cache_path,\n",
        "    data_has_header=True\n",
        ")\n",
        "\n",
        "# the model uses power as feature -> fix that in raw data\n",
        "data_processed = data_processed.rename(columns={'electricity': 'power'})\n",
        "# the processed data form bq needs to be converted to datetime object\n",
        "data_processed.utc_time = pd.to_datetime(data_processed.utc_time,utc=True)\n",
        "\n",
        "if data_processed.shape[0] < 240:\n",
        "    print(\"❌ Not enough processed data retrieved to train on\")\n",
        "    # return None\n",
        "\n",
        "\n",
        "# Split the data into training and testing sets\n",
        "train = data_processed[data_processed['utc_time'] < '2020-01-01']\n",
        "test = data_processed[data_processed['utc_time'] >= '2020-01-01']\n",
        "\n",
        "train = train[['power']]\n",
        "test = test[['power']]\n"
      ]
    },
    {
      "cell_type": "code",
      "execution_count": null,
      "metadata": {
        "id": "rOxQQjEGM_wv"
      },
      "outputs": [],
      "source": [
        "X_train, y_train = get_X_y_seq(train,\n",
        "                                number_of_sequences=10_000,\n",
        "                                input_length=48,\n",
        "                                output_length=24)"
      ]
    },
    {
      "cell_type": "markdown",
      "metadata": {
        "id": "UIV2SlY9Rasb"
      },
      "source": [
        "# Define Model"
      ]
    },
    {
      "cell_type": "code",
      "execution_count": null,
      "metadata": {
        "id": "38EPazt5LcyS"
      },
      "outputs": [],
      "source": [
        "import pandas as pd\n",
        "\n",
        "from tensorflow.keras import models, layers, optimizers, metrics\n",
        "from tensorflow.keras import backend as K\n",
        "from tensorflow.keras.layers import Lambda\n",
        "from tensorflow.keras.callbacks import EarlyStopping\n",
        "\n",
        "def initialize_model(X_train, y_train, n_unit=24):\n",
        "\n",
        "    # 1 - RNN architecture\n",
        "    # ======================\n",
        "    model = models.Sequential()\n",
        "\n",
        "    ## 1.1 - Recurrent Layer\n",
        "    model.add(layers.LSTM(n_unit,\n",
        "                          activation='tanh',\n",
        "                          return_sequences = False,\n",
        "                          input_shape=(X_train.shape[1],X_train.shape[2])\n",
        "                          ))\n",
        "    ## 1.2 - Predictive Dense Layers\n",
        "    output_length = y_train.shape[1]\n",
        "    model.add(layers.Dense(output_length, activation='linear'))\n",
        "\n",
        "    return model\n",
        "\n",
        "def compile_model(model, learning_rate=0.02):\n",
        "\n",
        "    # def r_squared(y_true, y_pred):\n",
        "    #     ss_res = K.sum(K.square(y_true - y_pred))\n",
        "    #     ss_tot = K.sum(K.square(y_true - K.mean(y_true)))\n",
        "    #     return (1 - ss_res/(ss_tot + K.epsilon()))\n",
        "\n",
        "    adam = optimizers.Adam(learning_rate=learning_rate)\n",
        "    model.compile(loss='mse', optimizer=adam, metrics=['mae']) #, r_squared])\n",
        "\n",
        "    return model\n",
        "\n",
        "def train_model(model,\n",
        "                X_train,\n",
        "                y_train,\n",
        "                validation_split = 0.3,\n",
        "                batch_size = 32,\n",
        "                epochs = 50):\n",
        "    es = EarlyStopping(monitor = \"val_mae\",\n",
        "                       mode = \"min\",\n",
        "                       patience = 5,\n",
        "                       restore_best_weights = True)\n",
        "    history = model.fit(X_train, y_train,\n",
        "                        validation_split=validation_split,\n",
        "                        shuffle=False,\n",
        "                        batch_size=batch_size,\n",
        "                        epochs=epochs,\n",
        "                        callbacks = [es],\n",
        "                        verbose = 0)\n",
        "    return model, history"
      ]
    },
    {
      "cell_type": "markdown",
      "metadata": {
        "id": "vwAYdGD-RfTb"
      },
      "source": [
        "# Train model"
      ]
    },
    {
      "cell_type": "code",
      "execution_count": null,
      "metadata": {
        "id": "Nc20G9SnNIqT"
      },
      "outputs": [],
      "source": [
        "model = initialize_model(X_train, y_train, n_unit=24)"
      ]
    },
    {
      "cell_type": "code",
      "execution_count": null,
      "metadata": {
        "colab": {
          "base_uri": "https://localhost:8080/"
        },
        "id": "VV6aQ_4hNbhP",
        "outputId": "be4c6c3f-1d62-4de4-e7be-8d3a48bbe346"
      },
      "outputs": [],
      "source": [
        "model.summary()"
      ]
    },
    {
      "cell_type": "code",
      "execution_count": null,
      "metadata": {
        "id": "odHe3B4jNhC5"
      },
      "outputs": [],
      "source": [
        "model = compile_model(model, learning_rate=0.02)"
      ]
    },
    {
      "cell_type": "code",
      "execution_count": null,
      "metadata": {
        "id": "JifCWO3CNpbh"
      },
      "outputs": [],
      "source": [
        "model, history = train_model(model,\n",
        "                                X_train,\n",
        "                                y_train,\n",
        "                                validation_split = 0.3,\n",
        "                                batch_size = 32,\n",
        "                                epochs = 50\n",
        "                                )"
      ]
    },
    {
      "cell_type": "code",
      "execution_count": null,
      "metadata": {
        "colab": {
          "base_uri": "https://localhost:8080/"
        },
        "id": "igNpsFd5NuJF",
        "outputId": "788060b8-5a0f-4206-d506-5f428ba9e193"
      },
      "outputs": [],
      "source": [
        "val_mae = np.min(history.history['val_mae'])\n",
        "val_mae\n"
      ]
    },
    {
      "cell_type": "code",
      "execution_count": null,
      "metadata": {
        "colab": {
          "base_uri": "https://localhost:8080/"
        },
        "id": "RJa1p0VwNwPm",
        "outputId": "b4143b8a-f108-4e76-acee-6cff05721de9"
      },
      "outputs": [],
      "source": [
        "params = dict(\n",
        "    context=\"train\",\n",
        "    training_set_size='40 years worth of data',\n",
        "    row_count=len(X_train),\n",
        ")\n",
        "params"
      ]
    },
    {
      "cell_type": "markdown",
      "metadata": {
        "id": "b9G9Po6uQxuB"
      },
      "source": [
        "# Attempt to save & load model"
      ]
    },
    {
      "cell_type": "markdown",
      "metadata": {},
      "source": [
        "## 1. Save"
      ]
    },
    {
      "cell_type": "code",
      "execution_count": null,
      "metadata": {},
      "outputs": [],
      "source": [
        "def save_model(model: keras.Model = None) -> None:\n",
        "    \"\"\"\n",
        "    Persist trained model locally on the hard drive at f\"{LOCAL_REGISTRY_PATH}/models/{timestamp}.h5\"\n",
        "    - if MODEL_TARGET='gcs', also persist it in your bucket on GCS at \"models/{timestamp}.h5\" --> unit 02 only\n",
        "    - if MODEL_TARGET='mlflow', also persist it on MLflow instead of GCS (for unit 0703 only) --> unit 03 only\n",
        "    \"\"\"\n",
        "\n",
        "    timestamp = time.strftime(\"%Y%m%d-%H%M%S\")\n",
        "\n",
        "    # Save model locally\n",
        "    model_path = os.path.join(LOCAL_REGISTRY_PATH, \"models\", f\"{timestamp}.h5\")\n",
        "    model.save(model_path)\n",
        "\n",
        "    print(\"✅ Model saved locally\")\n",
        "\n",
        "    if MODEL_TARGET == \"gcs\":\n",
        "        # 🎁 We give you this piece of code as a gift. Please read it carefully! Add a breakpoint if needed!\n",
        "        print(Fore.BLUE + f\"\\nSave model to GCS @ {BUCKET_NAME}...\" + Style.RESET_ALL)\n",
        "\n",
        "        model_filename = model_path.split(\"/\")[-1] # e.g. \"20230208-161047.h5\" for instance\n",
        "        client = storage.Client()\n",
        "        bucket = client.bucket(BUCKET_NAME)\n",
        "        blob = bucket.blob(f\"models/{model_filename}\")\n",
        "        blob.upload_from_filename(model_path)\n",
        "\n",
        "        print(\"✅ Model saved to GCS\")\n",
        "\n",
        "        return None\n",
        "\n",
        "\n",
        "    return None"
      ]
    },
    {
      "cell_type": "markdown",
      "metadata": {},
      "source": [
        "## 2. Load"
      ]
    },
    {
      "cell_type": "code",
      "execution_count": null,
      "metadata": {},
      "outputs": [],
      "source": [
        "MODEL_TARGET"
      ]
    },
    {
      "cell_type": "code",
      "execution_count": null,
      "metadata": {},
      "outputs": [],
      "source": [
        "def load_model(stage=\"Production\") -> keras.Model:\n",
        "    \"\"\"\n",
        "    Return a saved model:\n",
        "    - locally (latest one in alphabetical order)\n",
        "    - or from GCS (most recent one) if MODEL_TARGET=='gcs'  --> for unit 02 only\n",
        "    - or from MLFLOW (by \"stage\") if MODEL_TARGET=='mlflow' --> for unit 03 only\n",
        "\n",
        "    Return None (but do not Raise) if no model is found\n",
        "\n",
        "    \"\"\"\n",
        "\n",
        "    if MODEL_TARGET == \"local\":\n",
        "        print(Fore.BLUE + f\"\\nLoad latest model from local registry...\" + Style.RESET_ALL)\n",
        "\n",
        "        # Get the latest model version name by the timestamp on disk\n",
        "        local_model_directory = os.path.join(LOCAL_REGISTRY_PATH, \"models\")\n",
        "        local_model_paths = glob.glob(f\"{local_model_directory}/*\")\n",
        "\n",
        "        if not local_model_paths:\n",
        "            return None\n",
        "\n",
        "        most_recent_model_path_on_disk = sorted(local_model_paths)[-1]\n",
        "\n",
        "        print(Fore.BLUE + f\"\\nLoad latest model from disk...\" + Style.RESET_ALL)\n",
        "\n",
        "        latest_model = keras.models.load_model(most_recent_model_path_on_disk)\n",
        "\n",
        "        print(\"✅ Model loaded from local disk\")\n",
        "\n",
        "        return latest_model\n",
        "\n",
        "    elif MODEL_TARGET == \"gcs\":\n",
        "        # 🎁 We give you this piece of code as a gift. Please read it carefully! Add a breakpoint if needed!\n",
        "        print(Fore.BLUE + f\"\\nLoad latest model from GCS...\" + Style.RESET_ALL)\n",
        "\n",
        "        client = storage.Client()\n",
        "        blobs = list(client.get_bucket(BUCKET_NAME).list_blobs(prefix=\"model\"))\n",
        "\n",
        "        try:\n",
        "            latest_blob = max(blobs, key=lambda x: x.updated)\n",
        "            latest_model_path_to_save = os.path.join(LOCAL_REGISTRY_PATH, latest_blob.name)\n",
        "            latest_blob.download_to_filename(latest_model_path_to_save)\n",
        "\n",
        "            latest_model = keras.models.load_model(latest_model_path_to_save)\n",
        "\n",
        "            print(\"✅ Latest model downloaded from cloud storage\")\n",
        "\n",
        "            return latest_model\n",
        "        except:\n",
        "            print(f\"\\n❌ No model found in GCS bucket {BUCKET_NAME}\")\n",
        "\n",
        "            return None\n",
        "\n",
        "    else:\n",
        "        return None"
      ]
    },
    {
      "cell_type": "code",
      "execution_count": null,
      "metadata": {
        "colab": {
          "base_uri": "https://localhost:8080/"
        },
        "id": "uPKxa3OCSkqf",
        "outputId": "5b90266e-ff7b-4133-8a08-4e9b4a896f0f"
      },
      "outputs": [],
      "source": [
        "latest_model = load_model()"
      ]
    },
    {
      "cell_type": "code",
      "execution_count": null,
      "metadata": {},
      "outputs": [],
      "source": [
        "latest_model.summary()"
      ]
    },
    {
      "cell_type": "markdown",
      "metadata": {},
      "source": [
        "# Test Pred function"
      ]
    },
    {
      "cell_type": "code",
      "execution_count": 54,
      "metadata": {},
      "outputs": [
        {
          "name": "stdout",
          "output_type": "stream",
          "text": [
            "\n",
            "⭐️ Use case: predict\n",
            "\u001b[34m\n",
            "Load data from local CSV...\u001b[0m\n",
            "✅ Data loaded, with shape (376944, 3)\n",
            "\u001b[34m\n",
            "Load latest model from GCS...\u001b[0m\n"
          ]
        },
        {
          "name": "stderr",
          "output_type": "stream",
          "text": [
            "2024-03-11 12:41:16.329634: I tensorflow/core/common_runtime/executor.cc:1197] [/device:CPU:0] (DEBUG INFO) Executor start aborting (this does not indicate an error and you can ignore this message): INVALID_ARGUMENT: You must feed a value for placeholder tensor 'gradients/split_2_grad/concat/split_2/split_dim' with dtype int32\n",
            "\t [[{{node gradients/split_2_grad/concat/split_2/split_dim}}]]\n",
            "2024-03-11 12:41:16.338405: I tensorflow/core/common_runtime/executor.cc:1197] [/device:CPU:0] (DEBUG INFO) Executor start aborting (this does not indicate an error and you can ignore this message): INVALID_ARGUMENT: You must feed a value for placeholder tensor 'gradients/split_grad/concat/split/split_dim' with dtype int32\n",
            "\t [[{{node gradients/split_grad/concat/split/split_dim}}]]\n",
            "2024-03-11 12:41:16.343817: I tensorflow/core/common_runtime/executor.cc:1197] [/device:CPU:0] (DEBUG INFO) Executor start aborting (this does not indicate an error and you can ignore this message): INVALID_ARGUMENT: You must feed a value for placeholder tensor 'gradients/split_1_grad/concat/split_1/split_dim' with dtype int32\n",
            "\t [[{{node gradients/split_1_grad/concat/split_1/split_dim}}]]\n"
          ]
        },
        {
          "name": "stdout",
          "output_type": "stream",
          "text": [
            "✅ Latest model downloaded from cloud storage\n"
          ]
        },
        {
          "name": "stderr",
          "output_type": "stream",
          "text": [
            "2024-03-11 12:41:17.778268: I tensorflow/core/common_runtime/executor.cc:1197] [/device:CPU:0] (DEBUG INFO) Executor start aborting (this does not indicate an error and you can ignore this message): INVALID_ARGUMENT: You must feed a value for placeholder tensor 'gradients/split_2_grad/concat/split_2/split_dim' with dtype int32\n",
            "\t [[{{node gradients/split_2_grad/concat/split_2/split_dim}}]]\n",
            "2024-03-11 12:41:17.784236: I tensorflow/core/common_runtime/executor.cc:1197] [/device:CPU:0] (DEBUG INFO) Executor start aborting (this does not indicate an error and you can ignore this message): INVALID_ARGUMENT: You must feed a value for placeholder tensor 'gradients/split_grad/concat/split/split_dim' with dtype int32\n",
            "\t [[{{node gradients/split_grad/concat/split/split_dim}}]]\n",
            "2024-03-11 12:41:17.787062: I tensorflow/core/common_runtime/executor.cc:1197] [/device:CPU:0] (DEBUG INFO) Executor start aborting (this does not indicate an error and you can ignore this message): INVALID_ARGUMENT: You must feed a value for placeholder tensor 'gradients/split_1_grad/concat/split_1/split_dim' with dtype int32\n",
            "\t [[{{node gradients/split_1_grad/concat/split_1/split_dim}}]]\n"
          ]
        },
        {
          "name": "stdout",
          "output_type": "stream",
          "text": [
            "1/1 [==============================] - 1s 1s/step\n",
            "\n",
            "✅ prediction done:  [[ 0.50191534  0.43679875  0.31974342  0.21163341  0.12414482  0.04900397\n",
            "  -0.00690743 -0.01890136 -0.02430899 -0.01081144  0.00795818  0.02925391\n",
            "   0.01867648  0.00206484 -0.0047964   0.00402194  0.0349185   0.08704953\n",
            "   0.17900188  0.30466172  0.39315158  0.47727764  0.534937    0.54961723]] (1, 24) \n",
            "\n"
          ]
        },
        {
          "data": {
            "text/html": [
              "<div>\n",
              "<style scoped>\n",
              "    .dataframe tbody tr th:only-of-type {\n",
              "        vertical-align: middle;\n",
              "    }\n",
              "\n",
              "    .dataframe tbody tr th {\n",
              "        vertical-align: top;\n",
              "    }\n",
              "\n",
              "    .dataframe thead th {\n",
              "        text-align: right;\n",
              "    }\n",
              "</style>\n",
              "<table border=\"1\" class=\"dataframe\">\n",
              "  <thead>\n",
              "    <tr style=\"text-align: right;\">\n",
              "      <th></th>\n",
              "      <th>utc_time</th>\n",
              "      <th>local_time</th>\n",
              "      <th>electricity</th>\n",
              "    </tr>\n",
              "  </thead>\n",
              "  <tbody>\n",
              "    <tr>\n",
              "      <th>292368</th>\n",
              "      <td>2013-05-09 00:00:00+00:00</td>\n",
              "      <td>2013-05-09 00:00:00+00:00</td>\n",
              "      <td>0.501915</td>\n",
              "    </tr>\n",
              "    <tr>\n",
              "      <th>292369</th>\n",
              "      <td>2013-05-09 01:00:00+00:00</td>\n",
              "      <td>2013-05-09 01:00:00+00:00</td>\n",
              "      <td>0.436799</td>\n",
              "    </tr>\n",
              "    <tr>\n",
              "      <th>292370</th>\n",
              "      <td>2013-05-09 02:00:00+00:00</td>\n",
              "      <td>2013-05-09 02:00:00+00:00</td>\n",
              "      <td>0.319743</td>\n",
              "    </tr>\n",
              "    <tr>\n",
              "      <th>292371</th>\n",
              "      <td>2013-05-09 03:00:00+00:00</td>\n",
              "      <td>2013-05-09 03:00:00+00:00</td>\n",
              "      <td>0.211633</td>\n",
              "    </tr>\n",
              "    <tr>\n",
              "      <th>292372</th>\n",
              "      <td>2013-05-09 04:00:00+00:00</td>\n",
              "      <td>2013-05-09 04:00:00+00:00</td>\n",
              "      <td>0.124145</td>\n",
              "    </tr>\n",
              "    <tr>\n",
              "      <th>292373</th>\n",
              "      <td>2013-05-09 05:00:00+00:00</td>\n",
              "      <td>2013-05-09 05:00:00+00:00</td>\n",
              "      <td>0.049004</td>\n",
              "    </tr>\n",
              "    <tr>\n",
              "      <th>292374</th>\n",
              "      <td>2013-05-09 06:00:00+00:00</td>\n",
              "      <td>2013-05-09 06:00:00+00:00</td>\n",
              "      <td>-0.006907</td>\n",
              "    </tr>\n",
              "    <tr>\n",
              "      <th>292375</th>\n",
              "      <td>2013-05-09 07:00:00+00:00</td>\n",
              "      <td>2013-05-09 07:00:00+00:00</td>\n",
              "      <td>-0.018901</td>\n",
              "    </tr>\n",
              "    <tr>\n",
              "      <th>292376</th>\n",
              "      <td>2013-05-09 08:00:00+00:00</td>\n",
              "      <td>2013-05-09 08:00:00+00:00</td>\n",
              "      <td>-0.024309</td>\n",
              "    </tr>\n",
              "    <tr>\n",
              "      <th>292377</th>\n",
              "      <td>2013-05-09 09:00:00+00:00</td>\n",
              "      <td>2013-05-09 09:00:00+00:00</td>\n",
              "      <td>-0.010811</td>\n",
              "    </tr>\n",
              "    <tr>\n",
              "      <th>292378</th>\n",
              "      <td>2013-05-09 10:00:00+00:00</td>\n",
              "      <td>2013-05-09 10:00:00+00:00</td>\n",
              "      <td>0.007958</td>\n",
              "    </tr>\n",
              "    <tr>\n",
              "      <th>292379</th>\n",
              "      <td>2013-05-09 11:00:00+00:00</td>\n",
              "      <td>2013-05-09 11:00:00+00:00</td>\n",
              "      <td>0.029254</td>\n",
              "    </tr>\n",
              "    <tr>\n",
              "      <th>292380</th>\n",
              "      <td>2013-05-09 12:00:00+00:00</td>\n",
              "      <td>2013-05-09 12:00:00+00:00</td>\n",
              "      <td>0.018676</td>\n",
              "    </tr>\n",
              "    <tr>\n",
              "      <th>292381</th>\n",
              "      <td>2013-05-09 13:00:00+00:00</td>\n",
              "      <td>2013-05-09 13:00:00+00:00</td>\n",
              "      <td>0.002065</td>\n",
              "    </tr>\n",
              "    <tr>\n",
              "      <th>292382</th>\n",
              "      <td>2013-05-09 14:00:00+00:00</td>\n",
              "      <td>2013-05-09 14:00:00+00:00</td>\n",
              "      <td>-0.004796</td>\n",
              "    </tr>\n",
              "    <tr>\n",
              "      <th>292383</th>\n",
              "      <td>2013-05-09 15:00:00+00:00</td>\n",
              "      <td>2013-05-09 15:00:00+00:00</td>\n",
              "      <td>0.004022</td>\n",
              "    </tr>\n",
              "    <tr>\n",
              "      <th>292384</th>\n",
              "      <td>2013-05-09 16:00:00+00:00</td>\n",
              "      <td>2013-05-09 16:00:00+00:00</td>\n",
              "      <td>0.034919</td>\n",
              "    </tr>\n",
              "    <tr>\n",
              "      <th>292385</th>\n",
              "      <td>2013-05-09 17:00:00+00:00</td>\n",
              "      <td>2013-05-09 17:00:00+00:00</td>\n",
              "      <td>0.087050</td>\n",
              "    </tr>\n",
              "    <tr>\n",
              "      <th>292386</th>\n",
              "      <td>2013-05-09 18:00:00+00:00</td>\n",
              "      <td>2013-05-09 18:00:00+00:00</td>\n",
              "      <td>0.179002</td>\n",
              "    </tr>\n",
              "    <tr>\n",
              "      <th>292387</th>\n",
              "      <td>2013-05-09 19:00:00+00:00</td>\n",
              "      <td>2013-05-09 19:00:00+00:00</td>\n",
              "      <td>0.304662</td>\n",
              "    </tr>\n",
              "    <tr>\n",
              "      <th>292388</th>\n",
              "      <td>2013-05-09 20:00:00+00:00</td>\n",
              "      <td>2013-05-09 20:00:00+00:00</td>\n",
              "      <td>0.393152</td>\n",
              "    </tr>\n",
              "    <tr>\n",
              "      <th>292389</th>\n",
              "      <td>2013-05-09 21:00:00+00:00</td>\n",
              "      <td>2013-05-09 21:00:00+00:00</td>\n",
              "      <td>0.477278</td>\n",
              "    </tr>\n",
              "    <tr>\n",
              "      <th>292390</th>\n",
              "      <td>2013-05-09 22:00:00+00:00</td>\n",
              "      <td>2013-05-09 22:00:00+00:00</td>\n",
              "      <td>0.534937</td>\n",
              "    </tr>\n",
              "    <tr>\n",
              "      <th>292391</th>\n",
              "      <td>2013-05-09 23:00:00+00:00</td>\n",
              "      <td>2013-05-09 23:00:00+00:00</td>\n",
              "      <td>0.549617</td>\n",
              "    </tr>\n",
              "  </tbody>\n",
              "</table>\n",
              "</div>"
            ],
            "text/plain": [
              "                         utc_time                 local_time  electricity\n",
              "292368  2013-05-09 00:00:00+00:00  2013-05-09 00:00:00+00:00     0.501915\n",
              "292369  2013-05-09 01:00:00+00:00  2013-05-09 01:00:00+00:00     0.436799\n",
              "292370  2013-05-09 02:00:00+00:00  2013-05-09 02:00:00+00:00     0.319743\n",
              "292371  2013-05-09 03:00:00+00:00  2013-05-09 03:00:00+00:00     0.211633\n",
              "292372  2013-05-09 04:00:00+00:00  2013-05-09 04:00:00+00:00     0.124145\n",
              "292373  2013-05-09 05:00:00+00:00  2013-05-09 05:00:00+00:00     0.049004\n",
              "292374  2013-05-09 06:00:00+00:00  2013-05-09 06:00:00+00:00    -0.006907\n",
              "292375  2013-05-09 07:00:00+00:00  2013-05-09 07:00:00+00:00    -0.018901\n",
              "292376  2013-05-09 08:00:00+00:00  2013-05-09 08:00:00+00:00    -0.024309\n",
              "292377  2013-05-09 09:00:00+00:00  2013-05-09 09:00:00+00:00    -0.010811\n",
              "292378  2013-05-09 10:00:00+00:00  2013-05-09 10:00:00+00:00     0.007958\n",
              "292379  2013-05-09 11:00:00+00:00  2013-05-09 11:00:00+00:00     0.029254\n",
              "292380  2013-05-09 12:00:00+00:00  2013-05-09 12:00:00+00:00     0.018676\n",
              "292381  2013-05-09 13:00:00+00:00  2013-05-09 13:00:00+00:00     0.002065\n",
              "292382  2013-05-09 14:00:00+00:00  2013-05-09 14:00:00+00:00    -0.004796\n",
              "292383  2013-05-09 15:00:00+00:00  2013-05-09 15:00:00+00:00     0.004022\n",
              "292384  2013-05-09 16:00:00+00:00  2013-05-09 16:00:00+00:00     0.034919\n",
              "292385  2013-05-09 17:00:00+00:00  2013-05-09 17:00:00+00:00     0.087050\n",
              "292386  2013-05-09 18:00:00+00:00  2013-05-09 18:00:00+00:00     0.179002\n",
              "292387  2013-05-09 19:00:00+00:00  2013-05-09 19:00:00+00:00     0.304662\n",
              "292388  2013-05-09 20:00:00+00:00  2013-05-09 20:00:00+00:00     0.393152\n",
              "292389  2013-05-09 21:00:00+00:00  2013-05-09 21:00:00+00:00     0.477278\n",
              "292390  2013-05-09 22:00:00+00:00  2013-05-09 22:00:00+00:00     0.534937\n",
              "292391  2013-05-09 23:00:00+00:00  2013-05-09 23:00:00+00:00     0.549617"
            ]
          },
          "execution_count": 54,
          "metadata": {},
          "output_type": "execute_result"
        }
      ],
      "source": [
        "def pred(input_pred:str = '2013-05-08 12:00:00',\n",
        "         min_date = '2020-01-01 00:00:00',\n",
        "         max_date = '2022-12-29 23:00:00') -> pd.DataFrame:\n",
        "    \"\"\"\n",
        "    Make a prediction using the latest trained model\n",
        "    \"\"\"\n",
        "\n",
        "    print(\"\\n⭐️ Use case: predict\")\n",
        "\n",
        "    query = f\"\"\"\n",
        "        SELECT *\n",
        "        FROM {GCP_PROJECT}.{BQ_DATASET}.processed_pv\n",
        "        ORDER BY utc_time\n",
        "    \"\"\"\n",
        "\n",
        "    data_processed_cache_path = Path(LOCAL_DATA_PATH).joinpath(\"processed\", f\"processed_pv.csv\")\n",
        "    data_processed = get_data_with_cache(\n",
        "        gcp_project=GCP_PROJECT,\n",
        "        query=query,\n",
        "        cache_path=data_processed_cache_path,\n",
        "        data_has_header=True\n",
        "    )\n",
        "\n",
        "    # X_pred should be the 48 hours before the input date\n",
        "    X_pred = data_processed[data_processed['utc_time'] < input_pred][-48:]\n",
        "\n",
        "    # we have to rename columns because model is using 'power' as coulumns name\n",
        "    # X_pred= X_pred.rename(columns={'electricity': 'power'})\n",
        "\n",
        "    # convert X_pred to a tensorflow object\n",
        "    X_pred = X_pred[['electricity']].to_numpy()\n",
        "    X_pred_tf = tf.convert_to_tensor(X_pred)\n",
        "    X_pred_tf = tf.expand_dims(X_pred_tf, axis=0)\n",
        "\n",
        "    model = load_model()\n",
        "    assert model is not None\n",
        "\n",
        "    y_pred = model.predict(X_pred_tf)\n",
        "\n",
        "    # y_pred dates shoud be the 24hours after a 12 hour gap\n",
        "    y_pred_df = data_processed[data_processed['utc_time'] > input_pred][12:36]\n",
        "    y_pred_df['electricity'] = y_pred[0]\n",
        "\n",
        "    print(\"\\n✅ prediction done: \", y_pred, y_pred.shape, \"\\n\")\n",
        "\n",
        "    return y_pred_df\n",
        "\n",
        "y_pred = pred(input_pred = '2013-05-08 12:00:00',\n",
        "         min_date = '2020-01-01 00:00:00',\n",
        "         max_date = '2022-12-29 23:00:00')\n",
        "y_pred"
      ]
    },
    {
      "cell_type": "code",
      "execution_count": 55,
      "metadata": {},
      "outputs": [
        {
          "data": {
            "text/plain": [
              "<Axes: >"
            ]
          },
          "execution_count": 55,
          "metadata": {},
          "output_type": "execute_result"
        },
        {
          "data": {
            "image/png": "[encoded data removed]",
            "text/plain": [
              "<Figure size 640x480 with 1 Axes>"
            ]
          },
          "metadata": {},
          "output_type": "display_data"
        }
      ],
      "source": [
        "y_pred.electricity.plot()"
      ]
    },
    {
      "cell_type": "code",
      "execution_count": 25,
      "metadata": {},
      "outputs": [
        {
          "name": "stdout",
          "output_type": "stream",
          "text": [
            "\u001b[34m\n",
            "Load data from local CSV...\u001b[0m\n",
            "✅ Data loaded, with shape (376944, 3)\n"
          ]
        }
      ],
      "source": [
        "query = f\"\"\"\n",
        "        SELECT *\n",
        "    FROM {GCP_PROJECT}.{BQ_DATASET}.processed_pv\n",
        "    ORDER BY utc_time\n",
        "\"\"\"\n",
        "\n",
        "data_processed_cache_path = Path(LOCAL_DATA_PATH).joinpath(\"processed\", f\"processed_pv.csv\")\n",
        "data_processed = get_data_with_cache(\n",
        "    gcp_project=GCP_PROJECT,\n",
        "    query=query,\n",
        "    cache_path=data_processed_cache_path,\n",
        "    data_has_header=True\n",
        ")\n"
      ]
    },
    {
      "cell_type": "code",
      "execution_count": 42,
      "metadata": {},
      "outputs": [
        {
          "data": {
            "text/plain": [
              "(pandas.core.series.Series, pandas.core.series.Series)"
            ]
          },
          "execution_count": 42,
          "metadata": {},
          "output_type": "execute_result"
        }
      ],
      "source": [
        "y_pred_dates = data_processed[data_processed['utc_time'] > input_pred]['utc_time'][12:36]\n",
        "type(y_pred_dates), type(pd.Series(y_pred[0]))"
      ]
    },
    {
      "cell_type": "code",
      "execution_count": 50,
      "metadata": {},
      "outputs": [
        {
          "data": {
            "text/plain": [
              "array([ 0.50191534,  0.43679875,  0.31974342,  0.21163341,  0.12414482,\n",
              "        0.04900397, -0.00690743, -0.01890136, -0.02430899, -0.01081144,\n",
              "        0.00795818,  0.02925391,  0.01867648,  0.00206484, -0.0047964 ,\n",
              "        0.00402194,  0.0349185 ,  0.08704953,  0.17900188,  0.30466172,\n",
              "        0.39315158,  0.47727764,  0.534937  ,  0.54961723], dtype=float32)"
            ]
          },
          "execution_count": 50,
          "metadata": {},
          "output_type": "execute_result"
        }
      ],
      "source": [
        "y_pred[0]"
      ]
    },
    {
      "cell_type": "code",
      "execution_count": 52,
      "metadata": {},
      "outputs": [
        {
          "data": {
            "text/html": [
              "<div>\n",
              "<style scoped>\n",
              "    .dataframe tbody tr th:only-of-type {\n",
              "        vertical-align: middle;\n",
              "    }\n",
              "\n",
              "    .dataframe tbody tr th {\n",
              "        vertical-align: top;\n",
              "    }\n",
              "\n",
              "    .dataframe thead th {\n",
              "        text-align: right;\n",
              "    }\n",
              "</style>\n",
              "<table border=\"1\" class=\"dataframe\">\n",
              "  <thead>\n",
              "    <tr style=\"text-align: right;\">\n",
              "      <th></th>\n",
              "      <th>utc_time</th>\n",
              "      <th>local_time</th>\n",
              "      <th>electricity</th>\n",
              "    </tr>\n",
              "  </thead>\n",
              "  <tbody>\n",
              "    <tr>\n",
              "      <th>292368</th>\n",
              "      <td>2013-05-09 00:00:00+00:00</td>\n",
              "      <td>2013-05-09 00:00:00+00:00</td>\n",
              "      <td>0.501915</td>\n",
              "    </tr>\n",
              "    <tr>\n",
              "      <th>292369</th>\n",
              "      <td>2013-05-09 01:00:00+00:00</td>\n",
              "      <td>2013-05-09 01:00:00+00:00</td>\n",
              "      <td>0.436799</td>\n",
              "    </tr>\n",
              "    <tr>\n",
              "      <th>292370</th>\n",
              "      <td>2013-05-09 02:00:00+00:00</td>\n",
              "      <td>2013-05-09 02:00:00+00:00</td>\n",
              "      <td>0.319743</td>\n",
              "    </tr>\n",
              "    <tr>\n",
              "      <th>292371</th>\n",
              "      <td>2013-05-09 03:00:00+00:00</td>\n",
              "      <td>2013-05-09 03:00:00+00:00</td>\n",
              "      <td>0.211633</td>\n",
              "    </tr>\n",
              "    <tr>\n",
              "      <th>292372</th>\n",
              "      <td>2013-05-09 04:00:00+00:00</td>\n",
              "      <td>2013-05-09 04:00:00+00:00</td>\n",
              "      <td>0.124145</td>\n",
              "    </tr>\n",
              "    <tr>\n",
              "      <th>292373</th>\n",
              "      <td>2013-05-09 05:00:00+00:00</td>\n",
              "      <td>2013-05-09 05:00:00+00:00</td>\n",
              "      <td>0.049004</td>\n",
              "    </tr>\n",
              "    <tr>\n",
              "      <th>292374</th>\n",
              "      <td>2013-05-09 06:00:00+00:00</td>\n",
              "      <td>2013-05-09 06:00:00+00:00</td>\n",
              "      <td>-0.006907</td>\n",
              "    </tr>\n",
              "    <tr>\n",
              "      <th>292375</th>\n",
              "      <td>2013-05-09 07:00:00+00:00</td>\n",
              "      <td>2013-05-09 07:00:00+00:00</td>\n",
              "      <td>-0.018901</td>\n",
              "    </tr>\n",
              "    <tr>\n",
              "      <th>292376</th>\n",
              "      <td>2013-05-09 08:00:00+00:00</td>\n",
              "      <td>2013-05-09 08:00:00+00:00</td>\n",
              "      <td>-0.024309</td>\n",
              "    </tr>\n",
              "    <tr>\n",
              "      <th>292377</th>\n",
              "      <td>2013-05-09 09:00:00+00:00</td>\n",
              "      <td>2013-05-09 09:00:00+00:00</td>\n",
              "      <td>-0.010811</td>\n",
              "    </tr>\n",
              "    <tr>\n",
              "      <th>292378</th>\n",
              "      <td>2013-05-09 10:00:00+00:00</td>\n",
              "      <td>2013-05-09 10:00:00+00:00</td>\n",
              "      <td>0.007958</td>\n",
              "    </tr>\n",
              "    <tr>\n",
              "      <th>292379</th>\n",
              "      <td>2013-05-09 11:00:00+00:00</td>\n",
              "      <td>2013-05-09 11:00:00+00:00</td>\n",
              "      <td>0.029254</td>\n",
              "    </tr>\n",
              "    <tr>\n",
              "      <th>292380</th>\n",
              "      <td>2013-05-09 12:00:00+00:00</td>\n",
              "      <td>2013-05-09 12:00:00+00:00</td>\n",
              "      <td>0.018676</td>\n",
              "    </tr>\n",
              "    <tr>\n",
              "      <th>292381</th>\n",
              "      <td>2013-05-09 13:00:00+00:00</td>\n",
              "      <td>2013-05-09 13:00:00+00:00</td>\n",
              "      <td>0.002065</td>\n",
              "    </tr>\n",
              "    <tr>\n",
              "      <th>292382</th>\n",
              "      <td>2013-05-09 14:00:00+00:00</td>\n",
              "      <td>2013-05-09 14:00:00+00:00</td>\n",
              "      <td>-0.004796</td>\n",
              "    </tr>\n",
              "    <tr>\n",
              "      <th>292383</th>\n",
              "      <td>2013-05-09 15:00:00+00:00</td>\n",
              "      <td>2013-05-09 15:00:00+00:00</td>\n",
              "      <td>0.004022</td>\n",
              "    </tr>\n",
              "    <tr>\n",
              "      <th>292384</th>\n",
              "      <td>2013-05-09 16:00:00+00:00</td>\n",
              "      <td>2013-05-09 16:00:00+00:00</td>\n",
              "      <td>0.034919</td>\n",
              "    </tr>\n",
              "    <tr>\n",
              "      <th>292385</th>\n",
              "      <td>2013-05-09 17:00:00+00:00</td>\n",
              "      <td>2013-05-09 17:00:00+00:00</td>\n",
              "      <td>0.087050</td>\n",
              "    </tr>\n",
              "    <tr>\n",
              "      <th>292386</th>\n",
              "      <td>2013-05-09 18:00:00+00:00</td>\n",
              "      <td>2013-05-09 18:00:00+00:00</td>\n",
              "      <td>0.179002</td>\n",
              "    </tr>\n",
              "    <tr>\n",
              "      <th>292387</th>\n",
              "      <td>2013-05-09 19:00:00+00:00</td>\n",
              "      <td>2013-05-09 19:00:00+00:00</td>\n",
              "      <td>0.304662</td>\n",
              "    </tr>\n",
              "    <tr>\n",
              "      <th>292388</th>\n",
              "      <td>2013-05-09 20:00:00+00:00</td>\n",
              "      <td>2013-05-09 20:00:00+00:00</td>\n",
              "      <td>0.393152</td>\n",
              "    </tr>\n",
              "    <tr>\n",
              "      <th>292389</th>\n",
              "      <td>2013-05-09 21:00:00+00:00</td>\n",
              "      <td>2013-05-09 21:00:00+00:00</td>\n",
              "      <td>0.477278</td>\n",
              "    </tr>\n",
              "    <tr>\n",
              "      <th>292390</th>\n",
              "      <td>2013-05-09 22:00:00+00:00</td>\n",
              "      <td>2013-05-09 22:00:00+00:00</td>\n",
              "      <td>0.534937</td>\n",
              "    </tr>\n",
              "    <tr>\n",
              "      <th>292391</th>\n",
              "      <td>2013-05-09 23:00:00+00:00</td>\n",
              "      <td>2013-05-09 23:00:00+00:00</td>\n",
              "      <td>0.549617</td>\n",
              "    </tr>\n",
              "  </tbody>\n",
              "</table>\n",
              "</div>"
            ],
            "text/plain": [
              "                         utc_time                 local_time  electricity\n",
              "292368  2013-05-09 00:00:00+00:00  2013-05-09 00:00:00+00:00     0.501915\n",
              "292369  2013-05-09 01:00:00+00:00  2013-05-09 01:00:00+00:00     0.436799\n",
              "292370  2013-05-09 02:00:00+00:00  2013-05-09 02:00:00+00:00     0.319743\n",
              "292371  2013-05-09 03:00:00+00:00  2013-05-09 03:00:00+00:00     0.211633\n",
              "292372  2013-05-09 04:00:00+00:00  2013-05-09 04:00:00+00:00     0.124145\n",
              "292373  2013-05-09 05:00:00+00:00  2013-05-09 05:00:00+00:00     0.049004\n",
              "292374  2013-05-09 06:00:00+00:00  2013-05-09 06:00:00+00:00    -0.006907\n",
              "292375  2013-05-09 07:00:00+00:00  2013-05-09 07:00:00+00:00    -0.018901\n",
              "292376  2013-05-09 08:00:00+00:00  2013-05-09 08:00:00+00:00    -0.024309\n",
              "292377  2013-05-09 09:00:00+00:00  2013-05-09 09:00:00+00:00    -0.010811\n",
              "292378  2013-05-09 10:00:00+00:00  2013-05-09 10:00:00+00:00     0.007958\n",
              "292379  2013-05-09 11:00:00+00:00  2013-05-09 11:00:00+00:00     0.029254\n",
              "292380  2013-05-09 12:00:00+00:00  2013-05-09 12:00:00+00:00     0.018676\n",
              "292381  2013-05-09 13:00:00+00:00  2013-05-09 13:00:00+00:00     0.002065\n",
              "292382  2013-05-09 14:00:00+00:00  2013-05-09 14:00:00+00:00    -0.004796\n",
              "292383  2013-05-09 15:00:00+00:00  2013-05-09 15:00:00+00:00     0.004022\n",
              "292384  2013-05-09 16:00:00+00:00  2013-05-09 16:00:00+00:00     0.034919\n",
              "292385  2013-05-09 17:00:00+00:00  2013-05-09 17:00:00+00:00     0.087050\n",
              "292386  2013-05-09 18:00:00+00:00  2013-05-09 18:00:00+00:00     0.179002\n",
              "292387  2013-05-09 19:00:00+00:00  2013-05-09 19:00:00+00:00     0.304662\n",
              "292388  2013-05-09 20:00:00+00:00  2013-05-09 20:00:00+00:00     0.393152\n",
              "292389  2013-05-09 21:00:00+00:00  2013-05-09 21:00:00+00:00     0.477278\n",
              "292390  2013-05-09 22:00:00+00:00  2013-05-09 22:00:00+00:00     0.534937\n",
              "292391  2013-05-09 23:00:00+00:00  2013-05-09 23:00:00+00:00     0.549617"
            ]
          },
          "execution_count": 52,
          "metadata": {},
          "output_type": "execute_result"
        }
      ],
      "source": [
        "y_pred_df = data_processed[data_processed['utc_time'] > input_pred][12:36]\n",
        "y_pred_df['electricity'] = y_pred[0]\n",
        "y_pred_df"
      ]
    }
  ],
  "metadata": {
    "colab": {
      "provenance": []
    },
    "kernelspec": {
      "display_name": "Python 3",
      "name": "python3"
    },
    "language_info": {
      "codemirror_mode": {
        "name": "ipython",
        "version": 3
      },
      "file_extension": ".py",
      "mimetype": "text/x-python",
      "name": "python",
      "nbconvert_exporter": "python",
      "pygments_lexer": "ipython3",
      "version": "3.10.6"
    }
  },
  "nbformat": 4,
  "nbformat_minor": 0
}
