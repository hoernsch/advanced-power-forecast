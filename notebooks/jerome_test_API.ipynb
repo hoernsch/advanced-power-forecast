{
 "cells": [
  {
   "cell_type": "code",
   "execution_count": null,
   "metadata": {},
   "outputs": [],
   "source": [
    "import requests\n",
    "import pandas as pd\n",
    "import seaborn as sns\n",
    "import matplotlib.pyplot as plt\n",
    "\n",
    "from power.ml_ops.data import get_pv_data, clean_pv_data, get_data_with_cache\n",
    "from power.ml_ops.model import model_yesterday\n",
    "from power.ml_ops.registry import load_model\n",
    "from datetime import datetime, timedelta\n",
    "\n",
    "from pathlib import Path\n",
    "from power.params import *"
   ]
  },
  {
   "cell_type": "code",
   "execution_count": null,
   "metadata": {},
   "outputs": [],
   "source": [
    "model = load_model()\n",
    "\n",
    "data_processed_cache_path = Path(LOCAL_DATA_PATH).joinpath(\"processed\", f\"processed_pv.csv\")\n",
    "query = f\"\"\"\n",
    "    SELECT *\n",
    "    FROM {GCP_PROJECT}.{BQ_DATASET}.processed_pv\n",
    "    ORDER BY utc_time\n",
    "\"\"\"\n",
    "data_pv_clean = get_data_with_cache(\n",
    "    gcp_project=GCP_PROJECT,\n",
    "    query=query,\n",
    "    cache_path=data_processed_cache_path,\n",
    "    data_has_header=True\n",
    "    )\n",
    "\n",
    "# input_date = \"2012-09-10 00:00:00\""
   ]
  },
  {
   "cell_type": "code",
   "execution_count": null,
   "metadata": {},
   "outputs": [],
   "source": [
    "input_prediction_date = \"2019-12-10 00:00:00\"\n",
    "# make api call\n",
    "base_url = \"http://127.0.0.1:8000\"\n",
    "\n",
    "\n",
    "# model\n",
    "params_model ={\n",
    "    'input_date':input_prediction_date,\n",
    "    'n_days': 2,\n",
    "    'power_source': 'pv'\n",
    "    }\n",
    "\n",
    "endpoint_model = \"/baseline_yesterday\"\n",
    "url_model= f\"{base_url}{endpoint_model}\"\n",
    "response_model = requests.get(url_model, params_model).json()\n",
    "\n",
    "# baseline\n",
    "params_baseline ={\n",
    "    'input_date':input_prediction_date,\n",
    "    'n_days': 2,\n",
    "    'power_source': 'pv'\n",
    "    }\n",
    "\n",
    "endpoint_baseline = \"/baseline_yesterday\"\n",
    "url_baseline= f\"{base_url}{endpoint_baseline}\"\n",
    "response_baseline = requests.get(url_baseline, params_baseline).json()\n",
    "\n",
    "\n",
    "# data\n",
    "params_data ={\n",
    "    'input_date':input_prediction_date,\n",
    "    'n_days': 10,\n",
    "    'power_source': 'pv'\n",
    "    }\n",
    "\n",
    "endpoint_data = \"/extract_data\"\n",
    "url_data = f\"{base_url}{endpoint_data}\"\n",
    "response_data = requests.get(url_data, params_data).json()\n"
   ]
  },
  {
   "cell_type": "code",
   "execution_count": null,
   "metadata": {},
   "outputs": [],
   "source": [
    "def predict_baseline_yesterday(input_date: str):\n",
    "    data = data_pv_clean[data_pv_clean['utc_time'] < input_date][-24:]\n",
    "    values = data.electricity.to_list()\n",
    "    return {input_date: values}\n",
    "\n",
    "# predict_baseline_yesterday(input_prediction_date)"
   ]
  },
  {
   "cell_type": "code",
   "execution_count": null,
   "metadata": {},
   "outputs": [],
   "source": [
    "def extract_pv_data(input_date: str, n_days=10):\n",
    "    \"\"\"\n",
    "    Returns the power data for the n_days before the input date\n",
    "    Also returns the power data for the following day\n",
    "    \"\"\"\n",
    "    n_rows = 24 * n_days\n",
    "    days_before = data_pv_clean[data_pv_clean['utc_time'] < input_date] \\\n",
    "                                        ['electricity'][-n_rows:].to_list()\n",
    "    day_after = data_pv_clean[data_pv_clean['utc_time'] >= input_date] \\\n",
    "                                        ['electricity'][:24].to_list()\n",
    "\n",
    "\n",
    "    extracted_data = {\n",
    "        'days_before':days_before,\n",
    "        'day_after':day_after\n",
    "        }\n",
    "\n",
    "    return {input_date: extracted_data}\n",
    "\n",
    "# extract_pv_data(input_prediction_date)"
   ]
  },
  {
   "cell_type": "code",
   "execution_count": null,
   "metadata": {},
   "outputs": [],
   "source": [
    "def predict(input_date: str, n_days=2):\n",
    "    pv_data_clean = data_pv_clean\n",
    "    X_pred = pv_data_clean[pv_data_clean['utc_time'] < input_date][-48:]\n",
    "\n",
    "    return {'dataframe to predict': X_pred.electricity.to_list()}\n",
    "\n",
    "# predict(input_prediction_date)"
   ]
  },
  {
   "cell_type": "code",
   "execution_count": null,
   "metadata": {},
   "outputs": [],
   "source": [
    "baseline_data = response_data.get(input_prediction_date)"
   ]
  },
  {
   "cell_type": "code",
   "execution_count": null,
   "metadata": {},
   "outputs": [],
   "source": [
    "x_data = baseline_data['days_before']['date']\n",
    "y_data = baseline_data['days_before']['power_source']\n",
    "y_data"
   ]
  },
  {
   "cell_type": "code",
   "execution_count": null,
   "metadata": {},
   "outputs": [],
   "source": [
    "plt.plot(x_data, y_data);"
   ]
  }
 ],
 "metadata": {
  "kernelspec": {
   "display_name": "power",
   "language": "python",
   "name": "python3"
  },
  "language_info": {
   "codemirror_mode": {
    "name": "ipython",
    "version": 3
   },
   "file_extension": ".py",
   "mimetype": "text/x-python",
   "name": "python",
   "nbconvert_exporter": "python",
   "pygments_lexer": "ipython3",
   "version": "3.10.6"
  }
 },
 "nbformat": 4,
 "nbformat_minor": 2
}
