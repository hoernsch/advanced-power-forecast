{
 "cells": [
  {
   "cell_type": "code",
   "execution_count": 19,
   "metadata": {},
   "outputs": [],
   "source": [
    "import requests\n",
    "import pandas as pd\n",
    "\n",
    "from power.ml_ops.data import get_pv_data, clean_pv_data, get_data_with_cache\n",
    "from power.ml_ops.model import model_yesterday\n",
    "from power.ml_ops.registry import load_model\n",
    "from datetime import datetime, timedelta\n",
    "\n",
    "from pathlib import Path\n",
    "from power.params import *"
   ]
  },
  {
   "cell_type": "code",
   "execution_count": 15,
   "metadata": {},
   "outputs": [
    {
     "name": "stdout",
     "output_type": "stream",
     "text": [
      "\u001b[34m\n",
      "Load latest model from local registry...\u001b[0m\n",
      "\u001b[34m\n",
      "Load latest model from disk...\u001b[0m\n"
     ]
    },
    {
     "name": "stderr",
     "output_type": "stream",
     "text": [
      "2024-03-09 13:43:29.003711: I tensorflow/core/common_runtime/executor.cc:1197] [/device:CPU:0] (DEBUG INFO) Executor start aborting (this does not indicate an error and you can ignore this message): INVALID_ARGUMENT: You must feed a value for placeholder tensor 'gradients/split_2_grad/concat/split_2/split_dim' with dtype int32\n",
      "\t [[{{node gradients/split_2_grad/concat/split_2/split_dim}}]]\n",
      "2024-03-09 13:43:29.007051: I tensorflow/core/common_runtime/executor.cc:1197] [/device:CPU:0] (DEBUG INFO) Executor start aborting (this does not indicate an error and you can ignore this message): INVALID_ARGUMENT: You must feed a value for placeholder tensor 'gradients/split_grad/concat/split/split_dim' with dtype int32\n",
      "\t [[{{node gradients/split_grad/concat/split/split_dim}}]]\n",
      "2024-03-09 13:43:29.009227: I tensorflow/core/common_runtime/executor.cc:1197] [/device:CPU:0] (DEBUG INFO) Executor start aborting (this does not indicate an error and you can ignore this message): INVALID_ARGUMENT: You must feed a value for placeholder tensor 'gradients/split_1_grad/concat/split_1/split_dim' with dtype int32\n",
      "\t [[{{node gradients/split_1_grad/concat/split_1/split_dim}}]]\n"
     ]
    },
    {
     "name": "stdout",
     "output_type": "stream",
     "text": [
      "✅ Model loaded from local disk\n",
      "\u001b[34m\n",
      "Load data from local CSV...\u001b[0m\n",
      "✅ Data loaded, with shape (376944, 3)\n"
     ]
    }
   ],
   "source": [
    "model = load_model()\n",
    "\n",
    "data_processed_cache_path = Path(LOCAL_DATA_PATH).joinpath(\"processed\", f\"processed_pv.csv\")\n",
    "query = f\"\"\"\n",
    "    SELECT *\n",
    "    FROM {GCP_PROJECT}.{BQ_DATASET}.processed_pv\n",
    "    ORDER BY utc_time\n",
    "\"\"\"\n",
    "data_pv_clean = get_data_with_cache(\n",
    "    gcp_project=GCP_PROJECT,\n",
    "    query=query,\n",
    "    cache_path=data_processed_cache_path,\n",
    "    data_has_header=True\n",
    "    )\n",
    "\n",
    "input_date = \"2012-09-10 00:00:00\""
   ]
  },
  {
   "cell_type": "code",
   "execution_count": null,
   "metadata": {},
   "outputs": [],
   "source": [
    "input_prediction_date = \"2019-12-10 00:00:00\"\n",
    "# make api call\n",
    "base_url = \"http://127.0.0.1:8000\"\n",
    "# endpoint_model = \"/predict/previous_value\"\n",
    "# endpoint_data = \"/extract_data\"\n",
    "# url_model = f\"{base_url}{endpoint_model}\"\n",
    "# url_data = f\"{base_url}{endpoint_data}\"\n",
    "\n",
    "endpoint= \"/extract_data\"\n",
    "# endpoint= \"/predict\"\n",
    "url_ = f\"{base_url}{endpoint}\"\n",
    "\n",
    "params ={\n",
    "    'input_date':input_prediction_date\n",
    "    }\n",
    "\n",
    "# response_model = requests.get(url_model, params=params).json()\n",
    "# model_df = pd.DataFrame(response_model)\n",
    "\n",
    "# response_data = requests.get(url_data, params=params).json()\n",
    "# data_df = pd.DataFrame(response_data)\n",
    "response = requests.get(url_, params)\n",
    "response.json()"
   ]
  },
  {
   "cell_type": "code",
   "execution_count": 41,
   "metadata": {},
   "outputs": [
    {
     "data": {
      "text/plain": [
       "{'2012-09-10 00:00:00': [0.0,\n",
       "  0.0,\n",
       "  0.0,\n",
       "  0.0,\n",
       "  0.0,\n",
       "  0.062,\n",
       "  0.239,\n",
       "  0.415,\n",
       "  0.559,\n",
       "  0.647,\n",
       "  0.699,\n",
       "  0.705,\n",
       "  0.654,\n",
       "  0.564,\n",
       "  0.422,\n",
       "  0.243,\n",
       "  0.073,\n",
       "  0.001,\n",
       "  0.0,\n",
       "  0.0,\n",
       "  0.0,\n",
       "  0.0,\n",
       "  0.0,\n",
       "  0.0]}"
      ]
     },
     "execution_count": 41,
     "metadata": {},
     "output_type": "execute_result"
    }
   ],
   "source": [
    "def predict_baseline_yesterday(input_date: str):\n",
    "    data = data_pv_clean[data_pv_clean['utc_time'] < input_date][-24:]\n",
    "    values = data.electricity.to_list()\n",
    "    return {input_date: values}\n",
    "\n",
    "predict_baseline_yesterday(input_date)"
   ]
  },
  {
   "cell_type": "code",
   "execution_count": 45,
   "metadata": {},
   "outputs": [
    {
     "data": {
      "text/html": [
       "<div>\n",
       "<style scoped>\n",
       "    .dataframe tbody tr th:only-of-type {\n",
       "        vertical-align: middle;\n",
       "    }\n",
       "\n",
       "    .dataframe tbody tr th {\n",
       "        vertical-align: top;\n",
       "    }\n",
       "\n",
       "    .dataframe thead th {\n",
       "        text-align: right;\n",
       "    }\n",
       "</style>\n",
       "<table border=\"1\" class=\"dataframe\">\n",
       "  <thead>\n",
       "    <tr style=\"text-align: right;\">\n",
       "      <th></th>\n",
       "      <th>utc_time</th>\n",
       "      <th>local_time</th>\n",
       "      <th>electricity</th>\n",
       "    </tr>\n",
       "  </thead>\n",
       "  <tbody>\n",
       "    <tr>\n",
       "      <th>286344</th>\n",
       "      <td>2012-08-31 00:00:00+00:00</td>\n",
       "      <td>2012-08-31 00:00:00+00:00</td>\n",
       "      <td>0.0</td>\n",
       "    </tr>\n",
       "    <tr>\n",
       "      <th>286345</th>\n",
       "      <td>2012-08-31 01:00:00+00:00</td>\n",
       "      <td>2012-08-31 01:00:00+00:00</td>\n",
       "      <td>0.0</td>\n",
       "    </tr>\n",
       "    <tr>\n",
       "      <th>286346</th>\n",
       "      <td>2012-08-31 02:00:00+00:00</td>\n",
       "      <td>2012-08-31 02:00:00+00:00</td>\n",
       "      <td>0.0</td>\n",
       "    </tr>\n",
       "    <tr>\n",
       "      <th>286347</th>\n",
       "      <td>2012-08-31 03:00:00+00:00</td>\n",
       "      <td>2012-08-31 03:00:00+00:00</td>\n",
       "      <td>0.0</td>\n",
       "    </tr>\n",
       "    <tr>\n",
       "      <th>286348</th>\n",
       "      <td>2012-08-31 04:00:00+00:00</td>\n",
       "      <td>2012-08-31 04:00:00+00:00</td>\n",
       "      <td>0.0</td>\n",
       "    </tr>\n",
       "    <tr>\n",
       "      <th>...</th>\n",
       "      <td>...</td>\n",
       "      <td>...</td>\n",
       "      <td>...</td>\n",
       "    </tr>\n",
       "    <tr>\n",
       "      <th>286579</th>\n",
       "      <td>2012-09-09 19:00:00+00:00</td>\n",
       "      <td>2012-09-09 19:00:00+00:00</td>\n",
       "      <td>0.0</td>\n",
       "    </tr>\n",
       "    <tr>\n",
       "      <th>286580</th>\n",
       "      <td>2012-09-09 20:00:00+00:00</td>\n",
       "      <td>2012-09-09 20:00:00+00:00</td>\n",
       "      <td>0.0</td>\n",
       "    </tr>\n",
       "    <tr>\n",
       "      <th>286581</th>\n",
       "      <td>2012-09-09 21:00:00+00:00</td>\n",
       "      <td>2012-09-09 21:00:00+00:00</td>\n",
       "      <td>0.0</td>\n",
       "    </tr>\n",
       "    <tr>\n",
       "      <th>286582</th>\n",
       "      <td>2012-09-09 22:00:00+00:00</td>\n",
       "      <td>2012-09-09 22:00:00+00:00</td>\n",
       "      <td>0.0</td>\n",
       "    </tr>\n",
       "    <tr>\n",
       "      <th>286583</th>\n",
       "      <td>2012-09-09 23:00:00+00:00</td>\n",
       "      <td>2012-09-09 23:00:00+00:00</td>\n",
       "      <td>0.0</td>\n",
       "    </tr>\n",
       "  </tbody>\n",
       "</table>\n",
       "<p>240 rows × 3 columns</p>\n",
       "</div>"
      ],
      "text/plain": [
       "                         utc_time                 local_time  electricity\n",
       "286344  2012-08-31 00:00:00+00:00  2012-08-31 00:00:00+00:00          0.0\n",
       "286345  2012-08-31 01:00:00+00:00  2012-08-31 01:00:00+00:00          0.0\n",
       "286346  2012-08-31 02:00:00+00:00  2012-08-31 02:00:00+00:00          0.0\n",
       "286347  2012-08-31 03:00:00+00:00  2012-08-31 03:00:00+00:00          0.0\n",
       "286348  2012-08-31 04:00:00+00:00  2012-08-31 04:00:00+00:00          0.0\n",
       "...                           ...                        ...          ...\n",
       "286579  2012-09-09 19:00:00+00:00  2012-09-09 19:00:00+00:00          0.0\n",
       "286580  2012-09-09 20:00:00+00:00  2012-09-09 20:00:00+00:00          0.0\n",
       "286581  2012-09-09 21:00:00+00:00  2012-09-09 21:00:00+00:00          0.0\n",
       "286582  2012-09-09 22:00:00+00:00  2012-09-09 22:00:00+00:00          0.0\n",
       "286583  2012-09-09 23:00:00+00:00  2012-09-09 23:00:00+00:00          0.0\n",
       "\n",
       "[240 rows x 3 columns]"
      ]
     },
     "execution_count": 45,
     "metadata": {},
     "output_type": "execute_result"
    }
   ],
   "source": [
    "def extract_pv_data(input_date: str, n_days=10):\n",
    "    \"\"\"\n",
    "    Returns the power data for the n_days before the input date\n",
    "    Also returns the power data for the following day\n",
    "    \"\"\"\n",
    "    n_rows = 24 * n_days\n",
    "    data = data_pv_clean[data_pv_clean['utc_time'] < input_date][-n_rows:]\n",
    "\n",
    "\n",
    "    # extracted_data = {\n",
    "    #     'utc_time':df.get('utc_time').tolist(),\n",
    "    #     'local_time':df.get('local_time').tolist(),\n",
    "    #     'electricity':df.get('electricity').tolist()\n",
    "    # }\n",
    "    return data\n",
    "\n",
    "extract_pv_data(input_date)"
   ]
  },
  {
   "cell_type": "code",
   "execution_count": null,
   "metadata": {},
   "outputs": [],
   "source": []
  }
 ],
 "metadata": {
  "kernelspec": {
   "display_name": "power",
   "language": "python",
   "name": "python3"
  },
  "language_info": {
   "codemirror_mode": {
    "name": "ipython",
    "version": 3
   },
   "file_extension": ".py",
   "mimetype": "text/x-python",
   "name": "python",
   "nbconvert_exporter": "python",
   "pygments_lexer": "ipython3",
   "version": "3.10.6"
  }
 },
 "nbformat": 4,
 "nbformat_minor": 2
}
