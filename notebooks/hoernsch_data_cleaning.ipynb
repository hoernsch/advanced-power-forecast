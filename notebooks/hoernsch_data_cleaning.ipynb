{
 "cells": [
  {
   "cell_type": "code",
   "execution_count": 1,
   "metadata": {},
   "outputs": [],
   "source": [
    "import numpy as np\n",
    "import pandas as pd\n",
    "import datetime as dt\n",
    "\n",
    "from power.ml_ops.data import get_pv_data, clean_pv_data\n"
   ]
  },
  {
   "cell_type": "markdown",
   "metadata": {},
   "source": [
    "# Notebook of Marius"
   ]
  },
  {
   "cell_type": "markdown",
   "metadata": {},
   "source": [
    "## Get and clean data"
   ]
  },
  {
   "cell_type": "code",
   "execution_count": 2,
   "metadata": {},
   "outputs": [
    {
     "data": {
      "text/html": [
       "<div>\n",
       "<style scoped>\n",
       "    .dataframe tbody tr th:only-of-type {\n",
       "        vertical-align: middle;\n",
       "    }\n",
       "\n",
       "    .dataframe tbody tr th {\n",
       "        vertical-align: top;\n",
       "    }\n",
       "\n",
       "    .dataframe thead th {\n",
       "        text-align: right;\n",
       "    }\n",
       "</style>\n",
       "<table border=\"1\" class=\"dataframe\">\n",
       "  <thead>\n",
       "    <tr style=\"text-align: right;\">\n",
       "      <th></th>\n",
       "      <th>Unnamed: 0.1</th>\n",
       "      <th>Unnamed: 0</th>\n",
       "      <th>local_time</th>\n",
       "      <th>electricity</th>\n",
       "      <th>irradiance_direct</th>\n",
       "      <th>irradiance_diffuse</th>\n",
       "      <th>temperature</th>\n",
       "      <th>source</th>\n",
       "    </tr>\n",
       "  </thead>\n",
       "  <tbody>\n",
       "    <tr>\n",
       "      <th>0</th>\n",
       "      <td>0</td>\n",
       "      <td>315532800000</td>\n",
       "      <td>1980-01-01 01:00:00+01:00</td>\n",
       "      <td>0.0</td>\n",
       "      <td>0.0</td>\n",
       "      <td>0.0</td>\n",
       "      <td>-1.296</td>\n",
       "      <td>data/pv_data/1980_pv.csv</td>\n",
       "    </tr>\n",
       "    <tr>\n",
       "      <th>1</th>\n",
       "      <td>1</td>\n",
       "      <td>315536400000</td>\n",
       "      <td>1980-01-01 02:00:00+01:00</td>\n",
       "      <td>0.0</td>\n",
       "      <td>0.0</td>\n",
       "      <td>0.0</td>\n",
       "      <td>-1.216</td>\n",
       "      <td>data/pv_data/1980_pv.csv</td>\n",
       "    </tr>\n",
       "  </tbody>\n",
       "</table>\n",
       "</div>"
      ],
      "text/plain": [
       "   Unnamed: 0.1    Unnamed: 0                 local_time  electricity  \\\n",
       "0             0  315532800000  1980-01-01 01:00:00+01:00          0.0   \n",
       "1             1  315536400000  1980-01-01 02:00:00+01:00          0.0   \n",
       "\n",
       "   irradiance_direct  irradiance_diffuse  temperature  \\\n",
       "0                0.0                 0.0       -1.296   \n",
       "1                0.0                 0.0       -1.216   \n",
       "\n",
       "                     source  \n",
       "0  data/pv_data/1980_pv.csv  \n",
       "1  data/pv_data/1980_pv.csv  "
      ]
     },
     "execution_count": 2,
     "metadata": {},
     "output_type": "execute_result"
    }
   ],
   "source": [
    "pv_df = pd.read_csv('../raw_data/1980-2022_pv.csv')\n",
    "pv_df.head(2)"
   ]
  },
  {
   "cell_type": "code",
   "execution_count": 3,
   "metadata": {},
   "outputs": [
    {
     "name": "stdout",
     "output_type": "stream",
     "text": [
      "x:  1980-01-01 01:00:00+01:00\n"
     ]
    },
    {
     "data": {
      "text/plain": [
       "datetime.datetime(1980, 1, 1, 1, 0, tzinfo=datetime.timezone(datetime.timedelta(seconds=3600)))"
      ]
     },
     "execution_count": 3,
     "metadata": {},
     "output_type": "execute_result"
    }
   ],
   "source": [
    "x = pv_df.loc[0,'local_time']\n",
    "print('x: ', x)\n",
    "#dt.datetime.strptime(\"21 June, 2018\", \"%d %B, %Y\")\n",
    "dt.datetime.strptime(x, \"%Y-%m-%d %H:%M:%S%z\")"
   ]
  },
  {
   "cell_type": "code",
   "execution_count": 4,
   "metadata": {},
   "outputs": [
    {
     "data": {
      "text/html": [
       "<div>\n",
       "<style scoped>\n",
       "    .dataframe tbody tr th:only-of-type {\n",
       "        vertical-align: middle;\n",
       "    }\n",
       "\n",
       "    .dataframe tbody tr th {\n",
       "        vertical-align: top;\n",
       "    }\n",
       "\n",
       "    .dataframe thead th {\n",
       "        text-align: right;\n",
       "    }\n",
       "</style>\n",
       "<table border=\"1\" class=\"dataframe\">\n",
       "  <thead>\n",
       "    <tr style=\"text-align: right;\">\n",
       "      <th></th>\n",
       "      <th>utc_time</th>\n",
       "      <th>local_time</th>\n",
       "      <th>electricity</th>\n",
       "    </tr>\n",
       "  </thead>\n",
       "  <tbody>\n",
       "    <tr>\n",
       "      <th>0</th>\n",
       "      <td>1980-01-01 00:00:00+00:00</td>\n",
       "      <td>1980-01-01 01:00:00+01:00</td>\n",
       "      <td>0.0</td>\n",
       "    </tr>\n",
       "    <tr>\n",
       "      <th>1</th>\n",
       "      <td>1980-01-01 01:00:00+00:00</td>\n",
       "      <td>1980-01-01 02:00:00+01:00</td>\n",
       "      <td>0.0</td>\n",
       "    </tr>\n",
       "  </tbody>\n",
       "</table>\n",
       "</div>"
      ],
      "text/plain": [
       "                   utc_time                 local_time  electricity\n",
       "0 1980-01-01 00:00:00+00:00  1980-01-01 01:00:00+01:00          0.0\n",
       "1 1980-01-01 01:00:00+00:00  1980-01-01 02:00:00+01:00          0.0"
      ]
     },
     "execution_count": 4,
     "metadata": {},
     "output_type": "execute_result"
    }
   ],
   "source": [
    "# load data\n",
    "pv_df = pd.read_csv('../raw_data/1980-2022_pv.csv')\n",
    "\n",
    "# drop columns\n",
    "pv_df.drop(columns=['irradiance_direct','irradiance_diffuse','temperature',\n",
    "                    'source','Unnamed: 0.1'], inplace=True)\n",
    "\n",
    "# convert dtypes\n",
    "pv_df.electricity = pv_df.electricity.astype(float)\n",
    "\n",
    "#pv_df.local_time    = pd.to_datetime(pv_df.local_time) #\n",
    "pv_df.local_time    = pv_df.local_time.apply(lambda x:\n",
    "                                            dt.datetime.strptime(x,\n",
    "                                            \"%Y-%m-%d %H:%M:%S%z\"))\n",
    "\n",
    "\n",
    "pv_df['Unnamed: 0'] = pd.to_datetime(pv_df['Unnamed: 0'], unit='ms').dt.tz_localize('UTC')\n",
    "\n",
    "# name columns\n",
    "pv_df.rename(columns={'Unnamed: 0': 'utc_time'}, inplace=True)\n",
    "\n",
    "# show\n",
    "pv_df.head(2)"
   ]
  },
  {
   "cell_type": "code",
   "execution_count": 5,
   "metadata": {},
   "outputs": [
    {
     "name": "stdout",
     "output_type": "stream",
     "text": [
      "<class 'pandas.core.frame.DataFrame'>\n",
      "RangeIndex: 376944 entries, 0 to 376943\n",
      "Data columns (total 3 columns):\n",
      " #   Column       Non-Null Count   Dtype              \n",
      "---  ------       --------------   -----              \n",
      " 0   utc_time     376944 non-null  datetime64[ns, UTC]\n",
      " 1   local_time   376944 non-null  object             \n",
      " 2   electricity  376944 non-null  float64            \n",
      "dtypes: datetime64[ns, UTC](1), float64(1), object(1)\n",
      "memory usage: 8.6+ MB\n"
     ]
    }
   ],
   "source": [
    "pv_df.info()"
   ]
  },
  {
   "cell_type": "code",
   "execution_count": 6,
   "metadata": {},
   "outputs": [
    {
     "data": {
      "text/html": [
       "<div>\n",
       "<style scoped>\n",
       "    .dataframe tbody tr th:only-of-type {\n",
       "        vertical-align: middle;\n",
       "    }\n",
       "\n",
       "    .dataframe tbody tr th {\n",
       "        vertical-align: top;\n",
       "    }\n",
       "\n",
       "    .dataframe thead th {\n",
       "        text-align: right;\n",
       "    }\n",
       "</style>\n",
       "<table border=\"1\" class=\"dataframe\">\n",
       "  <thead>\n",
       "    <tr style=\"text-align: right;\">\n",
       "      <th></th>\n",
       "      <th>utc_time</th>\n",
       "      <th>local_time</th>\n",
       "      <th>electricity</th>\n",
       "    </tr>\n",
       "  </thead>\n",
       "  <tbody>\n",
       "    <tr>\n",
       "      <th>376942</th>\n",
       "      <td>2022-12-31 22:00:00+00:00</td>\n",
       "      <td>2022-12-31 23:00:00+01:00</td>\n",
       "      <td>0.0</td>\n",
       "    </tr>\n",
       "    <tr>\n",
       "      <th>376943</th>\n",
       "      <td>2022-12-31 23:00:00+00:00</td>\n",
       "      <td>2023-01-01 00:00:00+01:00</td>\n",
       "      <td>0.0</td>\n",
       "    </tr>\n",
       "  </tbody>\n",
       "</table>\n",
       "</div>"
      ],
      "text/plain": [
       "                        utc_time                 local_time  electricity\n",
       "376942 2022-12-31 22:00:00+00:00  2022-12-31 23:00:00+01:00          0.0\n",
       "376943 2022-12-31 23:00:00+00:00  2023-01-01 00:00:00+01:00          0.0"
      ]
     },
     "execution_count": 6,
     "metadata": {},
     "output_type": "execute_result"
    }
   ],
   "source": [
    "pv_df.tail(2)"
   ]
  },
  {
   "cell_type": "code",
   "execution_count": 7,
   "metadata": {},
   "outputs": [
    {
     "name": "stdout",
     "output_type": "stream",
     "text": [
      "pv_df number of rows:  376944\n",
      "Number of unique values:\n"
     ]
    },
    {
     "data": {
      "text/plain": [
       "utc_time       376944\n",
       "local_time     376944\n",
       "electricity       892\n",
       "dtype: int64"
      ]
     },
     "execution_count": 7,
     "metadata": {},
     "output_type": "execute_result"
    }
   ],
   "source": [
    "# unique dates match the df length\n",
    "print('pv_df number of rows: ', pv_df.shape[0])\n",
    "print('Number of unique values:')\n",
    "pv_df.nunique()"
   ]
  },
  {
   "cell_type": "code",
   "execution_count": 8,
   "metadata": {},
   "outputs": [
    {
     "data": {
      "text/plain": [
       "utc_time       0\n",
       "local_time     0\n",
       "electricity    0\n",
       "dtype: int64"
      ]
     },
     "execution_count": 8,
     "metadata": {},
     "output_type": "execute_result"
    }
   ],
   "source": [
    "# There are no NA values\n",
    "pv_df.isna().sum()"
   ]
  },
  {
   "cell_type": "code",
   "execution_count": 9,
   "metadata": {},
   "outputs": [
    {
     "name": "stdout",
     "output_type": "stream",
     "text": [
      "Number of negative electricity values:  0\n",
      "Number of electricity values above max. capacity (1 kw):  0\n"
     ]
    }
   ],
   "source": [
    "print('Number of negative electricity values: ', len(pv_df[pv_df.electricity < 0.0]))\n",
    "print('Number of electricity values above max. capacity (1 kw): ', len( pv_df[pv_df.electricity > 1.0]))"
   ]
  },
  {
   "cell_type": "code",
   "execution_count": 10,
   "metadata": {},
   "outputs": [],
   "source": [
    "def get_pv_data() -> pd.DataFrame:\n",
    "    \"\"\"\n",
    "    Load raw data from local directory\n",
    "    \"\"\"\n",
    "    df = pd.read_csv('../raw_data/1980-2022_pv.csv')\n",
    "    print('# data loaded')\n",
    "    return df\n"
   ]
  },
  {
   "cell_type": "code",
   "execution_count": 11,
   "metadata": {},
   "outputs": [],
   "source": [
    "def clean_pv_data(pv_df: pd.DataFrame) ->pd.DataFrame:\n",
    "    \"\"\"\n",
    "    Remove unnecessary columns and convert to right dtypes\n",
    "    \"\"\"\n",
    "    # remove unnevessary columns\n",
    "    pv_df.drop(columns=['irradiance_direct','irradiance_diffuse','temperature',\n",
    "                    'source','Unnamed: 0.1'], inplace=True)\n",
    "\n",
    "    # convert dtypes\n",
    "    pv_df.electricity = pv_df.electricity.astype(float)\n",
    "\n",
    "    pv_df.local_time    = pv_df.local_time.apply(lambda x:\n",
    "                                            dt.datetime.strptime(x,\n",
    "                                            \"%Y-%m-%d %H:%M:%S%z\")) # pd.to_datetime gives warning\n",
    "\n",
    "    pv_df['Unnamed: 0'] = pd.to_datetime(pv_df['Unnamed: 0'],\n",
    "                                         unit='ms').dt.tz_localize('UTC')\n",
    "    # correct column names\n",
    "    pv_df.rename(columns={'Unnamed: 0': 'utc_time'}, inplace=True)\n",
    "\n",
    "    print('# data cleaned')\n",
    "    return pv_df"
   ]
  },
  {
   "cell_type": "code",
   "execution_count": 12,
   "metadata": {},
   "outputs": [
    {
     "name": "stdout",
     "output_type": "stream",
     "text": [
      "# data loaded\n",
      "# data cleaned\n"
     ]
    },
    {
     "data": {
      "text/html": [
       "<div>\n",
       "<style scoped>\n",
       "    .dataframe tbody tr th:only-of-type {\n",
       "        vertical-align: middle;\n",
       "    }\n",
       "\n",
       "    .dataframe tbody tr th {\n",
       "        vertical-align: top;\n",
       "    }\n",
       "\n",
       "    .dataframe thead th {\n",
       "        text-align: right;\n",
       "    }\n",
       "</style>\n",
       "<table border=\"1\" class=\"dataframe\">\n",
       "  <thead>\n",
       "    <tr style=\"text-align: right;\">\n",
       "      <th></th>\n",
       "      <th>utc_time</th>\n",
       "      <th>local_time</th>\n",
       "      <th>electricity</th>\n",
       "    </tr>\n",
       "  </thead>\n",
       "  <tbody>\n",
       "    <tr>\n",
       "      <th>0</th>\n",
       "      <td>1980-01-01 00:00:00+00:00</td>\n",
       "      <td>1980-01-01 01:00:00+01:00</td>\n",
       "      <td>0.0</td>\n",
       "    </tr>\n",
       "    <tr>\n",
       "      <th>1</th>\n",
       "      <td>1980-01-01 01:00:00+00:00</td>\n",
       "      <td>1980-01-01 02:00:00+01:00</td>\n",
       "      <td>0.0</td>\n",
       "    </tr>\n",
       "    <tr>\n",
       "      <th>2</th>\n",
       "      <td>1980-01-01 02:00:00+00:00</td>\n",
       "      <td>1980-01-01 03:00:00+01:00</td>\n",
       "      <td>0.0</td>\n",
       "    </tr>\n",
       "    <tr>\n",
       "      <th>3</th>\n",
       "      <td>1980-01-01 03:00:00+00:00</td>\n",
       "      <td>1980-01-01 04:00:00+01:00</td>\n",
       "      <td>0.0</td>\n",
       "    </tr>\n",
       "    <tr>\n",
       "      <th>4</th>\n",
       "      <td>1980-01-01 04:00:00+00:00</td>\n",
       "      <td>1980-01-01 05:00:00+01:00</td>\n",
       "      <td>0.0</td>\n",
       "    </tr>\n",
       "  </tbody>\n",
       "</table>\n",
       "</div>"
      ],
      "text/plain": [
       "                   utc_time                 local_time  electricity\n",
       "0 1980-01-01 00:00:00+00:00  1980-01-01 01:00:00+01:00          0.0\n",
       "1 1980-01-01 01:00:00+00:00  1980-01-01 02:00:00+01:00          0.0\n",
       "2 1980-01-01 02:00:00+00:00  1980-01-01 03:00:00+01:00          0.0\n",
       "3 1980-01-01 03:00:00+00:00  1980-01-01 04:00:00+01:00          0.0\n",
       "4 1980-01-01 04:00:00+00:00  1980-01-01 05:00:00+01:00          0.0"
      ]
     },
     "execution_count": 12,
     "metadata": {},
     "output_type": "execute_result"
    }
   ],
   "source": [
    "df = get_pv_data()\n",
    "df = clean_pv_data(df)\n",
    "df.head()"
   ]
  },
  {
   "cell_type": "markdown",
   "metadata": {},
   "source": [
    "## Select years"
   ]
  },
  {
   "cell_type": "code",
   "execution_count": 66,
   "metadata": {},
   "outputs": [
    {
     "name": "stdout",
     "output_type": "stream",
     "text": [
      "# data loaded\n",
      "# data cleaned\n"
     ]
    },
    {
     "data": {
      "text/html": [
       "<div>\n",
       "<style scoped>\n",
       "    .dataframe tbody tr th:only-of-type {\n",
       "        vertical-align: middle;\n",
       "    }\n",
       "\n",
       "    .dataframe tbody tr th {\n",
       "        vertical-align: top;\n",
       "    }\n",
       "\n",
       "    .dataframe thead th {\n",
       "        text-align: right;\n",
       "    }\n",
       "</style>\n",
       "<table border=\"1\" class=\"dataframe\">\n",
       "  <thead>\n",
       "    <tr style=\"text-align: right;\">\n",
       "      <th></th>\n",
       "      <th>utc_time</th>\n",
       "      <th>local_time</th>\n",
       "      <th>electricity</th>\n",
       "    </tr>\n",
       "  </thead>\n",
       "  <tbody>\n",
       "    <tr>\n",
       "      <th>0</th>\n",
       "      <td>1980-01-01 00:00:00+00:00</td>\n",
       "      <td>1980-01-01 01:00:00+01:00</td>\n",
       "      <td>0.0</td>\n",
       "    </tr>\n",
       "    <tr>\n",
       "      <th>1</th>\n",
       "      <td>1980-01-01 01:00:00+00:00</td>\n",
       "      <td>1980-01-01 02:00:00+01:00</td>\n",
       "      <td>0.0</td>\n",
       "    </tr>\n",
       "  </tbody>\n",
       "</table>\n",
       "</div>"
      ],
      "text/plain": [
       "                   utc_time                 local_time  electricity\n",
       "0 1980-01-01 00:00:00+00:00  1980-01-01 01:00:00+01:00          0.0\n",
       "1 1980-01-01 01:00:00+00:00  1980-01-01 02:00:00+01:00          0.0"
      ]
     },
     "execution_count": 66,
     "metadata": {},
     "output_type": "execute_result"
    }
   ],
   "source": [
    "df = get_pv_data()\n",
    "df = clean_pv_data(df)\n",
    "df.head(2)"
   ]
  },
  {
   "cell_type": "code",
   "execution_count": 67,
   "metadata": {},
   "outputs": [
    {
     "name": "stdout",
     "output_type": "stream",
     "text": [
      "                   utc_time                 local_time  electricity\n",
      "0 1980-01-01 00:00:00+00:00  1980-01-01 01:00:00+01:00          0.0\n",
      "                       utc_time                 local_time  electricity\n",
      "26303 1982-12-31 23:00:00+00:00  1983-01-01 00:00:00+01:00          0.0\n"
     ]
    }
   ],
   "source": [
    "st = 1980\n",
    "en = 1980\n",
    "\n",
    "start = \"1980-01-01 00:00:00\"\n",
    "end   = \"1982-12-31 23:00:00\"\n",
    "part_df = df[df.utc_time.between(start, end)]\n",
    "\n",
    "print(part_df.head(1))\n",
    "print(part_df.tail(1))"
   ]
  },
  {
   "cell_type": "code",
   "execution_count": 85,
   "metadata": {},
   "outputs": [],
   "source": [
    "def select_years(df: pd.DataFrame, start=1980, end=1982)-> pd.DataFrame:\n",
    "    \"\"\"\n",
    "    Returns the df between start and end year (inclusive)\n",
    "    \"\"\"\n",
    "    start_point = f\"{start}-01-01 00:00:00\"\n",
    "    end_point   = f\"{end}-12-31 23:00:00\"\n",
    "    df = df[df.utc_time.between(start_point, end_point)]\n",
    "\n",
    "    n_years = df['utc_time'].dt.year.nunique()\n",
    "    print(f\"# selected {n_years} years\")\n",
    "\n",
    "    return df\n"
   ]
  },
  {
   "cell_type": "code",
   "execution_count": 86,
   "metadata": {},
   "outputs": [
    {
     "name": "stdout",
     "output_type": "stream",
     "text": [
      "# selected 4 years\n"
     ]
    }
   ],
   "source": [
    "test_df = select_years(df, start=1980, end=1983)\n"
   ]
  },
  {
   "cell_type": "code",
   "execution_count": 87,
   "metadata": {},
   "outputs": [
    {
     "data": {
      "text/html": [
       "<div>\n",
       "<style scoped>\n",
       "    .dataframe tbody tr th:only-of-type {\n",
       "        vertical-align: middle;\n",
       "    }\n",
       "\n",
       "    .dataframe tbody tr th {\n",
       "        vertical-align: top;\n",
       "    }\n",
       "\n",
       "    .dataframe thead th {\n",
       "        text-align: right;\n",
       "    }\n",
       "</style>\n",
       "<table border=\"1\" class=\"dataframe\">\n",
       "  <thead>\n",
       "    <tr style=\"text-align: right;\">\n",
       "      <th></th>\n",
       "      <th>utc_time</th>\n",
       "      <th>local_time</th>\n",
       "      <th>electricity</th>\n",
       "    </tr>\n",
       "  </thead>\n",
       "  <tbody>\n",
       "    <tr>\n",
       "      <th>0</th>\n",
       "      <td>1980-01-01 00:00:00+00:00</td>\n",
       "      <td>1980-01-01 01:00:00+01:00</td>\n",
       "      <td>0.0</td>\n",
       "    </tr>\n",
       "    <tr>\n",
       "      <th>1</th>\n",
       "      <td>1980-01-01 01:00:00+00:00</td>\n",
       "      <td>1980-01-01 02:00:00+01:00</td>\n",
       "      <td>0.0</td>\n",
       "    </tr>\n",
       "  </tbody>\n",
       "</table>\n",
       "</div>"
      ],
      "text/plain": [
       "                   utc_time                 local_time  electricity\n",
       "0 1980-01-01 00:00:00+00:00  1980-01-01 01:00:00+01:00          0.0\n",
       "1 1980-01-01 01:00:00+00:00  1980-01-01 02:00:00+01:00          0.0"
      ]
     },
     "execution_count": 87,
     "metadata": {},
     "output_type": "execute_result"
    }
   ],
   "source": [
    "test_df.head(2)"
   ]
  },
  {
   "cell_type": "code",
   "execution_count": 88,
   "metadata": {},
   "outputs": [
    {
     "data": {
      "text/html": [
       "<div>\n",
       "<style scoped>\n",
       "    .dataframe tbody tr th:only-of-type {\n",
       "        vertical-align: middle;\n",
       "    }\n",
       "\n",
       "    .dataframe tbody tr th {\n",
       "        vertical-align: top;\n",
       "    }\n",
       "\n",
       "    .dataframe thead th {\n",
       "        text-align: right;\n",
       "    }\n",
       "</style>\n",
       "<table border=\"1\" class=\"dataframe\">\n",
       "  <thead>\n",
       "    <tr style=\"text-align: right;\">\n",
       "      <th></th>\n",
       "      <th>utc_time</th>\n",
       "      <th>local_time</th>\n",
       "      <th>electricity</th>\n",
       "    </tr>\n",
       "  </thead>\n",
       "  <tbody>\n",
       "    <tr>\n",
       "      <th>35062</th>\n",
       "      <td>1983-12-31 22:00:00+00:00</td>\n",
       "      <td>1983-12-31 23:00:00+01:00</td>\n",
       "      <td>0.0</td>\n",
       "    </tr>\n",
       "    <tr>\n",
       "      <th>35063</th>\n",
       "      <td>1983-12-31 23:00:00+00:00</td>\n",
       "      <td>1984-01-01 00:00:00+01:00</td>\n",
       "      <td>0.0</td>\n",
       "    </tr>\n",
       "  </tbody>\n",
       "</table>\n",
       "</div>"
      ],
      "text/plain": [
       "                       utc_time                 local_time  electricity\n",
       "35062 1983-12-31 22:00:00+00:00  1983-12-31 23:00:00+01:00          0.0\n",
       "35063 1983-12-31 23:00:00+00:00  1984-01-01 00:00:00+01:00          0.0"
      ]
     },
     "execution_count": 88,
     "metadata": {},
     "output_type": "execute_result"
    }
   ],
   "source": [
    "test_df.tail(2)"
   ]
  },
  {
   "cell_type": "markdown",
   "metadata": {},
   "source": [
    "## Create statitics df"
   ]
  },
  {
   "cell_type": "code",
   "execution_count": 178,
   "metadata": {},
   "outputs": [
    {
     "name": "stdout",
     "output_type": "stream",
     "text": [
      "# selected 3 years\n"
     ]
    },
    {
     "name": "stderr",
     "output_type": "stream",
     "text": [
      "/var/folders/b1/83z4ln8j1yd088xz1fgkbd2c0000gn/T/ipykernel_10481/589407169.py:3: SettingWithCopyWarning: \n",
      "A value is trying to be set on a copy of a slice from a DataFrame.\n",
      "Try using .loc[row_indexer,col_indexer] = value instead\n",
      "\n",
      "See the caveats in the documentation: https://pandas.pydata.org/pandas-docs/stable/user_guide/indexing.html#returning-a-view-versus-a-copy\n",
      "  years_df['hour_of_year'] = years_df.utc_time.\\\n"
     ]
    }
   ],
   "source": [
    "years_df = select_years(df, start=1980, end=1982)\n",
    "\n",
    "years_df['hour_of_year'] = years_df.utc_time.\\\n",
    "                           apply(lambda x: x.strftime(\"%m%d%H\"))\n",
    "\n",
    "stats_df = years_df[['hour_of_year', 'electricity']]\\\n",
    "    .groupby(['hour_of_year']).agg(['mean','median','std','skew','min','max'])\n"
   ]
  },
  {
   "cell_type": "code",
   "execution_count": 180,
   "metadata": {},
   "outputs": [
    {
     "data": {
      "text/html": [
       "<div>\n",
       "<style scoped>\n",
       "    .dataframe tbody tr th:only-of-type {\n",
       "        vertical-align: middle;\n",
       "    }\n",
       "\n",
       "    .dataframe tbody tr th {\n",
       "        vertical-align: top;\n",
       "    }\n",
       "\n",
       "    .dataframe thead tr th {\n",
       "        text-align: left;\n",
       "    }\n",
       "\n",
       "    .dataframe thead tr:last-of-type th {\n",
       "        text-align: right;\n",
       "    }\n",
       "</style>\n",
       "<table border=\"1\" class=\"dataframe\">\n",
       "  <thead>\n",
       "    <tr>\n",
       "      <th></th>\n",
       "      <th colspan=\"6\" halign=\"left\">electricity</th>\n",
       "    </tr>\n",
       "    <tr>\n",
       "      <th></th>\n",
       "      <th>mean</th>\n",
       "      <th>median</th>\n",
       "      <th>std</th>\n",
       "      <th>skew</th>\n",
       "      <th>min</th>\n",
       "      <th>max</th>\n",
       "    </tr>\n",
       "    <tr>\n",
       "      <th>hour_of_year</th>\n",
       "      <th></th>\n",
       "      <th></th>\n",
       "      <th></th>\n",
       "      <th></th>\n",
       "      <th></th>\n",
       "      <th></th>\n",
       "    </tr>\n",
       "  </thead>\n",
       "  <tbody>\n",
       "    <tr>\n",
       "      <th>010100</th>\n",
       "      <td>0.000000</td>\n",
       "      <td>0.000</td>\n",
       "      <td>0.000000</td>\n",
       "      <td>0.000000</td>\n",
       "      <td>0.000</td>\n",
       "      <td>0.000</td>\n",
       "    </tr>\n",
       "    <tr>\n",
       "      <th>010101</th>\n",
       "      <td>0.000000</td>\n",
       "      <td>0.000</td>\n",
       "      <td>0.000000</td>\n",
       "      <td>0.000000</td>\n",
       "      <td>0.000</td>\n",
       "      <td>0.000</td>\n",
       "    </tr>\n",
       "    <tr>\n",
       "      <th>010102</th>\n",
       "      <td>0.000000</td>\n",
       "      <td>0.000</td>\n",
       "      <td>0.000000</td>\n",
       "      <td>0.000000</td>\n",
       "      <td>0.000</td>\n",
       "      <td>0.000</td>\n",
       "    </tr>\n",
       "    <tr>\n",
       "      <th>010103</th>\n",
       "      <td>0.000000</td>\n",
       "      <td>0.000</td>\n",
       "      <td>0.000000</td>\n",
       "      <td>0.000000</td>\n",
       "      <td>0.000</td>\n",
       "      <td>0.000</td>\n",
       "    </tr>\n",
       "    <tr>\n",
       "      <th>010104</th>\n",
       "      <td>0.000000</td>\n",
       "      <td>0.000</td>\n",
       "      <td>0.000000</td>\n",
       "      <td>0.000000</td>\n",
       "      <td>0.000</td>\n",
       "      <td>0.000</td>\n",
       "    </tr>\n",
       "    <tr>\n",
       "      <th>010105</th>\n",
       "      <td>0.000000</td>\n",
       "      <td>0.000</td>\n",
       "      <td>0.000000</td>\n",
       "      <td>0.000000</td>\n",
       "      <td>0.000</td>\n",
       "      <td>0.000</td>\n",
       "    </tr>\n",
       "    <tr>\n",
       "      <th>010106</th>\n",
       "      <td>0.000000</td>\n",
       "      <td>0.000</td>\n",
       "      <td>0.000000</td>\n",
       "      <td>0.000000</td>\n",
       "      <td>0.000</td>\n",
       "      <td>0.000</td>\n",
       "    </tr>\n",
       "    <tr>\n",
       "      <th>010107</th>\n",
       "      <td>0.000333</td>\n",
       "      <td>0.000</td>\n",
       "      <td>0.000577</td>\n",
       "      <td>1.732051</td>\n",
       "      <td>0.000</td>\n",
       "      <td>0.001</td>\n",
       "    </tr>\n",
       "    <tr>\n",
       "      <th>010108</th>\n",
       "      <td>0.021667</td>\n",
       "      <td>0.019</td>\n",
       "      <td>0.004619</td>\n",
       "      <td>1.732051</td>\n",
       "      <td>0.019</td>\n",
       "      <td>0.027</td>\n",
       "    </tr>\n",
       "    <tr>\n",
       "      <th>010109</th>\n",
       "      <td>0.075000</td>\n",
       "      <td>0.062</td>\n",
       "      <td>0.025159</td>\n",
       "      <td>1.704387</td>\n",
       "      <td>0.059</td>\n",
       "      <td>0.104</td>\n",
       "    </tr>\n",
       "    <tr>\n",
       "      <th>010110</th>\n",
       "      <td>0.115667</td>\n",
       "      <td>0.095</td>\n",
       "      <td>0.042911</td>\n",
       "      <td>1.664570</td>\n",
       "      <td>0.087</td>\n",
       "      <td>0.165</td>\n",
       "    </tr>\n",
       "    <tr>\n",
       "      <th>010111</th>\n",
       "      <td>0.150667</td>\n",
       "      <td>0.104</td>\n",
       "      <td>0.107858</td>\n",
       "      <td>1.582523</td>\n",
       "      <td>0.074</td>\n",
       "      <td>0.274</td>\n",
       "    </tr>\n",
       "    <tr>\n",
       "      <th>010112</th>\n",
       "      <td>0.188667</td>\n",
       "      <td>0.168</td>\n",
       "      <td>0.125285</td>\n",
       "      <td>0.722109</td>\n",
       "      <td>0.075</td>\n",
       "      <td>0.323</td>\n",
       "    </tr>\n",
       "    <tr>\n",
       "      <th>010113</th>\n",
       "      <td>0.132333</td>\n",
       "      <td>0.152</td>\n",
       "      <td>0.081304</td>\n",
       "      <td>-1.024818</td>\n",
       "      <td>0.043</td>\n",
       "      <td>0.202</td>\n",
       "    </tr>\n",
       "    <tr>\n",
       "      <th>010114</th>\n",
       "      <td>0.025667</td>\n",
       "      <td>0.035</td>\n",
       "      <td>0.019732</td>\n",
       "      <td>-1.652317</td>\n",
       "      <td>0.003</td>\n",
       "      <td>0.039</td>\n",
       "    </tr>\n",
       "    <tr>\n",
       "      <th>010115</th>\n",
       "      <td>0.000000</td>\n",
       "      <td>0.000</td>\n",
       "      <td>0.000000</td>\n",
       "      <td>0.000000</td>\n",
       "      <td>0.000</td>\n",
       "      <td>0.000</td>\n",
       "    </tr>\n",
       "    <tr>\n",
       "      <th>010116</th>\n",
       "      <td>0.000000</td>\n",
       "      <td>0.000</td>\n",
       "      <td>0.000000</td>\n",
       "      <td>0.000000</td>\n",
       "      <td>0.000</td>\n",
       "      <td>0.000</td>\n",
       "    </tr>\n",
       "    <tr>\n",
       "      <th>010117</th>\n",
       "      <td>0.000000</td>\n",
       "      <td>0.000</td>\n",
       "      <td>0.000000</td>\n",
       "      <td>0.000000</td>\n",
       "      <td>0.000</td>\n",
       "      <td>0.000</td>\n",
       "    </tr>\n",
       "    <tr>\n",
       "      <th>010118</th>\n",
       "      <td>0.000000</td>\n",
       "      <td>0.000</td>\n",
       "      <td>0.000000</td>\n",
       "      <td>0.000000</td>\n",
       "      <td>0.000</td>\n",
       "      <td>0.000</td>\n",
       "    </tr>\n",
       "    <tr>\n",
       "      <th>010119</th>\n",
       "      <td>0.000000</td>\n",
       "      <td>0.000</td>\n",
       "      <td>0.000000</td>\n",
       "      <td>0.000000</td>\n",
       "      <td>0.000</td>\n",
       "      <td>0.000</td>\n",
       "    </tr>\n",
       "    <tr>\n",
       "      <th>010120</th>\n",
       "      <td>0.000000</td>\n",
       "      <td>0.000</td>\n",
       "      <td>0.000000</td>\n",
       "      <td>0.000000</td>\n",
       "      <td>0.000</td>\n",
       "      <td>0.000</td>\n",
       "    </tr>\n",
       "    <tr>\n",
       "      <th>010121</th>\n",
       "      <td>0.000000</td>\n",
       "      <td>0.000</td>\n",
       "      <td>0.000000</td>\n",
       "      <td>0.000000</td>\n",
       "      <td>0.000</td>\n",
       "      <td>0.000</td>\n",
       "    </tr>\n",
       "    <tr>\n",
       "      <th>010122</th>\n",
       "      <td>0.000000</td>\n",
       "      <td>0.000</td>\n",
       "      <td>0.000000</td>\n",
       "      <td>0.000000</td>\n",
       "      <td>0.000</td>\n",
       "      <td>0.000</td>\n",
       "    </tr>\n",
       "    <tr>\n",
       "      <th>010123</th>\n",
       "      <td>0.000000</td>\n",
       "      <td>0.000</td>\n",
       "      <td>0.000000</td>\n",
       "      <td>0.000000</td>\n",
       "      <td>0.000</td>\n",
       "      <td>0.000</td>\n",
       "    </tr>\n",
       "  </tbody>\n",
       "</table>\n",
       "</div>"
      ],
      "text/plain": [
       "             electricity                                         \n",
       "                    mean median       std      skew    min    max\n",
       "hour_of_year                                                     \n",
       "010100          0.000000  0.000  0.000000  0.000000  0.000  0.000\n",
       "010101          0.000000  0.000  0.000000  0.000000  0.000  0.000\n",
       "010102          0.000000  0.000  0.000000  0.000000  0.000  0.000\n",
       "010103          0.000000  0.000  0.000000  0.000000  0.000  0.000\n",
       "010104          0.000000  0.000  0.000000  0.000000  0.000  0.000\n",
       "010105          0.000000  0.000  0.000000  0.000000  0.000  0.000\n",
       "010106          0.000000  0.000  0.000000  0.000000  0.000  0.000\n",
       "010107          0.000333  0.000  0.000577  1.732051  0.000  0.001\n",
       "010108          0.021667  0.019  0.004619  1.732051  0.019  0.027\n",
       "010109          0.075000  0.062  0.025159  1.704387  0.059  0.104\n",
       "010110          0.115667  0.095  0.042911  1.664570  0.087  0.165\n",
       "010111          0.150667  0.104  0.107858  1.582523  0.074  0.274\n",
       "010112          0.188667  0.168  0.125285  0.722109  0.075  0.323\n",
       "010113          0.132333  0.152  0.081304 -1.024818  0.043  0.202\n",
       "010114          0.025667  0.035  0.019732 -1.652317  0.003  0.039\n",
       "010115          0.000000  0.000  0.000000  0.000000  0.000  0.000\n",
       "010116          0.000000  0.000  0.000000  0.000000  0.000  0.000\n",
       "010117          0.000000  0.000  0.000000  0.000000  0.000  0.000\n",
       "010118          0.000000  0.000  0.000000  0.000000  0.000  0.000\n",
       "010119          0.000000  0.000  0.000000  0.000000  0.000  0.000\n",
       "010120          0.000000  0.000  0.000000  0.000000  0.000  0.000\n",
       "010121          0.000000  0.000  0.000000  0.000000  0.000  0.000\n",
       "010122          0.000000  0.000  0.000000  0.000000  0.000  0.000\n",
       "010123          0.000000  0.000  0.000000  0.000000  0.000  0.000"
      ]
     },
     "execution_count": 180,
     "metadata": {},
     "output_type": "execute_result"
    }
   ],
   "source": [
    "stats_df.head(24)"
   ]
  },
  {
   "cell_type": "code",
   "execution_count": null,
   "metadata": {},
   "outputs": [],
   "source": []
  }
 ],
 "metadata": {
  "kernelspec": {
   "display_name": "power",
   "language": "python",
   "name": "python3"
  },
  "language_info": {
   "codemirror_mode": {
    "name": "ipython",
    "version": 3
   },
   "file_extension": ".py",
   "mimetype": "text/x-python",
   "name": "python",
   "nbconvert_exporter": "python",
   "pygments_lexer": "ipython3",
   "version": "3.10.6"
  }
 },
 "nbformat": 4,
 "nbformat_minor": 2
}
