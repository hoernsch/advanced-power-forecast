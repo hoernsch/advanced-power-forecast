{
 "cells": [
  {
   "cell_type": "code",
   "execution_count": 23,
   "metadata": {},
   "outputs": [],
   "source": [
    "import numpy as np\n",
    "import pandas as pd\n",
    "\n",
    "from power.ml_ops.data import clean_pv_data, get_pv_data\n",
    "from power.params import *\n",
    "from pathlib import Path\n",
    "\n",
    "from tensorflow.keras import backend as K\n",
    "from tensorflow.keras.callbacks import EarlyStopping\n",
    "from tensorflow.keras import models, layers, optimizers\n",
    "from power.ml_ops.data import get_data_with_cache, load_data_to_bq, clean_pv_data\n",
    "from power.ml_ops.registry import load_model, save_model, save_results\n",
    "import tensorflow as tf\n",
    "\n",
    "import matplotlib.pyplot as plt"
   ]
  },
  {
   "cell_type": "code",
   "execution_count": 35,
   "metadata": {},
   "outputs": [
    {
     "name": "stdout",
     "output_type": "stream",
     "text": [
      "# data loaded\n",
      "# data cleaned\n"
     ]
    },
    {
     "data": {
      "text/html": [
       "<div>\n",
       "<style scoped>\n",
       "    .dataframe tbody tr th:only-of-type {\n",
       "        vertical-align: middle;\n",
       "    }\n",
       "\n",
       "    .dataframe tbody tr th {\n",
       "        vertical-align: top;\n",
       "    }\n",
       "\n",
       "    .dataframe thead th {\n",
       "        text-align: right;\n",
       "    }\n",
       "</style>\n",
       "<table border=\"1\" class=\"dataframe\">\n",
       "  <thead>\n",
       "    <tr style=\"text-align: right;\">\n",
       "      <th></th>\n",
       "      <th>utc_time</th>\n",
       "      <th>local_time</th>\n",
       "      <th>power</th>\n",
       "    </tr>\n",
       "  </thead>\n",
       "  <tbody>\n",
       "    <tr>\n",
       "      <th>0</th>\n",
       "      <td>1980-01-01 00:00:00+00:00</td>\n",
       "      <td>1980-01-01 01:00:00+01:00</td>\n",
       "      <td>0.0</td>\n",
       "    </tr>\n",
       "    <tr>\n",
       "      <th>1</th>\n",
       "      <td>1980-01-01 01:00:00+00:00</td>\n",
       "      <td>1980-01-01 02:00:00+01:00</td>\n",
       "      <td>0.0</td>\n",
       "    </tr>\n",
       "    <tr>\n",
       "      <th>2</th>\n",
       "      <td>1980-01-01 02:00:00+00:00</td>\n",
       "      <td>1980-01-01 03:00:00+01:00</td>\n",
       "      <td>0.0</td>\n",
       "    </tr>\n",
       "  </tbody>\n",
       "</table>\n",
       "</div>"
      ],
      "text/plain": [
       "                   utc_time                 local_time  power\n",
       "0 1980-01-01 00:00:00+00:00  1980-01-01 01:00:00+01:00    0.0\n",
       "1 1980-01-01 01:00:00+00:00  1980-01-01 02:00:00+01:00    0.0\n",
       "2 1980-01-01 02:00:00+00:00  1980-01-01 03:00:00+01:00    0.0"
      ]
     },
     "execution_count": 35,
     "metadata": {},
     "output_type": "execute_result"
    }
   ],
   "source": [
    "pv_raw_data = get_pv_data()\n",
    "pv_df = clean_pv_data(pv_raw_data)\n",
    "pv_df.rename(columns={'electricity': 'power'}, inplace=True)\n",
    "pv_df.head(3)"
   ]
  },
  {
   "cell_type": "code",
   "execution_count": 36,
   "metadata": {},
   "outputs": [],
   "source": [
    "train = pv_df[pv_df['utc_time'] < '2020-01-01']\n",
    "test = pv_df[pv_df['utc_time'] >= '2020-01-01']"
   ]
  },
  {
   "cell_type": "code",
   "execution_count": 37,
   "metadata": {},
   "outputs": [
    {
     "name": "stdout",
     "output_type": "stream",
     "text": [
      "350640\n",
      "26304\n"
     ]
    }
   ],
   "source": [
    "print(len(train))\n",
    "print(len(test))"
   ]
  },
  {
   "cell_type": "code",
   "execution_count": 38,
   "metadata": {},
   "outputs": [],
   "source": [
    "train = train[['power']]\n",
    "test = test[['power']]"
   ]
  },
  {
   "cell_type": "code",
   "execution_count": 39,
   "metadata": {},
   "outputs": [],
   "source": [
    "def get_Xi_yi(\n",
    "    fold:pd.DataFrame,\n",
    "    input_length:int,       # 48\n",
    "    output_length:int,      # 24\n",
    "    gap_hours):\n",
    "    '''\n",
    "    - given a fold, it returns one sequence (X_i, y_i)\n",
    "    - with the starting point of the sequence being chosen at random\n",
    "    - TARGET is the variable(s) we want to predict (name of the column(s))\n",
    "    '''\n",
    "    TARGET = 'power'\n",
    "    first_possible_start = 0\n",
    "    last_possible_start = len(fold) - (input_length + gap_hours + output_length) + 1\n",
    "\n",
    "    random_start = np.random.randint(first_possible_start, last_possible_start)\n",
    "\n",
    "    input_start = random_start\n",
    "    input_end = random_start + input_length\n",
    "    target_start = input_end + gap_hours\n",
    "    target_end = target_start + output_length\n",
    "\n",
    "    X_i = fold.iloc[input_start:input_end]\n",
    "    y_i = fold.iloc[target_start:target_end][[TARGET]]    # creates a pd.DataFrame for the target y\n",
    "\n",
    "    return (X_i, y_i)\n",
    "\n",
    "def get_X_y_seq(\n",
    "    fold:pd.DataFrame,\n",
    "    number_of_sequences:int,\n",
    "    input_length:int,\n",
    "    output_length:int,\n",
    "    gap_hours=0):\n",
    "    '''\n",
    "    Given a fold, it creates a series of sequences randomly\n",
    "    as many as being specified\n",
    "    '''\n",
    "\n",
    "    X, y = [], []\n",
    "\n",
    "    for i in range(number_of_sequences):\n",
    "        (Xi, yi) = get_Xi_yi(fold, input_length, output_length, gap_hours)   # calls the previous function to generate sequences X + y\n",
    "        X.append(Xi)\n",
    "        y.append(yi)\n",
    "\n",
    "    return np.array(X), np.array(y)\n"
   ]
  },
  {
   "cell_type": "code",
   "execution_count": 40,
   "metadata": {},
   "outputs": [],
   "source": [
    "X_train, y_train = get_X_y_seq(train, number_of_sequences=10_000, input_length=48, output_length=24)"
   ]
  },
  {
   "cell_type": "code",
   "execution_count": 41,
   "metadata": {},
   "outputs": [],
   "source": [
    "X_test, y_test = get_X_y_seq(test, number_of_sequences=1_000, input_length=48, output_length=24)"
   ]
  },
  {
   "cell_type": "code",
   "execution_count": 42,
   "metadata": {},
   "outputs": [
    {
     "data": {
      "text/plain": [
       "((10000, 48, 1), (10000, 24, 1))"
      ]
     },
     "execution_count": 42,
     "metadata": {},
     "output_type": "execute_result"
    }
   ],
   "source": [
    "X_train.shape, y_train.shape"
   ]
  },
  {
   "cell_type": "code",
   "execution_count": 43,
   "metadata": {},
   "outputs": [
    {
     "data": {
      "text/plain": [
       "((1000, 48, 1), (1000, 24, 1))"
      ]
     },
     "execution_count": 43,
     "metadata": {},
     "output_type": "execute_result"
    }
   ],
   "source": [
    "X_test.shape, y_test.shape"
   ]
  },
  {
   "cell_type": "code",
   "execution_count": 44,
   "metadata": {},
   "outputs": [],
   "source": [
    "def init_model(X_train, y_train, n_unit=24, learning_rate=0.02):\n",
    "\n",
    "\n",
    "    # 1 - RNN architecture\n",
    "    # ======================\n",
    "    model = models.Sequential()\n",
    "\n",
    "    ## 1.1 - Recurrent Layer\n",
    "    model.add(layers.LSTM(n_unit,\n",
    "                          activation='tanh',\n",
    "                          return_sequences = False,\n",
    "                          input_shape=(X_train.shape[1],X_train.shape[2])\n",
    "                          ))\n",
    "    ## 1.2 - Predictive Dense Layers\n",
    "    output_length = y_train.shape[1]\n",
    "    model.add(layers.Dense(output_length, activation='linear'))\n",
    "\n",
    "    # 2 - Compiler\n",
    "    # ======================\n",
    "\n",
    "    def r_squared(y_true, y_pred):\n",
    "        ss_res = K.sum(K.square(y_true - y_pred))\n",
    "        ss_tot = K.sum(K.square(y_true - K.mean(y_true)))\n",
    "        return (1 - ss_res/(ss_tot + K.epsilon()))\n",
    "\n",
    "    adam = optimizers.Adam(learning_rate=learning_rate)\n",
    "    model.compile(loss='mse', optimizer=adam, metrics=['mae', r_squared])\n",
    "\n",
    "    return model"
   ]
  },
  {
   "cell_type": "code",
   "execution_count": 45,
   "metadata": {},
   "outputs": [
    {
     "name": "stdout",
     "output_type": "stream",
     "text": [
      "Model: \"sequential_1\"\n",
      "_________________________________________________________________\n",
      " Layer (type)                Output Shape              Param #   \n",
      "=================================================================\n",
      " lstm_1 (LSTM)               (None, 24)                2496      \n",
      "                                                                 \n",
      " dense_1 (Dense)             (None, 24)                600       \n",
      "                                                                 \n",
      "=================================================================\n",
      "Total params: 3,096\n",
      "Trainable params: 3,096\n",
      "Non-trainable params: 0\n",
      "_________________________________________________________________\n"
     ]
    },
    {
     "name": "stderr",
     "output_type": "stream",
     "text": [
      "2024-03-08 17:39:48.313059: I tensorflow/core/common_runtime/executor.cc:1197] [/device:CPU:0] (DEBUG INFO) Executor start aborting (this does not indicate an error and you can ignore this message): INVALID_ARGUMENT: You must feed a value for placeholder tensor 'gradients/split_2_grad/concat/split_2/split_dim' with dtype int32\n",
      "\t [[{{node gradients/split_2_grad/concat/split_2/split_dim}}]]\n",
      "2024-03-08 17:39:48.320115: I tensorflow/core/common_runtime/executor.cc:1197] [/device:CPU:0] (DEBUG INFO) Executor start aborting (this does not indicate an error and you can ignore this message): INVALID_ARGUMENT: You must feed a value for placeholder tensor 'gradients/split_grad/concat/split/split_dim' with dtype int32\n",
      "\t [[{{node gradients/split_grad/concat/split/split_dim}}]]\n",
      "2024-03-08 17:39:48.324657: I tensorflow/core/common_runtime/executor.cc:1197] [/device:CPU:0] (DEBUG INFO) Executor start aborting (this does not indicate an error and you can ignore this message): INVALID_ARGUMENT: You must feed a value for placeholder tensor 'gradients/split_1_grad/concat/split_1/split_dim' with dtype int32\n",
      "\t [[{{node gradients/split_1_grad/concat/split_1/split_dim}}]]\n"
     ]
    }
   ],
   "source": [
    "model = init_model(X_train, y_train)\n",
    "model.summary()"
   ]
  },
  {
   "cell_type": "code",
   "execution_count": 46,
   "metadata": {},
   "outputs": [
    {
     "name": "stderr",
     "output_type": "stream",
     "text": [
      "2024-03-08 17:39:52.429953: I tensorflow/core/common_runtime/executor.cc:1197] [/device:CPU:0] (DEBUG INFO) Executor start aborting (this does not indicate an error and you can ignore this message): INVALID_ARGUMENT: You must feed a value for placeholder tensor 'gradients/split_2_grad/concat/split_2/split_dim' with dtype int32\n",
      "\t [[{{node gradients/split_2_grad/concat/split_2/split_dim}}]]\n",
      "2024-03-08 17:39:52.437921: I tensorflow/core/common_runtime/executor.cc:1197] [/device:CPU:0] (DEBUG INFO) Executor start aborting (this does not indicate an error and you can ignore this message): INVALID_ARGUMENT: You must feed a value for placeholder tensor 'gradients/split_grad/concat/split/split_dim' with dtype int32\n",
      "\t [[{{node gradients/split_grad/concat/split/split_dim}}]]\n",
      "2024-03-08 17:39:52.442118: I tensorflow/core/common_runtime/executor.cc:1197] [/device:CPU:0] (DEBUG INFO) Executor start aborting (this does not indicate an error and you can ignore this message): INVALID_ARGUMENT: You must feed a value for placeholder tensor 'gradients/split_1_grad/concat/split_1/split_dim' with dtype int32\n",
      "\t [[{{node gradients/split_1_grad/concat/split_1/split_dim}}]]\n",
      "2024-03-08 17:39:54.822066: I tensorflow/core/common_runtime/executor.cc:1197] [/device:CPU:0] (DEBUG INFO) Executor start aborting (this does not indicate an error and you can ignore this message): INVALID_ARGUMENT: You must feed a value for placeholder tensor 'gradients/split_2_grad/concat/split_2/split_dim' with dtype int32\n",
      "\t [[{{node gradients/split_2_grad/concat/split_2/split_dim}}]]\n",
      "2024-03-08 17:39:54.825388: I tensorflow/core/common_runtime/executor.cc:1197] [/device:CPU:0] (DEBUG INFO) Executor start aborting (this does not indicate an error and you can ignore this message): INVALID_ARGUMENT: You must feed a value for placeholder tensor 'gradients/split_grad/concat/split/split_dim' with dtype int32\n",
      "\t [[{{node gradients/split_grad/concat/split/split_dim}}]]\n",
      "2024-03-08 17:39:54.828880: I tensorflow/core/common_runtime/executor.cc:1197] [/device:CPU:0] (DEBUG INFO) Executor start aborting (this does not indicate an error and you can ignore this message): INVALID_ARGUMENT: You must feed a value for placeholder tensor 'gradients/split_1_grad/concat/split_1/split_dim' with dtype int32\n",
      "\t [[{{node gradients/split_1_grad/concat/split_1/split_dim}}]]\n",
      "2024-03-08 17:40:05.118347: I tensorflow/core/common_runtime/executor.cc:1197] [/device:CPU:0] (DEBUG INFO) Executor start aborting (this does not indicate an error and you can ignore this message): INVALID_ARGUMENT: You must feed a value for placeholder tensor 'gradients/split_2_grad/concat/split_2/split_dim' with dtype int32\n",
      "\t [[{{node gradients/split_2_grad/concat/split_2/split_dim}}]]\n",
      "2024-03-08 17:40:05.123922: I tensorflow/core/common_runtime/executor.cc:1197] [/device:CPU:0] (DEBUG INFO) Executor start aborting (this does not indicate an error and you can ignore this message): INVALID_ARGUMENT: You must feed a value for placeholder tensor 'gradients/split_grad/concat/split/split_dim' with dtype int32\n",
      "\t [[{{node gradients/split_grad/concat/split/split_dim}}]]\n",
      "2024-03-08 17:40:05.128194: I tensorflow/core/common_runtime/executor.cc:1197] [/device:CPU:0] (DEBUG INFO) Executor start aborting (this does not indicate an error and you can ignore this message): INVALID_ARGUMENT: You must feed a value for placeholder tensor 'gradients/split_1_grad/concat/split_1/split_dim' with dtype int32\n",
      "\t [[{{node gradients/split_1_grad/concat/split_1/split_dim}}]]\n"
     ]
    }
   ],
   "source": [
    "es = EarlyStopping(monitor = \"val_mae\",\n",
    "                   mode = \"min\",\n",
    "                   patience = 5,\n",
    "                   restore_best_weights = True)\n",
    "history = model.fit(X_train, y_train,\n",
    "                    validation_split = 0.3,\n",
    "                    shuffle = False,\n",
    "                    batch_size = 32,\n",
    "                    epochs = 50,\n",
    "                    callbacks = [es],\n",
    "                    verbose = 0)"
   ]
  },
  {
   "cell_type": "code",
   "execution_count": 47,
   "metadata": {},
   "outputs": [
    {
     "data": {
      "image/png": "[encoded data removed]",
      "text/plain": [
       "<Figure size 640x480 with 1 Axes>"
      ]
     },
     "metadata": {},
     "output_type": "display_data"
    },
    {
     "data": {
      "image/png": "[encoded data removed]",
      "text/plain": [
       "<Figure size 640x480 with 1 Axes>"
      ]
     },
     "metadata": {},
     "output_type": "display_data"
    },
    {
     "data": {
      "image/png": "[encoded data removed]",
      "text/plain": [
       "<Figure size 640x480 with 1 Axes>"
      ]
     },
     "metadata": {},
     "output_type": "display_data"
    }
   ],
   "source": [
    "# Plot training & validation MAE values\n",
    "plt.plot(history.history['mae'])\n",
    "plt.plot(history.history['val_mae'])\n",
    "plt.title('Model MAE')\n",
    "plt.ylabel('MAE')\n",
    "plt.xlabel('Epoch')\n",
    "plt.legend(['Train', 'Validation'], loc='upper left')\n",
    "plt.show()\n",
    "\n",
    "# Plot training & validation loss values\n",
    "plt.plot(history.history['loss'])\n",
    "plt.plot(history.history['val_loss'])\n",
    "plt.title('Model Loss')\n",
    "plt.ylabel('Loss')\n",
    "plt.xlabel('Epoch')\n",
    "plt.legend(['Train', 'Validation'], loc='upper left')\n",
    "plt.show()\n",
    "\n",
    "# Plotting R-squared for Train and Validation\n",
    "#plt.subplot(1, 2, 2)\n",
    "plt.plot(history.history['r_squared'], label='Train R-squared')\n",
    "plt.plot(history.history['val_r_squared'], label='Validation R-squared')\n",
    "plt.title('Model R-squared')\n",
    "plt.xlabel('Epochs')\n",
    "plt.ylabel('R-squared')\n",
    "plt.legend()\n",
    "\n",
    "plt.tight_layout()\n",
    "plt.show()"
   ]
  },
  {
   "cell_type": "code",
   "execution_count": 104,
   "metadata": {},
   "outputs": [
    {
     "name": "stdout",
     "output_type": "stream",
     "text": [
      "32/32 [==============================] - 0s 6ms/step - loss: 0.0104 - mae: 0.0594 - r_squared: 0.7811\n",
      "The LSTM MAE on the test set is equal to 0.06 kW\n"
     ]
    }
   ],
   "source": [
    "res = model.evaluate(X_test, y_test)\n",
    "print(f\"The LSTM MAE on the test set is equal to {round(res[1],2)} kW\")"
   ]
  },
  {
   "cell_type": "code",
   "execution_count": 56,
   "metadata": {},
   "outputs": [],
   "source": [
    "pred_example = tf.convert_to_tensor(X_test[500])"
   ]
  },
  {
   "cell_type": "code",
   "execution_count": 59,
   "metadata": {},
   "outputs": [],
   "source": [
    "pred_example_ready = tf.expand_dims(pred_example, axis=0)"
   ]
  },
  {
   "cell_type": "code",
   "execution_count": 61,
   "metadata": {},
   "outputs": [
    {
     "data": {
      "text/plain": [
       "TensorShape([1, 48, 1])"
      ]
     },
     "execution_count": 61,
     "metadata": {},
     "output_type": "execute_result"
    }
   ],
   "source": [
    "pred_example_ready.shape"
   ]
  },
  {
   "cell_type": "code",
   "execution_count": null,
   "metadata": {},
   "outputs": [],
   "source": []
  },
  {
   "cell_type": "code",
   "execution_count": null,
   "metadata": {},
   "outputs": [],
   "source": []
  },
  {
   "cell_type": "code",
   "execution_count": 48,
   "metadata": {},
   "outputs": [
    {
     "name": "stdout",
     "output_type": "stream",
     "text": [
      "\u001b[34m\n",
      "Load data from local CSV...\u001b[0m\n",
      "✅ Data loaded, with shape (376944, 8)\n",
      "# data cleaned\n"
     ]
    }
   ],
   "source": [
    "query = f\"\"\"\n",
    "    SELECT *\n",
    "    FROM {GCP_PROJECT}.{BQ_DATASET}.raw_pv\n",
    "    ORDER BY _0\n",
    "\"\"\"\n",
    "\n",
    "data_query_cache_path = Path(LOCAL_DATA_PATH).joinpath(\"raw\", f\"raw_pv.csv\")\n",
    "data_query = get_data_with_cache(\n",
    "    query=query,\n",
    "    gcp_project=GCP_PROJECT,\n",
    "    cache_path=data_query_cache_path,\n",
    "    data_has_header=True\n",
    ")\n",
    "\n",
    "# Process data\n",
    "data_clean = clean_pv_data(data_query)"
   ]
  },
  {
   "cell_type": "code",
   "execution_count": 21,
   "metadata": {},
   "outputs": [],
   "source": [
    "def extract_pv_data(input_date: str, n_days=10):\n",
    "    pv_data_clean = data_clean\n",
    "    input_timestamp = pd.Timestamp(input_date, tz='UTC')\n",
    "    idx = pv_data_clean[pv_data_clean.utc_time == input_timestamp].index[0]\n",
    "\n",
    "    n_rows = 24 * n_days\n",
    "    if idx <= n_rows:\n",
    "        df = pv_data_clean.iloc[0:idx+24,:]\n",
    "    else:\n",
    "        df = pv_data_clean.iloc[idx-n_rows:idx+24,:].reset_index()\n",
    "    extracted_data = {\n",
    "        'utc_time':df.get('utc_time').tolist(),\n",
    "        'local_time':df.get('local_time').tolist(),\n",
    "        'electricity':df.get('electricity').tolist()\n",
    "    }\n",
    "    return extracted_data"
   ]
  },
  {
   "cell_type": "code",
   "execution_count": 22,
   "metadata": {},
   "outputs": [],
   "source": [
    "df = pd.DataFrame(extract_pv_data('2013-05-08 09:00:00', 1))"
   ]
  },
  {
   "cell_type": "code",
   "execution_count": 26,
   "metadata": {},
   "outputs": [],
   "source": [
    "df= df.rename(columns={'electricity': 'power'})"
   ]
  },
  {
   "cell_type": "code",
   "execution_count": 27,
   "metadata": {},
   "outputs": [],
   "source": [
    "df = df[['power']]"
   ]
  },
  {
   "cell_type": "code",
   "execution_count": 62,
   "metadata": {},
   "outputs": [
    {
     "name": "stderr",
     "output_type": "stream",
     "text": [
      "2024-03-08 18:00:07.246330: I tensorflow/core/common_runtime/executor.cc:1197] [/device:CPU:0] (DEBUG INFO) Executor start aborting (this does not indicate an error and you can ignore this message): INVALID_ARGUMENT: You must feed a value for placeholder tensor 'gradients/split_2_grad/concat/split_2/split_dim' with dtype int32\n",
      "\t [[{{node gradients/split_2_grad/concat/split_2/split_dim}}]]\n",
      "2024-03-08 18:00:07.280921: I tensorflow/core/common_runtime/executor.cc:1197] [/device:CPU:0] (DEBUG INFO) Executor start aborting (this does not indicate an error and you can ignore this message): INVALID_ARGUMENT: You must feed a value for placeholder tensor 'gradients/split_grad/concat/split/split_dim' with dtype int32\n",
      "\t [[{{node gradients/split_grad/concat/split/split_dim}}]]\n",
      "2024-03-08 18:00:07.299790: I tensorflow/core/common_runtime/executor.cc:1197] [/device:CPU:0] (DEBUG INFO) Executor start aborting (this does not indicate an error and you can ignore this message): INVALID_ARGUMENT: You must feed a value for placeholder tensor 'gradients/split_1_grad/concat/split_1/split_dim' with dtype int32\n",
      "\t [[{{node gradients/split_1_grad/concat/split_1/split_dim}}]]\n"
     ]
    },
    {
     "name": "stdout",
     "output_type": "stream",
     "text": [
      "1/1 [==============================] - 3s 3s/step\n"
     ]
    }
   ],
   "source": [
    "prediction = model.predict(pred_example_ready)"
   ]
  },
  {
   "cell_type": "code",
   "execution_count": 63,
   "metadata": {},
   "outputs": [
    {
     "data": {
      "text/plain": [
       "array([[ 0.01071889,  0.02131082,  0.06256487,  0.1574947 ,  0.27723542,\n",
       "         0.38149548,  0.45364466,  0.46665573,  0.41728395,  0.3141311 ,\n",
       "         0.18846399,  0.07135911, -0.0074121 , -0.03423558, -0.02154276,\n",
       "        -0.00171639, -0.00088419, -0.00294772, -0.00823241, -0.00279473,\n",
       "         0.00450245,  0.00884393,  0.01748355,  0.00699423]],\n",
       "      dtype=float32)"
      ]
     },
     "execution_count": 63,
     "metadata": {},
     "output_type": "execute_result"
    }
   ],
   "source": [
    "prediction"
   ]
  },
  {
   "cell_type": "code",
   "execution_count": 65,
   "metadata": {},
   "outputs": [
    {
     "data": {
      "text/plain": [
       "[<matplotlib.lines.Line2D at 0x7f1cc6cbe830>]"
      ]
     },
     "execution_count": 65,
     "metadata": {},
     "output_type": "execute_result"
    },
    {
     "data": {
      "image/png": "[encoded data removed]",
      "text/plain": [
       "<Figure size 640x480 with 1 Axes>"
      ]
     },
     "metadata": {},
     "output_type": "display_data"
    }
   ],
   "source": [
    "plt.plot(prediction[0])"
   ]
  },
  {
   "cell_type": "code",
   "execution_count": 5,
   "metadata": {},
   "outputs": [
    {
     "name": "stdout",
     "output_type": "stream",
     "text": [
      "\u001b[34m\n",
      "Load data from local CSV...\u001b[0m\n",
      "✅ Data loaded, with shape (376944, 3)\n"
     ]
    }
   ],
   "source": [
    "from power.params import *\n",
    "\n",
    "input_pred = '2013-05-08 12:00:00'\n",
    "\n",
    "query = f\"\"\"\n",
    "    SELECT *\n",
    "    FROM {GCP_PROJECT}.{BQ_DATASET}.processed_pv\n",
    "    ORDER BY utc_time\n",
    "\"\"\"\n",
    "\n",
    "data_processed_cache_path = Path(LOCAL_DATA_PATH).joinpath(\"processed\", f\"processed_pv.csv\")\n",
    "data_processed = get_data_with_cache(\n",
    "    gcp_project=GCP_PROJECT,\n",
    "    query=query,\n",
    "    cache_path=data_processed_cache_path,\n",
    "    data_has_header=True\n",
    ")\n",
    "\n",
    "X_pred = data_processed[data_processed['utc_time'] < input_pred][-48:]\n"
   ]
  },
  {
   "cell_type": "code",
   "execution_count": 7,
   "metadata": {},
   "outputs": [
    {
     "data": {
      "text/html": [
       "<div>\n",
       "<style scoped>\n",
       "    .dataframe tbody tr th:only-of-type {\n",
       "        vertical-align: middle;\n",
       "    }\n",
       "\n",
       "    .dataframe tbody tr th {\n",
       "        vertical-align: top;\n",
       "    }\n",
       "\n",
       "    .dataframe thead th {\n",
       "        text-align: right;\n",
       "    }\n",
       "</style>\n",
       "<table border=\"1\" class=\"dataframe\">\n",
       "  <thead>\n",
       "    <tr style=\"text-align: right;\">\n",
       "      <th></th>\n",
       "      <th>utc_time</th>\n",
       "      <th>local_time</th>\n",
       "      <th>electricity</th>\n",
       "    </tr>\n",
       "  </thead>\n",
       "  <tbody>\n",
       "    <tr>\n",
       "      <th>292308</th>\n",
       "      <td>2013-05-06 12:00:00+00:00</td>\n",
       "      <td>2013-05-06 12:00:00+00:00</td>\n",
       "      <td>0.641</td>\n",
       "    </tr>\n",
       "    <tr>\n",
       "      <th>292309</th>\n",
       "      <td>2013-05-06 13:00:00+00:00</td>\n",
       "      <td>2013-05-06 13:00:00+00:00</td>\n",
       "      <td>0.517</td>\n",
       "    </tr>\n",
       "    <tr>\n",
       "      <th>292310</th>\n",
       "      <td>2013-05-06 14:00:00+00:00</td>\n",
       "      <td>2013-05-06 14:00:00+00:00</td>\n",
       "      <td>0.381</td>\n",
       "    </tr>\n",
       "    <tr>\n",
       "      <th>292311</th>\n",
       "      <td>2013-05-06 15:00:00+00:00</td>\n",
       "      <td>2013-05-06 15:00:00+00:00</td>\n",
       "      <td>0.235</td>\n",
       "    </tr>\n",
       "    <tr>\n",
       "      <th>292312</th>\n",
       "      <td>2013-05-06 16:00:00+00:00</td>\n",
       "      <td>2013-05-06 16:00:00+00:00</td>\n",
       "      <td>0.117</td>\n",
       "    </tr>\n",
       "    <tr>\n",
       "      <th>292313</th>\n",
       "      <td>2013-05-06 17:00:00+00:00</td>\n",
       "      <td>2013-05-06 17:00:00+00:00</td>\n",
       "      <td>0.038</td>\n",
       "    </tr>\n",
       "    <tr>\n",
       "      <th>292314</th>\n",
       "      <td>2013-05-06 18:00:00+00:00</td>\n",
       "      <td>2013-05-06 18:00:00+00:00</td>\n",
       "      <td>0.000</td>\n",
       "    </tr>\n",
       "    <tr>\n",
       "      <th>292315</th>\n",
       "      <td>2013-05-06 19:00:00+00:00</td>\n",
       "      <td>2013-05-06 19:00:00+00:00</td>\n",
       "      <td>0.000</td>\n",
       "    </tr>\n",
       "    <tr>\n",
       "      <th>292316</th>\n",
       "      <td>2013-05-06 20:00:00+00:00</td>\n",
       "      <td>2013-05-06 20:00:00+00:00</td>\n",
       "      <td>0.000</td>\n",
       "    </tr>\n",
       "    <tr>\n",
       "      <th>292317</th>\n",
       "      <td>2013-05-06 21:00:00+00:00</td>\n",
       "      <td>2013-05-06 21:00:00+00:00</td>\n",
       "      <td>0.000</td>\n",
       "    </tr>\n",
       "    <tr>\n",
       "      <th>292318</th>\n",
       "      <td>2013-05-06 22:00:00+00:00</td>\n",
       "      <td>2013-05-06 22:00:00+00:00</td>\n",
       "      <td>0.000</td>\n",
       "    </tr>\n",
       "    <tr>\n",
       "      <th>292319</th>\n",
       "      <td>2013-05-06 23:00:00+00:00</td>\n",
       "      <td>2013-05-06 23:00:00+00:00</td>\n",
       "      <td>0.000</td>\n",
       "    </tr>\n",
       "    <tr>\n",
       "      <th>292320</th>\n",
       "      <td>2013-05-07 00:00:00+00:00</td>\n",
       "      <td>2013-05-07 00:00:00+00:00</td>\n",
       "      <td>0.000</td>\n",
       "    </tr>\n",
       "    <tr>\n",
       "      <th>292321</th>\n",
       "      <td>2013-05-07 01:00:00+00:00</td>\n",
       "      <td>2013-05-07 01:00:00+00:00</td>\n",
       "      <td>0.000</td>\n",
       "    </tr>\n",
       "    <tr>\n",
       "      <th>292322</th>\n",
       "      <td>2013-05-07 02:00:00+00:00</td>\n",
       "      <td>2013-05-07 02:00:00+00:00</td>\n",
       "      <td>0.000</td>\n",
       "    </tr>\n",
       "    <tr>\n",
       "      <th>292323</th>\n",
       "      <td>2013-05-07 03:00:00+00:00</td>\n",
       "      <td>2013-05-07 03:00:00+00:00</td>\n",
       "      <td>0.000</td>\n",
       "    </tr>\n",
       "    <tr>\n",
       "      <th>292324</th>\n",
       "      <td>2013-05-07 04:00:00+00:00</td>\n",
       "      <td>2013-05-07 04:00:00+00:00</td>\n",
       "      <td>0.035</td>\n",
       "    </tr>\n",
       "    <tr>\n",
       "      <th>292325</th>\n",
       "      <td>2013-05-07 05:00:00+00:00</td>\n",
       "      <td>2013-05-07 05:00:00+00:00</td>\n",
       "      <td>0.113</td>\n",
       "    </tr>\n",
       "    <tr>\n",
       "      <th>292326</th>\n",
       "      <td>2013-05-07 06:00:00+00:00</td>\n",
       "      <td>2013-05-07 06:00:00+00:00</td>\n",
       "      <td>0.241</td>\n",
       "    </tr>\n",
       "    <tr>\n",
       "      <th>292327</th>\n",
       "      <td>2013-05-07 07:00:00+00:00</td>\n",
       "      <td>2013-05-07 07:00:00+00:00</td>\n",
       "      <td>0.330</td>\n",
       "    </tr>\n",
       "    <tr>\n",
       "      <th>292328</th>\n",
       "      <td>2013-05-07 08:00:00+00:00</td>\n",
       "      <td>2013-05-07 08:00:00+00:00</td>\n",
       "      <td>0.295</td>\n",
       "    </tr>\n",
       "    <tr>\n",
       "      <th>292329</th>\n",
       "      <td>2013-05-07 09:00:00+00:00</td>\n",
       "      <td>2013-05-07 09:00:00+00:00</td>\n",
       "      <td>0.308</td>\n",
       "    </tr>\n",
       "    <tr>\n",
       "      <th>292330</th>\n",
       "      <td>2013-05-07 10:00:00+00:00</td>\n",
       "      <td>2013-05-07 10:00:00+00:00</td>\n",
       "      <td>0.392</td>\n",
       "    </tr>\n",
       "    <tr>\n",
       "      <th>292331</th>\n",
       "      <td>2013-05-07 11:00:00+00:00</td>\n",
       "      <td>2013-05-07 11:00:00+00:00</td>\n",
       "      <td>0.318</td>\n",
       "    </tr>\n",
       "    <tr>\n",
       "      <th>292332</th>\n",
       "      <td>2013-05-07 12:00:00+00:00</td>\n",
       "      <td>2013-05-07 12:00:00+00:00</td>\n",
       "      <td>0.211</td>\n",
       "    </tr>\n",
       "    <tr>\n",
       "      <th>292333</th>\n",
       "      <td>2013-05-07 13:00:00+00:00</td>\n",
       "      <td>2013-05-07 13:00:00+00:00</td>\n",
       "      <td>0.169</td>\n",
       "    </tr>\n",
       "    <tr>\n",
       "      <th>292334</th>\n",
       "      <td>2013-05-07 14:00:00+00:00</td>\n",
       "      <td>2013-05-07 14:00:00+00:00</td>\n",
       "      <td>0.139</td>\n",
       "    </tr>\n",
       "    <tr>\n",
       "      <th>292335</th>\n",
       "      <td>2013-05-07 15:00:00+00:00</td>\n",
       "      <td>2013-05-07 15:00:00+00:00</td>\n",
       "      <td>0.101</td>\n",
       "    </tr>\n",
       "    <tr>\n",
       "      <th>292336</th>\n",
       "      <td>2013-05-07 16:00:00+00:00</td>\n",
       "      <td>2013-05-07 16:00:00+00:00</td>\n",
       "      <td>0.059</td>\n",
       "    </tr>\n",
       "    <tr>\n",
       "      <th>292337</th>\n",
       "      <td>2013-05-07 17:00:00+00:00</td>\n",
       "      <td>2013-05-07 17:00:00+00:00</td>\n",
       "      <td>0.016</td>\n",
       "    </tr>\n",
       "    <tr>\n",
       "      <th>292338</th>\n",
       "      <td>2013-05-07 18:00:00+00:00</td>\n",
       "      <td>2013-05-07 18:00:00+00:00</td>\n",
       "      <td>0.000</td>\n",
       "    </tr>\n",
       "    <tr>\n",
       "      <th>292339</th>\n",
       "      <td>2013-05-07 19:00:00+00:00</td>\n",
       "      <td>2013-05-07 19:00:00+00:00</td>\n",
       "      <td>0.000</td>\n",
       "    </tr>\n",
       "    <tr>\n",
       "      <th>292340</th>\n",
       "      <td>2013-05-07 20:00:00+00:00</td>\n",
       "      <td>2013-05-07 20:00:00+00:00</td>\n",
       "      <td>0.000</td>\n",
       "    </tr>\n",
       "    <tr>\n",
       "      <th>292341</th>\n",
       "      <td>2013-05-07 21:00:00+00:00</td>\n",
       "      <td>2013-05-07 21:00:00+00:00</td>\n",
       "      <td>0.000</td>\n",
       "    </tr>\n",
       "    <tr>\n",
       "      <th>292342</th>\n",
       "      <td>2013-05-07 22:00:00+00:00</td>\n",
       "      <td>2013-05-07 22:00:00+00:00</td>\n",
       "      <td>0.000</td>\n",
       "    </tr>\n",
       "    <tr>\n",
       "      <th>292343</th>\n",
       "      <td>2013-05-07 23:00:00+00:00</td>\n",
       "      <td>2013-05-07 23:00:00+00:00</td>\n",
       "      <td>0.000</td>\n",
       "    </tr>\n",
       "    <tr>\n",
       "      <th>292344</th>\n",
       "      <td>2013-05-08 00:00:00+00:00</td>\n",
       "      <td>2013-05-08 00:00:00+00:00</td>\n",
       "      <td>0.000</td>\n",
       "    </tr>\n",
       "    <tr>\n",
       "      <th>292345</th>\n",
       "      <td>2013-05-08 01:00:00+00:00</td>\n",
       "      <td>2013-05-08 01:00:00+00:00</td>\n",
       "      <td>0.000</td>\n",
       "    </tr>\n",
       "    <tr>\n",
       "      <th>292346</th>\n",
       "      <td>2013-05-08 02:00:00+00:00</td>\n",
       "      <td>2013-05-08 02:00:00+00:00</td>\n",
       "      <td>0.000</td>\n",
       "    </tr>\n",
       "    <tr>\n",
       "      <th>292347</th>\n",
       "      <td>2013-05-08 03:00:00+00:00</td>\n",
       "      <td>2013-05-08 03:00:00+00:00</td>\n",
       "      <td>0.000</td>\n",
       "    </tr>\n",
       "    <tr>\n",
       "      <th>292348</th>\n",
       "      <td>2013-05-08 04:00:00+00:00</td>\n",
       "      <td>2013-05-08 04:00:00+00:00</td>\n",
       "      <td>0.025</td>\n",
       "    </tr>\n",
       "    <tr>\n",
       "      <th>292349</th>\n",
       "      <td>2013-05-08 05:00:00+00:00</td>\n",
       "      <td>2013-05-08 05:00:00+00:00</td>\n",
       "      <td>0.102</td>\n",
       "    </tr>\n",
       "    <tr>\n",
       "      <th>292350</th>\n",
       "      <td>2013-05-08 06:00:00+00:00</td>\n",
       "      <td>2013-05-08 06:00:00+00:00</td>\n",
       "      <td>0.246</td>\n",
       "    </tr>\n",
       "    <tr>\n",
       "      <th>292351</th>\n",
       "      <td>2013-05-08 07:00:00+00:00</td>\n",
       "      <td>2013-05-08 07:00:00+00:00</td>\n",
       "      <td>0.410</td>\n",
       "    </tr>\n",
       "    <tr>\n",
       "      <th>292352</th>\n",
       "      <td>2013-05-08 08:00:00+00:00</td>\n",
       "      <td>2013-05-08 08:00:00+00:00</td>\n",
       "      <td>0.496</td>\n",
       "    </tr>\n",
       "    <tr>\n",
       "      <th>292353</th>\n",
       "      <td>2013-05-08 09:00:00+00:00</td>\n",
       "      <td>2013-05-08 09:00:00+00:00</td>\n",
       "      <td>0.548</td>\n",
       "    </tr>\n",
       "    <tr>\n",
       "      <th>292354</th>\n",
       "      <td>2013-05-08 10:00:00+00:00</td>\n",
       "      <td>2013-05-08 10:00:00+00:00</td>\n",
       "      <td>0.575</td>\n",
       "    </tr>\n",
       "    <tr>\n",
       "      <th>292355</th>\n",
       "      <td>2013-05-08 11:00:00+00:00</td>\n",
       "      <td>2013-05-08 11:00:00+00:00</td>\n",
       "      <td>0.576</td>\n",
       "    </tr>\n",
       "  </tbody>\n",
       "</table>\n",
       "</div>"
      ],
      "text/plain": [
       "                         utc_time                 local_time  electricity\n",
       "292308  2013-05-06 12:00:00+00:00  2013-05-06 12:00:00+00:00        0.641\n",
       "292309  2013-05-06 13:00:00+00:00  2013-05-06 13:00:00+00:00        0.517\n",
       "292310  2013-05-06 14:00:00+00:00  2013-05-06 14:00:00+00:00        0.381\n",
       "292311  2013-05-06 15:00:00+00:00  2013-05-06 15:00:00+00:00        0.235\n",
       "292312  2013-05-06 16:00:00+00:00  2013-05-06 16:00:00+00:00        0.117\n",
       "292313  2013-05-06 17:00:00+00:00  2013-05-06 17:00:00+00:00        0.038\n",
       "292314  2013-05-06 18:00:00+00:00  2013-05-06 18:00:00+00:00        0.000\n",
       "292315  2013-05-06 19:00:00+00:00  2013-05-06 19:00:00+00:00        0.000\n",
       "292316  2013-05-06 20:00:00+00:00  2013-05-06 20:00:00+00:00        0.000\n",
       "292317  2013-05-06 21:00:00+00:00  2013-05-06 21:00:00+00:00        0.000\n",
       "292318  2013-05-06 22:00:00+00:00  2013-05-06 22:00:00+00:00        0.000\n",
       "292319  2013-05-06 23:00:00+00:00  2013-05-06 23:00:00+00:00        0.000\n",
       "292320  2013-05-07 00:00:00+00:00  2013-05-07 00:00:00+00:00        0.000\n",
       "292321  2013-05-07 01:00:00+00:00  2013-05-07 01:00:00+00:00        0.000\n",
       "292322  2013-05-07 02:00:00+00:00  2013-05-07 02:00:00+00:00        0.000\n",
       "292323  2013-05-07 03:00:00+00:00  2013-05-07 03:00:00+00:00        0.000\n",
       "292324  2013-05-07 04:00:00+00:00  2013-05-07 04:00:00+00:00        0.035\n",
       "292325  2013-05-07 05:00:00+00:00  2013-05-07 05:00:00+00:00        0.113\n",
       "292326  2013-05-07 06:00:00+00:00  2013-05-07 06:00:00+00:00        0.241\n",
       "292327  2013-05-07 07:00:00+00:00  2013-05-07 07:00:00+00:00        0.330\n",
       "292328  2013-05-07 08:00:00+00:00  2013-05-07 08:00:00+00:00        0.295\n",
       "292329  2013-05-07 09:00:00+00:00  2013-05-07 09:00:00+00:00        0.308\n",
       "292330  2013-05-07 10:00:00+00:00  2013-05-07 10:00:00+00:00        0.392\n",
       "292331  2013-05-07 11:00:00+00:00  2013-05-07 11:00:00+00:00        0.318\n",
       "292332  2013-05-07 12:00:00+00:00  2013-05-07 12:00:00+00:00        0.211\n",
       "292333  2013-05-07 13:00:00+00:00  2013-05-07 13:00:00+00:00        0.169\n",
       "292334  2013-05-07 14:00:00+00:00  2013-05-07 14:00:00+00:00        0.139\n",
       "292335  2013-05-07 15:00:00+00:00  2013-05-07 15:00:00+00:00        0.101\n",
       "292336  2013-05-07 16:00:00+00:00  2013-05-07 16:00:00+00:00        0.059\n",
       "292337  2013-05-07 17:00:00+00:00  2013-05-07 17:00:00+00:00        0.016\n",
       "292338  2013-05-07 18:00:00+00:00  2013-05-07 18:00:00+00:00        0.000\n",
       "292339  2013-05-07 19:00:00+00:00  2013-05-07 19:00:00+00:00        0.000\n",
       "292340  2013-05-07 20:00:00+00:00  2013-05-07 20:00:00+00:00        0.000\n",
       "292341  2013-05-07 21:00:00+00:00  2013-05-07 21:00:00+00:00        0.000\n",
       "292342  2013-05-07 22:00:00+00:00  2013-05-07 22:00:00+00:00        0.000\n",
       "292343  2013-05-07 23:00:00+00:00  2013-05-07 23:00:00+00:00        0.000\n",
       "292344  2013-05-08 00:00:00+00:00  2013-05-08 00:00:00+00:00        0.000\n",
       "292345  2013-05-08 01:00:00+00:00  2013-05-08 01:00:00+00:00        0.000\n",
       "292346  2013-05-08 02:00:00+00:00  2013-05-08 02:00:00+00:00        0.000\n",
       "292347  2013-05-08 03:00:00+00:00  2013-05-08 03:00:00+00:00        0.000\n",
       "292348  2013-05-08 04:00:00+00:00  2013-05-08 04:00:00+00:00        0.025\n",
       "292349  2013-05-08 05:00:00+00:00  2013-05-08 05:00:00+00:00        0.102\n",
       "292350  2013-05-08 06:00:00+00:00  2013-05-08 06:00:00+00:00        0.246\n",
       "292351  2013-05-08 07:00:00+00:00  2013-05-08 07:00:00+00:00        0.410\n",
       "292352  2013-05-08 08:00:00+00:00  2013-05-08 08:00:00+00:00        0.496\n",
       "292353  2013-05-08 09:00:00+00:00  2013-05-08 09:00:00+00:00        0.548\n",
       "292354  2013-05-08 10:00:00+00:00  2013-05-08 10:00:00+00:00        0.575\n",
       "292355  2013-05-08 11:00:00+00:00  2013-05-08 11:00:00+00:00        0.576"
      ]
     },
     "execution_count": 7,
     "metadata": {},
     "output_type": "execute_result"
    }
   ],
   "source": [
    "X_pred"
   ]
  },
  {
   "cell_type": "code",
   "execution_count": 10,
   "metadata": {},
   "outputs": [
    {
     "data": {
      "text/plain": [
       "pandas.core.frame.DataFrame"
      ]
     },
     "execution_count": 10,
     "metadata": {},
     "output_type": "execute_result"
    }
   ],
   "source": [
    "type(X_pred)"
   ]
  },
  {
   "cell_type": "code",
   "execution_count": 11,
   "metadata": {},
   "outputs": [],
   "source": [
    "X_pred = X_pred.rename(columns={'electricity': 'power'})"
   ]
  },
  {
   "cell_type": "code",
   "execution_count": 12,
   "metadata": {},
   "outputs": [],
   "source": [
    "X_pred = X_pred[['power']]"
   ]
  },
  {
   "cell_type": "code",
   "execution_count": 13,
   "metadata": {},
   "outputs": [
    {
     "data": {
      "text/html": [
       "<div>\n",
       "<style scoped>\n",
       "    .dataframe tbody tr th:only-of-type {\n",
       "        vertical-align: middle;\n",
       "    }\n",
       "\n",
       "    .dataframe tbody tr th {\n",
       "        vertical-align: top;\n",
       "    }\n",
       "\n",
       "    .dataframe thead th {\n",
       "        text-align: right;\n",
       "    }\n",
       "</style>\n",
       "<table border=\"1\" class=\"dataframe\">\n",
       "  <thead>\n",
       "    <tr style=\"text-align: right;\">\n",
       "      <th></th>\n",
       "      <th>power</th>\n",
       "    </tr>\n",
       "  </thead>\n",
       "  <tbody>\n",
       "    <tr>\n",
       "      <th>292308</th>\n",
       "      <td>0.641</td>\n",
       "    </tr>\n",
       "    <tr>\n",
       "      <th>292309</th>\n",
       "      <td>0.517</td>\n",
       "    </tr>\n",
       "    <tr>\n",
       "      <th>292310</th>\n",
       "      <td>0.381</td>\n",
       "    </tr>\n",
       "  </tbody>\n",
       "</table>\n",
       "</div>"
      ],
      "text/plain": [
       "        power\n",
       "292308  0.641\n",
       "292309  0.517\n",
       "292310  0.381"
      ]
     },
     "execution_count": 13,
     "metadata": {},
     "output_type": "execute_result"
    }
   ],
   "source": [
    "X_pred.head(3)"
   ]
  },
  {
   "cell_type": "code",
   "execution_count": 16,
   "metadata": {},
   "outputs": [],
   "source": [
    "X_pred = X_pred.to_numpy()"
   ]
  },
  {
   "cell_type": "code",
   "execution_count": 18,
   "metadata": {},
   "outputs": [
    {
     "data": {
      "text/plain": [
       "(48, 1)"
      ]
     },
     "execution_count": 18,
     "metadata": {},
     "output_type": "execute_result"
    }
   ],
   "source": [
    "X_pred.shape"
   ]
  },
  {
   "cell_type": "code",
   "execution_count": 19,
   "metadata": {},
   "outputs": [],
   "source": [
    "X_pred_tf = tf.convert_to_tensor(X_pred)"
   ]
  },
  {
   "cell_type": "code",
   "execution_count": 20,
   "metadata": {},
   "outputs": [],
   "source": [
    "X_pred_tf = tf.expand_dims(X_pred_tf, axis=0)"
   ]
  },
  {
   "cell_type": "code",
   "execution_count": 21,
   "metadata": {},
   "outputs": [
    {
     "data": {
      "text/plain": [
       "TensorShape([1, 48, 1])"
      ]
     },
     "execution_count": 21,
     "metadata": {},
     "output_type": "execute_result"
    }
   ],
   "source": [
    "X_pred_tf.shape"
   ]
  },
  {
   "cell_type": "code",
   "execution_count": 24,
   "metadata": {},
   "outputs": [
    {
     "name": "stdout",
     "output_type": "stream",
     "text": [
      "\u001b[34m\n",
      "Load latest model from GCS...\u001b[0m\n",
      "✅ Latest model downloaded from cloud storage\n"
     ]
    },
    {
     "name": "stderr",
     "output_type": "stream",
     "text": [
      "2024-03-11 10:29:22.034476: I tensorflow/core/common_runtime/executor.cc:1197] [/device:CPU:0] (DEBUG INFO) Executor start aborting (this does not indicate an error and you can ignore this message): INVALID_ARGUMENT: You must feed a value for placeholder tensor 'gradients/split_2_grad/concat/split_2/split_dim' with dtype int32\n",
      "\t [[{{node gradients/split_2_grad/concat/split_2/split_dim}}]]\n",
      "2024-03-11 10:29:22.038236: I tensorflow/core/common_runtime/executor.cc:1197] [/device:CPU:0] (DEBUG INFO) Executor start aborting (this does not indicate an error and you can ignore this message): INVALID_ARGUMENT: You must feed a value for placeholder tensor 'gradients/split_grad/concat/split/split_dim' with dtype int32\n",
      "\t [[{{node gradients/split_grad/concat/split/split_dim}}]]\n",
      "2024-03-11 10:29:22.040628: I tensorflow/core/common_runtime/executor.cc:1197] [/device:CPU:0] (DEBUG INFO) Executor start aborting (this does not indicate an error and you can ignore this message): INVALID_ARGUMENT: You must feed a value for placeholder tensor 'gradients/split_1_grad/concat/split_1/split_dim' with dtype int32\n",
      "\t [[{{node gradients/split_1_grad/concat/split_1/split_dim}}]]\n"
     ]
    }
   ],
   "source": [
    "model = load_model()"
   ]
  },
  {
   "cell_type": "code",
   "execution_count": 25,
   "metadata": {},
   "outputs": [
    {
     "name": "stdout",
     "output_type": "stream",
     "text": [
      "1/1 [==============================] - 0s 469ms/step\n"
     ]
    },
    {
     "name": "stderr",
     "output_type": "stream",
     "text": [
      "2024-03-11 10:29:26.987846: I tensorflow/core/common_runtime/executor.cc:1197] [/device:CPU:0] (DEBUG INFO) Executor start aborting (this does not indicate an error and you can ignore this message): INVALID_ARGUMENT: You must feed a value for placeholder tensor 'gradients/split_2_grad/concat/split_2/split_dim' with dtype int32\n",
      "\t [[{{node gradients/split_2_grad/concat/split_2/split_dim}}]]\n",
      "2024-03-11 10:29:26.991061: I tensorflow/core/common_runtime/executor.cc:1197] [/device:CPU:0] (DEBUG INFO) Executor start aborting (this does not indicate an error and you can ignore this message): INVALID_ARGUMENT: You must feed a value for placeholder tensor 'gradients/split_grad/concat/split/split_dim' with dtype int32\n",
      "\t [[{{node gradients/split_grad/concat/split/split_dim}}]]\n",
      "2024-03-11 10:29:26.992815: I tensorflow/core/common_runtime/executor.cc:1197] [/device:CPU:0] (DEBUG INFO) Executor start aborting (this does not indicate an error and you can ignore this message): INVALID_ARGUMENT: You must feed a value for placeholder tensor 'gradients/split_1_grad/concat/split_1/split_dim' with dtype int32\n",
      "\t [[{{node gradients/split_1_grad/concat/split_1/split_dim}}]]\n"
     ]
    }
   ],
   "source": [
    "y_pred = model.predict(X_pred_tf)"
   ]
  },
  {
   "cell_type": "code",
   "execution_count": 29,
   "metadata": {},
   "outputs": [
    {
     "data": {
      "text/plain": [
       "[<matplotlib.lines.Line2D at 0x7f473f8b1510>]"
      ]
     },
     "execution_count": 29,
     "metadata": {},
     "output_type": "execute_result"
    },
    {
     "data": {
      "image/png": "[encoded data removed]",
      "text/plain": [
       "<Figure size 640x480 with 1 Axes>"
      ]
     },
     "metadata": {},
     "output_type": "display_data"
    }
   ],
   "source": [
    "plt.plot(y_pred[0])"
   ]
  },
  {
   "cell_type": "code",
   "execution_count": 31,
   "metadata": {},
   "outputs": [],
   "source": [
    "def pred(input_pred:str = '2013-05-08 12:00:00',\n",
    "         min_date = '2020-01-01 00:00:00',\n",
    "         max_date = '2022-12-29 23:00:00',) -> np.ndarray:\n",
    "    \"\"\"\n",
    "    Make a prediction using the latest trained model\n",
    "    \"\"\"\n",
    "\n",
    "    print(\"\\n⭐️ Use case: predict\")\n",
    "\n",
    "    # X_pred = datetime.strptime(X_pred, '%Y-%m-%d %H:%M:%S')\n",
    "    # reference_datetime = datetime.strptime(\"1980-01-01 00:00:00\", '%Y-%m-%d %H:%M:%S')\n",
    "    # time_difference = X_pred - reference_datetime\n",
    "    # time_difference_hours = time_difference.total_seconds() / 3600\n",
    "    # input_date = X_test[time_difference_hours-47: time_difference_hours+1]\n",
    "\n",
    "\n",
    "    query = f\"\"\"\n",
    "        SELECT *\n",
    "        FROM {GCP_PROJECT}.{BQ_DATASET}.processed_pv\n",
    "        ORDER BY utc_time\n",
    "    \"\"\"\n",
    "\n",
    "    data_processed_cache_path = Path(LOCAL_DATA_PATH).joinpath(\"processed\", f\"processed_pv.csv\")\n",
    "    data_processed = get_data_with_cache(\n",
    "        gcp_project=GCP_PROJECT,\n",
    "        query=query,\n",
    "        cache_path=data_processed_cache_path,\n",
    "        data_has_header=True\n",
    "    )\n",
    "\n",
    "    X_pred = data_processed[data_processed['utc_time'] < input_pred][-48:]\n",
    "\n",
    "    X_pred= X_pred.rename(columns={'electricity': 'power'})\n",
    "\n",
    "    X_pred = X_pred[['power']]\n",
    "\n",
    "    X_pred = X_pred.to_numpy()\n",
    "\n",
    "    X_pred_tf = tf.convert_to_tensor(X_pred)\n",
    "\n",
    "    X_pred_tf = tf.expand_dims(X_pred_tf, axis=0)\n",
    "\n",
    "\n",
    "    model = load_model()\n",
    "    assert model is not None\n",
    "\n",
    "    # X_processed = preprocess_features(X_pred)\n",
    "    y_pred = model.predict(X_pred_tf)\n",
    "\n",
    "    print(\"\\n✅ prediction done: \", y_pred, y_pred.shape, \"\\n\")\n",
    "\n",
    "    return y_pred"
   ]
  },
  {
   "cell_type": "code",
   "execution_count": 33,
   "metadata": {},
   "outputs": [
    {
     "name": "stdout",
     "output_type": "stream",
     "text": [
      "\n",
      "⭐️ Use case: predict\n",
      "\u001b[34m\n",
      "Load data from local CSV...\u001b[0m\n",
      "✅ Data loaded, with shape (376944, 3)\n",
      "\u001b[34m\n",
      "Load latest model from GCS...\u001b[0m\n"
     ]
    },
    {
     "name": "stderr",
     "output_type": "stream",
     "text": [
      "2024-03-11 10:40:37.024314: I tensorflow/core/common_runtime/executor.cc:1197] [/device:CPU:0] (DEBUG INFO) Executor start aborting (this does not indicate an error and you can ignore this message): INVALID_ARGUMENT: You must feed a value for placeholder tensor 'gradients/split_2_grad/concat/split_2/split_dim' with dtype int32\n",
      "\t [[{{node gradients/split_2_grad/concat/split_2/split_dim}}]]\n",
      "2024-03-11 10:40:37.027020: I tensorflow/core/common_runtime/executor.cc:1197] [/device:CPU:0] (DEBUG INFO) Executor start aborting (this does not indicate an error and you can ignore this message): INVALID_ARGUMENT: You must feed a value for placeholder tensor 'gradients/split_grad/concat/split/split_dim' with dtype int32\n",
      "\t [[{{node gradients/split_grad/concat/split/split_dim}}]]\n",
      "2024-03-11 10:40:37.028956: I tensorflow/core/common_runtime/executor.cc:1197] [/device:CPU:0] (DEBUG INFO) Executor start aborting (this does not indicate an error and you can ignore this message): INVALID_ARGUMENT: You must feed a value for placeholder tensor 'gradients/split_1_grad/concat/split_1/split_dim' with dtype int32\n",
      "\t [[{{node gradients/split_1_grad/concat/split_1/split_dim}}]]\n"
     ]
    },
    {
     "name": "stdout",
     "output_type": "stream",
     "text": [
      "✅ Latest model downloaded from cloud storage\n",
      "1/1 [==============================] - 0s 458ms/step\n",
      "\n",
      "✅ prediction done:  [[-0.0141912  -0.00516784 -0.01522029 -0.01000807  0.02193327  0.11062646\n",
      "   0.2382429   0.38264665  0.5168554   0.6130229   0.6347649   0.5840196\n",
      "   0.48178482  0.34857953  0.24210297  0.15337421  0.08134153  0.02624181\n",
      "  -0.01436293 -0.03075962 -0.02758183 -0.02429959 -0.02507992 -0.01443125]] (1, 24) \n",
      "\n"
     ]
    },
    {
     "name": "stderr",
     "output_type": "stream",
     "text": [
      "2024-03-11 10:40:37.487935: I tensorflow/core/common_runtime/executor.cc:1197] [/device:CPU:0] (DEBUG INFO) Executor start aborting (this does not indicate an error and you can ignore this message): INVALID_ARGUMENT: You must feed a value for placeholder tensor 'gradients/split_2_grad/concat/split_2/split_dim' with dtype int32\n",
      "\t [[{{node gradients/split_2_grad/concat/split_2/split_dim}}]]\n",
      "2024-03-11 10:40:37.489716: I tensorflow/core/common_runtime/executor.cc:1197] [/device:CPU:0] (DEBUG INFO) Executor start aborting (this does not indicate an error and you can ignore this message): INVALID_ARGUMENT: You must feed a value for placeholder tensor 'gradients/split_grad/concat/split/split_dim' with dtype int32\n",
      "\t [[{{node gradients/split_grad/concat/split/split_dim}}]]\n",
      "2024-03-11 10:40:37.491410: I tensorflow/core/common_runtime/executor.cc:1197] [/device:CPU:0] (DEBUG INFO) Executor start aborting (this does not indicate an error and you can ignore this message): INVALID_ARGUMENT: You must feed a value for placeholder tensor 'gradients/split_1_grad/concat/split_1/split_dim' with dtype int32\n",
      "\t [[{{node gradients/split_1_grad/concat/split_1/split_dim}}]]\n"
     ]
    }
   ],
   "source": [
    "y_pred = pred(input_pred = '2013-05-08 12:00:00',\n",
    "         min_date = '2020-01-01 00:00:00',\n",
    "         max_date = '2022-12-29 23:00:00',)"
   ]
  },
  {
   "cell_type": "code",
   "execution_count": 35,
   "metadata": {},
   "outputs": [
    {
     "data": {
      "text/plain": [
       "[<matplotlib.lines.Line2D at 0x7f46d9ff9540>]"
      ]
     },
     "execution_count": 35,
     "metadata": {},
     "output_type": "execute_result"
    },
    {
     "data": {
      "image/png": "[encoded data removed]",
      "text/plain": [
       "<Figure size 640x480 with 1 Axes>"
      ]
     },
     "metadata": {},
     "output_type": "display_data"
    }
   ],
   "source": [
    "plt.plot(y_pred[0])"
   ]
  },
  {
   "cell_type": "code",
   "execution_count": null,
   "metadata": {},
   "outputs": [],
   "source": []
  }
 ],
 "metadata": {
  "kernelspec": {
   "display_name": "power",
   "language": "python",
   "name": "python3"
  },
  "language_info": {
   "codemirror_mode": {
    "name": "ipython",
    "version": 3
   },
   "file_extension": ".py",
   "mimetype": "text/x-python",
   "name": "python",
   "nbconvert_exporter": "python",
   "pygments_lexer": "ipython3",
   "version": "3.10.6"
  }
 },
 "nbformat": 4,
 "nbformat_minor": 2
}
