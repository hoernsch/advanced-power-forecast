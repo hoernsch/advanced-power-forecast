{
 "cells": [
  {
   "cell_type": "code",
   "execution_count": 2,
   "metadata": {},
   "outputs": [],
   "source": [
    "import numpy as np\n",
    "import pandas as pd\n",
    "import datetime as dt\n",
    "\n",
    "import matplotlib.pyplot as plt\n",
    "\n",
    "from power.ml_ops.data import get_pv_data, clean_pv_data\n"
   ]
  },
  {
   "cell_type": "markdown",
   "metadata": {},
   "source": [
    "# Notebook of Marius"
   ]
  },
  {
   "cell_type": "markdown",
   "metadata": {},
   "source": [
    "## Get and clean data"
   ]
  },
  {
   "cell_type": "code",
   "execution_count": 3,
   "metadata": {},
   "outputs": [
    {
     "data": {
      "text/html": [
       "<div>\n",
       "<style scoped>\n",
       "    .dataframe tbody tr th:only-of-type {\n",
       "        vertical-align: middle;\n",
       "    }\n",
       "\n",
       "    .dataframe tbody tr th {\n",
       "        vertical-align: top;\n",
       "    }\n",
       "\n",
       "    .dataframe thead th {\n",
       "        text-align: right;\n",
       "    }\n",
       "</style>\n",
       "<table border=\"1\" class=\"dataframe\">\n",
       "  <thead>\n",
       "    <tr style=\"text-align: right;\">\n",
       "      <th></th>\n",
       "      <th>Unnamed: 0.1</th>\n",
       "      <th>Unnamed: 0</th>\n",
       "      <th>local_time</th>\n",
       "      <th>electricity</th>\n",
       "      <th>irradiance_direct</th>\n",
       "      <th>irradiance_diffuse</th>\n",
       "      <th>temperature</th>\n",
       "      <th>source</th>\n",
       "    </tr>\n",
       "  </thead>\n",
       "  <tbody>\n",
       "    <tr>\n",
       "      <th>0</th>\n",
       "      <td>0</td>\n",
       "      <td>315532800000</td>\n",
       "      <td>1980-01-01 01:00:00+01:00</td>\n",
       "      <td>0.0</td>\n",
       "      <td>0.0</td>\n",
       "      <td>0.0</td>\n",
       "      <td>-1.296</td>\n",
       "      <td>data/pv_data/1980_pv.csv</td>\n",
       "    </tr>\n",
       "    <tr>\n",
       "      <th>1</th>\n",
       "      <td>1</td>\n",
       "      <td>315536400000</td>\n",
       "      <td>1980-01-01 02:00:00+01:00</td>\n",
       "      <td>0.0</td>\n",
       "      <td>0.0</td>\n",
       "      <td>0.0</td>\n",
       "      <td>-1.216</td>\n",
       "      <td>data/pv_data/1980_pv.csv</td>\n",
       "    </tr>\n",
       "  </tbody>\n",
       "</table>\n",
       "</div>"
      ],
      "text/plain": [
       "   Unnamed: 0.1    Unnamed: 0                 local_time  electricity  \\\n",
       "0             0  315532800000  1980-01-01 01:00:00+01:00          0.0   \n",
       "1             1  315536400000  1980-01-01 02:00:00+01:00          0.0   \n",
       "\n",
       "   irradiance_direct  irradiance_diffuse  temperature  \\\n",
       "0                0.0                 0.0       -1.296   \n",
       "1                0.0                 0.0       -1.216   \n",
       "\n",
       "                     source  \n",
       "0  data/pv_data/1980_pv.csv  \n",
       "1  data/pv_data/1980_pv.csv  "
      ]
     },
     "execution_count": 3,
     "metadata": {},
     "output_type": "execute_result"
    }
   ],
   "source": [
    "pv_df = pd.read_csv('../raw_data/1980-2022_pv.csv')\n",
    "pv_df.head(2)"
   ]
  },
  {
   "cell_type": "code",
   "execution_count": 4,
   "metadata": {},
   "outputs": [
    {
     "name": "stdout",
     "output_type": "stream",
     "text": [
      "x:  1980-01-01 01:00:00+01:00\n"
     ]
    },
    {
     "data": {
      "text/plain": [
       "datetime.datetime(1980, 1, 1, 1, 0, tzinfo=datetime.timezone(datetime.timedelta(seconds=3600)))"
      ]
     },
     "execution_count": 4,
     "metadata": {},
     "output_type": "execute_result"
    }
   ],
   "source": [
    "x = pv_df.loc[0,'local_time']\n",
    "print('x: ', x)\n",
    "#dt.datetime.strptime(\"21 June, 2018\", \"%d %B, %Y\")\n",
    "dt.datetime.strptime(x, \"%Y-%m-%d %H:%M:%S%z\")"
   ]
  },
  {
   "cell_type": "code",
   "execution_count": 5,
   "metadata": {},
   "outputs": [
    {
     "data": {
      "text/html": [
       "<div>\n",
       "<style scoped>\n",
       "    .dataframe tbody tr th:only-of-type {\n",
       "        vertical-align: middle;\n",
       "    }\n",
       "\n",
       "    .dataframe tbody tr th {\n",
       "        vertical-align: top;\n",
       "    }\n",
       "\n",
       "    .dataframe thead th {\n",
       "        text-align: right;\n",
       "    }\n",
       "</style>\n",
       "<table border=\"1\" class=\"dataframe\">\n",
       "  <thead>\n",
       "    <tr style=\"text-align: right;\">\n",
       "      <th></th>\n",
       "      <th>utc_time</th>\n",
       "      <th>local_time</th>\n",
       "      <th>electricity</th>\n",
       "    </tr>\n",
       "  </thead>\n",
       "  <tbody>\n",
       "    <tr>\n",
       "      <th>0</th>\n",
       "      <td>1980-01-01 00:00:00+00:00</td>\n",
       "      <td>1980-01-01 01:00:00+01:00</td>\n",
       "      <td>0.0</td>\n",
       "    </tr>\n",
       "    <tr>\n",
       "      <th>1</th>\n",
       "      <td>1980-01-01 01:00:00+00:00</td>\n",
       "      <td>1980-01-01 02:00:00+01:00</td>\n",
       "      <td>0.0</td>\n",
       "    </tr>\n",
       "  </tbody>\n",
       "</table>\n",
       "</div>"
      ],
      "text/plain": [
       "                   utc_time                 local_time  electricity\n",
       "0 1980-01-01 00:00:00+00:00  1980-01-01 01:00:00+01:00          0.0\n",
       "1 1980-01-01 01:00:00+00:00  1980-01-01 02:00:00+01:00          0.0"
      ]
     },
     "execution_count": 5,
     "metadata": {},
     "output_type": "execute_result"
    }
   ],
   "source": [
    "# load data\n",
    "pv_df = pd.read_csv('../raw_data/1980-2022_pv.csv')\n",
    "\n",
    "# drop columns\n",
    "pv_df.drop(columns=['irradiance_direct','irradiance_diffuse','temperature',\n",
    "                    'source','Unnamed: 0.1'], inplace=True)\n",
    "\n",
    "# convert dtypes\n",
    "pv_df.electricity = pv_df.electricity.astype(float)\n",
    "\n",
    "#pv_df.local_time    = pd.to_datetime(pv_df.local_time) #\n",
    "pv_df.local_time    = pv_df.local_time.apply(lambda x:\n",
    "                                            dt.datetime.strptime(x,\n",
    "                                            \"%Y-%m-%d %H:%M:%S%z\"))\n",
    "\n",
    "\n",
    "pv_df['Unnamed: 0'] = pd.to_datetime(pv_df['Unnamed: 0'], unit='ms').dt.tz_localize('UTC')\n",
    "\n",
    "# name columns\n",
    "pv_df.rename(columns={'Unnamed: 0': 'utc_time'}, inplace=True)\n",
    "\n",
    "# show\n",
    "pv_df.head(2)"
   ]
  },
  {
   "cell_type": "code",
   "execution_count": 6,
   "metadata": {},
   "outputs": [
    {
     "name": "stdout",
     "output_type": "stream",
     "text": [
      "<class 'pandas.core.frame.DataFrame'>\n",
      "RangeIndex: 376944 entries, 0 to 376943\n",
      "Data columns (total 3 columns):\n",
      " #   Column       Non-Null Count   Dtype              \n",
      "---  ------       --------------   -----              \n",
      " 0   utc_time     376944 non-null  datetime64[ns, UTC]\n",
      " 1   local_time   376944 non-null  object             \n",
      " 2   electricity  376944 non-null  float64            \n",
      "dtypes: datetime64[ns, UTC](1), float64(1), object(1)\n",
      "memory usage: 8.6+ MB\n"
     ]
    }
   ],
   "source": [
    "pv_df.info()"
   ]
  },
  {
   "cell_type": "code",
   "execution_count": 7,
   "metadata": {},
   "outputs": [
    {
     "data": {
      "text/html": [
       "<div>\n",
       "<style scoped>\n",
       "    .dataframe tbody tr th:only-of-type {\n",
       "        vertical-align: middle;\n",
       "    }\n",
       "\n",
       "    .dataframe tbody tr th {\n",
       "        vertical-align: top;\n",
       "    }\n",
       "\n",
       "    .dataframe thead th {\n",
       "        text-align: right;\n",
       "    }\n",
       "</style>\n",
       "<table border=\"1\" class=\"dataframe\">\n",
       "  <thead>\n",
       "    <tr style=\"text-align: right;\">\n",
       "      <th></th>\n",
       "      <th>utc_time</th>\n",
       "      <th>local_time</th>\n",
       "      <th>electricity</th>\n",
       "    </tr>\n",
       "  </thead>\n",
       "  <tbody>\n",
       "    <tr>\n",
       "      <th>376942</th>\n",
       "      <td>2022-12-31 22:00:00+00:00</td>\n",
       "      <td>2022-12-31 23:00:00+01:00</td>\n",
       "      <td>0.0</td>\n",
       "    </tr>\n",
       "    <tr>\n",
       "      <th>376943</th>\n",
       "      <td>2022-12-31 23:00:00+00:00</td>\n",
       "      <td>2023-01-01 00:00:00+01:00</td>\n",
       "      <td>0.0</td>\n",
       "    </tr>\n",
       "  </tbody>\n",
       "</table>\n",
       "</div>"
      ],
      "text/plain": [
       "                        utc_time                 local_time  electricity\n",
       "376942 2022-12-31 22:00:00+00:00  2022-12-31 23:00:00+01:00          0.0\n",
       "376943 2022-12-31 23:00:00+00:00  2023-01-01 00:00:00+01:00          0.0"
      ]
     },
     "execution_count": 7,
     "metadata": {},
     "output_type": "execute_result"
    }
   ],
   "source": [
    "pv_df.tail(2)"
   ]
  },
  {
   "cell_type": "code",
   "execution_count": 8,
   "metadata": {},
   "outputs": [
    {
     "name": "stdout",
     "output_type": "stream",
     "text": [
      "pv_df number of rows:  376944\n",
      "Number of unique values:\n"
     ]
    },
    {
     "data": {
      "text/plain": [
       "utc_time       376944\n",
       "local_time     376944\n",
       "electricity       892\n",
       "dtype: int64"
      ]
     },
     "execution_count": 8,
     "metadata": {},
     "output_type": "execute_result"
    }
   ],
   "source": [
    "# unique dates match the df length\n",
    "print('pv_df number of rows: ', pv_df.shape[0])\n",
    "print('Number of unique values:')\n",
    "pv_df.nunique()"
   ]
  },
  {
   "cell_type": "code",
   "execution_count": 9,
   "metadata": {},
   "outputs": [
    {
     "data": {
      "text/plain": [
       "utc_time       0\n",
       "local_time     0\n",
       "electricity    0\n",
       "dtype: int64"
      ]
     },
     "execution_count": 9,
     "metadata": {},
     "output_type": "execute_result"
    }
   ],
   "source": [
    "# There are no NA values\n",
    "pv_df.isna().sum()"
   ]
  },
  {
   "cell_type": "code",
   "execution_count": 10,
   "metadata": {},
   "outputs": [
    {
     "name": "stdout",
     "output_type": "stream",
     "text": [
      "Number of negative electricity values:  0\n",
      "Number of electricity values above max. capacity (1 kw):  0\n"
     ]
    }
   ],
   "source": [
    "print('Number of negative electricity values: ', len(pv_df[pv_df.electricity < 0.0]))\n",
    "print('Number of electricity values above max. capacity (1 kw): ', len( pv_df[pv_df.electricity > 1.0]))"
   ]
  },
  {
   "cell_type": "code",
   "execution_count": 11,
   "metadata": {},
   "outputs": [],
   "source": [
    "def get_pv_data() -> pd.DataFrame:\n",
    "    \"\"\"\n",
    "    Load raw data from local directory\n",
    "    \"\"\"\n",
    "    df = pd.read_csv('../raw_data/1980-2022_pv.csv')\n",
    "    print('# data loaded')\n",
    "    return df\n"
   ]
  },
  {
   "cell_type": "code",
   "execution_count": 12,
   "metadata": {},
   "outputs": [],
   "source": [
    "def clean_pv_data(pv_df: pd.DataFrame) ->pd.DataFrame:\n",
    "    \"\"\"\n",
    "    Remove unnecessary columns and convert to right dtypes\n",
    "    \"\"\"\n",
    "    # remove unnevessary columns\n",
    "    pv_df.drop(columns=['irradiance_direct','irradiance_diffuse','temperature',\n",
    "                    'source','Unnamed: 0.1'], inplace=True)\n",
    "\n",
    "    # convert dtypes\n",
    "    pv_df.electricity = pv_df.electricity.astype(float)\n",
    "\n",
    "    pv_df.local_time    = pv_df.local_time.apply(lambda x:\n",
    "                                            dt.datetime.strptime(x,\n",
    "                                            \"%Y-%m-%d %H:%M:%S%z\")) # pd.to_datetime gives warning\n",
    "\n",
    "    pv_df['Unnamed: 0'] = pd.to_datetime(pv_df['Unnamed: 0'],\n",
    "                                         unit='ms').dt.tz_localize('UTC')\n",
    "    # correct column names\n",
    "    pv_df.rename(columns={'Unnamed: 0': 'utc_time'}, inplace=True)\n",
    "\n",
    "    print('# data cleaned')\n",
    "    return pv_df"
   ]
  },
  {
   "cell_type": "code",
   "execution_count": 13,
   "metadata": {},
   "outputs": [
    {
     "name": "stdout",
     "output_type": "stream",
     "text": [
      "# data loaded\n",
      "# data cleaned\n"
     ]
    },
    {
     "data": {
      "text/html": [
       "<div>\n",
       "<style scoped>\n",
       "    .dataframe tbody tr th:only-of-type {\n",
       "        vertical-align: middle;\n",
       "    }\n",
       "\n",
       "    .dataframe tbody tr th {\n",
       "        vertical-align: top;\n",
       "    }\n",
       "\n",
       "    .dataframe thead th {\n",
       "        text-align: right;\n",
       "    }\n",
       "</style>\n",
       "<table border=\"1\" class=\"dataframe\">\n",
       "  <thead>\n",
       "    <tr style=\"text-align: right;\">\n",
       "      <th></th>\n",
       "      <th>utc_time</th>\n",
       "      <th>local_time</th>\n",
       "      <th>electricity</th>\n",
       "    </tr>\n",
       "  </thead>\n",
       "  <tbody>\n",
       "    <tr>\n",
       "      <th>0</th>\n",
       "      <td>1980-01-01 00:00:00+00:00</td>\n",
       "      <td>1980-01-01 01:00:00+01:00</td>\n",
       "      <td>0.0</td>\n",
       "    </tr>\n",
       "    <tr>\n",
       "      <th>1</th>\n",
       "      <td>1980-01-01 01:00:00+00:00</td>\n",
       "      <td>1980-01-01 02:00:00+01:00</td>\n",
       "      <td>0.0</td>\n",
       "    </tr>\n",
       "    <tr>\n",
       "      <th>2</th>\n",
       "      <td>1980-01-01 02:00:00+00:00</td>\n",
       "      <td>1980-01-01 03:00:00+01:00</td>\n",
       "      <td>0.0</td>\n",
       "    </tr>\n",
       "    <tr>\n",
       "      <th>3</th>\n",
       "      <td>1980-01-01 03:00:00+00:00</td>\n",
       "      <td>1980-01-01 04:00:00+01:00</td>\n",
       "      <td>0.0</td>\n",
       "    </tr>\n",
       "    <tr>\n",
       "      <th>4</th>\n",
       "      <td>1980-01-01 04:00:00+00:00</td>\n",
       "      <td>1980-01-01 05:00:00+01:00</td>\n",
       "      <td>0.0</td>\n",
       "    </tr>\n",
       "  </tbody>\n",
       "</table>\n",
       "</div>"
      ],
      "text/plain": [
       "                   utc_time                 local_time  electricity\n",
       "0 1980-01-01 00:00:00+00:00  1980-01-01 01:00:00+01:00          0.0\n",
       "1 1980-01-01 01:00:00+00:00  1980-01-01 02:00:00+01:00          0.0\n",
       "2 1980-01-01 02:00:00+00:00  1980-01-01 03:00:00+01:00          0.0\n",
       "3 1980-01-01 03:00:00+00:00  1980-01-01 04:00:00+01:00          0.0\n",
       "4 1980-01-01 04:00:00+00:00  1980-01-01 05:00:00+01:00          0.0"
      ]
     },
     "execution_count": 13,
     "metadata": {},
     "output_type": "execute_result"
    }
   ],
   "source": [
    "df = get_pv_data()\n",
    "df = clean_pv_data(df)\n",
    "df.head()"
   ]
  },
  {
   "cell_type": "markdown",
   "metadata": {},
   "source": [
    "## Select years"
   ]
  },
  {
   "cell_type": "code",
   "execution_count": 14,
   "metadata": {},
   "outputs": [
    {
     "name": "stdout",
     "output_type": "stream",
     "text": [
      "# data loaded\n",
      "# data cleaned\n"
     ]
    },
    {
     "data": {
      "text/html": [
       "<div>\n",
       "<style scoped>\n",
       "    .dataframe tbody tr th:only-of-type {\n",
       "        vertical-align: middle;\n",
       "    }\n",
       "\n",
       "    .dataframe tbody tr th {\n",
       "        vertical-align: top;\n",
       "    }\n",
       "\n",
       "    .dataframe thead th {\n",
       "        text-align: right;\n",
       "    }\n",
       "</style>\n",
       "<table border=\"1\" class=\"dataframe\">\n",
       "  <thead>\n",
       "    <tr style=\"text-align: right;\">\n",
       "      <th></th>\n",
       "      <th>utc_time</th>\n",
       "      <th>local_time</th>\n",
       "      <th>electricity</th>\n",
       "    </tr>\n",
       "  </thead>\n",
       "  <tbody>\n",
       "    <tr>\n",
       "      <th>0</th>\n",
       "      <td>1980-01-01 00:00:00+00:00</td>\n",
       "      <td>1980-01-01 01:00:00+01:00</td>\n",
       "      <td>0.0</td>\n",
       "    </tr>\n",
       "    <tr>\n",
       "      <th>1</th>\n",
       "      <td>1980-01-01 01:00:00+00:00</td>\n",
       "      <td>1980-01-01 02:00:00+01:00</td>\n",
       "      <td>0.0</td>\n",
       "    </tr>\n",
       "  </tbody>\n",
       "</table>\n",
       "</div>"
      ],
      "text/plain": [
       "                   utc_time                 local_time  electricity\n",
       "0 1980-01-01 00:00:00+00:00  1980-01-01 01:00:00+01:00          0.0\n",
       "1 1980-01-01 01:00:00+00:00  1980-01-01 02:00:00+01:00          0.0"
      ]
     },
     "execution_count": 14,
     "metadata": {},
     "output_type": "execute_result"
    }
   ],
   "source": [
    "df = get_pv_data()\n",
    "df = clean_pv_data(df)\n",
    "df.head(2)"
   ]
  },
  {
   "cell_type": "code",
   "execution_count": 15,
   "metadata": {},
   "outputs": [
    {
     "name": "stdout",
     "output_type": "stream",
     "text": [
      "                   utc_time                 local_time  electricity\n",
      "0 1980-01-01 00:00:00+00:00  1980-01-01 01:00:00+01:00          0.0\n",
      "                       utc_time                 local_time  electricity\n",
      "26303 1982-12-31 23:00:00+00:00  1983-01-01 00:00:00+01:00          0.0\n"
     ]
    }
   ],
   "source": [
    "st = 1980\n",
    "en = 1980\n",
    "\n",
    "start = \"1980-01-01 00:00:00\"\n",
    "end   = \"1982-12-31 23:00:00\"\n",
    "part_df = df[df.utc_time.between(start, end)]\n",
    "\n",
    "print(part_df.head(1))\n",
    "print(part_df.tail(1))"
   ]
  },
  {
   "cell_type": "code",
   "execution_count": 16,
   "metadata": {},
   "outputs": [],
   "source": [
    "def select_years(df: pd.DataFrame, start=1980, end=1982)-> pd.DataFrame:\n",
    "    \"\"\"\n",
    "    Returns the df between start and end year (inclusive)\n",
    "    \"\"\"\n",
    "    start_point = f\"{start}-01-01 00:00:00\"\n",
    "    end_point   = f\"{end}-12-31 23:00:00\"\n",
    "    df = df[df.utc_time.between(start_point, end_point)]\n",
    "\n",
    "    n_years = df['utc_time'].dt.year.nunique()\n",
    "    print(f\"# selected {n_years} years\")\n",
    "\n",
    "    return df\n"
   ]
  },
  {
   "cell_type": "code",
   "execution_count": 17,
   "metadata": {},
   "outputs": [
    {
     "name": "stdout",
     "output_type": "stream",
     "text": [
      "# selected 4 years\n"
     ]
    }
   ],
   "source": [
    "test_df = select_years(df, start=1980, end=1983)\n"
   ]
  },
  {
   "cell_type": "code",
   "execution_count": 18,
   "metadata": {},
   "outputs": [
    {
     "data": {
      "text/html": [
       "<div>\n",
       "<style scoped>\n",
       "    .dataframe tbody tr th:only-of-type {\n",
       "        vertical-align: middle;\n",
       "    }\n",
       "\n",
       "    .dataframe tbody tr th {\n",
       "        vertical-align: top;\n",
       "    }\n",
       "\n",
       "    .dataframe thead th {\n",
       "        text-align: right;\n",
       "    }\n",
       "</style>\n",
       "<table border=\"1\" class=\"dataframe\">\n",
       "  <thead>\n",
       "    <tr style=\"text-align: right;\">\n",
       "      <th></th>\n",
       "      <th>utc_time</th>\n",
       "      <th>local_time</th>\n",
       "      <th>electricity</th>\n",
       "    </tr>\n",
       "  </thead>\n",
       "  <tbody>\n",
       "    <tr>\n",
       "      <th>0</th>\n",
       "      <td>1980-01-01 00:00:00+00:00</td>\n",
       "      <td>1980-01-01 01:00:00+01:00</td>\n",
       "      <td>0.0</td>\n",
       "    </tr>\n",
       "    <tr>\n",
       "      <th>1</th>\n",
       "      <td>1980-01-01 01:00:00+00:00</td>\n",
       "      <td>1980-01-01 02:00:00+01:00</td>\n",
       "      <td>0.0</td>\n",
       "    </tr>\n",
       "  </tbody>\n",
       "</table>\n",
       "</div>"
      ],
      "text/plain": [
       "                   utc_time                 local_time  electricity\n",
       "0 1980-01-01 00:00:00+00:00  1980-01-01 01:00:00+01:00          0.0\n",
       "1 1980-01-01 01:00:00+00:00  1980-01-01 02:00:00+01:00          0.0"
      ]
     },
     "execution_count": 18,
     "metadata": {},
     "output_type": "execute_result"
    }
   ],
   "source": [
    "test_df.head(2)"
   ]
  },
  {
   "cell_type": "code",
   "execution_count": 19,
   "metadata": {},
   "outputs": [
    {
     "data": {
      "text/html": [
       "<div>\n",
       "<style scoped>\n",
       "    .dataframe tbody tr th:only-of-type {\n",
       "        vertical-align: middle;\n",
       "    }\n",
       "\n",
       "    .dataframe tbody tr th {\n",
       "        vertical-align: top;\n",
       "    }\n",
       "\n",
       "    .dataframe thead th {\n",
       "        text-align: right;\n",
       "    }\n",
       "</style>\n",
       "<table border=\"1\" class=\"dataframe\">\n",
       "  <thead>\n",
       "    <tr style=\"text-align: right;\">\n",
       "      <th></th>\n",
       "      <th>utc_time</th>\n",
       "      <th>local_time</th>\n",
       "      <th>electricity</th>\n",
       "    </tr>\n",
       "  </thead>\n",
       "  <tbody>\n",
       "    <tr>\n",
       "      <th>35062</th>\n",
       "      <td>1983-12-31 22:00:00+00:00</td>\n",
       "      <td>1983-12-31 23:00:00+01:00</td>\n",
       "      <td>0.0</td>\n",
       "    </tr>\n",
       "    <tr>\n",
       "      <th>35063</th>\n",
       "      <td>1983-12-31 23:00:00+00:00</td>\n",
       "      <td>1984-01-01 00:00:00+01:00</td>\n",
       "      <td>0.0</td>\n",
       "    </tr>\n",
       "  </tbody>\n",
       "</table>\n",
       "</div>"
      ],
      "text/plain": [
       "                       utc_time                 local_time  electricity\n",
       "35062 1983-12-31 22:00:00+00:00  1983-12-31 23:00:00+01:00          0.0\n",
       "35063 1983-12-31 23:00:00+00:00  1984-01-01 00:00:00+01:00          0.0"
      ]
     },
     "execution_count": 19,
     "metadata": {},
     "output_type": "execute_result"
    }
   ],
   "source": [
    "test_df.tail(2)"
   ]
  },
  {
   "cell_type": "markdown",
   "metadata": {},
   "source": [
    "## Create statitics df"
   ]
  },
  {
   "cell_type": "code",
   "execution_count": 20,
   "metadata": {},
   "outputs": [
    {
     "name": "stdout",
     "output_type": "stream",
     "text": [
      "# selected 3 years\n"
     ]
    },
    {
     "name": "stderr",
     "output_type": "stream",
     "text": [
      "/var/folders/b1/83z4ln8j1yd088xz1fgkbd2c0000gn/T/ipykernel_18800/589407169.py:3: SettingWithCopyWarning: \n",
      "A value is trying to be set on a copy of a slice from a DataFrame.\n",
      "Try using .loc[row_indexer,col_indexer] = value instead\n",
      "\n",
      "See the caveats in the documentation: https://pandas.pydata.org/pandas-docs/stable/user_guide/indexing.html#returning-a-view-versus-a-copy\n",
      "  years_df['hour_of_year'] = years_df.utc_time.\\\n"
     ]
    }
   ],
   "source": [
    "years_df = select_years(df, start=1980, end=1982)\n",
    "\n",
    "years_df['hour_of_year'] = years_df.utc_time.\\\n",
    "                           apply(lambda x: x.strftime(\"%m%d%H\"))\n",
    "\n",
    "stats_df = years_df[['hour_of_year', 'electricity']]\\\n",
    "    .groupby(['hour_of_year']).agg(['mean','median','std','skew','min','max'])\n"
   ]
  },
  {
   "cell_type": "code",
   "execution_count": 21,
   "metadata": {},
   "outputs": [],
   "source": [
    "def statistic_table(years_df: pd.DataFrame) -> pd.DataFrame:\n",
    "\n",
    "    years_df = years_df.copy()\n",
    "    years_df['hour_of_year'] = years_df.utc_time.\\\n",
    "                           apply(lambda x: x.strftime(\"%m%d%H\"))\n",
    "\n",
    "    stats_df = years_df[['hour_of_year', 'electricity']]\\\n",
    "    .groupby(['hour_of_year']).agg(['mean','median','std','skew','min','max'])\n",
    "\n",
    "    print('# calculated statistics for every hour of the year')\n",
    "\n",
    "    return stats_df"
   ]
  },
  {
   "cell_type": "code",
   "execution_count": 22,
   "metadata": {},
   "outputs": [
    {
     "name": "stdout",
     "output_type": "stream",
     "text": [
      "# selected 3 years\n",
      "# calculated statistics for every hour of the year\n"
     ]
    }
   ],
   "source": [
    "\n",
    "years_df = select_years(df, start=1980, end=1982)\n",
    "stats_df = statistic_table(years_df)"
   ]
  },
  {
   "cell_type": "code",
   "execution_count": 23,
   "metadata": {},
   "outputs": [
    {
     "data": {
      "text/plain": [
       "<Axes: xlabel='hour_of_year'>"
      ]
     },
     "execution_count": 23,
     "metadata": {},
     "output_type": "execute_result"
    },
    {
     "data": {
      "image/png": "[encoded data removed]",
      "text/plain": [
       "<Figure size 640x480 with 1 Axes>"
      ]
     },
     "metadata": {},
     "output_type": "display_data"
    }
   ],
   "source": [
    "fig, ax = plt.subplots()\n",
    "stats_df.loc['010100':'010223',(['electricity'], ['mean'])].plot(kind='bar',\n",
    "                                                                 ax=ax,)\n",
    "stats_df.loc['010100':'010223',(['electricity'], ['min','max'])].plot(ax=ax)"
   ]
  },
  {
   "cell_type": "markdown",
   "metadata": {},
   "source": [
    "## Baseline model mean"
   ]
  },
  {
   "cell_type": "code",
   "execution_count": 24,
   "metadata": {},
   "outputs": [
    {
     "name": "stdout",
     "output_type": "stream",
     "text": [
      "# selected 3 years\n",
      "# calculated statistics for every hour of the year\n"
     ]
    }
   ],
   "source": [
    "years_df = select_years(df, start=1980, end=1982)\n",
    "stats_df = statistic_table(years_df)"
   ]
  },
  {
   "cell_type": "code",
   "execution_count": null,
   "metadata": {},
   "outputs": [],
   "source": [
    "def model_yesterday(X: pd.DataFrame, input_date: str) -> pd.DataFrame:\n",
    "    \"\"\"\n",
    "    Returns a simple previous day model\n",
    "    Input:\n",
    "     - a clean DataFrame\n",
    "     - a date with format: \"YEAR-MONTH-DAY HOUR:MIN:SECONDS\"\n",
    "    Returns:\n",
    "     - A dataFrame with the power production from the previous day\n",
    "    \"\"\"\n",
    "    input_timestamp = pd.Timestamp(input_date, tz='UTC')\n",
    "    idx = X[X.utc_time == input_timestamp].index[0]\n",
    "    if idx <= 24:\n",
    "        return X.iloc[0:idx,:]\n",
    "    return X.iloc[idx-24:idx,:]"
   ]
  },
  {
   "cell_type": "code",
   "execution_count": 25,
   "metadata": {},
   "outputs": [
    {
     "data": {
      "text/plain": [
       "Timestamp('2000-05-15 01:00:00+0000', tz='UTC')"
      ]
     },
     "execution_count": 25,
     "metadata": {},
     "output_type": "execute_result"
    }
   ],
   "source": [
    "input_date = '2000-05-15 01:00:00' # \"YEAR-MONTH-DAY HOUR:MIN:SECONDS\"\n",
    "input_timestamp = pd.Timestamp(input_date, tz='UTC')\n",
    "input_timestamp"
   ]
  },
  {
   "cell_type": "code",
   "execution_count": 29,
   "metadata": {},
   "outputs": [
    {
     "data": {
      "text/plain": [
       "Timestamp('2000-05-15 21:00:00+0000', tz='UTC')"
      ]
     },
     "execution_count": 29,
     "metadata": {},
     "output_type": "execute_result"
    }
   ],
   "source": [
    "type(input_timestamp)\n",
    "input_timestamp + pd.Timedelta(hours=20)"
   ]
  },
  {
   "cell_type": "code",
   "execution_count": 30,
   "metadata": {},
   "outputs": [
    {
     "data": {
      "text/plain": [
       "DatetimeIndex(['2018-01-01', '2018-01-02', '2018-01-03', '2018-01-04',\n",
       "               '2018-01-05', '2018-01-06', '2018-01-07', '2018-01-08'],\n",
       "              dtype='datetime64[ns]', freq='D')"
      ]
     },
     "execution_count": 30,
     "metadata": {},
     "output_type": "execute_result"
    }
   ],
   "source": [
    "pd.date_range(start='1/1/2018', end='1/08/2018')"
   ]
  },
  {
   "cell_type": "code",
   "execution_count": 62,
   "metadata": {},
   "outputs": [],
   "source": [
    "next24 = pd.date_range(\n",
    "            start=input_timestamp,\n",
    "            end=  input_timestamp + pd.Timedelta(hours=23),\n",
    "            freq=pd.Timedelta(hours=1)).to_frame(index=False, name='utc_time')\n"
   ]
  },
  {
   "cell_type": "code",
   "execution_count": 63,
   "metadata": {},
   "outputs": [],
   "source": [
    "#next24 = next24.to_frame(index=False, name='utc_time')\n",
    "next24['hour_of_year'] = next24.utc_time.\\\n",
    "                           apply(lambda x: x.strftime(\"%m%d%H\"))\n"
   ]
  },
  {
   "cell_type": "code",
   "execution_count": 64,
   "metadata": {},
   "outputs": [
    {
     "name": "stdout",
     "output_type": "stream",
     "text": [
      "# calculated statistics for every hour of the year\n"
     ]
    }
   ],
   "source": [
    "stats_df = statistic_table(years_df)\n",
    "stats_df.columns = stats_df.columns.droplevel(level=0)\n"
   ]
  },
  {
   "cell_type": "code",
   "execution_count": 72,
   "metadata": {},
   "outputs": [
    {
     "name": "stdout",
     "output_type": "stream",
     "text": [
      "2000-05-15 01:00:00\n"
     ]
    },
    {
     "data": {
      "text/html": [
       "<div>\n",
       "<style scoped>\n",
       "    .dataframe tbody tr th:only-of-type {\n",
       "        vertical-align: middle;\n",
       "    }\n",
       "\n",
       "    .dataframe tbody tr th {\n",
       "        vertical-align: top;\n",
       "    }\n",
       "\n",
       "    .dataframe thead th {\n",
       "        text-align: right;\n",
       "    }\n",
       "</style>\n",
       "<table border=\"1\" class=\"dataframe\">\n",
       "  <thead>\n",
       "    <tr style=\"text-align: right;\">\n",
       "      <th></th>\n",
       "      <th>utc_time</th>\n",
       "      <th>hour_of_year</th>\n",
       "      <th>mean</th>\n",
       "      <th>median</th>\n",
       "      <th>std</th>\n",
       "      <th>skew</th>\n",
       "      <th>min</th>\n",
       "      <th>max</th>\n",
       "    </tr>\n",
       "  </thead>\n",
       "  <tbody>\n",
       "    <tr>\n",
       "      <th>0</th>\n",
       "      <td>2000-05-15 01:00:00+00:00</td>\n",
       "      <td>051501</td>\n",
       "      <td>0.000000</td>\n",
       "      <td>0.000</td>\n",
       "      <td>0.000000</td>\n",
       "      <td>0.000000</td>\n",
       "      <td>0.000</td>\n",
       "      <td>0.000</td>\n",
       "    </tr>\n",
       "    <tr>\n",
       "      <th>1</th>\n",
       "      <td>2000-05-15 02:00:00+00:00</td>\n",
       "      <td>051502</td>\n",
       "      <td>0.000000</td>\n",
       "      <td>0.000</td>\n",
       "      <td>0.000000</td>\n",
       "      <td>0.000000</td>\n",
       "      <td>0.000</td>\n",
       "      <td>0.000</td>\n",
       "    </tr>\n",
       "    <tr>\n",
       "      <th>2</th>\n",
       "      <td>2000-05-15 03:00:00+00:00</td>\n",
       "      <td>051503</td>\n",
       "      <td>0.002000</td>\n",
       "      <td>0.002</td>\n",
       "      <td>0.000000</td>\n",
       "      <td>0.000000</td>\n",
       "      <td>0.002</td>\n",
       "      <td>0.002</td>\n",
       "    </tr>\n",
       "    <tr>\n",
       "      <th>3</th>\n",
       "      <td>2000-05-15 04:00:00+00:00</td>\n",
       "      <td>051504</td>\n",
       "      <td>0.036667</td>\n",
       "      <td>0.038</td>\n",
       "      <td>0.004163</td>\n",
       "      <td>-1.293343</td>\n",
       "      <td>0.032</td>\n",
       "      <td>0.040</td>\n",
       "    </tr>\n",
       "    <tr>\n",
       "      <th>4</th>\n",
       "      <td>2000-05-15 05:00:00+00:00</td>\n",
       "      <td>051505</td>\n",
       "      <td>0.114667</td>\n",
       "      <td>0.116</td>\n",
       "      <td>0.003215</td>\n",
       "      <td>-1.545393</td>\n",
       "      <td>0.111</td>\n",
       "      <td>0.117</td>\n",
       "    </tr>\n",
       "    <tr>\n",
       "      <th>5</th>\n",
       "      <td>2000-05-15 06:00:00+00:00</td>\n",
       "      <td>051506</td>\n",
       "      <td>0.299667</td>\n",
       "      <td>0.296</td>\n",
       "      <td>0.009074</td>\n",
       "      <td>1.521492</td>\n",
       "      <td>0.293</td>\n",
       "      <td>0.310</td>\n",
       "    </tr>\n",
       "    <tr>\n",
       "      <th>6</th>\n",
       "      <td>2000-05-15 07:00:00+00:00</td>\n",
       "      <td>051507</td>\n",
       "      <td>0.484333</td>\n",
       "      <td>0.491</td>\n",
       "      <td>0.016073</td>\n",
       "      <td>-1.545393</td>\n",
       "      <td>0.466</td>\n",
       "      <td>0.496</td>\n",
       "    </tr>\n",
       "    <tr>\n",
       "      <th>7</th>\n",
       "      <td>2000-05-15 08:00:00+00:00</td>\n",
       "      <td>051508</td>\n",
       "      <td>0.624333</td>\n",
       "      <td>0.633</td>\n",
       "      <td>0.016773</td>\n",
       "      <td>-1.704387</td>\n",
       "      <td>0.605</td>\n",
       "      <td>0.635</td>\n",
       "    </tr>\n",
       "    <tr>\n",
       "      <th>8</th>\n",
       "      <td>2000-05-15 09:00:00+00:00</td>\n",
       "      <td>051509</td>\n",
       "      <td>0.714000</td>\n",
       "      <td>0.716</td>\n",
       "      <td>0.015100</td>\n",
       "      <td>-0.585583</td>\n",
       "      <td>0.698</td>\n",
       "      <td>0.728</td>\n",
       "    </tr>\n",
       "    <tr>\n",
       "      <th>9</th>\n",
       "      <td>2000-05-15 10:00:00+00:00</td>\n",
       "      <td>051510</td>\n",
       "      <td>0.762333</td>\n",
       "      <td>0.768</td>\n",
       "      <td>0.017214</td>\n",
       "      <td>-1.320805</td>\n",
       "      <td>0.743</td>\n",
       "      <td>0.776</td>\n",
       "    </tr>\n",
       "    <tr>\n",
       "      <th>10</th>\n",
       "      <td>2000-05-15 11:00:00+00:00</td>\n",
       "      <td>051511</td>\n",
       "      <td>0.759333</td>\n",
       "      <td>0.764</td>\n",
       "      <td>0.021385</td>\n",
       "      <td>-0.935220</td>\n",
       "      <td>0.736</td>\n",
       "      <td>0.778</td>\n",
       "    </tr>\n",
       "    <tr>\n",
       "      <th>11</th>\n",
       "      <td>2000-05-15 12:00:00+00:00</td>\n",
       "      <td>051512</td>\n",
       "      <td>0.706333</td>\n",
       "      <td>0.712</td>\n",
       "      <td>0.027934</td>\n",
       "      <td>-0.875287</td>\n",
       "      <td>0.676</td>\n",
       "      <td>0.731</td>\n",
       "    </tr>\n",
       "    <tr>\n",
       "      <th>12</th>\n",
       "      <td>2000-05-15 13:00:00+00:00</td>\n",
       "      <td>051513</td>\n",
       "      <td>0.608000</td>\n",
       "      <td>0.624</td>\n",
       "      <td>0.043278</td>\n",
       "      <td>-1.436269</td>\n",
       "      <td>0.559</td>\n",
       "      <td>0.641</td>\n",
       "    </tr>\n",
       "    <tr>\n",
       "      <th>13</th>\n",
       "      <td>2000-05-15 14:00:00+00:00</td>\n",
       "      <td>051514</td>\n",
       "      <td>0.467667</td>\n",
       "      <td>0.491</td>\n",
       "      <td>0.053003</td>\n",
       "      <td>-1.597097</td>\n",
       "      <td>0.407</td>\n",
       "      <td>0.505</td>\n",
       "    </tr>\n",
       "    <tr>\n",
       "      <th>14</th>\n",
       "      <td>2000-05-15 15:00:00+00:00</td>\n",
       "      <td>051515</td>\n",
       "      <td>0.289667</td>\n",
       "      <td>0.299</td>\n",
       "      <td>0.044736</td>\n",
       "      <td>-0.897971</td>\n",
       "      <td>0.241</td>\n",
       "      <td>0.329</td>\n",
       "    </tr>\n",
       "    <tr>\n",
       "      <th>15</th>\n",
       "      <td>2000-05-15 16:00:00+00:00</td>\n",
       "      <td>051516</td>\n",
       "      <td>0.127000</td>\n",
       "      <td>0.125</td>\n",
       "      <td>0.009165</td>\n",
       "      <td>0.935220</td>\n",
       "      <td>0.119</td>\n",
       "      <td>0.137</td>\n",
       "    </tr>\n",
       "    <tr>\n",
       "      <th>16</th>\n",
       "      <td>2000-05-15 17:00:00+00:00</td>\n",
       "      <td>051517</td>\n",
       "      <td>0.042667</td>\n",
       "      <td>0.044</td>\n",
       "      <td>0.004163</td>\n",
       "      <td>-1.293343</td>\n",
       "      <td>0.038</td>\n",
       "      <td>0.046</td>\n",
       "    </tr>\n",
       "    <tr>\n",
       "      <th>17</th>\n",
       "      <td>2000-05-15 18:00:00+00:00</td>\n",
       "      <td>051518</td>\n",
       "      <td>0.005667</td>\n",
       "      <td>0.006</td>\n",
       "      <td>0.001528</td>\n",
       "      <td>-0.935220</td>\n",
       "      <td>0.004</td>\n",
       "      <td>0.007</td>\n",
       "    </tr>\n",
       "    <tr>\n",
       "      <th>18</th>\n",
       "      <td>2000-05-15 19:00:00+00:00</td>\n",
       "      <td>051519</td>\n",
       "      <td>0.000000</td>\n",
       "      <td>0.000</td>\n",
       "      <td>0.000000</td>\n",
       "      <td>0.000000</td>\n",
       "      <td>0.000</td>\n",
       "      <td>0.000</td>\n",
       "    </tr>\n",
       "    <tr>\n",
       "      <th>19</th>\n",
       "      <td>2000-05-15 20:00:00+00:00</td>\n",
       "      <td>051520</td>\n",
       "      <td>0.000000</td>\n",
       "      <td>0.000</td>\n",
       "      <td>0.000000</td>\n",
       "      <td>0.000000</td>\n",
       "      <td>0.000</td>\n",
       "      <td>0.000</td>\n",
       "    </tr>\n",
       "    <tr>\n",
       "      <th>20</th>\n",
       "      <td>2000-05-15 21:00:00+00:00</td>\n",
       "      <td>051521</td>\n",
       "      <td>0.000000</td>\n",
       "      <td>0.000</td>\n",
       "      <td>0.000000</td>\n",
       "      <td>0.000000</td>\n",
       "      <td>0.000</td>\n",
       "      <td>0.000</td>\n",
       "    </tr>\n",
       "    <tr>\n",
       "      <th>21</th>\n",
       "      <td>2000-05-15 22:00:00+00:00</td>\n",
       "      <td>051522</td>\n",
       "      <td>0.000000</td>\n",
       "      <td>0.000</td>\n",
       "      <td>0.000000</td>\n",
       "      <td>0.000000</td>\n",
       "      <td>0.000</td>\n",
       "      <td>0.000</td>\n",
       "    </tr>\n",
       "    <tr>\n",
       "      <th>22</th>\n",
       "      <td>2000-05-15 23:00:00+00:00</td>\n",
       "      <td>051523</td>\n",
       "      <td>0.000000</td>\n",
       "      <td>0.000</td>\n",
       "      <td>0.000000</td>\n",
       "      <td>0.000000</td>\n",
       "      <td>0.000</td>\n",
       "      <td>0.000</td>\n",
       "    </tr>\n",
       "    <tr>\n",
       "      <th>23</th>\n",
       "      <td>2000-05-16 00:00:00+00:00</td>\n",
       "      <td>051600</td>\n",
       "      <td>0.000000</td>\n",
       "      <td>0.000</td>\n",
       "      <td>0.000000</td>\n",
       "      <td>0.000000</td>\n",
       "      <td>0.000</td>\n",
       "      <td>0.000</td>\n",
       "    </tr>\n",
       "  </tbody>\n",
       "</table>\n",
       "</div>"
      ],
      "text/plain": [
       "                    utc_time hour_of_year      mean  median       std  \\\n",
       "0  2000-05-15 01:00:00+00:00       051501  0.000000   0.000  0.000000   \n",
       "1  2000-05-15 02:00:00+00:00       051502  0.000000   0.000  0.000000   \n",
       "2  2000-05-15 03:00:00+00:00       051503  0.002000   0.002  0.000000   \n",
       "3  2000-05-15 04:00:00+00:00       051504  0.036667   0.038  0.004163   \n",
       "4  2000-05-15 05:00:00+00:00       051505  0.114667   0.116  0.003215   \n",
       "5  2000-05-15 06:00:00+00:00       051506  0.299667   0.296  0.009074   \n",
       "6  2000-05-15 07:00:00+00:00       051507  0.484333   0.491  0.016073   \n",
       "7  2000-05-15 08:00:00+00:00       051508  0.624333   0.633  0.016773   \n",
       "8  2000-05-15 09:00:00+00:00       051509  0.714000   0.716  0.015100   \n",
       "9  2000-05-15 10:00:00+00:00       051510  0.762333   0.768  0.017214   \n",
       "10 2000-05-15 11:00:00+00:00       051511  0.759333   0.764  0.021385   \n",
       "11 2000-05-15 12:00:00+00:00       051512  0.706333   0.712  0.027934   \n",
       "12 2000-05-15 13:00:00+00:00       051513  0.608000   0.624  0.043278   \n",
       "13 2000-05-15 14:00:00+00:00       051514  0.467667   0.491  0.053003   \n",
       "14 2000-05-15 15:00:00+00:00       051515  0.289667   0.299  0.044736   \n",
       "15 2000-05-15 16:00:00+00:00       051516  0.127000   0.125  0.009165   \n",
       "16 2000-05-15 17:00:00+00:00       051517  0.042667   0.044  0.004163   \n",
       "17 2000-05-15 18:00:00+00:00       051518  0.005667   0.006  0.001528   \n",
       "18 2000-05-15 19:00:00+00:00       051519  0.000000   0.000  0.000000   \n",
       "19 2000-05-15 20:00:00+00:00       051520  0.000000   0.000  0.000000   \n",
       "20 2000-05-15 21:00:00+00:00       051521  0.000000   0.000  0.000000   \n",
       "21 2000-05-15 22:00:00+00:00       051522  0.000000   0.000  0.000000   \n",
       "22 2000-05-15 23:00:00+00:00       051523  0.000000   0.000  0.000000   \n",
       "23 2000-05-16 00:00:00+00:00       051600  0.000000   0.000  0.000000   \n",
       "\n",
       "        skew    min    max  \n",
       "0   0.000000  0.000  0.000  \n",
       "1   0.000000  0.000  0.000  \n",
       "2   0.000000  0.002  0.002  \n",
       "3  -1.293343  0.032  0.040  \n",
       "4  -1.545393  0.111  0.117  \n",
       "5   1.521492  0.293  0.310  \n",
       "6  -1.545393  0.466  0.496  \n",
       "7  -1.704387  0.605  0.635  \n",
       "8  -0.585583  0.698  0.728  \n",
       "9  -1.320805  0.743  0.776  \n",
       "10 -0.935220  0.736  0.778  \n",
       "11 -0.875287  0.676  0.731  \n",
       "12 -1.436269  0.559  0.641  \n",
       "13 -1.597097  0.407  0.505  \n",
       "14 -0.897971  0.241  0.329  \n",
       "15  0.935220  0.119  0.137  \n",
       "16 -1.293343  0.038  0.046  \n",
       "17 -0.935220  0.004  0.007  \n",
       "18  0.000000  0.000  0.000  \n",
       "19  0.000000  0.000  0.000  \n",
       "20  0.000000  0.000  0.000  \n",
       "21  0.000000  0.000  0.000  \n",
       "22  0.000000  0.000  0.000  \n",
       "23  0.000000  0.000  0.000  "
      ]
     },
     "execution_count": 72,
     "metadata": {},
     "output_type": "execute_result"
    }
   ],
   "source": [
    "print(input_date)\n",
    "stats_pred = next24.join(stats_df, on='hour_of_year', how='inner', validate='one_to_one')\n",
    "stats_pred"
   ]
  },
  {
   "cell_type": "code",
   "execution_count": 74,
   "metadata": {},
   "outputs": [
    {
     "data": {
      "text/plain": [
       "(24, 7)"
      ]
     },
     "execution_count": 74,
     "metadata": {},
     "output_type": "execute_result"
    }
   ],
   "source": [
    "stats_pred.drop(columns='hour_of_year', inplace=True)\n",
    "stats_pred.shape"
   ]
  },
  {
   "cell_type": "code",
   "execution_count": 103,
   "metadata": {},
   "outputs": [
    {
     "data": {
      "text/plain": [
       "<matplotlib.legend.Legend at 0x1727d5c90>"
      ]
     },
     "execution_count": 103,
     "metadata": {},
     "output_type": "execute_result"
    },
    {
     "data": {
      "image/png": "[encoded data removed]",
      "text/plain": [
       "<Figure size 640x480 with 1 Axes>"
      ]
     },
     "metadata": {},
     "output_type": "display_data"
    }
   ],
   "source": [
    "#plt.plot(stats_pred.mean)\n",
    "fig, ax = plt.subplots()\n",
    "\n",
    "ax.step(stats_pred.index, stats_pred['mean'].values,\n",
    "        color='k',\n",
    "        linewidth='2',\n",
    "        label='mean')\n",
    "\n",
    "ax.step(stats_pred.index, stats_pred['min'].values,\n",
    "        color='gray',\n",
    "        linestyle=':',\n",
    "        label='min')\n",
    "\n",
    "ax.step(stats_pred.index, stats_pred['max'].values,\n",
    "        color='gray',\n",
    "        linestyle=':',\n",
    "        label='max')\n",
    "\n",
    "#ax.bar(stats_pred.index, stats_pred['std'].values,\n",
    "#        color='gray',\n",
    "#        label='std')\n",
    "\n",
    "lower_bound = stats_pred['mean'].values - stats_pred['std'].values\n",
    "upper_bound = stats_pred['mean'].values + stats_pred['std'].values\n",
    "ax.fill_between(stats_pred.index, lower_bound, upper_bound, color='blue', alpha=0.3, label='Confidence Interval')\n",
    "\n",
    "\n",
    "ax.set_xlabel('hours')\n",
    "ax.set_ylabel('statistics')\n",
    "ax.set_ylim(0,1)\n",
    "ax.legend()\n",
    "\n",
    "#stats_pred['mean'].values\n",
    "#stats_pred['mean'].index"
   ]
  },
  {
   "cell_type": "code",
   "execution_count": null,
   "metadata": {},
   "outputs": [],
   "source": [
    "lower_bound = stats_pred['mean'].values - stats_pred['std'].values\n",
    "upper_bound = stats_pred['mean'].values + stats_pred['std'].values\n",
    "ax.fill_between(x, lower_bound, upper_bound, color='blue', alpha=0.3, label='Confidence Interval')\n"
   ]
  },
  {
   "cell_type": "code",
   "execution_count": null,
   "metadata": {},
   "outputs": [],
   "source": []
  }
 ],
 "metadata": {
  "kernelspec": {
   "display_name": "power",
   "language": "python",
   "name": "python3"
  },
  "language_info": {
   "codemirror_mode": {
    "name": "ipython",
    "version": 3
   },
   "file_extension": ".py",
   "mimetype": "text/x-python",
   "name": "python",
   "nbconvert_exporter": "python",
   "pygments_lexer": "ipython3",
   "version": "3.10.6"
  }
 },
 "nbformat": 4,
 "nbformat_minor": 2
}
