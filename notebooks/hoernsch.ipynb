{
 "cells": [
  {
   "cell_type": "code",
   "execution_count": 241,
   "metadata": {},
   "outputs": [],
   "source": [
    "import numpy as np\n",
    "import pandas as pd\n",
    "import datetime as dt\n",
    "\n",
    "import matplotlib.pyplot as plt\n",
    "import seaborn as sns\n",
    "\n",
    "from power.ml_ops.data import get_pv_data, clean_pv_data\n",
    "\n",
    "import requests\n"
   ]
  },
  {
   "cell_type": "markdown",
   "metadata": {},
   "source": [
    "# Notebook of Marius"
   ]
  },
  {
   "cell_type": "markdown",
   "metadata": {},
   "source": [
    "## Get and clean data"
   ]
  },
  {
   "cell_type": "code",
   "execution_count": 14,
   "metadata": {},
   "outputs": [
    {
     "data": {
      "text/html": [
       "<div>\n",
       "<style scoped>\n",
       "    .dataframe tbody tr th:only-of-type {\n",
       "        vertical-align: middle;\n",
       "    }\n",
       "\n",
       "    .dataframe tbody tr th {\n",
       "        vertical-align: top;\n",
       "    }\n",
       "\n",
       "    .dataframe thead th {\n",
       "        text-align: right;\n",
       "    }\n",
       "</style>\n",
       "<table border=\"1\" class=\"dataframe\">\n",
       "  <thead>\n",
       "    <tr style=\"text-align: right;\">\n",
       "      <th></th>\n",
       "      <th>_0-1</th>\n",
       "      <th>_0</th>\n",
       "      <th>local_time</th>\n",
       "      <th>electricity</th>\n",
       "      <th>irradiance_direct</th>\n",
       "      <th>irradiance_diffuse</th>\n",
       "      <th>temperature</th>\n",
       "      <th>source</th>\n",
       "    </tr>\n",
       "  </thead>\n",
       "  <tbody>\n",
       "    <tr>\n",
       "      <th>0</th>\n",
       "      <td>NaN</td>\n",
       "      <td>315532800000</td>\n",
       "      <td>1980-01-01 01:00:00+01:00</td>\n",
       "      <td>0.0</td>\n",
       "      <td>0.0</td>\n",
       "      <td>0.0</td>\n",
       "      <td>-1.296</td>\n",
       "      <td>data/pv_data/1980_pv.csv</td>\n",
       "    </tr>\n",
       "    <tr>\n",
       "      <th>1</th>\n",
       "      <td>NaN</td>\n",
       "      <td>315536400000</td>\n",
       "      <td>1980-01-01 02:00:00+01:00</td>\n",
       "      <td>0.0</td>\n",
       "      <td>0.0</td>\n",
       "      <td>0.0</td>\n",
       "      <td>-1.216</td>\n",
       "      <td>data/pv_data/1980_pv.csv</td>\n",
       "    </tr>\n",
       "  </tbody>\n",
       "</table>\n",
       "</div>"
      ],
      "text/plain": [
       "   _0-1            _0                 local_time  electricity  \\\n",
       "0   NaN  315532800000  1980-01-01 01:00:00+01:00          0.0   \n",
       "1   NaN  315536400000  1980-01-01 02:00:00+01:00          0.0   \n",
       "\n",
       "   irradiance_direct  irradiance_diffuse  temperature  \\\n",
       "0                0.0                 0.0       -1.296   \n",
       "1                0.0                 0.0       -1.216   \n",
       "\n",
       "                     source  \n",
       "0  data/pv_data/1980_pv.csv  \n",
       "1  data/pv_data/1980_pv.csv  "
      ]
     },
     "execution_count": 14,
     "metadata": {},
     "output_type": "execute_result"
    }
   ],
   "source": [
    "pv_df = pd.read_csv('../raw_data/1980-2022_pv.csv')\n",
    "pv_df.head(2)"
   ]
  },
  {
   "cell_type": "code",
   "execution_count": 15,
   "metadata": {},
   "outputs": [
    {
     "data": {
      "text/html": [
       "<div>\n",
       "<style scoped>\n",
       "    .dataframe tbody tr th:only-of-type {\n",
       "        vertical-align: middle;\n",
       "    }\n",
       "\n",
       "    .dataframe tbody tr th {\n",
       "        vertical-align: top;\n",
       "    }\n",
       "\n",
       "    .dataframe thead th {\n",
       "        text-align: right;\n",
       "    }\n",
       "</style>\n",
       "<table border=\"1\" class=\"dataframe\">\n",
       "  <thead>\n",
       "    <tr style=\"text-align: right;\">\n",
       "      <th></th>\n",
       "      <th>_0-1</th>\n",
       "      <th>_0</th>\n",
       "      <th>local_time</th>\n",
       "      <th>electricity</th>\n",
       "      <th>irradiance_direct</th>\n",
       "      <th>irradiance_diffuse</th>\n",
       "      <th>temperature</th>\n",
       "      <th>source</th>\n",
       "    </tr>\n",
       "  </thead>\n",
       "  <tbody>\n",
       "    <tr>\n",
       "      <th>376939</th>\n",
       "      <td>NaN</td>\n",
       "      <td>1672513200000</td>\n",
       "      <td>2022-12-31 20:00:00+01:00</td>\n",
       "      <td>0.0</td>\n",
       "      <td>0.0</td>\n",
       "      <td>0.0</td>\n",
       "      <td>12.240</td>\n",
       "      <td>data/pv_data/2022_pv.csv</td>\n",
       "    </tr>\n",
       "    <tr>\n",
       "      <th>376940</th>\n",
       "      <td>NaN</td>\n",
       "      <td>1672516800000</td>\n",
       "      <td>2022-12-31 21:00:00+01:00</td>\n",
       "      <td>0.0</td>\n",
       "      <td>0.0</td>\n",
       "      <td>0.0</td>\n",
       "      <td>11.968</td>\n",
       "      <td>data/pv_data/2022_pv.csv</td>\n",
       "    </tr>\n",
       "    <tr>\n",
       "      <th>376941</th>\n",
       "      <td>NaN</td>\n",
       "      <td>1672520400000</td>\n",
       "      <td>2022-12-31 22:00:00+01:00</td>\n",
       "      <td>0.0</td>\n",
       "      <td>0.0</td>\n",
       "      <td>0.0</td>\n",
       "      <td>11.953</td>\n",
       "      <td>data/pv_data/2022_pv.csv</td>\n",
       "    </tr>\n",
       "    <tr>\n",
       "      <th>376942</th>\n",
       "      <td>NaN</td>\n",
       "      <td>1672524000000</td>\n",
       "      <td>2022-12-31 23:00:00+01:00</td>\n",
       "      <td>0.0</td>\n",
       "      <td>0.0</td>\n",
       "      <td>0.0</td>\n",
       "      <td>11.993</td>\n",
       "      <td>data/pv_data/2022_pv.csv</td>\n",
       "    </tr>\n",
       "    <tr>\n",
       "      <th>376943</th>\n",
       "      <td>NaN</td>\n",
       "      <td>1672527600000</td>\n",
       "      <td>2023-01-01 00:00:00+01:00</td>\n",
       "      <td>0.0</td>\n",
       "      <td>0.0</td>\n",
       "      <td>0.0</td>\n",
       "      <td>11.945</td>\n",
       "      <td>data/pv_data/2022_pv.csv</td>\n",
       "    </tr>\n",
       "  </tbody>\n",
       "</table>\n",
       "</div>"
      ],
      "text/plain": [
       "        _0-1             _0                 local_time  electricity  \\\n",
       "376939   NaN  1672513200000  2022-12-31 20:00:00+01:00          0.0   \n",
       "376940   NaN  1672516800000  2022-12-31 21:00:00+01:00          0.0   \n",
       "376941   NaN  1672520400000  2022-12-31 22:00:00+01:00          0.0   \n",
       "376942   NaN  1672524000000  2022-12-31 23:00:00+01:00          0.0   \n",
       "376943   NaN  1672527600000  2023-01-01 00:00:00+01:00          0.0   \n",
       "\n",
       "        irradiance_direct  irradiance_diffuse  temperature  \\\n",
       "376939                0.0                 0.0       12.240   \n",
       "376940                0.0                 0.0       11.968   \n",
       "376941                0.0                 0.0       11.953   \n",
       "376942                0.0                 0.0       11.993   \n",
       "376943                0.0                 0.0       11.945   \n",
       "\n",
       "                          source  \n",
       "376939  data/pv_data/2022_pv.csv  \n",
       "376940  data/pv_data/2022_pv.csv  \n",
       "376941  data/pv_data/2022_pv.csv  \n",
       "376942  data/pv_data/2022_pv.csv  \n",
       "376943  data/pv_data/2022_pv.csv  "
      ]
     },
     "execution_count": 15,
     "metadata": {},
     "output_type": "execute_result"
    }
   ],
   "source": [
    "pv_df.tail()"
   ]
  },
  {
   "cell_type": "code",
   "execution_count": 16,
   "metadata": {},
   "outputs": [
    {
     "name": "stdout",
     "output_type": "stream",
     "text": [
      "x:  1980-01-01 01:00:00+01:00\n"
     ]
    },
    {
     "data": {
      "text/plain": [
       "datetime.datetime(1980, 1, 1, 1, 0, tzinfo=datetime.timezone(datetime.timedelta(seconds=3600)))"
      ]
     },
     "execution_count": 16,
     "metadata": {},
     "output_type": "execute_result"
    }
   ],
   "source": [
    "x = pv_df.loc[0,'local_time']\n",
    "print('x: ', x)\n",
    "#dt.datetime.strptime(\"21 June, 2018\", \"%d %B, %Y\")\n",
    "dt.datetime.strptime(x, \"%Y-%m-%d %H:%M:%S%z\")"
   ]
  },
  {
   "cell_type": "code",
   "execution_count": 17,
   "metadata": {},
   "outputs": [
    {
     "ename": "KeyError",
     "evalue": "\"['Unnamed: 0.1'] not found in axis\"",
     "output_type": "error",
     "traceback": [
      "\u001b[0;31m---------------------------------------------------------------------------\u001b[0m",
      "\u001b[0;31mKeyError\u001b[0m                                  Traceback (most recent call last)",
      "Cell \u001b[0;32mIn[17], line 5\u001b[0m\n\u001b[1;32m      2\u001b[0m pv_df \u001b[38;5;241m=\u001b[39m pd\u001b[38;5;241m.\u001b[39mread_csv(\u001b[38;5;124m'\u001b[39m\u001b[38;5;124m../raw_data/1980-2022_pv.csv\u001b[39m\u001b[38;5;124m'\u001b[39m)\n\u001b[1;32m      4\u001b[0m \u001b[38;5;66;03m# drop columns\u001b[39;00m\n\u001b[0;32m----> 5\u001b[0m \u001b[43mpv_df\u001b[49m\u001b[38;5;241;43m.\u001b[39;49m\u001b[43mdrop\u001b[49m\u001b[43m(\u001b[49m\u001b[43mcolumns\u001b[49m\u001b[38;5;241;43m=\u001b[39;49m\u001b[43m[\u001b[49m\u001b[38;5;124;43m'\u001b[39;49m\u001b[38;5;124;43mirradiance_direct\u001b[39;49m\u001b[38;5;124;43m'\u001b[39;49m\u001b[43m,\u001b[49m\u001b[38;5;124;43m'\u001b[39;49m\u001b[38;5;124;43mirradiance_diffuse\u001b[39;49m\u001b[38;5;124;43m'\u001b[39;49m\u001b[43m,\u001b[49m\u001b[38;5;124;43m'\u001b[39;49m\u001b[38;5;124;43mtemperature\u001b[39;49m\u001b[38;5;124;43m'\u001b[39;49m\u001b[43m,\u001b[49m\n\u001b[1;32m      6\u001b[0m \u001b[43m                    \u001b[49m\u001b[38;5;124;43m'\u001b[39;49m\u001b[38;5;124;43msource\u001b[39;49m\u001b[38;5;124;43m'\u001b[39;49m\u001b[43m,\u001b[49m\u001b[38;5;124;43m'\u001b[39;49m\u001b[38;5;124;43mUnnamed: 0.1\u001b[39;49m\u001b[38;5;124;43m'\u001b[39;49m\u001b[43m]\u001b[49m\u001b[43m,\u001b[49m\u001b[43m \u001b[49m\u001b[43minplace\u001b[49m\u001b[38;5;241;43m=\u001b[39;49m\u001b[38;5;28;43;01mTrue\u001b[39;49;00m\u001b[43m)\u001b[49m\n\u001b[1;32m      8\u001b[0m \u001b[38;5;66;03m# convert dtypes\u001b[39;00m\n\u001b[1;32m      9\u001b[0m pv_df\u001b[38;5;241m.\u001b[39melectricity \u001b[38;5;241m=\u001b[39m pv_df\u001b[38;5;241m.\u001b[39melectricity\u001b[38;5;241m.\u001b[39mastype(\u001b[38;5;28mfloat\u001b[39m)\n",
      "File \u001b[0;32m~/.pyenv/versions/3.10.6/envs/power/lib/python3.10/site-packages/pandas/core/frame.py:5568\u001b[0m, in \u001b[0;36mDataFrame.drop\u001b[0;34m(self, labels, axis, index, columns, level, inplace, errors)\u001b[0m\n\u001b[1;32m   5420\u001b[0m \u001b[38;5;28;01mdef\u001b[39;00m \u001b[38;5;21mdrop\u001b[39m(\n\u001b[1;32m   5421\u001b[0m     \u001b[38;5;28mself\u001b[39m,\n\u001b[1;32m   5422\u001b[0m     labels: IndexLabel \u001b[38;5;241m|\u001b[39m \u001b[38;5;28;01mNone\u001b[39;00m \u001b[38;5;241m=\u001b[39m \u001b[38;5;28;01mNone\u001b[39;00m,\n\u001b[0;32m   (...)\u001b[0m\n\u001b[1;32m   5429\u001b[0m     errors: IgnoreRaise \u001b[38;5;241m=\u001b[39m \u001b[38;5;124m\"\u001b[39m\u001b[38;5;124mraise\u001b[39m\u001b[38;5;124m\"\u001b[39m,\n\u001b[1;32m   5430\u001b[0m ) \u001b[38;5;241m-\u001b[39m\u001b[38;5;241m>\u001b[39m DataFrame \u001b[38;5;241m|\u001b[39m \u001b[38;5;28;01mNone\u001b[39;00m:\n\u001b[1;32m   5431\u001b[0m \u001b[38;5;250m    \u001b[39m\u001b[38;5;124;03m\"\"\"\u001b[39;00m\n\u001b[1;32m   5432\u001b[0m \u001b[38;5;124;03m    Drop specified labels from rows or columns.\u001b[39;00m\n\u001b[1;32m   5433\u001b[0m \n\u001b[0;32m   (...)\u001b[0m\n\u001b[1;32m   5566\u001b[0m \u001b[38;5;124;03m            weight  1.0     0.8\u001b[39;00m\n\u001b[1;32m   5567\u001b[0m \u001b[38;5;124;03m    \"\"\"\u001b[39;00m\n\u001b[0;32m-> 5568\u001b[0m     \u001b[38;5;28;01mreturn\u001b[39;00m \u001b[38;5;28;43msuper\u001b[39;49m\u001b[43m(\u001b[49m\u001b[43m)\u001b[49m\u001b[38;5;241;43m.\u001b[39;49m\u001b[43mdrop\u001b[49m\u001b[43m(\u001b[49m\n\u001b[1;32m   5569\u001b[0m \u001b[43m        \u001b[49m\u001b[43mlabels\u001b[49m\u001b[38;5;241;43m=\u001b[39;49m\u001b[43mlabels\u001b[49m\u001b[43m,\u001b[49m\n\u001b[1;32m   5570\u001b[0m \u001b[43m        \u001b[49m\u001b[43maxis\u001b[49m\u001b[38;5;241;43m=\u001b[39;49m\u001b[43maxis\u001b[49m\u001b[43m,\u001b[49m\n\u001b[1;32m   5571\u001b[0m \u001b[43m        \u001b[49m\u001b[43mindex\u001b[49m\u001b[38;5;241;43m=\u001b[39;49m\u001b[43mindex\u001b[49m\u001b[43m,\u001b[49m\n\u001b[1;32m   5572\u001b[0m \u001b[43m        \u001b[49m\u001b[43mcolumns\u001b[49m\u001b[38;5;241;43m=\u001b[39;49m\u001b[43mcolumns\u001b[49m\u001b[43m,\u001b[49m\n\u001b[1;32m   5573\u001b[0m \u001b[43m        \u001b[49m\u001b[43mlevel\u001b[49m\u001b[38;5;241;43m=\u001b[39;49m\u001b[43mlevel\u001b[49m\u001b[43m,\u001b[49m\n\u001b[1;32m   5574\u001b[0m \u001b[43m        \u001b[49m\u001b[43minplace\u001b[49m\u001b[38;5;241;43m=\u001b[39;49m\u001b[43minplace\u001b[49m\u001b[43m,\u001b[49m\n\u001b[1;32m   5575\u001b[0m \u001b[43m        \u001b[49m\u001b[43merrors\u001b[49m\u001b[38;5;241;43m=\u001b[39;49m\u001b[43merrors\u001b[49m\u001b[43m,\u001b[49m\n\u001b[1;32m   5576\u001b[0m \u001b[43m    \u001b[49m\u001b[43m)\u001b[49m\n",
      "File \u001b[0;32m~/.pyenv/versions/3.10.6/envs/power/lib/python3.10/site-packages/pandas/core/generic.py:4785\u001b[0m, in \u001b[0;36mNDFrame.drop\u001b[0;34m(self, labels, axis, index, columns, level, inplace, errors)\u001b[0m\n\u001b[1;32m   4783\u001b[0m \u001b[38;5;28;01mfor\u001b[39;00m axis, labels \u001b[38;5;129;01min\u001b[39;00m axes\u001b[38;5;241m.\u001b[39mitems():\n\u001b[1;32m   4784\u001b[0m     \u001b[38;5;28;01mif\u001b[39;00m labels \u001b[38;5;129;01mis\u001b[39;00m \u001b[38;5;129;01mnot\u001b[39;00m \u001b[38;5;28;01mNone\u001b[39;00m:\n\u001b[0;32m-> 4785\u001b[0m         obj \u001b[38;5;241m=\u001b[39m \u001b[43mobj\u001b[49m\u001b[38;5;241;43m.\u001b[39;49m\u001b[43m_drop_axis\u001b[49m\u001b[43m(\u001b[49m\u001b[43mlabels\u001b[49m\u001b[43m,\u001b[49m\u001b[43m \u001b[49m\u001b[43maxis\u001b[49m\u001b[43m,\u001b[49m\u001b[43m \u001b[49m\u001b[43mlevel\u001b[49m\u001b[38;5;241;43m=\u001b[39;49m\u001b[43mlevel\u001b[49m\u001b[43m,\u001b[49m\u001b[43m \u001b[49m\u001b[43merrors\u001b[49m\u001b[38;5;241;43m=\u001b[39;49m\u001b[43merrors\u001b[49m\u001b[43m)\u001b[49m\n\u001b[1;32m   4787\u001b[0m \u001b[38;5;28;01mif\u001b[39;00m inplace:\n\u001b[1;32m   4788\u001b[0m     \u001b[38;5;28mself\u001b[39m\u001b[38;5;241m.\u001b[39m_update_inplace(obj)\n",
      "File \u001b[0;32m~/.pyenv/versions/3.10.6/envs/power/lib/python3.10/site-packages/pandas/core/generic.py:4827\u001b[0m, in \u001b[0;36mNDFrame._drop_axis\u001b[0;34m(self, labels, axis, level, errors, only_slice)\u001b[0m\n\u001b[1;32m   4825\u001b[0m         new_axis \u001b[38;5;241m=\u001b[39m axis\u001b[38;5;241m.\u001b[39mdrop(labels, level\u001b[38;5;241m=\u001b[39mlevel, errors\u001b[38;5;241m=\u001b[39merrors)\n\u001b[1;32m   4826\u001b[0m     \u001b[38;5;28;01melse\u001b[39;00m:\n\u001b[0;32m-> 4827\u001b[0m         new_axis \u001b[38;5;241m=\u001b[39m \u001b[43maxis\u001b[49m\u001b[38;5;241;43m.\u001b[39;49m\u001b[43mdrop\u001b[49m\u001b[43m(\u001b[49m\u001b[43mlabels\u001b[49m\u001b[43m,\u001b[49m\u001b[43m \u001b[49m\u001b[43merrors\u001b[49m\u001b[38;5;241;43m=\u001b[39;49m\u001b[43merrors\u001b[49m\u001b[43m)\u001b[49m\n\u001b[1;32m   4828\u001b[0m     indexer \u001b[38;5;241m=\u001b[39m axis\u001b[38;5;241m.\u001b[39mget_indexer(new_axis)\n\u001b[1;32m   4830\u001b[0m \u001b[38;5;66;03m# Case for non-unique axis\u001b[39;00m\n\u001b[1;32m   4831\u001b[0m \u001b[38;5;28;01melse\u001b[39;00m:\n",
      "File \u001b[0;32m~/.pyenv/versions/3.10.6/envs/power/lib/python3.10/site-packages/pandas/core/indexes/base.py:7070\u001b[0m, in \u001b[0;36mIndex.drop\u001b[0;34m(self, labels, errors)\u001b[0m\n\u001b[1;32m   7068\u001b[0m \u001b[38;5;28;01mif\u001b[39;00m mask\u001b[38;5;241m.\u001b[39many():\n\u001b[1;32m   7069\u001b[0m     \u001b[38;5;28;01mif\u001b[39;00m errors \u001b[38;5;241m!=\u001b[39m \u001b[38;5;124m\"\u001b[39m\u001b[38;5;124mignore\u001b[39m\u001b[38;5;124m\"\u001b[39m:\n\u001b[0;32m-> 7070\u001b[0m         \u001b[38;5;28;01mraise\u001b[39;00m \u001b[38;5;167;01mKeyError\u001b[39;00m(\u001b[38;5;124mf\u001b[39m\u001b[38;5;124m\"\u001b[39m\u001b[38;5;132;01m{\u001b[39;00mlabels[mask]\u001b[38;5;241m.\u001b[39mtolist()\u001b[38;5;132;01m}\u001b[39;00m\u001b[38;5;124m not found in axis\u001b[39m\u001b[38;5;124m\"\u001b[39m)\n\u001b[1;32m   7071\u001b[0m     indexer \u001b[38;5;241m=\u001b[39m indexer[\u001b[38;5;241m~\u001b[39mmask]\n\u001b[1;32m   7072\u001b[0m \u001b[38;5;28;01mreturn\u001b[39;00m \u001b[38;5;28mself\u001b[39m\u001b[38;5;241m.\u001b[39mdelete(indexer)\n",
      "\u001b[0;31mKeyError\u001b[0m: \"['Unnamed: 0.1'] not found in axis\""
     ]
    }
   ],
   "source": [
    "# load data\n",
    "pv_df = pd.read_csv('../raw_data/1980-2022_pv.csv')\n",
    "\n",
    "# drop columns\n",
    "pv_df.drop(columns=['irradiance_direct','irradiance_diffuse','temperature',\n",
    "                    'source','Unnamed: 0.1'], inplace=True)\n",
    "\n",
    "# convert dtypes\n",
    "pv_df.electricity = pv_df.electricity.astype(float)\n",
    "\n",
    "#pv_df.local_time    = pd.to_datetime(pv_df.local_time) #\n",
    "pv_df.local_time    = pv_df.local_time.apply(lambda x:\n",
    "                                            dt.datetime.strptime(x,\n",
    "                                            \"%Y-%m-%d %H:%M:%S%z\"))\n",
    "\n",
    "\n",
    "pv_df['Unnamed: 0'] = pd.to_datetime(pv_df['Unnamed: 0'], unit='ms').dt.tz_localize('UTC')\n",
    "\n",
    "# name columns\n",
    "pv_df.rename(columns={'Unnamed: 0': 'utc_time'}, inplace=True)\n",
    "\n",
    "# show\n",
    "pv_df.head(2)"
   ]
  },
  {
   "cell_type": "code",
   "execution_count": null,
   "metadata": {},
   "outputs": [],
   "source": [
    "pv_df.info()"
   ]
  },
  {
   "cell_type": "code",
   "execution_count": null,
   "metadata": {},
   "outputs": [],
   "source": [
    "pv_df.tail(2)"
   ]
  },
  {
   "cell_type": "code",
   "execution_count": 18,
   "metadata": {},
   "outputs": [
    {
     "name": "stdout",
     "output_type": "stream",
     "text": [
      "pv_df number of rows:  376944\n",
      "Number of unique values:\n"
     ]
    },
    {
     "data": {
      "text/plain": [
       "_0-1                       0\n",
       "_0                    376944\n",
       "local_time            376944\n",
       "electricity              892\n",
       "irradiance_direct       1004\n",
       "irradiance_diffuse       386\n",
       "temperature            44061\n",
       "source                    43\n",
       "dtype: int64"
      ]
     },
     "execution_count": 18,
     "metadata": {},
     "output_type": "execute_result"
    }
   ],
   "source": [
    "# unique dates match the df length\n",
    "print('pv_df number of rows: ', pv_df.shape[0])\n",
    "print('Number of unique values:')\n",
    "pv_df.nunique()"
   ]
  },
  {
   "cell_type": "code",
   "execution_count": 19,
   "metadata": {},
   "outputs": [
    {
     "data": {
      "text/plain": [
       "_0-1                  376944\n",
       "_0                         0\n",
       "local_time                 0\n",
       "electricity                0\n",
       "irradiance_direct          0\n",
       "irradiance_diffuse         0\n",
       "temperature                0\n",
       "source                     0\n",
       "dtype: int64"
      ]
     },
     "execution_count": 19,
     "metadata": {},
     "output_type": "execute_result"
    }
   ],
   "source": [
    "# There are no NA values\n",
    "pv_df.isna().sum()"
   ]
  },
  {
   "cell_type": "code",
   "execution_count": 20,
   "metadata": {},
   "outputs": [
    {
     "name": "stdout",
     "output_type": "stream",
     "text": [
      "Number of negative electricity values:  0\n",
      "Number of electricity values above max. capacity (1 kw):  0\n"
     ]
    }
   ],
   "source": [
    "print('Number of negative electricity values: ', len(pv_df[pv_df.electricity < 0.0]))\n",
    "print('Number of electricity values above max. capacity (1 kw): ', len( pv_df[pv_df.electricity > 1.0]))"
   ]
  },
  {
   "cell_type": "code",
   "execution_count": 21,
   "metadata": {},
   "outputs": [],
   "source": [
    "def get_pv_data() -> pd.DataFrame:\n",
    "    \"\"\"\n",
    "    Load raw data from local directory\n",
    "    \"\"\"\n",
    "    df = pd.read_csv('../raw_data/1980-2022_pv.csv')\n",
    "    print('# data loaded')\n",
    "    return df\n"
   ]
  },
  {
   "cell_type": "code",
   "execution_count": 22,
   "metadata": {},
   "outputs": [],
   "source": [
    "def clean_pv_data(pv_df: pd.DataFrame) ->pd.DataFrame:\n",
    "    \"\"\"\n",
    "    Remove unnecessary columns and convert to right dtypes\n",
    "    \"\"\"\n",
    "    # remove unnevessary columns\n",
    "    pv_df.drop(columns=['irradiance_direct','irradiance_diffuse','temperature',\n",
    "                    'source','Unnamed: 0.1'], inplace=True)\n",
    "\n",
    "    # convert dtypes\n",
    "    pv_df.electricity = pv_df.electricity.astype(float)\n",
    "\n",
    "    pv_df.local_time    = pv_df.local_time.apply(lambda x:\n",
    "                                            dt.datetime.strptime(x,\n",
    "                                            \"%Y-%m-%d %H:%M:%S%z\")) # pd.to_datetime gives warning\n",
    "\n",
    "    pv_df['Unnamed: 0'] = pd.to_datetime(pv_df['Unnamed: 0'],\n",
    "                                         unit='ms').dt.tz_localize('UTC')\n",
    "    # correct column names\n",
    "    pv_df.rename(columns={'Unnamed: 0': 'utc_time'}, inplace=True)\n",
    "\n",
    "    print('# data cleaned')\n",
    "    return pv_df"
   ]
  },
  {
   "cell_type": "code",
   "execution_count": 23,
   "metadata": {},
   "outputs": [
    {
     "name": "stdout",
     "output_type": "stream",
     "text": [
      "# data loaded\n"
     ]
    },
    {
     "ename": "KeyError",
     "evalue": "\"['Unnamed: 0.1'] not found in axis\"",
     "output_type": "error",
     "traceback": [
      "\u001b[0;31m---------------------------------------------------------------------------\u001b[0m",
      "\u001b[0;31mKeyError\u001b[0m                                  Traceback (most recent call last)",
      "Cell \u001b[0;32mIn[23], line 2\u001b[0m\n\u001b[1;32m      1\u001b[0m df \u001b[38;5;241m=\u001b[39m get_pv_data()\n\u001b[0;32m----> 2\u001b[0m df \u001b[38;5;241m=\u001b[39m \u001b[43mclean_pv_data\u001b[49m\u001b[43m(\u001b[49m\u001b[43mdf\u001b[49m\u001b[43m)\u001b[49m\n\u001b[1;32m      3\u001b[0m df\u001b[38;5;241m.\u001b[39mhead()\n",
      "Cell \u001b[0;32mIn[22], line 6\u001b[0m, in \u001b[0;36mclean_pv_data\u001b[0;34m(pv_df)\u001b[0m\n\u001b[1;32m      2\u001b[0m \u001b[38;5;250m\u001b[39m\u001b[38;5;124;03m\"\"\"\u001b[39;00m\n\u001b[1;32m      3\u001b[0m \u001b[38;5;124;03mRemove unnecessary columns and convert to right dtypes\u001b[39;00m\n\u001b[1;32m      4\u001b[0m \u001b[38;5;124;03m\"\"\"\u001b[39;00m\n\u001b[1;32m      5\u001b[0m \u001b[38;5;66;03m# remove unnevessary columns\u001b[39;00m\n\u001b[0;32m----> 6\u001b[0m \u001b[43mpv_df\u001b[49m\u001b[38;5;241;43m.\u001b[39;49m\u001b[43mdrop\u001b[49m\u001b[43m(\u001b[49m\u001b[43mcolumns\u001b[49m\u001b[38;5;241;43m=\u001b[39;49m\u001b[43m[\u001b[49m\u001b[38;5;124;43m'\u001b[39;49m\u001b[38;5;124;43mirradiance_direct\u001b[39;49m\u001b[38;5;124;43m'\u001b[39;49m\u001b[43m,\u001b[49m\u001b[38;5;124;43m'\u001b[39;49m\u001b[38;5;124;43mirradiance_diffuse\u001b[39;49m\u001b[38;5;124;43m'\u001b[39;49m\u001b[43m,\u001b[49m\u001b[38;5;124;43m'\u001b[39;49m\u001b[38;5;124;43mtemperature\u001b[39;49m\u001b[38;5;124;43m'\u001b[39;49m\u001b[43m,\u001b[49m\n\u001b[1;32m      7\u001b[0m \u001b[43m                \u001b[49m\u001b[38;5;124;43m'\u001b[39;49m\u001b[38;5;124;43msource\u001b[39;49m\u001b[38;5;124;43m'\u001b[39;49m\u001b[43m,\u001b[49m\u001b[38;5;124;43m'\u001b[39;49m\u001b[38;5;124;43mUnnamed: 0.1\u001b[39;49m\u001b[38;5;124;43m'\u001b[39;49m\u001b[43m]\u001b[49m\u001b[43m,\u001b[49m\u001b[43m \u001b[49m\u001b[43minplace\u001b[49m\u001b[38;5;241;43m=\u001b[39;49m\u001b[38;5;28;43;01mTrue\u001b[39;49;00m\u001b[43m)\u001b[49m\n\u001b[1;32m      9\u001b[0m \u001b[38;5;66;03m# convert dtypes\u001b[39;00m\n\u001b[1;32m     10\u001b[0m pv_df\u001b[38;5;241m.\u001b[39melectricity \u001b[38;5;241m=\u001b[39m pv_df\u001b[38;5;241m.\u001b[39melectricity\u001b[38;5;241m.\u001b[39mastype(\u001b[38;5;28mfloat\u001b[39m)\n",
      "File \u001b[0;32m~/.pyenv/versions/3.10.6/envs/power/lib/python3.10/site-packages/pandas/core/frame.py:5568\u001b[0m, in \u001b[0;36mDataFrame.drop\u001b[0;34m(self, labels, axis, index, columns, level, inplace, errors)\u001b[0m\n\u001b[1;32m   5420\u001b[0m \u001b[38;5;28;01mdef\u001b[39;00m \u001b[38;5;21mdrop\u001b[39m(\n\u001b[1;32m   5421\u001b[0m     \u001b[38;5;28mself\u001b[39m,\n\u001b[1;32m   5422\u001b[0m     labels: IndexLabel \u001b[38;5;241m|\u001b[39m \u001b[38;5;28;01mNone\u001b[39;00m \u001b[38;5;241m=\u001b[39m \u001b[38;5;28;01mNone\u001b[39;00m,\n\u001b[0;32m   (...)\u001b[0m\n\u001b[1;32m   5429\u001b[0m     errors: IgnoreRaise \u001b[38;5;241m=\u001b[39m \u001b[38;5;124m\"\u001b[39m\u001b[38;5;124mraise\u001b[39m\u001b[38;5;124m\"\u001b[39m,\n\u001b[1;32m   5430\u001b[0m ) \u001b[38;5;241m-\u001b[39m\u001b[38;5;241m>\u001b[39m DataFrame \u001b[38;5;241m|\u001b[39m \u001b[38;5;28;01mNone\u001b[39;00m:\n\u001b[1;32m   5431\u001b[0m \u001b[38;5;250m    \u001b[39m\u001b[38;5;124;03m\"\"\"\u001b[39;00m\n\u001b[1;32m   5432\u001b[0m \u001b[38;5;124;03m    Drop specified labels from rows or columns.\u001b[39;00m\n\u001b[1;32m   5433\u001b[0m \n\u001b[0;32m   (...)\u001b[0m\n\u001b[1;32m   5566\u001b[0m \u001b[38;5;124;03m            weight  1.0     0.8\u001b[39;00m\n\u001b[1;32m   5567\u001b[0m \u001b[38;5;124;03m    \"\"\"\u001b[39;00m\n\u001b[0;32m-> 5568\u001b[0m     \u001b[38;5;28;01mreturn\u001b[39;00m \u001b[38;5;28;43msuper\u001b[39;49m\u001b[43m(\u001b[49m\u001b[43m)\u001b[49m\u001b[38;5;241;43m.\u001b[39;49m\u001b[43mdrop\u001b[49m\u001b[43m(\u001b[49m\n\u001b[1;32m   5569\u001b[0m \u001b[43m        \u001b[49m\u001b[43mlabels\u001b[49m\u001b[38;5;241;43m=\u001b[39;49m\u001b[43mlabels\u001b[49m\u001b[43m,\u001b[49m\n\u001b[1;32m   5570\u001b[0m \u001b[43m        \u001b[49m\u001b[43maxis\u001b[49m\u001b[38;5;241;43m=\u001b[39;49m\u001b[43maxis\u001b[49m\u001b[43m,\u001b[49m\n\u001b[1;32m   5571\u001b[0m \u001b[43m        \u001b[49m\u001b[43mindex\u001b[49m\u001b[38;5;241;43m=\u001b[39;49m\u001b[43mindex\u001b[49m\u001b[43m,\u001b[49m\n\u001b[1;32m   5572\u001b[0m \u001b[43m        \u001b[49m\u001b[43mcolumns\u001b[49m\u001b[38;5;241;43m=\u001b[39;49m\u001b[43mcolumns\u001b[49m\u001b[43m,\u001b[49m\n\u001b[1;32m   5573\u001b[0m \u001b[43m        \u001b[49m\u001b[43mlevel\u001b[49m\u001b[38;5;241;43m=\u001b[39;49m\u001b[43mlevel\u001b[49m\u001b[43m,\u001b[49m\n\u001b[1;32m   5574\u001b[0m \u001b[43m        \u001b[49m\u001b[43minplace\u001b[49m\u001b[38;5;241;43m=\u001b[39;49m\u001b[43minplace\u001b[49m\u001b[43m,\u001b[49m\n\u001b[1;32m   5575\u001b[0m \u001b[43m        \u001b[49m\u001b[43merrors\u001b[49m\u001b[38;5;241;43m=\u001b[39;49m\u001b[43merrors\u001b[49m\u001b[43m,\u001b[49m\n\u001b[1;32m   5576\u001b[0m \u001b[43m    \u001b[49m\u001b[43m)\u001b[49m\n",
      "File \u001b[0;32m~/.pyenv/versions/3.10.6/envs/power/lib/python3.10/site-packages/pandas/core/generic.py:4785\u001b[0m, in \u001b[0;36mNDFrame.drop\u001b[0;34m(self, labels, axis, index, columns, level, inplace, errors)\u001b[0m\n\u001b[1;32m   4783\u001b[0m \u001b[38;5;28;01mfor\u001b[39;00m axis, labels \u001b[38;5;129;01min\u001b[39;00m axes\u001b[38;5;241m.\u001b[39mitems():\n\u001b[1;32m   4784\u001b[0m     \u001b[38;5;28;01mif\u001b[39;00m labels \u001b[38;5;129;01mis\u001b[39;00m \u001b[38;5;129;01mnot\u001b[39;00m \u001b[38;5;28;01mNone\u001b[39;00m:\n\u001b[0;32m-> 4785\u001b[0m         obj \u001b[38;5;241m=\u001b[39m \u001b[43mobj\u001b[49m\u001b[38;5;241;43m.\u001b[39;49m\u001b[43m_drop_axis\u001b[49m\u001b[43m(\u001b[49m\u001b[43mlabels\u001b[49m\u001b[43m,\u001b[49m\u001b[43m \u001b[49m\u001b[43maxis\u001b[49m\u001b[43m,\u001b[49m\u001b[43m \u001b[49m\u001b[43mlevel\u001b[49m\u001b[38;5;241;43m=\u001b[39;49m\u001b[43mlevel\u001b[49m\u001b[43m,\u001b[49m\u001b[43m \u001b[49m\u001b[43merrors\u001b[49m\u001b[38;5;241;43m=\u001b[39;49m\u001b[43merrors\u001b[49m\u001b[43m)\u001b[49m\n\u001b[1;32m   4787\u001b[0m \u001b[38;5;28;01mif\u001b[39;00m inplace:\n\u001b[1;32m   4788\u001b[0m     \u001b[38;5;28mself\u001b[39m\u001b[38;5;241m.\u001b[39m_update_inplace(obj)\n",
      "File \u001b[0;32m~/.pyenv/versions/3.10.6/envs/power/lib/python3.10/site-packages/pandas/core/generic.py:4827\u001b[0m, in \u001b[0;36mNDFrame._drop_axis\u001b[0;34m(self, labels, axis, level, errors, only_slice)\u001b[0m\n\u001b[1;32m   4825\u001b[0m         new_axis \u001b[38;5;241m=\u001b[39m axis\u001b[38;5;241m.\u001b[39mdrop(labels, level\u001b[38;5;241m=\u001b[39mlevel, errors\u001b[38;5;241m=\u001b[39merrors)\n\u001b[1;32m   4826\u001b[0m     \u001b[38;5;28;01melse\u001b[39;00m:\n\u001b[0;32m-> 4827\u001b[0m         new_axis \u001b[38;5;241m=\u001b[39m \u001b[43maxis\u001b[49m\u001b[38;5;241;43m.\u001b[39;49m\u001b[43mdrop\u001b[49m\u001b[43m(\u001b[49m\u001b[43mlabels\u001b[49m\u001b[43m,\u001b[49m\u001b[43m \u001b[49m\u001b[43merrors\u001b[49m\u001b[38;5;241;43m=\u001b[39;49m\u001b[43merrors\u001b[49m\u001b[43m)\u001b[49m\n\u001b[1;32m   4828\u001b[0m     indexer \u001b[38;5;241m=\u001b[39m axis\u001b[38;5;241m.\u001b[39mget_indexer(new_axis)\n\u001b[1;32m   4830\u001b[0m \u001b[38;5;66;03m# Case for non-unique axis\u001b[39;00m\n\u001b[1;32m   4831\u001b[0m \u001b[38;5;28;01melse\u001b[39;00m:\n",
      "File \u001b[0;32m~/.pyenv/versions/3.10.6/envs/power/lib/python3.10/site-packages/pandas/core/indexes/base.py:7070\u001b[0m, in \u001b[0;36mIndex.drop\u001b[0;34m(self, labels, errors)\u001b[0m\n\u001b[1;32m   7068\u001b[0m \u001b[38;5;28;01mif\u001b[39;00m mask\u001b[38;5;241m.\u001b[39many():\n\u001b[1;32m   7069\u001b[0m     \u001b[38;5;28;01mif\u001b[39;00m errors \u001b[38;5;241m!=\u001b[39m \u001b[38;5;124m\"\u001b[39m\u001b[38;5;124mignore\u001b[39m\u001b[38;5;124m\"\u001b[39m:\n\u001b[0;32m-> 7070\u001b[0m         \u001b[38;5;28;01mraise\u001b[39;00m \u001b[38;5;167;01mKeyError\u001b[39;00m(\u001b[38;5;124mf\u001b[39m\u001b[38;5;124m\"\u001b[39m\u001b[38;5;132;01m{\u001b[39;00mlabels[mask]\u001b[38;5;241m.\u001b[39mtolist()\u001b[38;5;132;01m}\u001b[39;00m\u001b[38;5;124m not found in axis\u001b[39m\u001b[38;5;124m\"\u001b[39m)\n\u001b[1;32m   7071\u001b[0m     indexer \u001b[38;5;241m=\u001b[39m indexer[\u001b[38;5;241m~\u001b[39mmask]\n\u001b[1;32m   7072\u001b[0m \u001b[38;5;28;01mreturn\u001b[39;00m \u001b[38;5;28mself\u001b[39m\u001b[38;5;241m.\u001b[39mdelete(indexer)\n",
      "\u001b[0;31mKeyError\u001b[0m: \"['Unnamed: 0.1'] not found in axis\""
     ]
    }
   ],
   "source": [
    "df = get_pv_data()\n",
    "df = clean_pv_data(df)\n",
    "df.head()"
   ]
  },
  {
   "cell_type": "markdown",
   "metadata": {},
   "source": [
    "## Select years"
   ]
  },
  {
   "cell_type": "code",
   "execution_count": null,
   "metadata": {},
   "outputs": [],
   "source": [
    "df = get_pv_data()\n",
    "df = clean_pv_data(df)\n",
    "df.head(2)"
   ]
  },
  {
   "cell_type": "code",
   "execution_count": 24,
   "metadata": {},
   "outputs": [
    {
     "ename": "AttributeError",
     "evalue": "'DataFrame' object has no attribute 'utc_time'",
     "output_type": "error",
     "traceback": [
      "\u001b[0;31m---------------------------------------------------------------------------\u001b[0m",
      "\u001b[0;31mAttributeError\u001b[0m                            Traceback (most recent call last)",
      "\u001b[0;32m/var/folders/b1/83z4ln8j1yd088xz1fgkbd2c0000gn/T/ipykernel_58875/4162578646.py\u001b[0m in \u001b[0;36m?\u001b[0;34m()\u001b[0m\n\u001b[1;32m      2\u001b[0m \u001b[0men\u001b[0m \u001b[0;34m=\u001b[0m \u001b[0;36m1980\u001b[0m\u001b[0;34m\u001b[0m\u001b[0;34m\u001b[0m\u001b[0m\n\u001b[1;32m      3\u001b[0m \u001b[0;34m\u001b[0m\u001b[0m\n\u001b[1;32m      4\u001b[0m \u001b[0mstart\u001b[0m \u001b[0;34m=\u001b[0m \u001b[0;34m\"1980-01-01 00:00:00\"\u001b[0m\u001b[0;34m\u001b[0m\u001b[0;34m\u001b[0m\u001b[0m\n\u001b[1;32m      5\u001b[0m \u001b[0mend\u001b[0m   \u001b[0;34m=\u001b[0m \u001b[0;34m\"1982-12-31 23:00:00\"\u001b[0m\u001b[0;34m\u001b[0m\u001b[0;34m\u001b[0m\u001b[0m\n\u001b[0;32m----> 6\u001b[0;31m \u001b[0mpart_df\u001b[0m \u001b[0;34m=\u001b[0m \u001b[0mdf\u001b[0m\u001b[0;34m[\u001b[0m\u001b[0mdf\u001b[0m\u001b[0;34m.\u001b[0m\u001b[0mutc_time\u001b[0m\u001b[0;34m.\u001b[0m\u001b[0mbetween\u001b[0m\u001b[0;34m(\u001b[0m\u001b[0mstart\u001b[0m\u001b[0;34m,\u001b[0m \u001b[0mend\u001b[0m\u001b[0;34m)\u001b[0m\u001b[0;34m]\u001b[0m\u001b[0;34m\u001b[0m\u001b[0;34m\u001b[0m\u001b[0m\n\u001b[0m\u001b[1;32m      7\u001b[0m \u001b[0;34m\u001b[0m\u001b[0m\n\u001b[1;32m      8\u001b[0m \u001b[0mprint\u001b[0m\u001b[0;34m(\u001b[0m\u001b[0mpart_df\u001b[0m\u001b[0;34m.\u001b[0m\u001b[0mhead\u001b[0m\u001b[0;34m(\u001b[0m\u001b[0;36m1\u001b[0m\u001b[0;34m)\u001b[0m\u001b[0;34m)\u001b[0m\u001b[0;34m\u001b[0m\u001b[0;34m\u001b[0m\u001b[0m\n\u001b[1;32m      9\u001b[0m \u001b[0mprint\u001b[0m\u001b[0;34m(\u001b[0m\u001b[0mpart_df\u001b[0m\u001b[0;34m.\u001b[0m\u001b[0mtail\u001b[0m\u001b[0;34m(\u001b[0m\u001b[0;36m1\u001b[0m\u001b[0;34m)\u001b[0m\u001b[0;34m)\u001b[0m\u001b[0;34m\u001b[0m\u001b[0;34m\u001b[0m\u001b[0m\n",
      "\u001b[0;32m~/.pyenv/versions/3.10.6/envs/power/lib/python3.10/site-packages/pandas/core/generic.py\u001b[0m in \u001b[0;36m?\u001b[0;34m(self, name)\u001b[0m\n\u001b[1;32m   6292\u001b[0m             \u001b[0;32mand\u001b[0m \u001b[0mname\u001b[0m \u001b[0;32mnot\u001b[0m \u001b[0;32min\u001b[0m \u001b[0mself\u001b[0m\u001b[0;34m.\u001b[0m\u001b[0m_accessors\u001b[0m\u001b[0;34m\u001b[0m\u001b[0;34m\u001b[0m\u001b[0m\n\u001b[1;32m   6293\u001b[0m             \u001b[0;32mand\u001b[0m \u001b[0mself\u001b[0m\u001b[0;34m.\u001b[0m\u001b[0m_info_axis\u001b[0m\u001b[0;34m.\u001b[0m\u001b[0m_can_hold_identifiers_and_holds_name\u001b[0m\u001b[0;34m(\u001b[0m\u001b[0mname\u001b[0m\u001b[0;34m)\u001b[0m\u001b[0;34m\u001b[0m\u001b[0;34m\u001b[0m\u001b[0m\n\u001b[1;32m   6294\u001b[0m         ):\n\u001b[1;32m   6295\u001b[0m             \u001b[0;32mreturn\u001b[0m \u001b[0mself\u001b[0m\u001b[0;34m[\u001b[0m\u001b[0mname\u001b[0m\u001b[0;34m]\u001b[0m\u001b[0;34m\u001b[0m\u001b[0;34m\u001b[0m\u001b[0m\n\u001b[0;32m-> 6296\u001b[0;31m         \u001b[0;32mreturn\u001b[0m \u001b[0mobject\u001b[0m\u001b[0;34m.\u001b[0m\u001b[0m__getattribute__\u001b[0m\u001b[0;34m(\u001b[0m\u001b[0mself\u001b[0m\u001b[0;34m,\u001b[0m \u001b[0mname\u001b[0m\u001b[0;34m)\u001b[0m\u001b[0;34m\u001b[0m\u001b[0;34m\u001b[0m\u001b[0m\n\u001b[0m",
      "\u001b[0;31mAttributeError\u001b[0m: 'DataFrame' object has no attribute 'utc_time'"
     ]
    }
   ],
   "source": [
    "st = 1980\n",
    "en = 1980\n",
    "\n",
    "start = \"1980-01-01 00:00:00\"\n",
    "end   = \"1982-12-31 23:00:00\"\n",
    "part_df = df[df.utc_time.between(start, end)]\n",
    "\n",
    "print(part_df.head(1))\n",
    "print(part_df.tail(1))"
   ]
  },
  {
   "cell_type": "code",
   "execution_count": 25,
   "metadata": {},
   "outputs": [],
   "source": [
    "def select_years(df: pd.DataFrame, start=1980, end=1980)-> pd.DataFrame:\n",
    "    \"\"\"\n",
    "    Select a subset of the cleaned data to process it further. Use this function\n",
    "    to split into test set and train+validation set.\n",
    "    Input:\n",
    "      - cleaned dataframe from the raw data\n",
    "      - start year (inclusive)\n",
    "      - end year (inclusive)\n",
    "    Output:\n",
    "      - df between start and end year\n",
    "    \"\"\"\n",
    "    start_point = f\"{start}-01-01 00:00:00\"\n",
    "    end_point   = f\"{end}-12-31 23:00:00\"\n",
    "    years_df = df[df.utc_time.between(start_point, end_point)]\n",
    "\n",
    "    n_years = years_df['utc_time'].dt.year.nunique()\n",
    "    print(f\"# selected {n_years} years from {start} to {end}\")\n",
    "\n",
    "    return years_df\n"
   ]
  },
  {
   "cell_type": "code",
   "execution_count": 26,
   "metadata": {},
   "outputs": [
    {
     "ename": "AttributeError",
     "evalue": "'DataFrame' object has no attribute 'utc_time'",
     "output_type": "error",
     "traceback": [
      "\u001b[0;31m---------------------------------------------------------------------------\u001b[0m",
      "\u001b[0;31mAttributeError\u001b[0m                            Traceback (most recent call last)",
      "\u001b[0;32m/var/folders/b1/83z4ln8j1yd088xz1fgkbd2c0000gn/T/ipykernel_58875/1825868485.py\u001b[0m in \u001b[0;36m?\u001b[0;34m()\u001b[0m\n\u001b[0;32m----> 1\u001b[0;31m \u001b[0mtest_df\u001b[0m \u001b[0;34m=\u001b[0m \u001b[0mselect_years\u001b[0m\u001b[0;34m(\u001b[0m\u001b[0mdf\u001b[0m\u001b[0;34m,\u001b[0m \u001b[0mstart\u001b[0m\u001b[0;34m=\u001b[0m\u001b[0;36m1980\u001b[0m\u001b[0;34m,\u001b[0m \u001b[0mend\u001b[0m\u001b[0;34m=\u001b[0m\u001b[0;36m1983\u001b[0m\u001b[0;34m)\u001b[0m\u001b[0;34m\u001b[0m\u001b[0;34m\u001b[0m\u001b[0m\n\u001b[0m",
      "\u001b[0;32m/var/folders/b1/83z4ln8j1yd088xz1fgkbd2c0000gn/T/ipykernel_58875/2749527462.py\u001b[0m in \u001b[0;36m?\u001b[0;34m(df, start, end)\u001b[0m\n\u001b[1;32m     10\u001b[0m       \u001b[0;34m-\u001b[0m \u001b[0mdf\u001b[0m \u001b[0mbetween\u001b[0m \u001b[0mstart\u001b[0m \u001b[0;32mand\u001b[0m \u001b[0mend\u001b[0m \u001b[0myear\u001b[0m\u001b[0;34m\u001b[0m\u001b[0;34m\u001b[0m\u001b[0m\n\u001b[1;32m     11\u001b[0m     \"\"\"\n\u001b[1;32m     12\u001b[0m     \u001b[0mstart_point\u001b[0m \u001b[0;34m=\u001b[0m \u001b[0;34mf\"{start}-01-01 00:00:00\"\u001b[0m\u001b[0;34m\u001b[0m\u001b[0;34m\u001b[0m\u001b[0m\n\u001b[1;32m     13\u001b[0m     \u001b[0mend_point\u001b[0m   \u001b[0;34m=\u001b[0m \u001b[0;34mf\"{end}-12-31 23:00:00\"\u001b[0m\u001b[0;34m\u001b[0m\u001b[0;34m\u001b[0m\u001b[0m\n\u001b[0;32m---> 14\u001b[0;31m     \u001b[0myears_df\u001b[0m \u001b[0;34m=\u001b[0m \u001b[0mdf\u001b[0m\u001b[0;34m[\u001b[0m\u001b[0mdf\u001b[0m\u001b[0;34m.\u001b[0m\u001b[0mutc_time\u001b[0m\u001b[0;34m.\u001b[0m\u001b[0mbetween\u001b[0m\u001b[0;34m(\u001b[0m\u001b[0mstart_point\u001b[0m\u001b[0;34m,\u001b[0m \u001b[0mend_point\u001b[0m\u001b[0;34m)\u001b[0m\u001b[0;34m]\u001b[0m\u001b[0;34m\u001b[0m\u001b[0;34m\u001b[0m\u001b[0m\n\u001b[0m\u001b[1;32m     15\u001b[0m \u001b[0;34m\u001b[0m\u001b[0m\n\u001b[1;32m     16\u001b[0m     \u001b[0mn_years\u001b[0m \u001b[0;34m=\u001b[0m \u001b[0myears_df\u001b[0m\u001b[0;34m[\u001b[0m\u001b[0;34m'utc_time'\u001b[0m\u001b[0;34m]\u001b[0m\u001b[0;34m.\u001b[0m\u001b[0mdt\u001b[0m\u001b[0;34m.\u001b[0m\u001b[0myear\u001b[0m\u001b[0;34m.\u001b[0m\u001b[0mnunique\u001b[0m\u001b[0;34m(\u001b[0m\u001b[0;34m)\u001b[0m\u001b[0;34m\u001b[0m\u001b[0;34m\u001b[0m\u001b[0m\n\u001b[1;32m     17\u001b[0m     \u001b[0mprint\u001b[0m\u001b[0;34m(\u001b[0m\u001b[0;34mf\"# selected {n_years} years from {start} to {end}\"\u001b[0m\u001b[0;34m)\u001b[0m\u001b[0;34m\u001b[0m\u001b[0;34m\u001b[0m\u001b[0m\n",
      "\u001b[0;32m~/.pyenv/versions/3.10.6/envs/power/lib/python3.10/site-packages/pandas/core/generic.py\u001b[0m in \u001b[0;36m?\u001b[0;34m(self, name)\u001b[0m\n\u001b[1;32m   6292\u001b[0m             \u001b[0;32mand\u001b[0m \u001b[0mname\u001b[0m \u001b[0;32mnot\u001b[0m \u001b[0;32min\u001b[0m \u001b[0mself\u001b[0m\u001b[0;34m.\u001b[0m\u001b[0m_accessors\u001b[0m\u001b[0;34m\u001b[0m\u001b[0;34m\u001b[0m\u001b[0m\n\u001b[1;32m   6293\u001b[0m             \u001b[0;32mand\u001b[0m \u001b[0mself\u001b[0m\u001b[0;34m.\u001b[0m\u001b[0m_info_axis\u001b[0m\u001b[0;34m.\u001b[0m\u001b[0m_can_hold_identifiers_and_holds_name\u001b[0m\u001b[0;34m(\u001b[0m\u001b[0mname\u001b[0m\u001b[0;34m)\u001b[0m\u001b[0;34m\u001b[0m\u001b[0;34m\u001b[0m\u001b[0m\n\u001b[1;32m   6294\u001b[0m         ):\n\u001b[1;32m   6295\u001b[0m             \u001b[0;32mreturn\u001b[0m \u001b[0mself\u001b[0m\u001b[0;34m[\u001b[0m\u001b[0mname\u001b[0m\u001b[0;34m]\u001b[0m\u001b[0;34m\u001b[0m\u001b[0;34m\u001b[0m\u001b[0m\n\u001b[0;32m-> 6296\u001b[0;31m         \u001b[0;32mreturn\u001b[0m \u001b[0mobject\u001b[0m\u001b[0;34m.\u001b[0m\u001b[0m__getattribute__\u001b[0m\u001b[0;34m(\u001b[0m\u001b[0mself\u001b[0m\u001b[0;34m,\u001b[0m \u001b[0mname\u001b[0m\u001b[0;34m)\u001b[0m\u001b[0;34m\u001b[0m\u001b[0;34m\u001b[0m\u001b[0m\n\u001b[0m",
      "\u001b[0;31mAttributeError\u001b[0m: 'DataFrame' object has no attribute 'utc_time'"
     ]
    }
   ],
   "source": [
    "test_df = select_years(df, start=1980, end=1983)\n"
   ]
  },
  {
   "cell_type": "code",
   "execution_count": 27,
   "metadata": {},
   "outputs": [
    {
     "ename": "NameError",
     "evalue": "name 'test_df' is not defined",
     "output_type": "error",
     "traceback": [
      "\u001b[0;31m---------------------------------------------------------------------------\u001b[0m",
      "\u001b[0;31mNameError\u001b[0m                                 Traceback (most recent call last)",
      "Cell \u001b[0;32mIn[27], line 1\u001b[0m\n\u001b[0;32m----> 1\u001b[0m \u001b[43mtest_df\u001b[49m\u001b[38;5;241m.\u001b[39mhead(\u001b[38;5;241m2\u001b[39m)\n",
      "\u001b[0;31mNameError\u001b[0m: name 'test_df' is not defined"
     ]
    }
   ],
   "source": [
    "test_df.head(2)"
   ]
  },
  {
   "cell_type": "code",
   "execution_count": 28,
   "metadata": {},
   "outputs": [
    {
     "ename": "NameError",
     "evalue": "name 'test_df' is not defined",
     "output_type": "error",
     "traceback": [
      "\u001b[0;31m---------------------------------------------------------------------------\u001b[0m",
      "\u001b[0;31mNameError\u001b[0m                                 Traceback (most recent call last)",
      "Cell \u001b[0;32mIn[28], line 1\u001b[0m\n\u001b[0;32m----> 1\u001b[0m \u001b[43mtest_df\u001b[49m\u001b[38;5;241m.\u001b[39mtail(\u001b[38;5;241m2\u001b[39m)\n",
      "\u001b[0;31mNameError\u001b[0m: name 'test_df' is not defined"
     ]
    }
   ],
   "source": [
    "test_df.tail(2)"
   ]
  },
  {
   "cell_type": "markdown",
   "metadata": {},
   "source": [
    "## Create statitics df"
   ]
  },
  {
   "cell_type": "code",
   "execution_count": 29,
   "metadata": {},
   "outputs": [
    {
     "ename": "AttributeError",
     "evalue": "'DataFrame' object has no attribute 'utc_time'",
     "output_type": "error",
     "traceback": [
      "\u001b[0;31m---------------------------------------------------------------------------\u001b[0m",
      "\u001b[0;31mAttributeError\u001b[0m                            Traceback (most recent call last)",
      "\u001b[0;32m/var/folders/b1/83z4ln8j1yd088xz1fgkbd2c0000gn/T/ipykernel_58875/589407169.py\u001b[0m in \u001b[0;36m?\u001b[0;34m()\u001b[0m\n\u001b[0;32m----> 1\u001b[0;31m \u001b[0myears_df\u001b[0m \u001b[0;34m=\u001b[0m \u001b[0mselect_years\u001b[0m\u001b[0;34m(\u001b[0m\u001b[0mdf\u001b[0m\u001b[0;34m,\u001b[0m \u001b[0mstart\u001b[0m\u001b[0;34m=\u001b[0m\u001b[0;36m1980\u001b[0m\u001b[0;34m,\u001b[0m \u001b[0mend\u001b[0m\u001b[0;34m=\u001b[0m\u001b[0;36m1982\u001b[0m\u001b[0;34m)\u001b[0m\u001b[0;34m\u001b[0m\u001b[0;34m\u001b[0m\u001b[0m\n\u001b[0m\u001b[1;32m      2\u001b[0m \u001b[0;34m\u001b[0m\u001b[0m\n\u001b[1;32m      3\u001b[0m \u001b[0myears_df\u001b[0m\u001b[0;34m[\u001b[0m\u001b[0;34m'hour_of_year'\u001b[0m\u001b[0;34m]\u001b[0m \u001b[0;34m=\u001b[0m \u001b[0myears_df\u001b[0m\u001b[0;34m.\u001b[0m\u001b[0mutc_time\u001b[0m\u001b[0;34m.\u001b[0m\u001b[0;31m\\\u001b[0m\u001b[0;34m\u001b[0m\u001b[0;34m\u001b[0m\u001b[0m\n\u001b[1;32m      4\u001b[0m                            \u001b[0mapply\u001b[0m\u001b[0;34m(\u001b[0m\u001b[0;32mlambda\u001b[0m \u001b[0mx\u001b[0m\u001b[0;34m:\u001b[0m \u001b[0mx\u001b[0m\u001b[0;34m.\u001b[0m\u001b[0mstrftime\u001b[0m\u001b[0;34m(\u001b[0m\u001b[0;34m\"%m%d%H\"\u001b[0m\u001b[0;34m)\u001b[0m\u001b[0;34m)\u001b[0m\u001b[0;34m\u001b[0m\u001b[0;34m\u001b[0m\u001b[0m\n",
      "\u001b[0;32m/var/folders/b1/83z4ln8j1yd088xz1fgkbd2c0000gn/T/ipykernel_58875/2749527462.py\u001b[0m in \u001b[0;36m?\u001b[0;34m(df, start, end)\u001b[0m\n\u001b[1;32m     10\u001b[0m       \u001b[0;34m-\u001b[0m \u001b[0mdf\u001b[0m \u001b[0mbetween\u001b[0m \u001b[0mstart\u001b[0m \u001b[0;32mand\u001b[0m \u001b[0mend\u001b[0m \u001b[0myear\u001b[0m\u001b[0;34m\u001b[0m\u001b[0;34m\u001b[0m\u001b[0m\n\u001b[1;32m     11\u001b[0m     \"\"\"\n\u001b[1;32m     12\u001b[0m     \u001b[0mstart_point\u001b[0m \u001b[0;34m=\u001b[0m \u001b[0;34mf\"{start}-01-01 00:00:00\"\u001b[0m\u001b[0;34m\u001b[0m\u001b[0;34m\u001b[0m\u001b[0m\n\u001b[1;32m     13\u001b[0m     \u001b[0mend_point\u001b[0m   \u001b[0;34m=\u001b[0m \u001b[0;34mf\"{end}-12-31 23:00:00\"\u001b[0m\u001b[0;34m\u001b[0m\u001b[0;34m\u001b[0m\u001b[0m\n\u001b[0;32m---> 14\u001b[0;31m     \u001b[0myears_df\u001b[0m \u001b[0;34m=\u001b[0m \u001b[0mdf\u001b[0m\u001b[0;34m[\u001b[0m\u001b[0mdf\u001b[0m\u001b[0;34m.\u001b[0m\u001b[0mutc_time\u001b[0m\u001b[0;34m.\u001b[0m\u001b[0mbetween\u001b[0m\u001b[0;34m(\u001b[0m\u001b[0mstart_point\u001b[0m\u001b[0;34m,\u001b[0m \u001b[0mend_point\u001b[0m\u001b[0;34m)\u001b[0m\u001b[0;34m]\u001b[0m\u001b[0;34m\u001b[0m\u001b[0;34m\u001b[0m\u001b[0m\n\u001b[0m\u001b[1;32m     15\u001b[0m \u001b[0;34m\u001b[0m\u001b[0m\n\u001b[1;32m     16\u001b[0m     \u001b[0mn_years\u001b[0m \u001b[0;34m=\u001b[0m \u001b[0myears_df\u001b[0m\u001b[0;34m[\u001b[0m\u001b[0;34m'utc_time'\u001b[0m\u001b[0;34m]\u001b[0m\u001b[0;34m.\u001b[0m\u001b[0mdt\u001b[0m\u001b[0;34m.\u001b[0m\u001b[0myear\u001b[0m\u001b[0;34m.\u001b[0m\u001b[0mnunique\u001b[0m\u001b[0;34m(\u001b[0m\u001b[0;34m)\u001b[0m\u001b[0;34m\u001b[0m\u001b[0;34m\u001b[0m\u001b[0m\n\u001b[1;32m     17\u001b[0m     \u001b[0mprint\u001b[0m\u001b[0;34m(\u001b[0m\u001b[0;34mf\"# selected {n_years} years from {start} to {end}\"\u001b[0m\u001b[0;34m)\u001b[0m\u001b[0;34m\u001b[0m\u001b[0;34m\u001b[0m\u001b[0m\n",
      "\u001b[0;32m~/.pyenv/versions/3.10.6/envs/power/lib/python3.10/site-packages/pandas/core/generic.py\u001b[0m in \u001b[0;36m?\u001b[0;34m(self, name)\u001b[0m\n\u001b[1;32m   6292\u001b[0m             \u001b[0;32mand\u001b[0m \u001b[0mname\u001b[0m \u001b[0;32mnot\u001b[0m \u001b[0;32min\u001b[0m \u001b[0mself\u001b[0m\u001b[0;34m.\u001b[0m\u001b[0m_accessors\u001b[0m\u001b[0;34m\u001b[0m\u001b[0;34m\u001b[0m\u001b[0m\n\u001b[1;32m   6293\u001b[0m             \u001b[0;32mand\u001b[0m \u001b[0mself\u001b[0m\u001b[0;34m.\u001b[0m\u001b[0m_info_axis\u001b[0m\u001b[0;34m.\u001b[0m\u001b[0m_can_hold_identifiers_and_holds_name\u001b[0m\u001b[0;34m(\u001b[0m\u001b[0mname\u001b[0m\u001b[0;34m)\u001b[0m\u001b[0;34m\u001b[0m\u001b[0;34m\u001b[0m\u001b[0m\n\u001b[1;32m   6294\u001b[0m         ):\n\u001b[1;32m   6295\u001b[0m             \u001b[0;32mreturn\u001b[0m \u001b[0mself\u001b[0m\u001b[0;34m[\u001b[0m\u001b[0mname\u001b[0m\u001b[0;34m]\u001b[0m\u001b[0;34m\u001b[0m\u001b[0;34m\u001b[0m\u001b[0m\n\u001b[0;32m-> 6296\u001b[0;31m         \u001b[0;32mreturn\u001b[0m \u001b[0mobject\u001b[0m\u001b[0;34m.\u001b[0m\u001b[0m__getattribute__\u001b[0m\u001b[0;34m(\u001b[0m\u001b[0mself\u001b[0m\u001b[0;34m,\u001b[0m \u001b[0mname\u001b[0m\u001b[0;34m)\u001b[0m\u001b[0;34m\u001b[0m\u001b[0;34m\u001b[0m\u001b[0m\n\u001b[0m",
      "\u001b[0;31mAttributeError\u001b[0m: 'DataFrame' object has no attribute 'utc_time'"
     ]
    }
   ],
   "source": [
    "years_df = select_years(df, start=1980, end=1982)\n",
    "\n",
    "years_df['hour_of_year'] = years_df.utc_time.\\\n",
    "                           apply(lambda x: x.strftime(\"%m%d%H\"))\n",
    "\n",
    "stats_df = years_df[['hour_of_year', 'electricity']]\\\n",
    "    .groupby(['hour_of_year']).agg(['mean','median','std','skew','min','max'])\n"
   ]
  },
  {
   "cell_type": "code",
   "execution_count": 30,
   "metadata": {},
   "outputs": [],
   "source": [
    "def statistic_table(years_df: pd.DataFrame) -> pd.DataFrame:\n",
    "\n",
    "    years_df = years_df.copy()\n",
    "    years_df['hour_of_year'] = years_df.utc_time.\\\n",
    "                           apply(lambda x: x.strftime(\"%m%d%H\"))\n",
    "\n",
    "    stats_df = years_df[['hour_of_year', 'electricity']]\\\n",
    "    .groupby(['hour_of_year']).agg(['mean','median','std','skew',\n",
    "                                    'min','max','count'])\n",
    "\n",
    "    print('# calculated statistics for every hour of the year')\n",
    "\n",
    "    return stats_df"
   ]
  },
  {
   "cell_type": "code",
   "execution_count": 31,
   "metadata": {},
   "outputs": [
    {
     "ename": "AttributeError",
     "evalue": "'DataFrame' object has no attribute 'utc_time'",
     "output_type": "error",
     "traceback": [
      "\u001b[0;31m---------------------------------------------------------------------------\u001b[0m",
      "\u001b[0;31mAttributeError\u001b[0m                            Traceback (most recent call last)",
      "\u001b[0;32m/var/folders/b1/83z4ln8j1yd088xz1fgkbd2c0000gn/T/ipykernel_58875/2994776931.py\u001b[0m in \u001b[0;36m?\u001b[0;34m()\u001b[0m\n\u001b[0;32m----> 1\u001b[0;31m \u001b[0myears_df\u001b[0m \u001b[0;34m=\u001b[0m \u001b[0mselect_years\u001b[0m\u001b[0;34m(\u001b[0m\u001b[0mdf\u001b[0m\u001b[0;34m,\u001b[0m \u001b[0mstart\u001b[0m\u001b[0;34m=\u001b[0m\u001b[0;36m1980\u001b[0m\u001b[0;34m,\u001b[0m \u001b[0mend\u001b[0m\u001b[0;34m=\u001b[0m\u001b[0;36m1982\u001b[0m\u001b[0;34m)\u001b[0m\u001b[0;34m\u001b[0m\u001b[0;34m\u001b[0m\u001b[0m\n\u001b[0m\u001b[1;32m      2\u001b[0m \u001b[0mstats_df\u001b[0m \u001b[0;34m=\u001b[0m \u001b[0mstatistic_table\u001b[0m\u001b[0;34m(\u001b[0m\u001b[0myears_df\u001b[0m\u001b[0;34m)\u001b[0m\u001b[0;34m\u001b[0m\u001b[0;34m\u001b[0m\u001b[0m\n",
      "\u001b[0;32m/var/folders/b1/83z4ln8j1yd088xz1fgkbd2c0000gn/T/ipykernel_58875/2749527462.py\u001b[0m in \u001b[0;36m?\u001b[0;34m(df, start, end)\u001b[0m\n\u001b[1;32m     10\u001b[0m       \u001b[0;34m-\u001b[0m \u001b[0mdf\u001b[0m \u001b[0mbetween\u001b[0m \u001b[0mstart\u001b[0m \u001b[0;32mand\u001b[0m \u001b[0mend\u001b[0m \u001b[0myear\u001b[0m\u001b[0;34m\u001b[0m\u001b[0;34m\u001b[0m\u001b[0m\n\u001b[1;32m     11\u001b[0m     \"\"\"\n\u001b[1;32m     12\u001b[0m     \u001b[0mstart_point\u001b[0m \u001b[0;34m=\u001b[0m \u001b[0;34mf\"{start}-01-01 00:00:00\"\u001b[0m\u001b[0;34m\u001b[0m\u001b[0;34m\u001b[0m\u001b[0m\n\u001b[1;32m     13\u001b[0m     \u001b[0mend_point\u001b[0m   \u001b[0;34m=\u001b[0m \u001b[0;34mf\"{end}-12-31 23:00:00\"\u001b[0m\u001b[0;34m\u001b[0m\u001b[0;34m\u001b[0m\u001b[0m\n\u001b[0;32m---> 14\u001b[0;31m     \u001b[0myears_df\u001b[0m \u001b[0;34m=\u001b[0m \u001b[0mdf\u001b[0m\u001b[0;34m[\u001b[0m\u001b[0mdf\u001b[0m\u001b[0;34m.\u001b[0m\u001b[0mutc_time\u001b[0m\u001b[0;34m.\u001b[0m\u001b[0mbetween\u001b[0m\u001b[0;34m(\u001b[0m\u001b[0mstart_point\u001b[0m\u001b[0;34m,\u001b[0m \u001b[0mend_point\u001b[0m\u001b[0;34m)\u001b[0m\u001b[0;34m]\u001b[0m\u001b[0;34m\u001b[0m\u001b[0;34m\u001b[0m\u001b[0m\n\u001b[0m\u001b[1;32m     15\u001b[0m \u001b[0;34m\u001b[0m\u001b[0m\n\u001b[1;32m     16\u001b[0m     \u001b[0mn_years\u001b[0m \u001b[0;34m=\u001b[0m \u001b[0myears_df\u001b[0m\u001b[0;34m[\u001b[0m\u001b[0;34m'utc_time'\u001b[0m\u001b[0;34m]\u001b[0m\u001b[0;34m.\u001b[0m\u001b[0mdt\u001b[0m\u001b[0;34m.\u001b[0m\u001b[0myear\u001b[0m\u001b[0;34m.\u001b[0m\u001b[0mnunique\u001b[0m\u001b[0;34m(\u001b[0m\u001b[0;34m)\u001b[0m\u001b[0;34m\u001b[0m\u001b[0;34m\u001b[0m\u001b[0m\n\u001b[1;32m     17\u001b[0m     \u001b[0mprint\u001b[0m\u001b[0;34m(\u001b[0m\u001b[0;34mf\"# selected {n_years} years from {start} to {end}\"\u001b[0m\u001b[0;34m)\u001b[0m\u001b[0;34m\u001b[0m\u001b[0;34m\u001b[0m\u001b[0m\n",
      "\u001b[0;32m~/.pyenv/versions/3.10.6/envs/power/lib/python3.10/site-packages/pandas/core/generic.py\u001b[0m in \u001b[0;36m?\u001b[0;34m(self, name)\u001b[0m\n\u001b[1;32m   6292\u001b[0m             \u001b[0;32mand\u001b[0m \u001b[0mname\u001b[0m \u001b[0;32mnot\u001b[0m \u001b[0;32min\u001b[0m \u001b[0mself\u001b[0m\u001b[0;34m.\u001b[0m\u001b[0m_accessors\u001b[0m\u001b[0;34m\u001b[0m\u001b[0;34m\u001b[0m\u001b[0m\n\u001b[1;32m   6293\u001b[0m             \u001b[0;32mand\u001b[0m \u001b[0mself\u001b[0m\u001b[0;34m.\u001b[0m\u001b[0m_info_axis\u001b[0m\u001b[0;34m.\u001b[0m\u001b[0m_can_hold_identifiers_and_holds_name\u001b[0m\u001b[0;34m(\u001b[0m\u001b[0mname\u001b[0m\u001b[0;34m)\u001b[0m\u001b[0;34m\u001b[0m\u001b[0;34m\u001b[0m\u001b[0m\n\u001b[1;32m   6294\u001b[0m         ):\n\u001b[1;32m   6295\u001b[0m             \u001b[0;32mreturn\u001b[0m \u001b[0mself\u001b[0m\u001b[0;34m[\u001b[0m\u001b[0mname\u001b[0m\u001b[0;34m]\u001b[0m\u001b[0;34m\u001b[0m\u001b[0;34m\u001b[0m\u001b[0m\n\u001b[0;32m-> 6296\u001b[0;31m         \u001b[0;32mreturn\u001b[0m \u001b[0mobject\u001b[0m\u001b[0;34m.\u001b[0m\u001b[0m__getattribute__\u001b[0m\u001b[0;34m(\u001b[0m\u001b[0mself\u001b[0m\u001b[0;34m,\u001b[0m \u001b[0mname\u001b[0m\u001b[0;34m)\u001b[0m\u001b[0;34m\u001b[0m\u001b[0;34m\u001b[0m\u001b[0m\n\u001b[0m",
      "\u001b[0;31mAttributeError\u001b[0m: 'DataFrame' object has no attribute 'utc_time'"
     ]
    }
   ],
   "source": [
    "\n",
    "years_df = select_years(df, start=1980, end=1982)\n",
    "stats_df = statistic_table(years_df)"
   ]
  },
  {
   "cell_type": "code",
   "execution_count": 32,
   "metadata": {},
   "outputs": [
    {
     "ename": "NameError",
     "evalue": "name 'stats_df' is not defined",
     "output_type": "error",
     "traceback": [
      "\u001b[0;31m---------------------------------------------------------------------------\u001b[0m",
      "\u001b[0;31mNameError\u001b[0m                                 Traceback (most recent call last)",
      "Cell \u001b[0;32mIn[32], line 2\u001b[0m\n\u001b[1;32m      1\u001b[0m fig, ax \u001b[38;5;241m=\u001b[39m plt\u001b[38;5;241m.\u001b[39msubplots()\n\u001b[0;32m----> 2\u001b[0m \u001b[43mstats_df\u001b[49m\u001b[38;5;241m.\u001b[39mloc[\u001b[38;5;124m'\u001b[39m\u001b[38;5;124m010100\u001b[39m\u001b[38;5;124m'\u001b[39m:\u001b[38;5;124m'\u001b[39m\u001b[38;5;124m010223\u001b[39m\u001b[38;5;124m'\u001b[39m,([\u001b[38;5;124m'\u001b[39m\u001b[38;5;124melectricity\u001b[39m\u001b[38;5;124m'\u001b[39m], [\u001b[38;5;124m'\u001b[39m\u001b[38;5;124mmean\u001b[39m\u001b[38;5;124m'\u001b[39m])]\u001b[38;5;241m.\u001b[39mplot(kind\u001b[38;5;241m=\u001b[39m\u001b[38;5;124m'\u001b[39m\u001b[38;5;124mbar\u001b[39m\u001b[38;5;124m'\u001b[39m,\n\u001b[1;32m      3\u001b[0m                                                                  ax\u001b[38;5;241m=\u001b[39max,)\n\u001b[1;32m      4\u001b[0m stats_df\u001b[38;5;241m.\u001b[39mloc[\u001b[38;5;124m'\u001b[39m\u001b[38;5;124m010100\u001b[39m\u001b[38;5;124m'\u001b[39m:\u001b[38;5;124m'\u001b[39m\u001b[38;5;124m010223\u001b[39m\u001b[38;5;124m'\u001b[39m,([\u001b[38;5;124m'\u001b[39m\u001b[38;5;124melectricity\u001b[39m\u001b[38;5;124m'\u001b[39m], [\u001b[38;5;124m'\u001b[39m\u001b[38;5;124mmin\u001b[39m\u001b[38;5;124m'\u001b[39m,\u001b[38;5;124m'\u001b[39m\u001b[38;5;124mmax\u001b[39m\u001b[38;5;124m'\u001b[39m])]\u001b[38;5;241m.\u001b[39mplot(ax\u001b[38;5;241m=\u001b[39max)\n",
      "\u001b[0;31mNameError\u001b[0m: name 'stats_df' is not defined"
     ]
    },
    {
     "data": {
      "image/png": "[encoded data removed]",
      "text/plain": [
       "<Figure size 640x480 with 1 Axes>"
      ]
     },
     "metadata": {},
     "output_type": "display_data"
    }
   ],
   "source": [
    "fig, ax = plt.subplots()\n",
    "stats_df.loc['010100':'010223',(['electricity'], ['mean'])].plot(kind='bar',\n",
    "                                                                 ax=ax,)\n",
    "stats_df.loc['010100':'010223',(['electricity'], ['min','max'])].plot(ax=ax)"
   ]
  },
  {
   "cell_type": "markdown",
   "metadata": {},
   "source": [
    "## Baseline model mean"
   ]
  },
  {
   "cell_type": "code",
   "execution_count": 114,
   "metadata": {},
   "outputs": [
    {
     "ename": "AttributeError",
     "evalue": "'DataFrame' object has no attribute 'utc_time'",
     "output_type": "error",
     "traceback": [
      "\u001b[0;31m---------------------------------------------------------------------------\u001b[0m",
      "\u001b[0;31mAttributeError\u001b[0m                            Traceback (most recent call last)",
      "\u001b[0;32m/var/folders/b1/83z4ln8j1yd088xz1fgkbd2c0000gn/T/ipykernel_58875/2197086126.py\u001b[0m in \u001b[0;36m?\u001b[0;34m()\u001b[0m\n\u001b[0;32m----> 1\u001b[0;31m \u001b[0myears_df\u001b[0m \u001b[0;34m=\u001b[0m \u001b[0mselect_years\u001b[0m\u001b[0;34m(\u001b[0m\u001b[0mdf\u001b[0m\u001b[0;34m,\u001b[0m \u001b[0mstart\u001b[0m\u001b[0;34m=\u001b[0m\u001b[0;36m1980\u001b[0m\u001b[0;34m,\u001b[0m \u001b[0mend\u001b[0m\u001b[0;34m=\u001b[0m\u001b[0;36m1982\u001b[0m\u001b[0;34m)\u001b[0m\u001b[0;34m\u001b[0m\u001b[0;34m\u001b[0m\u001b[0m\n\u001b[0m\u001b[1;32m      2\u001b[0m \u001b[0mstats_df\u001b[0m \u001b[0;34m=\u001b[0m \u001b[0mstatistic_table\u001b[0m\u001b[0;34m(\u001b[0m\u001b[0myears_df\u001b[0m\u001b[0;34m)\u001b[0m\u001b[0;34m\u001b[0m\u001b[0;34m\u001b[0m\u001b[0m\n",
      "\u001b[0;32m/var/folders/b1/83z4ln8j1yd088xz1fgkbd2c0000gn/T/ipykernel_58875/2749527462.py\u001b[0m in \u001b[0;36m?\u001b[0;34m(df, start, end)\u001b[0m\n\u001b[1;32m     10\u001b[0m       \u001b[0;34m-\u001b[0m \u001b[0mdf\u001b[0m \u001b[0mbetween\u001b[0m \u001b[0mstart\u001b[0m \u001b[0;32mand\u001b[0m \u001b[0mend\u001b[0m \u001b[0myear\u001b[0m\u001b[0;34m\u001b[0m\u001b[0;34m\u001b[0m\u001b[0m\n\u001b[1;32m     11\u001b[0m     \"\"\"\n\u001b[1;32m     12\u001b[0m     \u001b[0mstart_point\u001b[0m \u001b[0;34m=\u001b[0m \u001b[0;34mf\"{start}-01-01 00:00:00\"\u001b[0m\u001b[0;34m\u001b[0m\u001b[0;34m\u001b[0m\u001b[0m\n\u001b[1;32m     13\u001b[0m     \u001b[0mend_point\u001b[0m   \u001b[0;34m=\u001b[0m \u001b[0;34mf\"{end}-12-31 23:00:00\"\u001b[0m\u001b[0;34m\u001b[0m\u001b[0;34m\u001b[0m\u001b[0m\n\u001b[0;32m---> 14\u001b[0;31m     \u001b[0myears_df\u001b[0m \u001b[0;34m=\u001b[0m \u001b[0mdf\u001b[0m\u001b[0;34m[\u001b[0m\u001b[0mdf\u001b[0m\u001b[0;34m.\u001b[0m\u001b[0mutc_time\u001b[0m\u001b[0;34m.\u001b[0m\u001b[0mbetween\u001b[0m\u001b[0;34m(\u001b[0m\u001b[0mstart_point\u001b[0m\u001b[0;34m,\u001b[0m \u001b[0mend_point\u001b[0m\u001b[0;34m)\u001b[0m\u001b[0;34m]\u001b[0m\u001b[0;34m\u001b[0m\u001b[0;34m\u001b[0m\u001b[0m\n\u001b[0m\u001b[1;32m     15\u001b[0m \u001b[0;34m\u001b[0m\u001b[0m\n\u001b[1;32m     16\u001b[0m     \u001b[0mn_years\u001b[0m \u001b[0;34m=\u001b[0m \u001b[0myears_df\u001b[0m\u001b[0;34m[\u001b[0m\u001b[0;34m'utc_time'\u001b[0m\u001b[0;34m]\u001b[0m\u001b[0;34m.\u001b[0m\u001b[0mdt\u001b[0m\u001b[0;34m.\u001b[0m\u001b[0myear\u001b[0m\u001b[0;34m.\u001b[0m\u001b[0mnunique\u001b[0m\u001b[0;34m(\u001b[0m\u001b[0;34m)\u001b[0m\u001b[0;34m\u001b[0m\u001b[0;34m\u001b[0m\u001b[0m\n\u001b[1;32m     17\u001b[0m     \u001b[0mprint\u001b[0m\u001b[0;34m(\u001b[0m\u001b[0;34mf\"# selected {n_years} years from {start} to {end}\"\u001b[0m\u001b[0;34m)\u001b[0m\u001b[0;34m\u001b[0m\u001b[0;34m\u001b[0m\u001b[0m\n",
      "\u001b[0;32m~/.pyenv/versions/3.10.6/envs/power/lib/python3.10/site-packages/pandas/core/generic.py\u001b[0m in \u001b[0;36m?\u001b[0;34m(self, name)\u001b[0m\n\u001b[1;32m   6292\u001b[0m             \u001b[0;32mand\u001b[0m \u001b[0mname\u001b[0m \u001b[0;32mnot\u001b[0m \u001b[0;32min\u001b[0m \u001b[0mself\u001b[0m\u001b[0;34m.\u001b[0m\u001b[0m_accessors\u001b[0m\u001b[0;34m\u001b[0m\u001b[0;34m\u001b[0m\u001b[0m\n\u001b[1;32m   6293\u001b[0m             \u001b[0;32mand\u001b[0m \u001b[0mself\u001b[0m\u001b[0;34m.\u001b[0m\u001b[0m_info_axis\u001b[0m\u001b[0;34m.\u001b[0m\u001b[0m_can_hold_identifiers_and_holds_name\u001b[0m\u001b[0;34m(\u001b[0m\u001b[0mname\u001b[0m\u001b[0;34m)\u001b[0m\u001b[0;34m\u001b[0m\u001b[0;34m\u001b[0m\u001b[0m\n\u001b[1;32m   6294\u001b[0m         ):\n\u001b[1;32m   6295\u001b[0m             \u001b[0;32mreturn\u001b[0m \u001b[0mself\u001b[0m\u001b[0;34m[\u001b[0m\u001b[0mname\u001b[0m\u001b[0;34m]\u001b[0m\u001b[0;34m\u001b[0m\u001b[0;34m\u001b[0m\u001b[0m\n\u001b[0;32m-> 6296\u001b[0;31m         \u001b[0;32mreturn\u001b[0m \u001b[0mobject\u001b[0m\u001b[0;34m.\u001b[0m\u001b[0m__getattribute__\u001b[0m\u001b[0;34m(\u001b[0m\u001b[0mself\u001b[0m\u001b[0;34m,\u001b[0m \u001b[0mname\u001b[0m\u001b[0;34m)\u001b[0m\u001b[0;34m\u001b[0m\u001b[0;34m\u001b[0m\u001b[0m\n\u001b[0m",
      "\u001b[0;31mAttributeError\u001b[0m: 'DataFrame' object has no attribute 'utc_time'"
     ]
    }
   ],
   "source": [
    "years_df = select_years(df, start=1980, end=1982)\n",
    "stats_df = statistic_table(years_df)"
   ]
  },
  {
   "cell_type": "code",
   "execution_count": 34,
   "metadata": {},
   "outputs": [
    {
     "data": {
      "text/plain": [
       "Timestamp('2000-05-15 01:00:00+0000', tz='UTC')"
      ]
     },
     "execution_count": 34,
     "metadata": {},
     "output_type": "execute_result"
    }
   ],
   "source": [
    "input_date = '2000-05-15 01:00:00' # \"YEAR-MONTH-DAY HOUR:MIN:SECONDS\"\n",
    "input_timestamp = pd.Timestamp(input_date, tz='UTC')\n",
    "input_timestamp"
   ]
  },
  {
   "cell_type": "code",
   "execution_count": 35,
   "metadata": {},
   "outputs": [],
   "source": [
    "next24 = pd.date_range(\n",
    "            start=input_timestamp,\n",
    "            end=  input_timestamp + pd.Timedelta(hours=23),\n",
    "            freq=pd.Timedelta(hours=1)).to_frame(index=False, name='utc_time')\n"
   ]
  },
  {
   "cell_type": "code",
   "execution_count": 36,
   "metadata": {},
   "outputs": [],
   "source": [
    "#next24 = next24.to_frame(index=False, name='utc_time')\n",
    "next24['hour_of_year'] = next24.utc_time.\\\n",
    "                           apply(lambda x: x.strftime(\"%m%d%H\"))\n"
   ]
  },
  {
   "cell_type": "code",
   "execution_count": 37,
   "metadata": {},
   "outputs": [
    {
     "ename": "NameError",
     "evalue": "name 'years_df' is not defined",
     "output_type": "error",
     "traceback": [
      "\u001b[0;31m---------------------------------------------------------------------------\u001b[0m",
      "\u001b[0;31mNameError\u001b[0m                                 Traceback (most recent call last)",
      "Cell \u001b[0;32mIn[37], line 1\u001b[0m\n\u001b[0;32m----> 1\u001b[0m stats_df \u001b[38;5;241m=\u001b[39m statistic_table(\u001b[43myears_df\u001b[49m)\n\u001b[1;32m      2\u001b[0m stats_df\u001b[38;5;241m.\u001b[39mcolumns \u001b[38;5;241m=\u001b[39m stats_df\u001b[38;5;241m.\u001b[39mcolumns\u001b[38;5;241m.\u001b[39mdroplevel(level\u001b[38;5;241m=\u001b[39m\u001b[38;5;241m0\u001b[39m)\n",
      "\u001b[0;31mNameError\u001b[0m: name 'years_df' is not defined"
     ]
    }
   ],
   "source": [
    "stats_df = statistic_table(years_df)\n",
    "stats_df.columns = stats_df.columns.droplevel(level=0)\n"
   ]
  },
  {
   "cell_type": "code",
   "execution_count": 38,
   "metadata": {},
   "outputs": [
    {
     "name": "stdout",
     "output_type": "stream",
     "text": [
      "2000-05-15 01:00:00\n"
     ]
    },
    {
     "ename": "NameError",
     "evalue": "name 'stats_df' is not defined",
     "output_type": "error",
     "traceback": [
      "\u001b[0;31m---------------------------------------------------------------------------\u001b[0m",
      "\u001b[0;31mNameError\u001b[0m                                 Traceback (most recent call last)",
      "Cell \u001b[0;32mIn[38], line 2\u001b[0m\n\u001b[1;32m      1\u001b[0m \u001b[38;5;28mprint\u001b[39m(input_date)\n\u001b[0;32m----> 2\u001b[0m stats_pred \u001b[38;5;241m=\u001b[39m next24\u001b[38;5;241m.\u001b[39mjoin(\u001b[43mstats_df\u001b[49m, on\u001b[38;5;241m=\u001b[39m\u001b[38;5;124m'\u001b[39m\u001b[38;5;124mhour_of_year\u001b[39m\u001b[38;5;124m'\u001b[39m, how\u001b[38;5;241m=\u001b[39m\u001b[38;5;124m'\u001b[39m\u001b[38;5;124minner\u001b[39m\u001b[38;5;124m'\u001b[39m, validate\u001b[38;5;241m=\u001b[39m\u001b[38;5;124m'\u001b[39m\u001b[38;5;124mone_to_one\u001b[39m\u001b[38;5;124m'\u001b[39m)\n\u001b[1;32m      3\u001b[0m stats_pred\n",
      "\u001b[0;31mNameError\u001b[0m: name 'stats_df' is not defined"
     ]
    }
   ],
   "source": [
    "print(input_date)\n",
    "stats_pred = next24.join(stats_df, on='hour_of_year', how='inner', validate='one_to_one')\n",
    "stats_pred"
   ]
  },
  {
   "cell_type": "code",
   "execution_count": 39,
   "metadata": {},
   "outputs": [
    {
     "ename": "NameError",
     "evalue": "name 'stats_pred' is not defined",
     "output_type": "error",
     "traceback": [
      "\u001b[0;31m---------------------------------------------------------------------------\u001b[0m",
      "\u001b[0;31mNameError\u001b[0m                                 Traceback (most recent call last)",
      "Cell \u001b[0;32mIn[39], line 1\u001b[0m\n\u001b[0;32m----> 1\u001b[0m \u001b[43mstats_pred\u001b[49m\u001b[38;5;241m.\u001b[39mdrop(columns\u001b[38;5;241m=\u001b[39m\u001b[38;5;124m'\u001b[39m\u001b[38;5;124mhour_of_year\u001b[39m\u001b[38;5;124m'\u001b[39m, inplace\u001b[38;5;241m=\u001b[39m\u001b[38;5;28;01mTrue\u001b[39;00m)\n\u001b[1;32m      2\u001b[0m stats_pred\u001b[38;5;241m.\u001b[39mshape\n",
      "\u001b[0;31mNameError\u001b[0m: name 'stats_pred' is not defined"
     ]
    }
   ],
   "source": [
    "stats_pred.drop(columns='hour_of_year', inplace=True)\n",
    "stats_pred.shape"
   ]
  },
  {
   "cell_type": "code",
   "execution_count": 40,
   "metadata": {},
   "outputs": [],
   "source": [
    "def model_mean(X: pd.DataFrame, input_date: str) -> pd.DataFrame:\n",
    "\n",
    "  input_timestamp = pd.Timestamp(input_date, tz='UTC')\n",
    "  next24 = pd.date_range(\n",
    "            start=input_timestamp,\n",
    "            end=  input_timestamp + pd.Timedelta(hours=23),\n",
    "            freq=pd.Timedelta(hours=1)).to_frame(index=False, name='utc_time')\n",
    "\n",
    "  next24['hour_of_year'] = next24.utc_time.\\\n",
    "                           apply(lambda x: x.strftime(\"%m%d%H\"))\n",
    "\n",
    "  stats_df = statistic_table(years_df)\n",
    "  stats_df.columns = stats_df.columns.droplevel(level=0)\n",
    "\n",
    "  pred_df = next24.join(stats_df, on='hour_of_year',\n",
    "                           how='inner', validate='one_to_one')\n",
    "\n",
    "  pred_df.drop(columns='hour_of_year', inplace=True)\n",
    "\n",
    "  return pred_df\n"
   ]
  },
  {
   "cell_type": "code",
   "execution_count": 41,
   "metadata": {},
   "outputs": [
    {
     "ename": "AttributeError",
     "evalue": "'DataFrame' object has no attribute 'utc_time'",
     "output_type": "error",
     "traceback": [
      "\u001b[0;31m---------------------------------------------------------------------------\u001b[0m",
      "\u001b[0;31mAttributeError\u001b[0m                            Traceback (most recent call last)",
      "\u001b[0;32m/var/folders/b1/83z4ln8j1yd088xz1fgkbd2c0000gn/T/ipykernel_58875/4140929639.py\u001b[0m in \u001b[0;36m?\u001b[0;34m()\u001b[0m\n\u001b[0;32m----> 1\u001b[0;31m \u001b[0myears_df\u001b[0m \u001b[0;34m=\u001b[0m \u001b[0mselect_years\u001b[0m\u001b[0;34m(\u001b[0m\u001b[0mdf\u001b[0m\u001b[0;34m,\u001b[0m \u001b[0mstart\u001b[0m\u001b[0;34m=\u001b[0m\u001b[0;36m1980\u001b[0m\u001b[0;34m,\u001b[0m \u001b[0mend\u001b[0m\u001b[0;34m=\u001b[0m\u001b[0;36m1982\u001b[0m\u001b[0;34m)\u001b[0m\u001b[0;34m\u001b[0m\u001b[0;34m\u001b[0m\u001b[0m\n\u001b[0m\u001b[1;32m      2\u001b[0m \u001b[0;34m\u001b[0m\u001b[0m\n\u001b[1;32m      3\u001b[0m \u001b[0mstats_pred\u001b[0m \u001b[0;34m=\u001b[0m \u001b[0mmodel_mean\u001b[0m\u001b[0;34m(\u001b[0m\u001b[0myears_df\u001b[0m\u001b[0;34m,\u001b[0m \u001b[0;34m'2000-05-15 01:00:00'\u001b[0m\u001b[0;34m)\u001b[0m\u001b[0;34m\u001b[0m\u001b[0;34m\u001b[0m\u001b[0m\n",
      "\u001b[0;32m/var/folders/b1/83z4ln8j1yd088xz1fgkbd2c0000gn/T/ipykernel_58875/2749527462.py\u001b[0m in \u001b[0;36m?\u001b[0;34m(df, start, end)\u001b[0m\n\u001b[1;32m     10\u001b[0m       \u001b[0;34m-\u001b[0m \u001b[0mdf\u001b[0m \u001b[0mbetween\u001b[0m \u001b[0mstart\u001b[0m \u001b[0;32mand\u001b[0m \u001b[0mend\u001b[0m \u001b[0myear\u001b[0m\u001b[0;34m\u001b[0m\u001b[0;34m\u001b[0m\u001b[0m\n\u001b[1;32m     11\u001b[0m     \"\"\"\n\u001b[1;32m     12\u001b[0m     \u001b[0mstart_point\u001b[0m \u001b[0;34m=\u001b[0m \u001b[0;34mf\"{start}-01-01 00:00:00\"\u001b[0m\u001b[0;34m\u001b[0m\u001b[0;34m\u001b[0m\u001b[0m\n\u001b[1;32m     13\u001b[0m     \u001b[0mend_point\u001b[0m   \u001b[0;34m=\u001b[0m \u001b[0;34mf\"{end}-12-31 23:00:00\"\u001b[0m\u001b[0;34m\u001b[0m\u001b[0;34m\u001b[0m\u001b[0m\n\u001b[0;32m---> 14\u001b[0;31m     \u001b[0myears_df\u001b[0m \u001b[0;34m=\u001b[0m \u001b[0mdf\u001b[0m\u001b[0;34m[\u001b[0m\u001b[0mdf\u001b[0m\u001b[0;34m.\u001b[0m\u001b[0mutc_time\u001b[0m\u001b[0;34m.\u001b[0m\u001b[0mbetween\u001b[0m\u001b[0;34m(\u001b[0m\u001b[0mstart_point\u001b[0m\u001b[0;34m,\u001b[0m \u001b[0mend_point\u001b[0m\u001b[0;34m)\u001b[0m\u001b[0;34m]\u001b[0m\u001b[0;34m\u001b[0m\u001b[0;34m\u001b[0m\u001b[0m\n\u001b[0m\u001b[1;32m     15\u001b[0m \u001b[0;34m\u001b[0m\u001b[0m\n\u001b[1;32m     16\u001b[0m     \u001b[0mn_years\u001b[0m \u001b[0;34m=\u001b[0m \u001b[0myears_df\u001b[0m\u001b[0;34m[\u001b[0m\u001b[0;34m'utc_time'\u001b[0m\u001b[0;34m]\u001b[0m\u001b[0;34m.\u001b[0m\u001b[0mdt\u001b[0m\u001b[0;34m.\u001b[0m\u001b[0myear\u001b[0m\u001b[0;34m.\u001b[0m\u001b[0mnunique\u001b[0m\u001b[0;34m(\u001b[0m\u001b[0;34m)\u001b[0m\u001b[0;34m\u001b[0m\u001b[0;34m\u001b[0m\u001b[0m\n\u001b[1;32m     17\u001b[0m     \u001b[0mprint\u001b[0m\u001b[0;34m(\u001b[0m\u001b[0;34mf\"# selected {n_years} years from {start} to {end}\"\u001b[0m\u001b[0;34m)\u001b[0m\u001b[0;34m\u001b[0m\u001b[0;34m\u001b[0m\u001b[0m\n",
      "\u001b[0;32m~/.pyenv/versions/3.10.6/envs/power/lib/python3.10/site-packages/pandas/core/generic.py\u001b[0m in \u001b[0;36m?\u001b[0;34m(self, name)\u001b[0m\n\u001b[1;32m   6292\u001b[0m             \u001b[0;32mand\u001b[0m \u001b[0mname\u001b[0m \u001b[0;32mnot\u001b[0m \u001b[0;32min\u001b[0m \u001b[0mself\u001b[0m\u001b[0;34m.\u001b[0m\u001b[0m_accessors\u001b[0m\u001b[0;34m\u001b[0m\u001b[0;34m\u001b[0m\u001b[0m\n\u001b[1;32m   6293\u001b[0m             \u001b[0;32mand\u001b[0m \u001b[0mself\u001b[0m\u001b[0;34m.\u001b[0m\u001b[0m_info_axis\u001b[0m\u001b[0;34m.\u001b[0m\u001b[0m_can_hold_identifiers_and_holds_name\u001b[0m\u001b[0;34m(\u001b[0m\u001b[0mname\u001b[0m\u001b[0;34m)\u001b[0m\u001b[0;34m\u001b[0m\u001b[0;34m\u001b[0m\u001b[0m\n\u001b[1;32m   6294\u001b[0m         ):\n\u001b[1;32m   6295\u001b[0m             \u001b[0;32mreturn\u001b[0m \u001b[0mself\u001b[0m\u001b[0;34m[\u001b[0m\u001b[0mname\u001b[0m\u001b[0;34m]\u001b[0m\u001b[0;34m\u001b[0m\u001b[0;34m\u001b[0m\u001b[0m\n\u001b[0;32m-> 6296\u001b[0;31m         \u001b[0;32mreturn\u001b[0m \u001b[0mobject\u001b[0m\u001b[0;34m.\u001b[0m\u001b[0m__getattribute__\u001b[0m\u001b[0;34m(\u001b[0m\u001b[0mself\u001b[0m\u001b[0;34m,\u001b[0m \u001b[0mname\u001b[0m\u001b[0;34m)\u001b[0m\u001b[0;34m\u001b[0m\u001b[0;34m\u001b[0m\u001b[0m\n\u001b[0m",
      "\u001b[0;31mAttributeError\u001b[0m: 'DataFrame' object has no attribute 'utc_time'"
     ]
    }
   ],
   "source": [
    "years_df = select_years(df, start=1980, end=1982)\n",
    "\n",
    "stats_pred = model_mean(years_df, '2000-05-15 01:00:00')"
   ]
  },
  {
   "cell_type": "markdown",
   "metadata": {},
   "source": [
    "## Plots stats"
   ]
  },
  {
   "cell_type": "code",
   "execution_count": 42,
   "metadata": {},
   "outputs": [
    {
     "ename": "NameError",
     "evalue": "name 'stats_pred' is not defined",
     "output_type": "error",
     "traceback": [
      "\u001b[0;31m---------------------------------------------------------------------------\u001b[0m",
      "\u001b[0;31mNameError\u001b[0m                                 Traceback (most recent call last)",
      "Cell \u001b[0;32mIn[42], line 4\u001b[0m\n\u001b[1;32m      1\u001b[0m \u001b[38;5;66;03m#plt.plot(stats_pred.mean)\u001b[39;00m\n\u001b[1;32m      2\u001b[0m fig, ax \u001b[38;5;241m=\u001b[39m plt\u001b[38;5;241m.\u001b[39msubplots()\n\u001b[0;32m----> 4\u001b[0m hours \u001b[38;5;241m=\u001b[39m \u001b[43mstats_pred\u001b[49m\u001b[38;5;241m.\u001b[39mindex\n\u001b[1;32m      6\u001b[0m ax\u001b[38;5;241m.\u001b[39mstep(hours, stats_pred[\u001b[38;5;124m'\u001b[39m\u001b[38;5;124mmean\u001b[39m\u001b[38;5;124m'\u001b[39m]\u001b[38;5;241m.\u001b[39mvalues,\n\u001b[1;32m      7\u001b[0m         color\u001b[38;5;241m=\u001b[39m\u001b[38;5;124m'\u001b[39m\u001b[38;5;124mk\u001b[39m\u001b[38;5;124m'\u001b[39m,\n\u001b[1;32m      8\u001b[0m         linewidth\u001b[38;5;241m=\u001b[39m\u001b[38;5;124m'\u001b[39m\u001b[38;5;124m2\u001b[39m\u001b[38;5;124m'\u001b[39m,\n\u001b[1;32m      9\u001b[0m         label\u001b[38;5;241m=\u001b[39m\u001b[38;5;124m'\u001b[39m\u001b[38;5;124mmean\u001b[39m\u001b[38;5;124m'\u001b[39m)\n\u001b[1;32m     11\u001b[0m ax\u001b[38;5;241m.\u001b[39mstep(hours, stats_pred[\u001b[38;5;124m'\u001b[39m\u001b[38;5;124mmin\u001b[39m\u001b[38;5;124m'\u001b[39m]\u001b[38;5;241m.\u001b[39mvalues,\n\u001b[1;32m     12\u001b[0m         color\u001b[38;5;241m=\u001b[39m\u001b[38;5;124m'\u001b[39m\u001b[38;5;124mk\u001b[39m\u001b[38;5;124m'\u001b[39m,\n\u001b[1;32m     13\u001b[0m         linestyle\u001b[38;5;241m=\u001b[39m\u001b[38;5;124m'\u001b[39m\u001b[38;5;124m:\u001b[39m\u001b[38;5;124m'\u001b[39m,\n\u001b[1;32m     14\u001b[0m         label\u001b[38;5;241m=\u001b[39m\u001b[38;5;124m'\u001b[39m\u001b[38;5;124mmin\u001b[39m\u001b[38;5;124m'\u001b[39m)\n",
      "\u001b[0;31mNameError\u001b[0m: name 'stats_pred' is not defined"
     ]
    },
    {
     "data": {
      "image/png": "[encoded data removed]",
      "text/plain": [
       "<Figure size 640x480 with 1 Axes>"
      ]
     },
     "metadata": {},
     "output_type": "display_data"
    }
   ],
   "source": [
    "#plt.plot(stats_pred.mean)\n",
    "fig, ax = plt.subplots()\n",
    "\n",
    "hours = stats_pred.index\n",
    "\n",
    "ax.step(hours, stats_pred['mean'].values,\n",
    "        color='k',\n",
    "        linewidth='2',\n",
    "        label='mean')\n",
    "\n",
    "ax.step(hours, stats_pred['min'].values,\n",
    "        color='k',\n",
    "        linestyle=':',\n",
    "        label='min')\n",
    "\n",
    "ax.step(hours, stats_pred['max'].values,\n",
    "        color='k',\n",
    "        linestyle=':',\n",
    "        label='max')\n",
    "\n",
    "lower_bound = stats_pred['mean'].values - stats_pred['std'].values\n",
    "upper_bound = stats_pred['mean'].values + stats_pred['std'].values\n",
    "\n",
    "ax.fill_between(hours, lower_bound, upper_bound, step='pre',\n",
    "                color='gray',\n",
    "                alpha=0.3,\n",
    "                label='confidence')\n",
    "\n",
    "\n",
    "\n",
    "ax.set_xlabel('hours')\n",
    "ax.set_ylabel('statistics')\n",
    "ax.set_ylim(0,1)\n",
    "ax.legend()\n"
   ]
  },
  {
   "cell_type": "markdown",
   "metadata": {},
   "source": [
    "## Prototype visualisation"
   ]
  },
  {
   "cell_type": "code",
   "execution_count": 253,
   "metadata": {},
   "outputs": [],
   "source": [
    "from power.params import *\n",
    "from power.ml_ops.data import get_data_with_cache\n",
    "from pathlib import Path"
   ]
  },
  {
   "cell_type": "code",
   "execution_count": 254,
   "metadata": {},
   "outputs": [
    {
     "name": "stdout",
     "output_type": "stream",
     "text": [
      "\u001b[34m\n",
      "Load data from local CSV...\u001b[0m\n",
      "✅ Data loaded, with shape (376944, 3)\n"
     ]
    }
   ],
   "source": [
    "query = f\"\"\"\n",
    "        SELECT *\n",
    "        FROM {GCP_PROJECT}.{BQ_DATASET}.processed_pv\n",
    "        ORDER BY utc_time\n",
    "    \"\"\"\n",
    "\n",
    "data_processed_cache_path = Path(LOCAL_DATA_PATH).joinpath(\"processed\", f\"processed_pv.csv\")\n",
    "data_processed_df = get_data_with_cache(\n",
    "        gcp_project=GCP_PROJECT,\n",
    "        query=query,\n",
    "        cache_path=data_processed_cache_path,\n",
    "        data_has_header=True\n",
    "    )\n",
    "\n",
    "data_processed_df.utc_time = pd.to_datetime(data_processed_df.utc_time,utc=True)\n",
    "data_processed_df['cap_fac'] = data_processed_df.electricity / 0.9 * 100"
   ]
  },
  {
   "cell_type": "code",
   "execution_count": 255,
   "metadata": {},
   "outputs": [
    {
     "data": {
      "text/html": [
       "<div>\n",
       "<style scoped>\n",
       "    .dataframe tbody tr th:only-of-type {\n",
       "        vertical-align: middle;\n",
       "    }\n",
       "\n",
       "    .dataframe tbody tr th {\n",
       "        vertical-align: top;\n",
       "    }\n",
       "\n",
       "    .dataframe thead th {\n",
       "        text-align: right;\n",
       "    }\n",
       "</style>\n",
       "<table border=\"1\" class=\"dataframe\">\n",
       "  <thead>\n",
       "    <tr style=\"text-align: right;\">\n",
       "      <th></th>\n",
       "      <th>utc_time</th>\n",
       "    </tr>\n",
       "  </thead>\n",
       "  <tbody>\n",
       "    <tr>\n",
       "      <th>0</th>\n",
       "      <td>2000-05-13 00:00:00+00:00</td>\n",
       "    </tr>\n",
       "    <tr>\n",
       "      <th>1</th>\n",
       "      <td>2000-05-13 01:00:00+00:00</td>\n",
       "    </tr>\n",
       "  </tbody>\n",
       "</table>\n",
       "</div>"
      ],
      "text/plain": [
       "                   utc_time\n",
       "0 2000-05-13 00:00:00+00:00\n",
       "1 2000-05-13 01:00:00+00:00"
      ]
     },
     "execution_count": 255,
     "metadata": {},
     "output_type": "execute_result"
    }
   ],
   "source": [
    "\n",
    "today = '2000-05-15'\n",
    "today_timestamp = pd.Timestamp(today, tz='UTC')\n",
    "\n",
    "window_df= pd.date_range(\n",
    "            start=today_timestamp - pd.Timedelta(days=2),\n",
    "            end=  today_timestamp + pd.Timedelta(days=1),\n",
    "            freq=pd.Timedelta(hours=1)).to_frame(index=False, name='utc_time')\n",
    "\n",
    "window_df.head(2)"
   ]
  },
  {
   "cell_type": "code",
   "execution_count": 256,
   "metadata": {},
   "outputs": [
    {
     "name": "stdout",
     "output_type": "stream",
     "text": [
      "datetime64[ns, UTC] datetime64[ns, UTC]\n"
     ]
    },
    {
     "data": {
      "text/html": [
       "<div>\n",
       "<style scoped>\n",
       "    .dataframe tbody tr th:only-of-type {\n",
       "        vertical-align: middle;\n",
       "    }\n",
       "\n",
       "    .dataframe tbody tr th {\n",
       "        vertical-align: top;\n",
       "    }\n",
       "\n",
       "    .dataframe thead th {\n",
       "        text-align: right;\n",
       "    }\n",
       "</style>\n",
       "<table border=\"1\" class=\"dataframe\">\n",
       "  <thead>\n",
       "    <tr style=\"text-align: right;\">\n",
       "      <th></th>\n",
       "      <th>utc_time</th>\n",
       "      <th>local_time</th>\n",
       "      <th>electricity</th>\n",
       "      <th>cap_fac</th>\n",
       "    </tr>\n",
       "  </thead>\n",
       "  <tbody>\n",
       "    <tr>\n",
       "      <th>0</th>\n",
       "      <td>2000-05-13 00:00:00+00:00</td>\n",
       "      <td>2000-05-13 00:00:00+00:00</td>\n",
       "      <td>0.0</td>\n",
       "      <td>0.0</td>\n",
       "    </tr>\n",
       "    <tr>\n",
       "      <th>1</th>\n",
       "      <td>2000-05-13 01:00:00+00:00</td>\n",
       "      <td>2000-05-13 01:00:00+00:00</td>\n",
       "      <td>0.0</td>\n",
       "      <td>0.0</td>\n",
       "    </tr>\n",
       "  </tbody>\n",
       "</table>\n",
       "</div>"
      ],
      "text/plain": [
       "                   utc_time                 local_time  electricity  cap_fac\n",
       "0 2000-05-13 00:00:00+00:00  2000-05-13 00:00:00+00:00          0.0      0.0\n",
       "1 2000-05-13 01:00:00+00:00  2000-05-13 01:00:00+00:00          0.0      0.0"
      ]
     },
     "execution_count": 256,
     "metadata": {},
     "output_type": "execute_result"
    }
   ],
   "source": [
    "print(window_df.utc_time.dtype, data_processed_df.utc_time.dtype)\n",
    "\n",
    "plot_df = pd.merge(window_df, data_processed_df, on='utc_time', how='inner')\n",
    "plot_df.head(2)"
   ]
  },
  {
   "cell_type": "code",
   "execution_count": 257,
   "metadata": {},
   "outputs": [
    {
     "data": {
      "text/html": [
       "<div>\n",
       "<style scoped>\n",
       "    .dataframe tbody tr th:only-of-type {\n",
       "        vertical-align: middle;\n",
       "    }\n",
       "\n",
       "    .dataframe tbody tr th {\n",
       "        vertical-align: top;\n",
       "    }\n",
       "\n",
       "    .dataframe thead th {\n",
       "        text-align: right;\n",
       "    }\n",
       "</style>\n",
       "<table border=\"1\" class=\"dataframe\">\n",
       "  <thead>\n",
       "    <tr style=\"text-align: right;\">\n",
       "      <th></th>\n",
       "      <th>mean</th>\n",
       "      <th>median</th>\n",
       "      <th>std</th>\n",
       "      <th>skew</th>\n",
       "      <th>min</th>\n",
       "      <th>max</th>\n",
       "      <th>count</th>\n",
       "    </tr>\n",
       "    <tr>\n",
       "      <th>hour_of_year</th>\n",
       "      <th></th>\n",
       "      <th></th>\n",
       "      <th></th>\n",
       "      <th></th>\n",
       "      <th></th>\n",
       "      <th></th>\n",
       "      <th></th>\n",
       "    </tr>\n",
       "  </thead>\n",
       "  <tbody>\n",
       "    <tr>\n",
       "      <th>010100</th>\n",
       "      <td>0.0</td>\n",
       "      <td>0.0</td>\n",
       "      <td>0.0</td>\n",
       "      <td>0.0</td>\n",
       "      <td>0.0</td>\n",
       "      <td>0.0</td>\n",
       "      <td>43</td>\n",
       "    </tr>\n",
       "    <tr>\n",
       "      <th>010101</th>\n",
       "      <td>0.0</td>\n",
       "      <td>0.0</td>\n",
       "      <td>0.0</td>\n",
       "      <td>0.0</td>\n",
       "      <td>0.0</td>\n",
       "      <td>0.0</td>\n",
       "      <td>43</td>\n",
       "    </tr>\n",
       "  </tbody>\n",
       "</table>\n",
       "</div>"
      ],
      "text/plain": [
       "              mean  median  std  skew  min  max  count\n",
       "hour_of_year                                          \n",
       "010100         0.0     0.0  0.0   0.0  0.0  0.0     43\n",
       "010101         0.0     0.0  0.0   0.0  0.0  0.0     43"
      ]
     },
     "execution_count": 257,
     "metadata": {},
     "output_type": "execute_result"
    }
   ],
   "source": [
    "\n",
    "\n",
    "data_processed_df['hour_of_year'] = data_processed_df.utc_time.\\\n",
    "                           apply(lambda x: x.strftime(\"%m%d%H\"))\n",
    "\n",
    "stats_df = data_processed_df[['hour_of_year', 'cap_fac']]\\\n",
    "    .groupby(['hour_of_year']).agg(['mean','median','std','skew','min','max','count'])\n",
    "\n",
    "\n",
    "stats_df.columns = stats_df.columns.droplevel(level=0)\n",
    "stats_df.head(2)"
   ]
  },
  {
   "cell_type": "code",
   "execution_count": 258,
   "metadata": {},
   "outputs": [
    {
     "data": {
      "text/plain": [
       "100.0"
      ]
     },
     "execution_count": 258,
     "metadata": {},
     "output_type": "execute_result"
    }
   ],
   "source": [
    "stats_df['max'].max()"
   ]
  },
  {
   "cell_type": "code",
   "execution_count": 259,
   "metadata": {},
   "outputs": [
    {
     "data": {
      "text/html": [
       "<div>\n",
       "<style scoped>\n",
       "    .dataframe tbody tr th:only-of-type {\n",
       "        vertical-align: middle;\n",
       "    }\n",
       "\n",
       "    .dataframe tbody tr th {\n",
       "        vertical-align: top;\n",
       "    }\n",
       "\n",
       "    .dataframe thead th {\n",
       "        text-align: right;\n",
       "    }\n",
       "</style>\n",
       "<table border=\"1\" class=\"dataframe\">\n",
       "  <thead>\n",
       "    <tr style=\"text-align: right;\">\n",
       "      <th></th>\n",
       "      <th>utc_time</th>\n",
       "      <th>local_time</th>\n",
       "      <th>electricity</th>\n",
       "      <th>cap_fac</th>\n",
       "      <th>hour_of_year</th>\n",
       "      <th>mean</th>\n",
       "      <th>median</th>\n",
       "      <th>std</th>\n",
       "      <th>skew</th>\n",
       "      <th>min</th>\n",
       "      <th>max</th>\n",
       "      <th>count</th>\n",
       "    </tr>\n",
       "  </thead>\n",
       "  <tbody>\n",
       "    <tr>\n",
       "      <th>0</th>\n",
       "      <td>2000-05-13 00:00:00+00:00</td>\n",
       "      <td>2000-05-13 00:00:00+00:00</td>\n",
       "      <td>0.0</td>\n",
       "      <td>0.0</td>\n",
       "      <td>051300</td>\n",
       "      <td>0.0</td>\n",
       "      <td>0.0</td>\n",
       "      <td>0.0</td>\n",
       "      <td>0.0</td>\n",
       "      <td>0.0</td>\n",
       "      <td>0.0</td>\n",
       "      <td>43</td>\n",
       "    </tr>\n",
       "    <tr>\n",
       "      <th>1</th>\n",
       "      <td>2000-05-13 01:00:00+00:00</td>\n",
       "      <td>2000-05-13 01:00:00+00:00</td>\n",
       "      <td>0.0</td>\n",
       "      <td>0.0</td>\n",
       "      <td>051301</td>\n",
       "      <td>0.0</td>\n",
       "      <td>0.0</td>\n",
       "      <td>0.0</td>\n",
       "      <td>0.0</td>\n",
       "      <td>0.0</td>\n",
       "      <td>0.0</td>\n",
       "      <td>43</td>\n",
       "    </tr>\n",
       "  </tbody>\n",
       "</table>\n",
       "</div>"
      ],
      "text/plain": [
       "                   utc_time                 local_time  electricity  cap_fac  \\\n",
       "0 2000-05-13 00:00:00+00:00  2000-05-13 00:00:00+00:00          0.0      0.0   \n",
       "1 2000-05-13 01:00:00+00:00  2000-05-13 01:00:00+00:00          0.0      0.0   \n",
       "\n",
       "  hour_of_year  mean  median  std  skew  min  max  count  \n",
       "0       051300   0.0     0.0  0.0   0.0  0.0  0.0     43  \n",
       "1       051301   0.0     0.0  0.0   0.0  0.0  0.0     43  "
      ]
     },
     "execution_count": 259,
     "metadata": {},
     "output_type": "execute_result"
    }
   ],
   "source": [
    "plot_df['hour_of_year'] = plot_df.utc_time.\\\n",
    "                           apply(lambda x: x.strftime(\"%m%d%H\"))\n",
    "\n",
    "plot_df = pd.merge(plot_df, stats_df, on='hour_of_year', how='inner')\n",
    "\n",
    "plot_df.head(2)"
   ]
  },
  {
   "cell_type": "code",
   "execution_count": 260,
   "metadata": {},
   "outputs": [
    {
     "data": {
      "text/html": [
       "<div>\n",
       "<style scoped>\n",
       "    .dataframe tbody tr th:only-of-type {\n",
       "        vertical-align: middle;\n",
       "    }\n",
       "\n",
       "    .dataframe tbody tr th {\n",
       "        vertical-align: top;\n",
       "    }\n",
       "\n",
       "    .dataframe thead th {\n",
       "        text-align: right;\n",
       "    }\n",
       "</style>\n",
       "<table border=\"1\" class=\"dataframe\">\n",
       "  <thead>\n",
       "    <tr style=\"text-align: right;\">\n",
       "      <th></th>\n",
       "      <th>utc_time</th>\n",
       "      <th>pred</th>\n",
       "    </tr>\n",
       "  </thead>\n",
       "  <tbody>\n",
       "    <tr>\n",
       "      <th>49</th>\n",
       "      <td>2000-05-15 01:00:00+00:00</td>\n",
       "      <td>0.000000</td>\n",
       "    </tr>\n",
       "    <tr>\n",
       "      <th>50</th>\n",
       "      <td>2000-05-15 02:00:00+00:00</td>\n",
       "      <td>0.000000</td>\n",
       "    </tr>\n",
       "    <tr>\n",
       "      <th>51</th>\n",
       "      <td>2000-05-15 03:00:00+00:00</td>\n",
       "      <td>0.222222</td>\n",
       "    </tr>\n",
       "    <tr>\n",
       "      <th>52</th>\n",
       "      <td>2000-05-15 04:00:00+00:00</td>\n",
       "      <td>3.333333</td>\n",
       "    </tr>\n",
       "    <tr>\n",
       "      <th>53</th>\n",
       "      <td>2000-05-15 05:00:00+00:00</td>\n",
       "      <td>12.444444</td>\n",
       "    </tr>\n",
       "  </tbody>\n",
       "</table>\n",
       "</div>"
      ],
      "text/plain": [
       "                    utc_time       pred\n",
       "49 2000-05-15 01:00:00+00:00   0.000000\n",
       "50 2000-05-15 02:00:00+00:00   0.000000\n",
       "51 2000-05-15 03:00:00+00:00   0.222222\n",
       "52 2000-05-15 04:00:00+00:00   3.333333\n",
       "53 2000-05-15 05:00:00+00:00  12.444444"
      ]
     },
     "execution_count": 260,
     "metadata": {},
     "output_type": "execute_result"
    }
   ],
   "source": [
    "#plot_df['pred'] = plot_df.cap_fac\n",
    "pred_df = plot_df[['utc_time','cap_fac']].iloc[-24:]\n",
    "pred_df = pred_df.rename(columns={'cap_fac':'pred'})\n",
    "pred_df.head()\n",
    "#pred_df.shape"
   ]
  },
  {
   "cell_type": "code",
   "execution_count": 261,
   "metadata": {},
   "outputs": [
    {
     "data": {
      "text/html": [
       "<div>\n",
       "<style scoped>\n",
       "    .dataframe tbody tr th:only-of-type {\n",
       "        vertical-align: middle;\n",
       "    }\n",
       "\n",
       "    .dataframe tbody tr th {\n",
       "        vertical-align: top;\n",
       "    }\n",
       "\n",
       "    .dataframe thead th {\n",
       "        text-align: right;\n",
       "    }\n",
       "</style>\n",
       "<table border=\"1\" class=\"dataframe\">\n",
       "  <thead>\n",
       "    <tr style=\"text-align: right;\">\n",
       "      <th></th>\n",
       "      <th>utc_time</th>\n",
       "      <th>local_time</th>\n",
       "      <th>electricity</th>\n",
       "      <th>cap_fac</th>\n",
       "      <th>hour_of_year</th>\n",
       "      <th>mean</th>\n",
       "      <th>median</th>\n",
       "      <th>std</th>\n",
       "      <th>skew</th>\n",
       "      <th>min</th>\n",
       "      <th>max</th>\n",
       "      <th>count</th>\n",
       "      <th>pred</th>\n",
       "    </tr>\n",
       "  </thead>\n",
       "  <tbody>\n",
       "    <tr>\n",
       "      <th>0</th>\n",
       "      <td>2000-05-13 00:00:00+00:00</td>\n",
       "      <td>2000-05-13 00:00:00+00:00</td>\n",
       "      <td>0.000</td>\n",
       "      <td>0.000000</td>\n",
       "      <td>051300</td>\n",
       "      <td>0.000000</td>\n",
       "      <td>0.000000</td>\n",
       "      <td>0.000000</td>\n",
       "      <td>0.000000</td>\n",
       "      <td>0.000000</td>\n",
       "      <td>0.000000</td>\n",
       "      <td>43</td>\n",
       "      <td>NaN</td>\n",
       "    </tr>\n",
       "    <tr>\n",
       "      <th>1</th>\n",
       "      <td>2000-05-13 01:00:00+00:00</td>\n",
       "      <td>2000-05-13 01:00:00+00:00</td>\n",
       "      <td>0.000</td>\n",
       "      <td>0.000000</td>\n",
       "      <td>051301</td>\n",
       "      <td>0.000000</td>\n",
       "      <td>0.000000</td>\n",
       "      <td>0.000000</td>\n",
       "      <td>0.000000</td>\n",
       "      <td>0.000000</td>\n",
       "      <td>0.000000</td>\n",
       "      <td>43</td>\n",
       "      <td>NaN</td>\n",
       "    </tr>\n",
       "    <tr>\n",
       "      <th>2</th>\n",
       "      <td>2000-05-13 02:00:00+00:00</td>\n",
       "      <td>2000-05-13 02:00:00+00:00</td>\n",
       "      <td>0.000</td>\n",
       "      <td>0.000000</td>\n",
       "      <td>051302</td>\n",
       "      <td>0.000000</td>\n",
       "      <td>0.000000</td>\n",
       "      <td>0.000000</td>\n",
       "      <td>0.000000</td>\n",
       "      <td>0.000000</td>\n",
       "      <td>0.000000</td>\n",
       "      <td>43</td>\n",
       "      <td>NaN</td>\n",
       "    </tr>\n",
       "    <tr>\n",
       "      <th>3</th>\n",
       "      <td>2000-05-13 03:00:00+00:00</td>\n",
       "      <td>2000-05-13 03:00:00+00:00</td>\n",
       "      <td>0.001</td>\n",
       "      <td>0.111111</td>\n",
       "      <td>051303</td>\n",
       "      <td>0.059432</td>\n",
       "      <td>0.111111</td>\n",
       "      <td>0.056076</td>\n",
       "      <td>-0.144983</td>\n",
       "      <td>0.000000</td>\n",
       "      <td>0.111111</td>\n",
       "      <td>43</td>\n",
       "      <td>NaN</td>\n",
       "    </tr>\n",
       "    <tr>\n",
       "      <th>4</th>\n",
       "      <td>2000-05-13 04:00:00+00:00</td>\n",
       "      <td>2000-05-13 04:00:00+00:00</td>\n",
       "      <td>0.029</td>\n",
       "      <td>3.222222</td>\n",
       "      <td>051304</td>\n",
       "      <td>3.537468</td>\n",
       "      <td>3.777778</td>\n",
       "      <td>0.809965</td>\n",
       "      <td>-1.389870</td>\n",
       "      <td>1.111111</td>\n",
       "      <td>4.777778</td>\n",
       "      <td>43</td>\n",
       "      <td>NaN</td>\n",
       "    </tr>\n",
       "    <tr>\n",
       "      <th>...</th>\n",
       "      <td>...</td>\n",
       "      <td>...</td>\n",
       "      <td>...</td>\n",
       "      <td>...</td>\n",
       "      <td>...</td>\n",
       "      <td>...</td>\n",
       "      <td>...</td>\n",
       "      <td>...</td>\n",
       "      <td>...</td>\n",
       "      <td>...</td>\n",
       "      <td>...</td>\n",
       "      <td>...</td>\n",
       "      <td>...</td>\n",
       "    </tr>\n",
       "    <tr>\n",
       "      <th>67</th>\n",
       "      <td>2000-05-15 19:00:00+00:00</td>\n",
       "      <td>2000-05-15 19:00:00+00:00</td>\n",
       "      <td>0.000</td>\n",
       "      <td>0.000000</td>\n",
       "      <td>051519</td>\n",
       "      <td>0.000000</td>\n",
       "      <td>0.000000</td>\n",
       "      <td>0.000000</td>\n",
       "      <td>0.000000</td>\n",
       "      <td>0.000000</td>\n",
       "      <td>0.000000</td>\n",
       "      <td>43</td>\n",
       "      <td>0.0</td>\n",
       "    </tr>\n",
       "    <tr>\n",
       "      <th>68</th>\n",
       "      <td>2000-05-15 20:00:00+00:00</td>\n",
       "      <td>2000-05-15 20:00:00+00:00</td>\n",
       "      <td>0.000</td>\n",
       "      <td>0.000000</td>\n",
       "      <td>051520</td>\n",
       "      <td>0.000000</td>\n",
       "      <td>0.000000</td>\n",
       "      <td>0.000000</td>\n",
       "      <td>0.000000</td>\n",
       "      <td>0.000000</td>\n",
       "      <td>0.000000</td>\n",
       "      <td>43</td>\n",
       "      <td>0.0</td>\n",
       "    </tr>\n",
       "    <tr>\n",
       "      <th>69</th>\n",
       "      <td>2000-05-15 21:00:00+00:00</td>\n",
       "      <td>2000-05-15 21:00:00+00:00</td>\n",
       "      <td>0.000</td>\n",
       "      <td>0.000000</td>\n",
       "      <td>051521</td>\n",
       "      <td>0.000000</td>\n",
       "      <td>0.000000</td>\n",
       "      <td>0.000000</td>\n",
       "      <td>0.000000</td>\n",
       "      <td>0.000000</td>\n",
       "      <td>0.000000</td>\n",
       "      <td>43</td>\n",
       "      <td>0.0</td>\n",
       "    </tr>\n",
       "    <tr>\n",
       "      <th>70</th>\n",
       "      <td>2000-05-15 22:00:00+00:00</td>\n",
       "      <td>2000-05-15 22:00:00+00:00</td>\n",
       "      <td>0.000</td>\n",
       "      <td>0.000000</td>\n",
       "      <td>051522</td>\n",
       "      <td>0.000000</td>\n",
       "      <td>0.000000</td>\n",
       "      <td>0.000000</td>\n",
       "      <td>0.000000</td>\n",
       "      <td>0.000000</td>\n",
       "      <td>0.000000</td>\n",
       "      <td>43</td>\n",
       "      <td>0.0</td>\n",
       "    </tr>\n",
       "    <tr>\n",
       "      <th>71</th>\n",
       "      <td>2000-05-15 23:00:00+00:00</td>\n",
       "      <td>2000-05-15 23:00:00+00:00</td>\n",
       "      <td>0.000</td>\n",
       "      <td>0.000000</td>\n",
       "      <td>051523</td>\n",
       "      <td>0.000000</td>\n",
       "      <td>0.000000</td>\n",
       "      <td>0.000000</td>\n",
       "      <td>0.000000</td>\n",
       "      <td>0.000000</td>\n",
       "      <td>0.000000</td>\n",
       "      <td>43</td>\n",
       "      <td>0.0</td>\n",
       "    </tr>\n",
       "  </tbody>\n",
       "</table>\n",
       "<p>72 rows × 13 columns</p>\n",
       "</div>"
      ],
      "text/plain": [
       "                    utc_time                 local_time  electricity  \\\n",
       "0  2000-05-13 00:00:00+00:00  2000-05-13 00:00:00+00:00        0.000   \n",
       "1  2000-05-13 01:00:00+00:00  2000-05-13 01:00:00+00:00        0.000   \n",
       "2  2000-05-13 02:00:00+00:00  2000-05-13 02:00:00+00:00        0.000   \n",
       "3  2000-05-13 03:00:00+00:00  2000-05-13 03:00:00+00:00        0.001   \n",
       "4  2000-05-13 04:00:00+00:00  2000-05-13 04:00:00+00:00        0.029   \n",
       "..                       ...                        ...          ...   \n",
       "67 2000-05-15 19:00:00+00:00  2000-05-15 19:00:00+00:00        0.000   \n",
       "68 2000-05-15 20:00:00+00:00  2000-05-15 20:00:00+00:00        0.000   \n",
       "69 2000-05-15 21:00:00+00:00  2000-05-15 21:00:00+00:00        0.000   \n",
       "70 2000-05-15 22:00:00+00:00  2000-05-15 22:00:00+00:00        0.000   \n",
       "71 2000-05-15 23:00:00+00:00  2000-05-15 23:00:00+00:00        0.000   \n",
       "\n",
       "     cap_fac hour_of_year      mean    median       std      skew       min  \\\n",
       "0   0.000000       051300  0.000000  0.000000  0.000000  0.000000  0.000000   \n",
       "1   0.000000       051301  0.000000  0.000000  0.000000  0.000000  0.000000   \n",
       "2   0.000000       051302  0.000000  0.000000  0.000000  0.000000  0.000000   \n",
       "3   0.111111       051303  0.059432  0.111111  0.056076 -0.144983  0.000000   \n",
       "4   3.222222       051304  3.537468  3.777778  0.809965 -1.389870  1.111111   \n",
       "..       ...          ...       ...       ...       ...       ...       ...   \n",
       "67  0.000000       051519  0.000000  0.000000  0.000000  0.000000  0.000000   \n",
       "68  0.000000       051520  0.000000  0.000000  0.000000  0.000000  0.000000   \n",
       "69  0.000000       051521  0.000000  0.000000  0.000000  0.000000  0.000000   \n",
       "70  0.000000       051522  0.000000  0.000000  0.000000  0.000000  0.000000   \n",
       "71  0.000000       051523  0.000000  0.000000  0.000000  0.000000  0.000000   \n",
       "\n",
       "         max  count  pred  \n",
       "0   0.000000     43   NaN  \n",
       "1   0.000000     43   NaN  \n",
       "2   0.000000     43   NaN  \n",
       "3   0.111111     43   NaN  \n",
       "4   4.777778     43   NaN  \n",
       "..       ...    ...   ...  \n",
       "67  0.000000     43   0.0  \n",
       "68  0.000000     43   0.0  \n",
       "69  0.000000     43   0.0  \n",
       "70  0.000000     43   0.0  \n",
       "71  0.000000     43   0.0  \n",
       "\n",
       "[72 rows x 13 columns]"
      ]
     },
     "execution_count": 261,
     "metadata": {},
     "output_type": "execute_result"
    }
   ],
   "source": [
    "plot_df = pd.merge(plot_df, pred_df, on='utc_time', how='left')\n",
    "plot_df.head(72)"
   ]
  },
  {
   "cell_type": "code",
   "execution_count": 262,
   "metadata": {},
   "outputs": [
    {
     "data": {
      "image/png": "[encoded data removed]",
      "text/plain": [
       "<Figure size 1500x500 with 1 Axes>"
      ]
     },
     "metadata": {},
     "output_type": "display_data"
    }
   ],
   "source": [
    "import matplotlib.dates as dates\n",
    "\n",
    "fig, ax = plt.subplots(figsize=(15,5))\n",
    "\n",
    "time = plot_df.utc_time.values\n",
    "\n",
    "sep_future = today_timestamp\n",
    "sep_past = today_timestamp - pd.Timedelta(days=1)\n",
    "sep_order = today_timestamp - pd.Timedelta(hours=12)\n",
    "\n",
    "# time\n",
    "ax.axvline(sep_past, color='k', linewidth=0.7)\n",
    "ax.axvline(sep_future, color='k', linewidth=0.7)\n",
    "ax.vlines(sep_order, ymin=0, ymax=100, color='k', linewidth=0.7, linestyle='--')\n",
    "\n",
    "# stats\n",
    "alpha_stats = 0.2\n",
    "ax.step(time, plot_df['min'].values, where='pre',\n",
    "        color='k', linestyle=':', alpha=alpha_stats, label='min')\n",
    "ax.step(time, plot_df['max'].values, where='pre',\n",
    "        color='k', linestyle=':', alpha=alpha_stats, label='max')\n",
    "ax.step(time, plot_df['mean'].values, where='pre',\n",
    "        color='k', linestyle='-', alpha=alpha_stats, label='mean')\n",
    "\n",
    "lower_bound = plot_df['mean'].values - 1 * plot_df['std'].values\n",
    "upper_bound = plot_df['mean'].values + 1 * plot_df['std'].values\n",
    "ax.fill_between(time, lower_bound, upper_bound, step='pre',\n",
    "                color='gray',\n",
    "                alpha=alpha_stats,\n",
    "                label='std')\n",
    "\n",
    "# true\n",
    "current = 37 # current production data\n",
    "ax.step(time[:current], plot_df.cap_fac.values[:current], where='pre',\n",
    "        color='orange', linewidth=3, label='true')\n",
    "\n",
    "# prediction\n",
    "hori = -24\n",
    "ax.step(time[hori:], plot_df.pred.values[hori:], where='pre',\n",
    "        color='orange', linewidth=3, linestyle='--', label='pred')\n",
    "\n",
    "# date ticks\n",
    "ax.xaxis.set_major_locator(dates.HourLocator(byhour=range(24), interval=12, tz='UTC'))\n",
    "ax.xaxis.set_major_formatter(dates.DateFormatter('%H:%M %d/%m/%Y'))\n",
    "\n",
    "ax.set_xlim(today_timestamp - pd.Timedelta(days=2), today_timestamp + pd.Timedelta(days=1))\n",
    "ax.set_ylim(-5,110.0)\n",
    "ax.set_xlabel('Time')\n",
    "ax.set_ylabel('Capacity factor in %')\n",
    "\n",
    "ax.annotate('day-ahead',(0.77,0.9), xycoords='subfigure fraction')\n",
    "ax.annotate('today',(0.48,0.9), xycoords='subfigure fraction')\n",
    "ax.annotate('day-behind',(0.15,0.9), xycoords='subfigure fraction')\n",
    "ax.annotate('order book closed',(0.51,0.77), xycoords='subfigure fraction')\n",
    "\n",
    "ax.legend();\n"
   ]
  },
  {
   "cell_type": "code",
   "execution_count": 263,
   "metadata": {},
   "outputs": [
    {
     "data": {
      "image/png": "[encoded data removed]",
      "text/plain": [
       "<Figure size 640x480 with 1 Axes>"
      ]
     },
     "metadata": {},
     "output_type": "display_data"
    }
   ],
   "source": [
    "dist_cap_fac = data_processed_df[ data_processed_df.hour_of_year == '010612'].cap_fac #.plot(kind='hist')\n",
    "\n",
    "sns.histplot(data=dist_cap_fac, stat='count', kde=True);"
   ]
  },
  {
   "cell_type": "code",
   "execution_count": 264,
   "metadata": {},
   "outputs": [
    {
     "data": {
      "text/html": [
       "<div>\n",
       "<style scoped>\n",
       "    .dataframe tbody tr th:only-of-type {\n",
       "        vertical-align: middle;\n",
       "    }\n",
       "\n",
       "    .dataframe tbody tr th {\n",
       "        vertical-align: top;\n",
       "    }\n",
       "\n",
       "    .dataframe thead th {\n",
       "        text-align: right;\n",
       "    }\n",
       "</style>\n",
       "<table border=\"1\" class=\"dataframe\">\n",
       "  <thead>\n",
       "    <tr style=\"text-align: right;\">\n",
       "      <th></th>\n",
       "      <th>utc_time</th>\n",
       "      <th>local_time</th>\n",
       "      <th>electricity</th>\n",
       "      <th>cap_fac</th>\n",
       "      <th>hour_of_year</th>\n",
       "    </tr>\n",
       "  </thead>\n",
       "  <tbody>\n",
       "    <tr>\n",
       "      <th>0</th>\n",
       "      <td>1980-01-01 00:00:00+00:00</td>\n",
       "      <td>1980-01-01 00:00:00+00:00</td>\n",
       "      <td>0.0</td>\n",
       "      <td>0.0</td>\n",
       "      <td>010100</td>\n",
       "    </tr>\n",
       "    <tr>\n",
       "      <th>1</th>\n",
       "      <td>1980-01-01 01:00:00+00:00</td>\n",
       "      <td>1980-01-01 01:00:00+00:00</td>\n",
       "      <td>0.0</td>\n",
       "      <td>0.0</td>\n",
       "      <td>010101</td>\n",
       "    </tr>\n",
       "    <tr>\n",
       "      <th>2</th>\n",
       "      <td>1980-01-01 02:00:00+00:00</td>\n",
       "      <td>1980-01-01 02:00:00+00:00</td>\n",
       "      <td>0.0</td>\n",
       "      <td>0.0</td>\n",
       "      <td>010102</td>\n",
       "    </tr>\n",
       "    <tr>\n",
       "      <th>3</th>\n",
       "      <td>1980-01-01 03:00:00+00:00</td>\n",
       "      <td>1980-01-01 03:00:00+00:00</td>\n",
       "      <td>0.0</td>\n",
       "      <td>0.0</td>\n",
       "      <td>010103</td>\n",
       "    </tr>\n",
       "    <tr>\n",
       "      <th>4</th>\n",
       "      <td>1980-01-01 04:00:00+00:00</td>\n",
       "      <td>1980-01-01 04:00:00+00:00</td>\n",
       "      <td>0.0</td>\n",
       "      <td>0.0</td>\n",
       "      <td>010104</td>\n",
       "    </tr>\n",
       "  </tbody>\n",
       "</table>\n",
       "</div>"
      ],
      "text/plain": [
       "                   utc_time                 local_time  electricity  cap_fac  \\\n",
       "0 1980-01-01 00:00:00+00:00  1980-01-01 00:00:00+00:00          0.0      0.0   \n",
       "1 1980-01-01 01:00:00+00:00  1980-01-01 01:00:00+00:00          0.0      0.0   \n",
       "2 1980-01-01 02:00:00+00:00  1980-01-01 02:00:00+00:00          0.0      0.0   \n",
       "3 1980-01-01 03:00:00+00:00  1980-01-01 03:00:00+00:00          0.0      0.0   \n",
       "4 1980-01-01 04:00:00+00:00  1980-01-01 04:00:00+00:00          0.0      0.0   \n",
       "\n",
       "  hour_of_year  \n",
       "0       010100  \n",
       "1       010101  \n",
       "2       010102  \n",
       "3       010103  \n",
       "4       010104  "
      ]
     },
     "execution_count": 264,
     "metadata": {},
     "output_type": "execute_result"
    }
   ],
   "source": [
    "data_processed_df.head()\n"
   ]
  },
  {
   "cell_type": "markdown",
   "metadata": {},
   "source": [
    "### Package get_stats_table"
   ]
  },
  {
   "cell_type": "code",
   "execution_count": 223,
   "metadata": {},
   "outputs": [],
   "source": [
    "def get_stats_table(\n",
    "  years_df: pd.DataFrame,\n",
    "  capacity: False) -> pd.DataFrame:\n",
    "  \"\"\"\n",
    "  Creates a table with statistics for electricity and optional capacity factor\n",
    "  for every hour of the year (8784).\n",
    "  Input:\n",
    "    - Cleaned df that contains at least electricity\n",
    "    as column. The df should span several years, because every\n",
    "    year is one sample for the statictics.\n",
    "    - Optional flag for capacity factor\n",
    "  Output:\n",
    "    - df with 8784 hours of the years (including leap years) as rows. The df has\n",
    "    multilevel index because statistics are returned for electricity and\n",
    "    capacity factor.\n",
    "  \"\"\"\n",
    "  years_df['hour_of_year'] = data_processed_df.utc_time.\\\n",
    "                           apply(lambda x: x.strftime(\"%m%d%H\"))\n",
    "  if capacity:\n",
    "    stats_df = years_df[['hour_of_year', 'electricity', 'cap_fac']]\\\n",
    "                    .groupby(['hour_of_year']).agg(['mean','median','std',\n",
    "                                                    'skew','min','max','count'])\n",
    "  else:\n",
    "    stats_df = years_df[['hour_of_year', 'electricity']]\\\n",
    "                    .groupby(['hour_of_year']).agg(['mean','median','std',\n",
    "                                                    'skew','min','max','count'])\n",
    "  return stats_df"
   ]
  },
  {
   "cell_type": "code",
   "execution_count": 226,
   "metadata": {},
   "outputs": [
    {
     "name": "stdout",
     "output_type": "stream",
     "text": [
      "\u001b[34m\n",
      "Load data from local CSV...\u001b[0m\n",
      "✅ Data loaded, with shape (376944, 3)\n"
     ]
    },
    {
     "data": {
      "text/html": [
       "<div>\n",
       "<style scoped>\n",
       "    .dataframe tbody tr th:only-of-type {\n",
       "        vertical-align: middle;\n",
       "    }\n",
       "\n",
       "    .dataframe tbody tr th {\n",
       "        vertical-align: top;\n",
       "    }\n",
       "\n",
       "    .dataframe thead tr th {\n",
       "        text-align: left;\n",
       "    }\n",
       "\n",
       "    .dataframe thead tr:last-of-type th {\n",
       "        text-align: right;\n",
       "    }\n",
       "</style>\n",
       "<table border=\"1\" class=\"dataframe\">\n",
       "  <thead>\n",
       "    <tr>\n",
       "      <th></th>\n",
       "      <th colspan=\"7\" halign=\"left\">electricity</th>\n",
       "    </tr>\n",
       "    <tr>\n",
       "      <th></th>\n",
       "      <th>mean</th>\n",
       "      <th>median</th>\n",
       "      <th>std</th>\n",
       "      <th>skew</th>\n",
       "      <th>min</th>\n",
       "      <th>max</th>\n",
       "      <th>count</th>\n",
       "    </tr>\n",
       "    <tr>\n",
       "      <th>hour_of_year</th>\n",
       "      <th></th>\n",
       "      <th></th>\n",
       "      <th></th>\n",
       "      <th></th>\n",
       "      <th></th>\n",
       "      <th></th>\n",
       "      <th></th>\n",
       "    </tr>\n",
       "  </thead>\n",
       "  <tbody>\n",
       "    <tr>\n",
       "      <th>010100</th>\n",
       "      <td>0.0</td>\n",
       "      <td>0.0</td>\n",
       "      <td>0.0</td>\n",
       "      <td>0.0</td>\n",
       "      <td>0.0</td>\n",
       "      <td>0.0</td>\n",
       "      <td>43</td>\n",
       "    </tr>\n",
       "    <tr>\n",
       "      <th>010101</th>\n",
       "      <td>0.0</td>\n",
       "      <td>0.0</td>\n",
       "      <td>0.0</td>\n",
       "      <td>0.0</td>\n",
       "      <td>0.0</td>\n",
       "      <td>0.0</td>\n",
       "      <td>43</td>\n",
       "    </tr>\n",
       "    <tr>\n",
       "      <th>010102</th>\n",
       "      <td>0.0</td>\n",
       "      <td>0.0</td>\n",
       "      <td>0.0</td>\n",
       "      <td>0.0</td>\n",
       "      <td>0.0</td>\n",
       "      <td>0.0</td>\n",
       "      <td>43</td>\n",
       "    </tr>\n",
       "    <tr>\n",
       "      <th>010103</th>\n",
       "      <td>0.0</td>\n",
       "      <td>0.0</td>\n",
       "      <td>0.0</td>\n",
       "      <td>0.0</td>\n",
       "      <td>0.0</td>\n",
       "      <td>0.0</td>\n",
       "      <td>43</td>\n",
       "    </tr>\n",
       "    <tr>\n",
       "      <th>010104</th>\n",
       "      <td>0.0</td>\n",
       "      <td>0.0</td>\n",
       "      <td>0.0</td>\n",
       "      <td>0.0</td>\n",
       "      <td>0.0</td>\n",
       "      <td>0.0</td>\n",
       "      <td>43</td>\n",
       "    </tr>\n",
       "  </tbody>\n",
       "</table>\n",
       "</div>"
      ],
      "text/plain": [
       "             electricity                                 \n",
       "                    mean median  std skew  min  max count\n",
       "hour_of_year                                             \n",
       "010100               0.0    0.0  0.0  0.0  0.0  0.0    43\n",
       "010101               0.0    0.0  0.0  0.0  0.0  0.0    43\n",
       "010102               0.0    0.0  0.0  0.0  0.0  0.0    43\n",
       "010103               0.0    0.0  0.0  0.0  0.0  0.0    43\n",
       "010104               0.0    0.0  0.0  0.0  0.0  0.0    43"
      ]
     },
     "execution_count": 226,
     "metadata": {},
     "output_type": "execute_result"
    }
   ],
   "source": [
    "query = f\"\"\"\n",
    "        SELECT *\n",
    "        FROM {GCP_PROJECT}.{BQ_DATASET}.processed_pv\n",
    "        ORDER BY utc_time\n",
    "    \"\"\"\n",
    "\n",
    "data_processed_cache_path = Path(LOCAL_DATA_PATH).joinpath(\"processed\", f\"processed_pv.csv\")\n",
    "data_processed_df = get_data_with_cache(\n",
    "        gcp_project=GCP_PROJECT,\n",
    "        query=query,\n",
    "        cache_path=data_processed_cache_path,\n",
    "        data_has_header=True\n",
    "    )\n",
    "\n",
    "data_processed_df.utc_time = pd.to_datetime(data_processed_df.utc_time,utc=True)\n",
    "data_processed_df['cap_fac'] = data_processed_df.electricity / 0.9 * 100\n",
    "\n",
    "#\n",
    "stats_df = get_stats_table(data_processed_df, capacity=False)\n",
    "stats_df.head()"
   ]
  },
  {
   "cell_type": "markdown",
   "metadata": {},
   "source": [
    "### Package visu"
   ]
  },
  {
   "cell_type": "code",
   "execution_count": null,
   "metadata": {},
   "outputs": [],
   "source": [
    "def get_plot_data(\n",
    "  today: str,\n",
    "  stats_df: pd.DataFrame,\n",
    ") -> pd.DataFrame:\n",
    "  \"\"\"\n",
    "  Create a df that contains all information necessary for the plot in streamlit.\n",
    "  Input:\n",
    "    -\n",
    "  Output:\n",
    "    -\n",
    "  \"\"\"\n",
    "\n",
    "  #today = '2000-05-15'\n",
    "  # define time period (3 days) for plotting\n",
    "  today_timestamp = pd.Timestamp(today, tz='UTC')\n",
    "  window_df= pd.date_range(\n",
    "            start=today_timestamp - pd.Timedelta(days=2),\n",
    "            end=  today_timestamp + pd.Timedelta(days=1),\n",
    "            freq=pd.Timedelta(hours=1)).to_frame(index=False, name='utc_time')\n",
    "\n",
    "  # df\n",
    "\n",
    "\n",
    "  return plot_df"
   ]
  },
  {
   "cell_type": "markdown",
   "metadata": {},
   "source": [
    "### Define postprocess"
   ]
  },
  {
   "cell_type": "markdown",
   "metadata": {},
   "source": [
    "## Test API endpoint"
   ]
  },
  {
   "cell_type": "code",
   "execution_count": 245,
   "metadata": {},
   "outputs": [],
   "source": [
    "today = '2000-05-15' # would come from streamlit user\n",
    "\n",
    "# make api call\n",
    "base_url = \"http://127.0.0.1:8000\"\n",
    "# visualisation\n",
    "params_visu ={\n",
    "    'input_date':today,\n",
    "    'power_source': 'pv'\n",
    "    }\n",
    "\n",
    "endpoint_visu = \"/visualisation\"\n",
    "url_visu = f\"{base_url}{endpoint_visu}\"\n",
    "response_visu = requests.get(url_visu, params_visu).json()"
   ]
  },
  {
   "cell_type": "code",
   "execution_count": 247,
   "metadata": {},
   "outputs": [
    {
     "data": {
      "text/html": [
       "<div>\n",
       "<style scoped>\n",
       "    .dataframe tbody tr th:only-of-type {\n",
       "        vertical-align: middle;\n",
       "    }\n",
       "\n",
       "    .dataframe tbody tr th {\n",
       "        vertical-align: top;\n",
       "    }\n",
       "\n",
       "    .dataframe thead th {\n",
       "        text-align: right;\n",
       "    }\n",
       "</style>\n",
       "<table border=\"1\" class=\"dataframe\">\n",
       "  <thead>\n",
       "    <tr style=\"text-align: right;\">\n",
       "      <th></th>\n",
       "      <th>utc_time</th>\n",
       "      <th>local_time</th>\n",
       "      <th>electricity</th>\n",
       "      <th>hour_of_year</th>\n",
       "      <th>mean</th>\n",
       "      <th>median</th>\n",
       "      <th>std</th>\n",
       "      <th>skew</th>\n",
       "      <th>min</th>\n",
       "      <th>max</th>\n",
       "      <th>count</th>\n",
       "      <th>pred</th>\n",
       "    </tr>\n",
       "  </thead>\n",
       "  <tbody>\n",
       "    <tr>\n",
       "      <th>0</th>\n",
       "      <td>2000-05-13T00:00:00+00:00</td>\n",
       "      <td>2000-05-13 00:00:00+00:00</td>\n",
       "      <td>0.000</td>\n",
       "      <td>051300</td>\n",
       "      <td>0.000000</td>\n",
       "      <td>0.000</td>\n",
       "      <td>0.000000</td>\n",
       "      <td>0.000000</td>\n",
       "      <td>0.00</td>\n",
       "      <td>0.000</td>\n",
       "      <td>43</td>\n",
       "      <td>0.000</td>\n",
       "    </tr>\n",
       "    <tr>\n",
       "      <th>1</th>\n",
       "      <td>2000-05-13T01:00:00+00:00</td>\n",
       "      <td>2000-05-13 01:00:00+00:00</td>\n",
       "      <td>0.000</td>\n",
       "      <td>051301</td>\n",
       "      <td>0.000000</td>\n",
       "      <td>0.000</td>\n",
       "      <td>0.000000</td>\n",
       "      <td>0.000000</td>\n",
       "      <td>0.00</td>\n",
       "      <td>0.000</td>\n",
       "      <td>43</td>\n",
       "      <td>0.000</td>\n",
       "    </tr>\n",
       "    <tr>\n",
       "      <th>2</th>\n",
       "      <td>2000-05-13T02:00:00+00:00</td>\n",
       "      <td>2000-05-13 02:00:00+00:00</td>\n",
       "      <td>0.000</td>\n",
       "      <td>051302</td>\n",
       "      <td>0.000000</td>\n",
       "      <td>0.000</td>\n",
       "      <td>0.000000</td>\n",
       "      <td>0.000000</td>\n",
       "      <td>0.00</td>\n",
       "      <td>0.000</td>\n",
       "      <td>43</td>\n",
       "      <td>0.000</td>\n",
       "    </tr>\n",
       "    <tr>\n",
       "      <th>3</th>\n",
       "      <td>2000-05-13T03:00:00+00:00</td>\n",
       "      <td>2000-05-13 03:00:00+00:00</td>\n",
       "      <td>0.001</td>\n",
       "      <td>051303</td>\n",
       "      <td>0.000535</td>\n",
       "      <td>0.001</td>\n",
       "      <td>0.000505</td>\n",
       "      <td>-0.144983</td>\n",
       "      <td>0.00</td>\n",
       "      <td>0.001</td>\n",
       "      <td>43</td>\n",
       "      <td>0.001</td>\n",
       "    </tr>\n",
       "    <tr>\n",
       "      <th>4</th>\n",
       "      <td>2000-05-13T04:00:00+00:00</td>\n",
       "      <td>2000-05-13 04:00:00+00:00</td>\n",
       "      <td>0.029</td>\n",
       "      <td>051304</td>\n",
       "      <td>0.031837</td>\n",
       "      <td>0.034</td>\n",
       "      <td>0.007290</td>\n",
       "      <td>-1.389870</td>\n",
       "      <td>0.01</td>\n",
       "      <td>0.043</td>\n",
       "      <td>43</td>\n",
       "      <td>0.029</td>\n",
       "    </tr>\n",
       "  </tbody>\n",
       "</table>\n",
       "</div>"
      ],
      "text/plain": [
       "                    utc_time                 local_time  electricity  \\\n",
       "0  2000-05-13T00:00:00+00:00  2000-05-13 00:00:00+00:00        0.000   \n",
       "1  2000-05-13T01:00:00+00:00  2000-05-13 01:00:00+00:00        0.000   \n",
       "2  2000-05-13T02:00:00+00:00  2000-05-13 02:00:00+00:00        0.000   \n",
       "3  2000-05-13T03:00:00+00:00  2000-05-13 03:00:00+00:00        0.001   \n",
       "4  2000-05-13T04:00:00+00:00  2000-05-13 04:00:00+00:00        0.029   \n",
       "\n",
       "  hour_of_year      mean  median       std      skew   min    max  count  \\\n",
       "0       051300  0.000000   0.000  0.000000  0.000000  0.00  0.000     43   \n",
       "1       051301  0.000000   0.000  0.000000  0.000000  0.00  0.000     43   \n",
       "2       051302  0.000000   0.000  0.000000  0.000000  0.00  0.000     43   \n",
       "3       051303  0.000535   0.001  0.000505 -0.144983  0.00  0.001     43   \n",
       "4       051304  0.031837   0.034  0.007290 -1.389870  0.01  0.043     43   \n",
       "\n",
       "    pred  \n",
       "0  0.000  \n",
       "1  0.000  \n",
       "2  0.000  \n",
       "3  0.001  \n",
       "4  0.029  "
      ]
     },
     "execution_count": 247,
     "metadata": {},
     "output_type": "execute_result"
    }
   ],
   "source": [
    "plot_df = pd.DataFrame.from_dict(response_visu)\n",
    "plot_df.head()"
   ]
  },
  {
   "cell_type": "code",
   "execution_count": 252,
   "metadata": {},
   "outputs": [
    {
     "data": {
      "image/png": "[encoded data removed]",
      "text/plain": [
       "<Figure size 1500x500 with 1 Axes>"
      ]
     },
     "metadata": {},
     "output_type": "display_data"
    }
   ],
   "source": [
    "\n",
    "plot_df.utc_time = pd.to_datetime(plot_df.utc_time,utc=True)\n",
    "\n",
    "fig, ax = plt.subplots(figsize=(15,5))\n",
    "\n",
    "time = plot_df.utc_time.values\n",
    "\n",
    "sep_future = today_timestamp\n",
    "sep_past = today_timestamp - pd.Timedelta(days=1)\n",
    "sep_order = today_timestamp - pd.Timedelta(hours=12)\n",
    "\n",
    "# time\n",
    "ax.axvline(sep_past, color='k', linewidth=0.7)\n",
    "ax.axvline(sep_future, color='k', linewidth=0.7)\n",
    "#ax.axvline(sep_order, color='k', linewidth=0.7, linestyle='--')\n",
    "ax.vlines(sep_order, ymin=0, ymax=100, color='k', linewidth=0.7, linestyle='--')\n",
    "\n",
    "# stats\n",
    "alpha_stats = 0.2\n",
    "ax.step(time, plot_df['min'].values, where='pre',\n",
    "        color='k', linestyle=':', alpha=alpha_stats, label='min')\n",
    "ax.step(time, plot_df['max'].values, where='pre',\n",
    "        color='k', linestyle=':', alpha=alpha_stats, label='max')\n",
    "ax.step(time, plot_df['mean'].values, where='pre',\n",
    "        color='k', linestyle='-', alpha=alpha_stats, label='mean')\n",
    "\n",
    "lower_bound = plot_df['mean'].values - 1 * plot_df['std'].values\n",
    "upper_bound = plot_df['mean'].values + 1 * plot_df['std'].values\n",
    "ax.fill_between(time, lower_bound, upper_bound, step='pre',\n",
    "                color='gray',\n",
    "                alpha=alpha_stats,\n",
    "                label='std')\n",
    "\n",
    "# true\n",
    "current = 37 # current production data\n",
    "ax.step(time[:current], plot_df.electricity.values[:current], where='pre',\n",
    "        color='orange', linewidth=3, label='true')\n",
    "\n",
    "# prediction\n",
    "hori = -24\n",
    "ax.step(time[hori:], plot_df.pred.values[hori:], where='pre',\n",
    "        color='orange', linewidth=3, linestyle='--', label='pred')\n",
    "\n",
    "# date ticks\n",
    "ax.xaxis.set_major_locator(dates.HourLocator(byhour=range(24), interval=12, tz='UTC'))\n",
    "ax.xaxis.set_major_formatter(dates.DateFormatter('%H:%M %d/%m/%Y'))\n",
    "\n",
    "ax.set_xlim(today_timestamp - pd.Timedelta(days=2), today_timestamp + pd.Timedelta(days=1))\n",
    "ax.set_ylim(0,1.0)\n",
    "ax.set_xlabel('Time')\n",
    "#ax.set_ylabel('Capacity factor in %')\n",
    "\n",
    "ax.annotate('day-ahead',(0.77,0.9), xycoords='subfigure fraction')\n",
    "ax.annotate('today',(0.48,0.9), xycoords='subfigure fraction')\n",
    "ax.annotate('day-behind',(0.15,0.9), xycoords='subfigure fraction')\n",
    "ax.annotate('order book closed',(0.51,0.77), xycoords='subfigure fraction')\n",
    "\n",
    "ax.legend();\n"
   ]
  },
  {
   "cell_type": "markdown",
   "metadata": {},
   "source": [
    "## Plotly"
   ]
  },
  {
   "cell_type": "code",
   "execution_count": 271,
   "metadata": {},
   "outputs": [],
   "source": [
    "import plotly.express as px\n",
    "#fig = px.scatter(x=[0, 1, 2, 3, 4], y=[0, 1, 4, 9, 16])\n",
    "#fig.show()"
   ]
  },
  {
   "cell_type": "code",
   "execution_count": null,
   "metadata": {},
   "outputs": [],
   "source": []
  },
  {
   "cell_type": "code",
   "execution_count": 275,
   "metadata": {},
   "outputs": [
    {
     "data": {
      "application/vnd.plotly.v1+json": {
       "config": {
        "plotlyServerURL": "https://plot.ly"
       },
       "data": [
        {
         "line": {
          "color": "black",
          "dash": "dot",
          "shape": "hv",
          "width": 1
         },
         "mode": "lines",
         "name": "min",
         "type": "scatter",
         "x": [
          "2000-05-13T00:00:00+00:00",
          "2000-05-13T01:00:00+00:00",
          "2000-05-13T02:00:00+00:00",
          "2000-05-13T03:00:00+00:00",
          "2000-05-13T04:00:00+00:00",
          "2000-05-13T05:00:00+00:00",
          "2000-05-13T06:00:00+00:00",
          "2000-05-13T07:00:00+00:00",
          "2000-05-13T08:00:00+00:00",
          "2000-05-13T09:00:00+00:00",
          "2000-05-13T10:00:00+00:00",
          "2000-05-13T11:00:00+00:00",
          "2000-05-13T12:00:00+00:00",
          "2000-05-13T13:00:00+00:00",
          "2000-05-13T14:00:00+00:00",
          "2000-05-13T15:00:00+00:00",
          "2000-05-13T16:00:00+00:00",
          "2000-05-13T17:00:00+00:00",
          "2000-05-13T18:00:00+00:00",
          "2000-05-13T19:00:00+00:00",
          "2000-05-13T20:00:00+00:00",
          "2000-05-13T21:00:00+00:00",
          "2000-05-13T22:00:00+00:00",
          "2000-05-13T23:00:00+00:00",
          "2000-05-14T00:00:00+00:00",
          "2000-05-14T01:00:00+00:00",
          "2000-05-14T02:00:00+00:00",
          "2000-05-14T03:00:00+00:00",
          "2000-05-14T04:00:00+00:00",
          "2000-05-14T05:00:00+00:00",
          "2000-05-14T06:00:00+00:00",
          "2000-05-14T07:00:00+00:00",
          "2000-05-14T08:00:00+00:00",
          "2000-05-14T09:00:00+00:00",
          "2000-05-14T10:00:00+00:00",
          "2000-05-14T11:00:00+00:00",
          "2000-05-14T12:00:00+00:00",
          "2000-05-14T13:00:00+00:00",
          "2000-05-14T14:00:00+00:00",
          "2000-05-14T15:00:00+00:00",
          "2000-05-14T16:00:00+00:00",
          "2000-05-14T17:00:00+00:00",
          "2000-05-14T18:00:00+00:00",
          "2000-05-14T19:00:00+00:00",
          "2000-05-14T20:00:00+00:00",
          "2000-05-14T21:00:00+00:00",
          "2000-05-14T22:00:00+00:00",
          "2000-05-14T23:00:00+00:00",
          "2000-05-15T00:00:00+00:00",
          "2000-05-15T01:00:00+00:00",
          "2000-05-15T02:00:00+00:00",
          "2000-05-15T03:00:00+00:00",
          "2000-05-15T04:00:00+00:00",
          "2000-05-15T05:00:00+00:00",
          "2000-05-15T06:00:00+00:00",
          "2000-05-15T07:00:00+00:00",
          "2000-05-15T08:00:00+00:00",
          "2000-05-15T09:00:00+00:00",
          "2000-05-15T10:00:00+00:00",
          "2000-05-15T11:00:00+00:00",
          "2000-05-15T12:00:00+00:00",
          "2000-05-15T13:00:00+00:00",
          "2000-05-15T14:00:00+00:00",
          "2000-05-15T15:00:00+00:00",
          "2000-05-15T16:00:00+00:00",
          "2000-05-15T17:00:00+00:00",
          "2000-05-15T18:00:00+00:00",
          "2000-05-15T19:00:00+00:00",
          "2000-05-15T20:00:00+00:00",
          "2000-05-15T21:00:00+00:00",
          "2000-05-15T22:00:00+00:00",
          "2000-05-15T23:00:00+00:00",
          "2000-05-16T00:00:00+00:00"
         ],
         "y": [
          0,
          0,
          0,
          0,
          1.1111111111111112,
          3.4444444444444446,
          6.222222222222222,
          8.555555555555555,
          9.88888888888889,
          8.88888888888889,
          10.777777777777779,
          11,
          10.88888888888889,
          9.11111111111111,
          6.222222222222222,
          3.5555555555555554,
          1.6666666666666667,
          0.4444444444444444,
          0,
          0,
          0,
          0,
          0,
          0,
          0,
          0,
          0,
          0,
          0.7777777777777778,
          3.2222222222222223,
          6.222222222222222,
          9.777777777777777,
          12.666666666666668,
          13.999999999999998,
          14.666666666666666,
          12.777777777777777,
          15.88888888888889,
          12.444444444444445,
          9.444444444444445,
          6.5555555555555545,
          3,
          0.7777777777777778,
          0,
          0,
          0,
          0,
          0,
          0,
          0,
          0,
          0,
          0,
          0.4444444444444444,
          2.111111111111111,
          5.111111111111111,
          9.11111111111111,
          13,
          15.222222222222223,
          14.555555555555555,
          15.999999999999998,
          16.555555555555554,
          14.11111111111111,
          13.111111111111109,
          8.88888888888889,
          3.888888888888889,
          1.4444444444444444,
          0,
          0,
          0,
          0,
          0,
          0,
          0
         ]
        },
        {
         "line": {
          "color": "black",
          "dash": "dot",
          "shape": "hv",
          "width": 1
         },
         "mode": "lines",
         "name": "max",
         "type": "scatter",
         "x": [
          "2000-05-13T00:00:00+00:00",
          "2000-05-13T01:00:00+00:00",
          "2000-05-13T02:00:00+00:00",
          "2000-05-13T03:00:00+00:00",
          "2000-05-13T04:00:00+00:00",
          "2000-05-13T05:00:00+00:00",
          "2000-05-13T06:00:00+00:00",
          "2000-05-13T07:00:00+00:00",
          "2000-05-13T08:00:00+00:00",
          "2000-05-13T09:00:00+00:00",
          "2000-05-13T10:00:00+00:00",
          "2000-05-13T11:00:00+00:00",
          "2000-05-13T12:00:00+00:00",
          "2000-05-13T13:00:00+00:00",
          "2000-05-13T14:00:00+00:00",
          "2000-05-13T15:00:00+00:00",
          "2000-05-13T16:00:00+00:00",
          "2000-05-13T17:00:00+00:00",
          "2000-05-13T18:00:00+00:00",
          "2000-05-13T19:00:00+00:00",
          "2000-05-13T20:00:00+00:00",
          "2000-05-13T21:00:00+00:00",
          "2000-05-13T22:00:00+00:00",
          "2000-05-13T23:00:00+00:00",
          "2000-05-14T00:00:00+00:00",
          "2000-05-14T01:00:00+00:00",
          "2000-05-14T02:00:00+00:00",
          "2000-05-14T03:00:00+00:00",
          "2000-05-14T04:00:00+00:00",
          "2000-05-14T05:00:00+00:00",
          "2000-05-14T06:00:00+00:00",
          "2000-05-14T07:00:00+00:00",
          "2000-05-14T08:00:00+00:00",
          "2000-05-14T09:00:00+00:00",
          "2000-05-14T10:00:00+00:00",
          "2000-05-14T11:00:00+00:00",
          "2000-05-14T12:00:00+00:00",
          "2000-05-14T13:00:00+00:00",
          "2000-05-14T14:00:00+00:00",
          "2000-05-14T15:00:00+00:00",
          "2000-05-14T16:00:00+00:00",
          "2000-05-14T17:00:00+00:00",
          "2000-05-14T18:00:00+00:00",
          "2000-05-14T19:00:00+00:00",
          "2000-05-14T20:00:00+00:00",
          "2000-05-14T21:00:00+00:00",
          "2000-05-14T22:00:00+00:00",
          "2000-05-14T23:00:00+00:00",
          "2000-05-15T00:00:00+00:00",
          "2000-05-15T01:00:00+00:00",
          "2000-05-15T02:00:00+00:00",
          "2000-05-15T03:00:00+00:00",
          "2000-05-15T04:00:00+00:00",
          "2000-05-15T05:00:00+00:00",
          "2000-05-15T06:00:00+00:00",
          "2000-05-15T07:00:00+00:00",
          "2000-05-15T08:00:00+00:00",
          "2000-05-15T09:00:00+00:00",
          "2000-05-15T10:00:00+00:00",
          "2000-05-15T11:00:00+00:00",
          "2000-05-15T12:00:00+00:00",
          "2000-05-15T13:00:00+00:00",
          "2000-05-15T14:00:00+00:00",
          "2000-05-15T15:00:00+00:00",
          "2000-05-15T16:00:00+00:00",
          "2000-05-15T17:00:00+00:00",
          "2000-05-15T18:00:00+00:00",
          "2000-05-15T19:00:00+00:00",
          "2000-05-15T20:00:00+00:00",
          "2000-05-15T21:00:00+00:00",
          "2000-05-15T22:00:00+00:00",
          "2000-05-15T23:00:00+00:00",
          "2000-05-16T00:00:00+00:00"
         ],
         "y": [
          0,
          0,
          0,
          0.1111111111111111,
          4.777777777777778,
          13.444444444444445,
          36.77777777777778,
          58.333333333333336,
          74.8888888888889,
          85.77777777777777,
          91.1111111111111,
          91.1111111111111,
          86,
          75.44444444444444,
          59.44444444444444,
          38.77777777777777,
          15.999999999999998,
          6.111111111111111,
          0.6666666666666666,
          0,
          0,
          0,
          0,
          0,
          0,
          0,
          0,
          0.2222222222222222,
          4.777777777777778,
          13.88888888888889,
          36.44444444444444,
          57.777777777777786,
          74.55555555555556,
          85.66666666666667,
          91.22222222222221,
          91.33333333333333,
          86,
          75.33333333333334,
          59.22222222222222,
          38.77777777777777,
          17.444444444444443,
          6.222222222222222,
          0.7777777777777778,
          0,
          0,
          0,
          0,
          0,
          0,
          0,
          0,
          0.2222222222222222,
          5,
          14.11111111111111,
          35.888888888888886,
          57.22222222222222,
          73.66666666666667,
          84.55555555555556,
          90,
          90,
          84.66666666666667,
          74.11111111111111,
          58.22222222222222,
          37.888888888888886,
          16.22222222222222,
          6.5555555555555545,
          0.8888888888888888,
          0,
          0,
          0,
          0,
          0,
          0
         ]
        },
        {
         "line": {
          "color": "black",
          "shape": "hv",
          "width": 1
         },
         "mode": "lines",
         "name": "mean",
         "type": "scatter",
         "x": [
          "2000-05-13T00:00:00+00:00",
          "2000-05-13T01:00:00+00:00",
          "2000-05-13T02:00:00+00:00",
          "2000-05-13T03:00:00+00:00",
          "2000-05-13T04:00:00+00:00",
          "2000-05-13T05:00:00+00:00",
          "2000-05-13T06:00:00+00:00",
          "2000-05-13T07:00:00+00:00",
          "2000-05-13T08:00:00+00:00",
          "2000-05-13T09:00:00+00:00",
          "2000-05-13T10:00:00+00:00",
          "2000-05-13T11:00:00+00:00",
          "2000-05-13T12:00:00+00:00",
          "2000-05-13T13:00:00+00:00",
          "2000-05-13T14:00:00+00:00",
          "2000-05-13T15:00:00+00:00",
          "2000-05-13T16:00:00+00:00",
          "2000-05-13T17:00:00+00:00",
          "2000-05-13T18:00:00+00:00",
          "2000-05-13T19:00:00+00:00",
          "2000-05-13T20:00:00+00:00",
          "2000-05-13T21:00:00+00:00",
          "2000-05-13T22:00:00+00:00",
          "2000-05-13T23:00:00+00:00",
          "2000-05-14T00:00:00+00:00",
          "2000-05-14T01:00:00+00:00",
          "2000-05-14T02:00:00+00:00",
          "2000-05-14T03:00:00+00:00",
          "2000-05-14T04:00:00+00:00",
          "2000-05-14T05:00:00+00:00",
          "2000-05-14T06:00:00+00:00",
          "2000-05-14T07:00:00+00:00",
          "2000-05-14T08:00:00+00:00",
          "2000-05-14T09:00:00+00:00",
          "2000-05-14T10:00:00+00:00",
          "2000-05-14T11:00:00+00:00",
          "2000-05-14T12:00:00+00:00",
          "2000-05-14T13:00:00+00:00",
          "2000-05-14T14:00:00+00:00",
          "2000-05-14T15:00:00+00:00",
          "2000-05-14T16:00:00+00:00",
          "2000-05-14T17:00:00+00:00",
          "2000-05-14T18:00:00+00:00",
          "2000-05-14T19:00:00+00:00",
          "2000-05-14T20:00:00+00:00",
          "2000-05-14T21:00:00+00:00",
          "2000-05-14T22:00:00+00:00",
          "2000-05-14T23:00:00+00:00",
          "2000-05-15T00:00:00+00:00",
          "2000-05-15T01:00:00+00:00",
          "2000-05-15T02:00:00+00:00",
          "2000-05-15T03:00:00+00:00",
          "2000-05-15T04:00:00+00:00",
          "2000-05-15T05:00:00+00:00",
          "2000-05-15T06:00:00+00:00",
          "2000-05-15T07:00:00+00:00",
          "2000-05-15T08:00:00+00:00",
          "2000-05-15T09:00:00+00:00",
          "2000-05-15T10:00:00+00:00",
          "2000-05-15T11:00:00+00:00",
          "2000-05-15T12:00:00+00:00",
          "2000-05-15T13:00:00+00:00",
          "2000-05-15T14:00:00+00:00",
          "2000-05-15T15:00:00+00:00",
          "2000-05-15T16:00:00+00:00",
          "2000-05-15T17:00:00+00:00",
          "2000-05-15T18:00:00+00:00",
          "2000-05-15T19:00:00+00:00",
          "2000-05-15T20:00:00+00:00",
          "2000-05-15T21:00:00+00:00",
          "2000-05-15T22:00:00+00:00",
          "2000-05-15T23:00:00+00:00",
          "2000-05-16T00:00:00+00:00"
         ],
         "y": [
          0,
          0,
          0,
          0.059431524547803614,
          3.537467700258398,
          11.602067183462532,
          27.68475452196382,
          43.93023255813954,
          55.9483204134367,
          63.81136950904392,
          68.97674418604652,
          68.11627906976744,
          63.444444444444436,
          54.96640826873385,
          42.72093023255814,
          27.01033591731266,
          12.431524547803617,
          4.263565891472868,
          0.4237726098191214,
          0,
          0,
          0,
          0,
          0,
          0,
          0,
          0,
          0.08010335917312661,
          3.5426356589147288,
          11.209302325581396,
          26.989664082687337,
          43.0671834625323,
          56.15245478036176,
          64.79328165374677,
          68.01808785529715,
          66.55813953488372,
          61.54263565891472,
          52.92506459948321,
          41.30232558139535,
          27.018087855297157,
          12.299741602067185,
          4.354005167958657,
          0.4987080103359173,
          0,
          0,
          0,
          0,
          0,
          0,
          0,
          0,
          0.12919896640826872,
          3.547803617571059,
          11.439276485788113,
          26.45994832041344,
          41.08268733850129,
          52.80878552971576,
          60,
          63.73385012919897,
          63.22222222222222,
          58.201550387596896,
          50.614987080103354,
          39.94315245478036,
          26.09560723514212,
          12.581395348837209,
          4.576227390180878,
          0.5400516795865633,
          0,
          0,
          0,
          0,
          0,
          0
         ]
        },
        {
         "fill": "tonexty",
         "fillcolor": "rgba(128,128,128,0.2)",
         "line": {
          "shape": "hv",
          "width": 0
         },
         "mode": "lines",
         "name": "std",
         "type": "scatter",
         "x": [
          "2000-05-13T00:00:00+00:00",
          "2000-05-13T01:00:00+00:00",
          "2000-05-13T02:00:00+00:00",
          "2000-05-13T03:00:00+00:00",
          "2000-05-13T04:00:00+00:00",
          "2000-05-13T05:00:00+00:00",
          "2000-05-13T06:00:00+00:00",
          "2000-05-13T07:00:00+00:00",
          "2000-05-13T08:00:00+00:00",
          "2000-05-13T09:00:00+00:00",
          "2000-05-13T10:00:00+00:00",
          "2000-05-13T11:00:00+00:00",
          "2000-05-13T12:00:00+00:00",
          "2000-05-13T13:00:00+00:00",
          "2000-05-13T14:00:00+00:00",
          "2000-05-13T15:00:00+00:00",
          "2000-05-13T16:00:00+00:00",
          "2000-05-13T17:00:00+00:00",
          "2000-05-13T18:00:00+00:00",
          "2000-05-13T19:00:00+00:00",
          "2000-05-13T20:00:00+00:00",
          "2000-05-13T21:00:00+00:00",
          "2000-05-13T22:00:00+00:00",
          "2000-05-13T23:00:00+00:00",
          "2000-05-14T00:00:00+00:00",
          "2000-05-14T01:00:00+00:00",
          "2000-05-14T02:00:00+00:00",
          "2000-05-14T03:00:00+00:00",
          "2000-05-14T04:00:00+00:00",
          "2000-05-14T05:00:00+00:00",
          "2000-05-14T06:00:00+00:00",
          "2000-05-14T07:00:00+00:00",
          "2000-05-14T08:00:00+00:00",
          "2000-05-14T09:00:00+00:00",
          "2000-05-14T10:00:00+00:00",
          "2000-05-14T11:00:00+00:00",
          "2000-05-14T12:00:00+00:00",
          "2000-05-14T13:00:00+00:00",
          "2000-05-14T14:00:00+00:00",
          "2000-05-14T15:00:00+00:00",
          "2000-05-14T16:00:00+00:00",
          "2000-05-14T17:00:00+00:00",
          "2000-05-14T18:00:00+00:00",
          "2000-05-14T19:00:00+00:00",
          "2000-05-14T20:00:00+00:00",
          "2000-05-14T21:00:00+00:00",
          "2000-05-14T22:00:00+00:00",
          "2000-05-14T23:00:00+00:00",
          "2000-05-15T00:00:00+00:00",
          "2000-05-15T01:00:00+00:00",
          "2000-05-15T02:00:00+00:00",
          "2000-05-15T03:00:00+00:00",
          "2000-05-15T04:00:00+00:00",
          "2000-05-15T05:00:00+00:00",
          "2000-05-15T06:00:00+00:00",
          "2000-05-15T07:00:00+00:00",
          "2000-05-15T08:00:00+00:00",
          "2000-05-15T09:00:00+00:00",
          "2000-05-15T10:00:00+00:00",
          "2000-05-15T11:00:00+00:00",
          "2000-05-15T12:00:00+00:00",
          "2000-05-15T13:00:00+00:00",
          "2000-05-15T14:00:00+00:00",
          "2000-05-15T15:00:00+00:00",
          "2000-05-15T16:00:00+00:00",
          "2000-05-15T17:00:00+00:00",
          "2000-05-15T18:00:00+00:00",
          "2000-05-15T19:00:00+00:00",
          "2000-05-15T20:00:00+00:00",
          "2000-05-15T21:00:00+00:00",
          "2000-05-15T22:00:00+00:00",
          "2000-05-15T23:00:00+00:00",
          "2000-05-16T00:00:00+00:00"
         ],
         "y": [
          0,
          0,
          0,
          0.00335545916916459,
          2.727502490795816,
          9.3293301415992,
          20.509615760595498,
          31.340682118202217,
          38.4134161303488,
          43.4962515385222,
          48.52829509960286,
          46.7801908232596,
          42.47796690332969,
          36.186274186527925,
          28.332794727102513,
          17.696302774976502,
          8.777127141782751,
          2.953804399792963,
          0.19470372549708292,
          0,
          0,
          0,
          0,
          0,
          0,
          0,
          0,
          0.010142500899465307,
          2.519904792154862,
          8.493354551456711,
          18.934197418208313,
          30.587849822545376,
          40.18080840002087,
          46.05376047615209,
          47.463334113856064,
          45.1633112744922,
          40.501702325405844,
          34.2459505691445,
          26.247354281667697,
          17.350389490582316,
          8.302936963917782,
          2.9146049781232417,
          0.2557930102832418,
          0,
          0,
          0,
          0,
          0,
          0,
          0,
          0,
          0.03242491986911476,
          2.414066956058096,
          8.648623416131045,
          17.972810997471345,
          26.791105206856546,
          34.48282379894515,
          38.81592947025315,
          41.36362684485889,
          41.97797480775877,
          37.6319962265163,
          32.444807997342664,
          26.087268451489436,
          17.024862308802078,
          9.312185201891527,
          3.4626703432107453,
          0.2897357177584449,
          0,
          0,
          0,
          0,
          0,
          0
         ]
        },
        {
         "line": {
          "color": "orange",
          "shape": "hv",
          "width": 3
         },
         "mode": "lines",
         "name": "true",
         "type": "scatter",
         "x": [
          "2000-05-13T00:00:00+00:00",
          "2000-05-13T01:00:00+00:00",
          "2000-05-13T02:00:00+00:00",
          "2000-05-13T03:00:00+00:00",
          "2000-05-13T04:00:00+00:00",
          "2000-05-13T05:00:00+00:00",
          "2000-05-13T06:00:00+00:00",
          "2000-05-13T07:00:00+00:00",
          "2000-05-13T08:00:00+00:00",
          "2000-05-13T09:00:00+00:00",
          "2000-05-13T10:00:00+00:00",
          "2000-05-13T11:00:00+00:00",
          "2000-05-13T12:00:00+00:00",
          "2000-05-13T13:00:00+00:00",
          "2000-05-13T14:00:00+00:00",
          "2000-05-13T15:00:00+00:00",
          "2000-05-13T16:00:00+00:00",
          "2000-05-13T17:00:00+00:00",
          "2000-05-13T18:00:00+00:00",
          "2000-05-13T19:00:00+00:00",
          "2000-05-13T20:00:00+00:00",
          "2000-05-13T21:00:00+00:00",
          "2000-05-13T22:00:00+00:00",
          "2000-05-13T23:00:00+00:00",
          "2000-05-14T00:00:00+00:00",
          "2000-05-14T01:00:00+00:00",
          "2000-05-14T02:00:00+00:00",
          "2000-05-14T03:00:00+00:00",
          "2000-05-14T04:00:00+00:00",
          "2000-05-14T05:00:00+00:00",
          "2000-05-14T06:00:00+00:00",
          "2000-05-14T07:00:00+00:00",
          "2000-05-14T08:00:00+00:00",
          "2000-05-14T09:00:00+00:00",
          "2000-05-14T10:00:00+00:00",
          "2000-05-14T11:00:00+00:00",
          "2000-05-14T12:00:00+00:00"
         ],
         "y": [
          0,
          0,
          0,
          0.1111111111111111,
          3.2222222222222223,
          12.88888888888889,
          35.333333333333336,
          56.111111111111114,
          72.33333333333334,
          83,
          88.22222222222223,
          88.11111111111111,
          83,
          72.66666666666667,
          57.22222222222222,
          37.111111111111114,
          15.11111111111111,
          3.7777777777777777,
          0.6666666666666666,
          0,
          0,
          0,
          0,
          0,
          0,
          0,
          0,
          0.1111111111111111,
          3.2222222222222223,
          12.666666666666668,
          34.44444444444444,
          54.222222222222214,
          69.66666666666667,
          80,
          85,
          85.11111111111111,
          80.11111111111111
         ]
        },
        {
         "line": {
          "color": "orange",
          "dash": "dash",
          "shape": "hv",
          "width": 3
         },
         "mode": "lines",
         "name": "pred",
         "type": "scatter",
         "x": [
          "2000-05-15T01:00:00+00:00",
          "2000-05-15T02:00:00+00:00",
          "2000-05-15T03:00:00+00:00",
          "2000-05-15T04:00:00+00:00",
          "2000-05-15T05:00:00+00:00",
          "2000-05-15T06:00:00+00:00",
          "2000-05-15T07:00:00+00:00",
          "2000-05-15T08:00:00+00:00",
          "2000-05-15T09:00:00+00:00",
          "2000-05-15T10:00:00+00:00",
          "2000-05-15T11:00:00+00:00",
          "2000-05-15T12:00:00+00:00",
          "2000-05-15T13:00:00+00:00",
          "2000-05-15T14:00:00+00:00",
          "2000-05-15T15:00:00+00:00",
          "2000-05-15T16:00:00+00:00",
          "2000-05-15T17:00:00+00:00",
          "2000-05-15T18:00:00+00:00",
          "2000-05-15T19:00:00+00:00",
          "2000-05-15T20:00:00+00:00",
          "2000-05-15T21:00:00+00:00",
          "2000-05-15T22:00:00+00:00",
          "2000-05-15T23:00:00+00:00",
          "2000-05-16T00:00:00+00:00"
         ],
         "y": [
          0,
          0,
          0.2222222222222222,
          3.3333333333333335,
          12.444444444444445,
          33.55555555555556,
          52.77777777777778,
          67.88888888888889,
          77.99999999999999,
          83.22222222222221,
          83.22222222222221,
          78.66666666666666,
          68.88888888888889,
          54.222222222222214,
          35.22222222222222,
          14.555555555555555,
          4.111111111111111,
          0.7777777777777778,
          0,
          0,
          0,
          0,
          0,
          0
         ]
        }
       ],
       "layout": {
        "template": {
         "data": {
          "bar": [
           {
            "error_x": {
             "color": "#2a3f5f"
            },
            "error_y": {
             "color": "#2a3f5f"
            },
            "marker": {
             "line": {
              "color": "#E5ECF6",
              "width": 0.5
             },
             "pattern": {
              "fillmode": "overlay",
              "size": 10,
              "solidity": 0.2
             }
            },
            "type": "bar"
           }
          ],
          "barpolar": [
           {
            "marker": {
             "line": {
              "color": "#E5ECF6",
              "width": 0.5
             },
             "pattern": {
              "fillmode": "overlay",
              "size": 10,
              "solidity": 0.2
             }
            },
            "type": "barpolar"
           }
          ],
          "carpet": [
           {
            "aaxis": {
             "endlinecolor": "#2a3f5f",
             "gridcolor": "white",
             "linecolor": "white",
             "minorgridcolor": "white",
             "startlinecolor": "#2a3f5f"
            },
            "baxis": {
             "endlinecolor": "#2a3f5f",
             "gridcolor": "white",
             "linecolor": "white",
             "minorgridcolor": "white",
             "startlinecolor": "#2a3f5f"
            },
            "type": "carpet"
           }
          ],
          "choropleth": [
           {
            "colorbar": {
             "outlinewidth": 0,
             "ticks": ""
            },
            "type": "choropleth"
           }
          ],
          "contour": [
           {
            "colorbar": {
             "outlinewidth": 0,
             "ticks": ""
            },
            "colorscale": [
             [
              0,
              "#0d0887"
             ],
             [
              0.1111111111111111,
              "#46039f"
             ],
             [
              0.2222222222222222,
              "#7201a8"
             ],
             [
              0.3333333333333333,
              "#9c179e"
             ],
             [
              0.4444444444444444,
              "#bd3786"
             ],
             [
              0.5555555555555556,
              "#d8576b"
             ],
             [
              0.6666666666666666,
              "#ed7953"
             ],
             [
              0.7777777777777778,
              "#fb9f3a"
             ],
             [
              0.8888888888888888,
              "#fdca26"
             ],
             [
              1,
              "#f0f921"
             ]
            ],
            "type": "contour"
           }
          ],
          "contourcarpet": [
           {
            "colorbar": {
             "outlinewidth": 0,
             "ticks": ""
            },
            "type": "contourcarpet"
           }
          ],
          "heatmap": [
           {
            "colorbar": {
             "outlinewidth": 0,
             "ticks": ""
            },
            "colorscale": [
             [
              0,
              "#0d0887"
             ],
             [
              0.1111111111111111,
              "#46039f"
             ],
             [
              0.2222222222222222,
              "#7201a8"
             ],
             [
              0.3333333333333333,
              "#9c179e"
             ],
             [
              0.4444444444444444,
              "#bd3786"
             ],
             [
              0.5555555555555556,
              "#d8576b"
             ],
             [
              0.6666666666666666,
              "#ed7953"
             ],
             [
              0.7777777777777778,
              "#fb9f3a"
             ],
             [
              0.8888888888888888,
              "#fdca26"
             ],
             [
              1,
              "#f0f921"
             ]
            ],
            "type": "heatmap"
           }
          ],
          "heatmapgl": [
           {
            "colorbar": {
             "outlinewidth": 0,
             "ticks": ""
            },
            "colorscale": [
             [
              0,
              "#0d0887"
             ],
             [
              0.1111111111111111,
              "#46039f"
             ],
             [
              0.2222222222222222,
              "#7201a8"
             ],
             [
              0.3333333333333333,
              "#9c179e"
             ],
             [
              0.4444444444444444,
              "#bd3786"
             ],
             [
              0.5555555555555556,
              "#d8576b"
             ],
             [
              0.6666666666666666,
              "#ed7953"
             ],
             [
              0.7777777777777778,
              "#fb9f3a"
             ],
             [
              0.8888888888888888,
              "#fdca26"
             ],
             [
              1,
              "#f0f921"
             ]
            ],
            "type": "heatmapgl"
           }
          ],
          "histogram": [
           {
            "marker": {
             "pattern": {
              "fillmode": "overlay",
              "size": 10,
              "solidity": 0.2
             }
            },
            "type": "histogram"
           }
          ],
          "histogram2d": [
           {
            "colorbar": {
             "outlinewidth": 0,
             "ticks": ""
            },
            "colorscale": [
             [
              0,
              "#0d0887"
             ],
             [
              0.1111111111111111,
              "#46039f"
             ],
             [
              0.2222222222222222,
              "#7201a8"
             ],
             [
              0.3333333333333333,
              "#9c179e"
             ],
             [
              0.4444444444444444,
              "#bd3786"
             ],
             [
              0.5555555555555556,
              "#d8576b"
             ],
             [
              0.6666666666666666,
              "#ed7953"
             ],
             [
              0.7777777777777778,
              "#fb9f3a"
             ],
             [
              0.8888888888888888,
              "#fdca26"
             ],
             [
              1,
              "#f0f921"
             ]
            ],
            "type": "histogram2d"
           }
          ],
          "histogram2dcontour": [
           {
            "colorbar": {
             "outlinewidth": 0,
             "ticks": ""
            },
            "colorscale": [
             [
              0,
              "#0d0887"
             ],
             [
              0.1111111111111111,
              "#46039f"
             ],
             [
              0.2222222222222222,
              "#7201a8"
             ],
             [
              0.3333333333333333,
              "#9c179e"
             ],
             [
              0.4444444444444444,
              "#bd3786"
             ],
             [
              0.5555555555555556,
              "#d8576b"
             ],
             [
              0.6666666666666666,
              "#ed7953"
             ],
             [
              0.7777777777777778,
              "#fb9f3a"
             ],
             [
              0.8888888888888888,
              "#fdca26"
             ],
             [
              1,
              "#f0f921"
             ]
            ],
            "type": "histogram2dcontour"
           }
          ],
          "mesh3d": [
           {
            "colorbar": {
             "outlinewidth": 0,
             "ticks": ""
            },
            "type": "mesh3d"
           }
          ],
          "parcoords": [
           {
            "line": {
             "colorbar": {
              "outlinewidth": 0,
              "ticks": ""
             }
            },
            "type": "parcoords"
           }
          ],
          "pie": [
           {
            "automargin": true,
            "type": "pie"
           }
          ],
          "scatter": [
           {
            "fillpattern": {
             "fillmode": "overlay",
             "size": 10,
             "solidity": 0.2
            },
            "type": "scatter"
           }
          ],
          "scatter3d": [
           {
            "line": {
             "colorbar": {
              "outlinewidth": 0,
              "ticks": ""
             }
            },
            "marker": {
             "colorbar": {
              "outlinewidth": 0,
              "ticks": ""
             }
            },
            "type": "scatter3d"
           }
          ],
          "scattercarpet": [
           {
            "marker": {
             "colorbar": {
              "outlinewidth": 0,
              "ticks": ""
             }
            },
            "type": "scattercarpet"
           }
          ],
          "scattergeo": [
           {
            "marker": {
             "colorbar": {
              "outlinewidth": 0,
              "ticks": ""
             }
            },
            "type": "scattergeo"
           }
          ],
          "scattergl": [
           {
            "marker": {
             "colorbar": {
              "outlinewidth": 0,
              "ticks": ""
             }
            },
            "type": "scattergl"
           }
          ],
          "scattermapbox": [
           {
            "marker": {
             "colorbar": {
              "outlinewidth": 0,
              "ticks": ""
             }
            },
            "type": "scattermapbox"
           }
          ],
          "scatterpolar": [
           {
            "marker": {
             "colorbar": {
              "outlinewidth": 0,
              "ticks": ""
             }
            },
            "type": "scatterpolar"
           }
          ],
          "scatterpolargl": [
           {
            "marker": {
             "colorbar": {
              "outlinewidth": 0,
              "ticks": ""
             }
            },
            "type": "scatterpolargl"
           }
          ],
          "scatterternary": [
           {
            "marker": {
             "colorbar": {
              "outlinewidth": 0,
              "ticks": ""
             }
            },
            "type": "scatterternary"
           }
          ],
          "surface": [
           {
            "colorbar": {
             "outlinewidth": 0,
             "ticks": ""
            },
            "colorscale": [
             [
              0,
              "#0d0887"
             ],
             [
              0.1111111111111111,
              "#46039f"
             ],
             [
              0.2222222222222222,
              "#7201a8"
             ],
             [
              0.3333333333333333,
              "#9c179e"
             ],
             [
              0.4444444444444444,
              "#bd3786"
             ],
             [
              0.5555555555555556,
              "#d8576b"
             ],
             [
              0.6666666666666666,
              "#ed7953"
             ],
             [
              0.7777777777777778,
              "#fb9f3a"
             ],
             [
              0.8888888888888888,
              "#fdca26"
             ],
             [
              1,
              "#f0f921"
             ]
            ],
            "type": "surface"
           }
          ],
          "table": [
           {
            "cells": {
             "fill": {
              "color": "#EBF0F8"
             },
             "line": {
              "color": "white"
             }
            },
            "header": {
             "fill": {
              "color": "#C8D4E3"
             },
             "line": {
              "color": "white"
             }
            },
            "type": "table"
           }
          ]
         },
         "layout": {
          "annotationdefaults": {
           "arrowcolor": "#2a3f5f",
           "arrowhead": 0,
           "arrowwidth": 1
          },
          "autotypenumbers": "strict",
          "coloraxis": {
           "colorbar": {
            "outlinewidth": 0,
            "ticks": ""
           }
          },
          "colorscale": {
           "diverging": [
            [
             0,
             "#8e0152"
            ],
            [
             0.1,
             "#c51b7d"
            ],
            [
             0.2,
             "#de77ae"
            ],
            [
             0.3,
             "#f1b6da"
            ],
            [
             0.4,
             "#fde0ef"
            ],
            [
             0.5,
             "#f7f7f7"
            ],
            [
             0.6,
             "#e6f5d0"
            ],
            [
             0.7,
             "#b8e186"
            ],
            [
             0.8,
             "#7fbc41"
            ],
            [
             0.9,
             "#4d9221"
            ],
            [
             1,
             "#276419"
            ]
           ],
           "sequential": [
            [
             0,
             "#0d0887"
            ],
            [
             0.1111111111111111,
             "#46039f"
            ],
            [
             0.2222222222222222,
             "#7201a8"
            ],
            [
             0.3333333333333333,
             "#9c179e"
            ],
            [
             0.4444444444444444,
             "#bd3786"
            ],
            [
             0.5555555555555556,
             "#d8576b"
            ],
            [
             0.6666666666666666,
             "#ed7953"
            ],
            [
             0.7777777777777778,
             "#fb9f3a"
            ],
            [
             0.8888888888888888,
             "#fdca26"
            ],
            [
             1,
             "#f0f921"
            ]
           ],
           "sequentialminus": [
            [
             0,
             "#0d0887"
            ],
            [
             0.1111111111111111,
             "#46039f"
            ],
            [
             0.2222222222222222,
             "#7201a8"
            ],
            [
             0.3333333333333333,
             "#9c179e"
            ],
            [
             0.4444444444444444,
             "#bd3786"
            ],
            [
             0.5555555555555556,
             "#d8576b"
            ],
            [
             0.6666666666666666,
             "#ed7953"
            ],
            [
             0.7777777777777778,
             "#fb9f3a"
            ],
            [
             0.8888888888888888,
             "#fdca26"
            ],
            [
             1,
             "#f0f921"
            ]
           ]
          },
          "colorway": [
           "#636efa",
           "#EF553B",
           "#00cc96",
           "#ab63fa",
           "#FFA15A",
           "#19d3f3",
           "#FF6692",
           "#B6E880",
           "#FF97FF",
           "#FECB52"
          ],
          "font": {
           "color": "#2a3f5f"
          },
          "geo": {
           "bgcolor": "white",
           "lakecolor": "white",
           "landcolor": "#E5ECF6",
           "showlakes": true,
           "showland": true,
           "subunitcolor": "white"
          },
          "hoverlabel": {
           "align": "left"
          },
          "hovermode": "closest",
          "mapbox": {
           "style": "light"
          },
          "paper_bgcolor": "white",
          "plot_bgcolor": "#E5ECF6",
          "polar": {
           "angularaxis": {
            "gridcolor": "white",
            "linecolor": "white",
            "ticks": ""
           },
           "bgcolor": "#E5ECF6",
           "radialaxis": {
            "gridcolor": "white",
            "linecolor": "white",
            "ticks": ""
           }
          },
          "scene": {
           "xaxis": {
            "backgroundcolor": "#E5ECF6",
            "gridcolor": "white",
            "gridwidth": 2,
            "linecolor": "white",
            "showbackground": true,
            "ticks": "",
            "zerolinecolor": "white"
           },
           "yaxis": {
            "backgroundcolor": "#E5ECF6",
            "gridcolor": "white",
            "gridwidth": 2,
            "linecolor": "white",
            "showbackground": true,
            "ticks": "",
            "zerolinecolor": "white"
           },
           "zaxis": {
            "backgroundcolor": "#E5ECF6",
            "gridcolor": "white",
            "gridwidth": 2,
            "linecolor": "white",
            "showbackground": true,
            "ticks": "",
            "zerolinecolor": "white"
           }
          },
          "shapedefaults": {
           "line": {
            "color": "#2a3f5f"
           }
          },
          "ternary": {
           "aaxis": {
            "gridcolor": "white",
            "linecolor": "white",
            "ticks": ""
           },
           "baxis": {
            "gridcolor": "white",
            "linecolor": "white",
            "ticks": ""
           },
           "bgcolor": "#E5ECF6",
           "caxis": {
            "gridcolor": "white",
            "linecolor": "white",
            "ticks": ""
           }
          },
          "title": {
           "x": 0.05
          },
          "xaxis": {
           "automargin": true,
           "gridcolor": "white",
           "linecolor": "white",
           "ticks": "",
           "title": {
            "standoff": 15
           },
           "zerolinecolor": "white",
           "zerolinewidth": 2
          },
          "yaxis": {
           "automargin": true,
           "gridcolor": "white",
           "linecolor": "white",
           "ticks": "",
           "title": {
            "standoff": 15
           },
           "zerolinecolor": "white",
           "zerolinewidth": 2
          }
         }
        }
       }
      }
     },
     "metadata": {},
     "output_type": "display_data"
    }
   ],
   "source": [
    "import plotly.graph_objects as go\n",
    "\n",
    "fig = go.Figure()\n",
    "\n",
    "# Stats\n",
    "alpha_stats = 0.2\n",
    "fig.add_trace(\n",
    "    go.Scatter(\n",
    "        x=plot_df['utc_time'],\n",
    "        y=plot_df['min'],\n",
    "        mode='lines',\n",
    "        line=dict(color=\"black\", width=1, dash=\"dot\", shape='hv'),\n",
    "        name='min'\n",
    "    )\n",
    ")\n",
    "\n",
    "fig.add_trace(\n",
    "    go.Scatter(\n",
    "        x=plot_df['utc_time'],\n",
    "        y=plot_df['max'],\n",
    "        mode='lines',\n",
    "        line=dict(color=\"black\", width=1, dash=\"dot\", shape='hv'),\n",
    "        name='max'\n",
    "    )\n",
    ")\n",
    "fig.add_trace(\n",
    "    go.Scatter(\n",
    "        x=plot_df['utc_time'],\n",
    "        y=plot_df['mean'],\n",
    "        mode='lines',\n",
    "        line=dict(color=\"black\", width=1, shape='hv'),\n",
    "        name='mean'\n",
    "    )\n",
    ")\n",
    "fig.add_trace(\n",
    "    go.Scatter(\n",
    "        x=plot_df['utc_time'],\n",
    "        y=plot_df['mean'] - plot_df['std'],\n",
    "        mode='lines',\n",
    "        fill='tonexty',\n",
    "        fillcolor='rgba(128,128,128,0.2)',\n",
    "        line=dict(width=0, shape='hv'),\n",
    "        name='std'\n",
    "    )\n",
    ")\n",
    "fig.add_trace(\n",
    "    go.Scatter(\n",
    "        x=plot_df['utc_time'][:37],  # Assuming 37 is the index where current production data ends\n",
    "        y=plot_df['cap_fac'][:37],\n",
    "        mode='lines',\n",
    "        line=dict(color=\"orange\", width=3, shape='hv'),\n",
    "        name='true'\n",
    "    )\n",
    ")\n",
    "fig.add_trace(\n",
    "    go.Scatter(\n",
    "        x=plot_df['utc_time'][-24:],  # Assuming you're taking the last 24 hours for prediction\n",
    "        y=plot_df['pred'][-24:],\n",
    "        mode='lines', # mode='lines',\n",
    "        line=dict(color=\"orange\", width=3, dash=\"dash\", shape='hv'),\n",
    "        name='pred'\n",
    "    )\n",
    ")\n",
    "\n",
    "\n",
    "\n",
    "fig.show()"
   ]
  },
  {
   "cell_type": "code",
   "execution_count": 276,
   "metadata": {},
   "outputs": [
    {
     "name": "stderr",
     "output_type": "stream",
     "text": [
      "/var/folders/b1/83z4ln8j1yd088xz1fgkbd2c0000gn/T/ipykernel_58875/3918432221.py:78: FutureWarning:\n",
      "\n",
      "'H' is deprecated and will be removed in a future version, please use 'h' instead.\n",
      "\n"
     ]
    },
    {
     "data": {
      "application/vnd.plotly.v1+json": {
       "config": {
        "plotlyServerURL": "https://plot.ly"
       },
       "data": [
        {
         "line": {
          "color": "black",
          "dash": "dot",
          "width": 1
         },
         "mode": "lines",
         "name": "min",
         "type": "scatter",
         "x": [
          "2000-05-13T00:00:00+00:00",
          "2000-05-13T01:00:00+00:00",
          "2000-05-13T02:00:00+00:00",
          "2000-05-13T03:00:00+00:00",
          "2000-05-13T04:00:00+00:00",
          "2000-05-13T05:00:00+00:00",
          "2000-05-13T06:00:00+00:00",
          "2000-05-13T07:00:00+00:00",
          "2000-05-13T08:00:00+00:00",
          "2000-05-13T09:00:00+00:00",
          "2000-05-13T10:00:00+00:00",
          "2000-05-13T11:00:00+00:00",
          "2000-05-13T12:00:00+00:00",
          "2000-05-13T13:00:00+00:00",
          "2000-05-13T14:00:00+00:00",
          "2000-05-13T15:00:00+00:00",
          "2000-05-13T16:00:00+00:00",
          "2000-05-13T17:00:00+00:00",
          "2000-05-13T18:00:00+00:00",
          "2000-05-13T19:00:00+00:00",
          "2000-05-13T20:00:00+00:00",
          "2000-05-13T21:00:00+00:00",
          "2000-05-13T22:00:00+00:00",
          "2000-05-13T23:00:00+00:00",
          "2000-05-14T00:00:00+00:00",
          "2000-05-14T01:00:00+00:00",
          "2000-05-14T02:00:00+00:00",
          "2000-05-14T03:00:00+00:00",
          "2000-05-14T04:00:00+00:00",
          "2000-05-14T05:00:00+00:00",
          "2000-05-14T06:00:00+00:00",
          "2000-05-14T07:00:00+00:00",
          "2000-05-14T08:00:00+00:00",
          "2000-05-14T09:00:00+00:00",
          "2000-05-14T10:00:00+00:00",
          "2000-05-14T11:00:00+00:00",
          "2000-05-14T12:00:00+00:00",
          "2000-05-14T13:00:00+00:00",
          "2000-05-14T14:00:00+00:00",
          "2000-05-14T15:00:00+00:00",
          "2000-05-14T16:00:00+00:00",
          "2000-05-14T17:00:00+00:00",
          "2000-05-14T18:00:00+00:00",
          "2000-05-14T19:00:00+00:00",
          "2000-05-14T20:00:00+00:00",
          "2000-05-14T21:00:00+00:00",
          "2000-05-14T22:00:00+00:00",
          "2000-05-14T23:00:00+00:00",
          "2000-05-15T00:00:00+00:00",
          "2000-05-15T01:00:00+00:00",
          "2000-05-15T02:00:00+00:00",
          "2000-05-15T03:00:00+00:00",
          "2000-05-15T04:00:00+00:00",
          "2000-05-15T05:00:00+00:00",
          "2000-05-15T06:00:00+00:00",
          "2000-05-15T07:00:00+00:00",
          "2000-05-15T08:00:00+00:00",
          "2000-05-15T09:00:00+00:00",
          "2000-05-15T10:00:00+00:00",
          "2000-05-15T11:00:00+00:00",
          "2000-05-15T12:00:00+00:00",
          "2000-05-15T13:00:00+00:00",
          "2000-05-15T14:00:00+00:00",
          "2000-05-15T15:00:00+00:00",
          "2000-05-15T16:00:00+00:00",
          "2000-05-15T17:00:00+00:00",
          "2000-05-15T18:00:00+00:00",
          "2000-05-15T19:00:00+00:00",
          "2000-05-15T20:00:00+00:00",
          "2000-05-15T21:00:00+00:00",
          "2000-05-15T22:00:00+00:00",
          "2000-05-15T23:00:00+00:00",
          "2000-05-16T00:00:00+00:00"
         ],
         "y": [
          0,
          0,
          0,
          0,
          1.1111111111111112,
          3.4444444444444446,
          6.222222222222222,
          8.555555555555555,
          9.88888888888889,
          8.88888888888889,
          10.777777777777779,
          11,
          10.88888888888889,
          9.11111111111111,
          6.222222222222222,
          3.5555555555555554,
          1.6666666666666667,
          0.4444444444444444,
          0,
          0,
          0,
          0,
          0,
          0,
          0,
          0,
          0,
          0,
          0.7777777777777778,
          3.2222222222222223,
          6.222222222222222,
          9.777777777777777,
          12.666666666666668,
          13.999999999999998,
          14.666666666666666,
          12.777777777777777,
          15.88888888888889,
          12.444444444444445,
          9.444444444444445,
          6.5555555555555545,
          3,
          0.7777777777777778,
          0,
          0,
          0,
          0,
          0,
          0,
          0,
          0,
          0,
          0,
          0.4444444444444444,
          2.111111111111111,
          5.111111111111111,
          9.11111111111111,
          13,
          15.222222222222223,
          14.555555555555555,
          15.999999999999998,
          16.555555555555554,
          14.11111111111111,
          13.111111111111109,
          8.88888888888889,
          3.888888888888889,
          1.4444444444444444,
          0,
          0,
          0,
          0,
          0,
          0,
          0
         ]
        },
        {
         "line": {
          "color": "black",
          "dash": "dot",
          "width": 1
         },
         "mode": "lines",
         "name": "max",
         "type": "scatter",
         "x": [
          "2000-05-13T00:00:00+00:00",
          "2000-05-13T01:00:00+00:00",
          "2000-05-13T02:00:00+00:00",
          "2000-05-13T03:00:00+00:00",
          "2000-05-13T04:00:00+00:00",
          "2000-05-13T05:00:00+00:00",
          "2000-05-13T06:00:00+00:00",
          "2000-05-13T07:00:00+00:00",
          "2000-05-13T08:00:00+00:00",
          "2000-05-13T09:00:00+00:00",
          "2000-05-13T10:00:00+00:00",
          "2000-05-13T11:00:00+00:00",
          "2000-05-13T12:00:00+00:00",
          "2000-05-13T13:00:00+00:00",
          "2000-05-13T14:00:00+00:00",
          "2000-05-13T15:00:00+00:00",
          "2000-05-13T16:00:00+00:00",
          "2000-05-13T17:00:00+00:00",
          "2000-05-13T18:00:00+00:00",
          "2000-05-13T19:00:00+00:00",
          "2000-05-13T20:00:00+00:00",
          "2000-05-13T21:00:00+00:00",
          "2000-05-13T22:00:00+00:00",
          "2000-05-13T23:00:00+00:00",
          "2000-05-14T00:00:00+00:00",
          "2000-05-14T01:00:00+00:00",
          "2000-05-14T02:00:00+00:00",
          "2000-05-14T03:00:00+00:00",
          "2000-05-14T04:00:00+00:00",
          "2000-05-14T05:00:00+00:00",
          "2000-05-14T06:00:00+00:00",
          "2000-05-14T07:00:00+00:00",
          "2000-05-14T08:00:00+00:00",
          "2000-05-14T09:00:00+00:00",
          "2000-05-14T10:00:00+00:00",
          "2000-05-14T11:00:00+00:00",
          "2000-05-14T12:00:00+00:00",
          "2000-05-14T13:00:00+00:00",
          "2000-05-14T14:00:00+00:00",
          "2000-05-14T15:00:00+00:00",
          "2000-05-14T16:00:00+00:00",
          "2000-05-14T17:00:00+00:00",
          "2000-05-14T18:00:00+00:00",
          "2000-05-14T19:00:00+00:00",
          "2000-05-14T20:00:00+00:00",
          "2000-05-14T21:00:00+00:00",
          "2000-05-14T22:00:00+00:00",
          "2000-05-14T23:00:00+00:00",
          "2000-05-15T00:00:00+00:00",
          "2000-05-15T01:00:00+00:00",
          "2000-05-15T02:00:00+00:00",
          "2000-05-15T03:00:00+00:00",
          "2000-05-15T04:00:00+00:00",
          "2000-05-15T05:00:00+00:00",
          "2000-05-15T06:00:00+00:00",
          "2000-05-15T07:00:00+00:00",
          "2000-05-15T08:00:00+00:00",
          "2000-05-15T09:00:00+00:00",
          "2000-05-15T10:00:00+00:00",
          "2000-05-15T11:00:00+00:00",
          "2000-05-15T12:00:00+00:00",
          "2000-05-15T13:00:00+00:00",
          "2000-05-15T14:00:00+00:00",
          "2000-05-15T15:00:00+00:00",
          "2000-05-15T16:00:00+00:00",
          "2000-05-15T17:00:00+00:00",
          "2000-05-15T18:00:00+00:00",
          "2000-05-15T19:00:00+00:00",
          "2000-05-15T20:00:00+00:00",
          "2000-05-15T21:00:00+00:00",
          "2000-05-15T22:00:00+00:00",
          "2000-05-15T23:00:00+00:00",
          "2000-05-16T00:00:00+00:00"
         ],
         "y": [
          0,
          0,
          0,
          0.1111111111111111,
          4.777777777777778,
          13.444444444444445,
          36.77777777777778,
          58.333333333333336,
          74.8888888888889,
          85.77777777777777,
          91.1111111111111,
          91.1111111111111,
          86,
          75.44444444444444,
          59.44444444444444,
          38.77777777777777,
          15.999999999999998,
          6.111111111111111,
          0.6666666666666666,
          0,
          0,
          0,
          0,
          0,
          0,
          0,
          0,
          0.2222222222222222,
          4.777777777777778,
          13.88888888888889,
          36.44444444444444,
          57.777777777777786,
          74.55555555555556,
          85.66666666666667,
          91.22222222222221,
          91.33333333333333,
          86,
          75.33333333333334,
          59.22222222222222,
          38.77777777777777,
          17.444444444444443,
          6.222222222222222,
          0.7777777777777778,
          0,
          0,
          0,
          0,
          0,
          0,
          0,
          0,
          0.2222222222222222,
          5,
          14.11111111111111,
          35.888888888888886,
          57.22222222222222,
          73.66666666666667,
          84.55555555555556,
          90,
          90,
          84.66666666666667,
          74.11111111111111,
          58.22222222222222,
          37.888888888888886,
          16.22222222222222,
          6.5555555555555545,
          0.8888888888888888,
          0,
          0,
          0,
          0,
          0,
          0
         ]
        },
        {
         "line": {
          "color": "black",
          "width": 1
         },
         "mode": "lines+markers",
         "name": "mean",
         "type": "scatter",
         "x": [
          "2000-05-13T00:00:00+00:00",
          "2000-05-13T01:00:00+00:00",
          "2000-05-13T02:00:00+00:00",
          "2000-05-13T03:00:00+00:00",
          "2000-05-13T04:00:00+00:00",
          "2000-05-13T05:00:00+00:00",
          "2000-05-13T06:00:00+00:00",
          "2000-05-13T07:00:00+00:00",
          "2000-05-13T08:00:00+00:00",
          "2000-05-13T09:00:00+00:00",
          "2000-05-13T10:00:00+00:00",
          "2000-05-13T11:00:00+00:00",
          "2000-05-13T12:00:00+00:00",
          "2000-05-13T13:00:00+00:00",
          "2000-05-13T14:00:00+00:00",
          "2000-05-13T15:00:00+00:00",
          "2000-05-13T16:00:00+00:00",
          "2000-05-13T17:00:00+00:00",
          "2000-05-13T18:00:00+00:00",
          "2000-05-13T19:00:00+00:00",
          "2000-05-13T20:00:00+00:00",
          "2000-05-13T21:00:00+00:00",
          "2000-05-13T22:00:00+00:00",
          "2000-05-13T23:00:00+00:00",
          "2000-05-14T00:00:00+00:00",
          "2000-05-14T01:00:00+00:00",
          "2000-05-14T02:00:00+00:00",
          "2000-05-14T03:00:00+00:00",
          "2000-05-14T04:00:00+00:00",
          "2000-05-14T05:00:00+00:00",
          "2000-05-14T06:00:00+00:00",
          "2000-05-14T07:00:00+00:00",
          "2000-05-14T08:00:00+00:00",
          "2000-05-14T09:00:00+00:00",
          "2000-05-14T10:00:00+00:00",
          "2000-05-14T11:00:00+00:00",
          "2000-05-14T12:00:00+00:00",
          "2000-05-14T13:00:00+00:00",
          "2000-05-14T14:00:00+00:00",
          "2000-05-14T15:00:00+00:00",
          "2000-05-14T16:00:00+00:00",
          "2000-05-14T17:00:00+00:00",
          "2000-05-14T18:00:00+00:00",
          "2000-05-14T19:00:00+00:00",
          "2000-05-14T20:00:00+00:00",
          "2000-05-14T21:00:00+00:00",
          "2000-05-14T22:00:00+00:00",
          "2000-05-14T23:00:00+00:00",
          "2000-05-15T00:00:00+00:00",
          "2000-05-15T01:00:00+00:00",
          "2000-05-15T02:00:00+00:00",
          "2000-05-15T03:00:00+00:00",
          "2000-05-15T04:00:00+00:00",
          "2000-05-15T05:00:00+00:00",
          "2000-05-15T06:00:00+00:00",
          "2000-05-15T07:00:00+00:00",
          "2000-05-15T08:00:00+00:00",
          "2000-05-15T09:00:00+00:00",
          "2000-05-15T10:00:00+00:00",
          "2000-05-15T11:00:00+00:00",
          "2000-05-15T12:00:00+00:00",
          "2000-05-15T13:00:00+00:00",
          "2000-05-15T14:00:00+00:00",
          "2000-05-15T15:00:00+00:00",
          "2000-05-15T16:00:00+00:00",
          "2000-05-15T17:00:00+00:00",
          "2000-05-15T18:00:00+00:00",
          "2000-05-15T19:00:00+00:00",
          "2000-05-15T20:00:00+00:00",
          "2000-05-15T21:00:00+00:00",
          "2000-05-15T22:00:00+00:00",
          "2000-05-15T23:00:00+00:00",
          "2000-05-16T00:00:00+00:00"
         ],
         "y": [
          0,
          0,
          0,
          0.059431524547803614,
          3.537467700258398,
          11.602067183462532,
          27.68475452196382,
          43.93023255813954,
          55.9483204134367,
          63.81136950904392,
          68.97674418604652,
          68.11627906976744,
          63.444444444444436,
          54.96640826873385,
          42.72093023255814,
          27.01033591731266,
          12.431524547803617,
          4.263565891472868,
          0.4237726098191214,
          0,
          0,
          0,
          0,
          0,
          0,
          0,
          0,
          0.08010335917312661,
          3.5426356589147288,
          11.209302325581396,
          26.989664082687337,
          43.0671834625323,
          56.15245478036176,
          64.79328165374677,
          68.01808785529715,
          66.55813953488372,
          61.54263565891472,
          52.92506459948321,
          41.30232558139535,
          27.018087855297157,
          12.299741602067185,
          4.354005167958657,
          0.4987080103359173,
          0,
          0,
          0,
          0,
          0,
          0,
          0,
          0,
          0.12919896640826872,
          3.547803617571059,
          11.439276485788113,
          26.45994832041344,
          41.08268733850129,
          52.80878552971576,
          60,
          63.73385012919897,
          63.22222222222222,
          58.201550387596896,
          50.614987080103354,
          39.94315245478036,
          26.09560723514212,
          12.581395348837209,
          4.576227390180878,
          0.5400516795865633,
          0,
          0,
          0,
          0,
          0,
          0
         ]
        },
        {
         "fill": "tonexty",
         "fillcolor": "rgba(128,128,128,0.2)",
         "line": {
          "color": "black",
          "width": 1
         },
         "mode": "lines",
         "name": "std",
         "type": "scatter",
         "x": [
          "2000-05-13T00:00:00+00:00",
          "2000-05-13T01:00:00+00:00",
          "2000-05-13T02:00:00+00:00",
          "2000-05-13T03:00:00+00:00",
          "2000-05-13T04:00:00+00:00",
          "2000-05-13T05:00:00+00:00",
          "2000-05-13T06:00:00+00:00",
          "2000-05-13T07:00:00+00:00",
          "2000-05-13T08:00:00+00:00",
          "2000-05-13T09:00:00+00:00",
          "2000-05-13T10:00:00+00:00",
          "2000-05-13T11:00:00+00:00",
          "2000-05-13T12:00:00+00:00",
          "2000-05-13T13:00:00+00:00",
          "2000-05-13T14:00:00+00:00",
          "2000-05-13T15:00:00+00:00",
          "2000-05-13T16:00:00+00:00",
          "2000-05-13T17:00:00+00:00",
          "2000-05-13T18:00:00+00:00",
          "2000-05-13T19:00:00+00:00",
          "2000-05-13T20:00:00+00:00",
          "2000-05-13T21:00:00+00:00",
          "2000-05-13T22:00:00+00:00",
          "2000-05-13T23:00:00+00:00",
          "2000-05-14T00:00:00+00:00",
          "2000-05-14T01:00:00+00:00",
          "2000-05-14T02:00:00+00:00",
          "2000-05-14T03:00:00+00:00",
          "2000-05-14T04:00:00+00:00",
          "2000-05-14T05:00:00+00:00",
          "2000-05-14T06:00:00+00:00",
          "2000-05-14T07:00:00+00:00",
          "2000-05-14T08:00:00+00:00",
          "2000-05-14T09:00:00+00:00",
          "2000-05-14T10:00:00+00:00",
          "2000-05-14T11:00:00+00:00",
          "2000-05-14T12:00:00+00:00",
          "2000-05-14T13:00:00+00:00",
          "2000-05-14T14:00:00+00:00",
          "2000-05-14T15:00:00+00:00",
          "2000-05-14T16:00:00+00:00",
          "2000-05-14T17:00:00+00:00",
          "2000-05-14T18:00:00+00:00",
          "2000-05-14T19:00:00+00:00",
          "2000-05-14T20:00:00+00:00",
          "2000-05-14T21:00:00+00:00",
          "2000-05-14T22:00:00+00:00",
          "2000-05-14T23:00:00+00:00",
          "2000-05-15T00:00:00+00:00",
          "2000-05-15T01:00:00+00:00",
          "2000-05-15T02:00:00+00:00",
          "2000-05-15T03:00:00+00:00",
          "2000-05-15T04:00:00+00:00",
          "2000-05-15T05:00:00+00:00",
          "2000-05-15T06:00:00+00:00",
          "2000-05-15T07:00:00+00:00",
          "2000-05-15T08:00:00+00:00",
          "2000-05-15T09:00:00+00:00",
          "2000-05-15T10:00:00+00:00",
          "2000-05-15T11:00:00+00:00",
          "2000-05-15T12:00:00+00:00",
          "2000-05-15T13:00:00+00:00",
          "2000-05-15T14:00:00+00:00",
          "2000-05-15T15:00:00+00:00",
          "2000-05-15T16:00:00+00:00",
          "2000-05-15T17:00:00+00:00",
          "2000-05-15T18:00:00+00:00",
          "2000-05-15T19:00:00+00:00",
          "2000-05-15T20:00:00+00:00",
          "2000-05-15T21:00:00+00:00",
          "2000-05-15T22:00:00+00:00",
          "2000-05-15T23:00:00+00:00",
          "2000-05-16T00:00:00+00:00"
         ],
         "y": [
          0,
          0,
          0,
          0.00335545916916459,
          2.727502490795816,
          9.3293301415992,
          20.509615760595498,
          31.340682118202217,
          38.4134161303488,
          43.4962515385222,
          48.52829509960286,
          46.7801908232596,
          42.47796690332969,
          36.186274186527925,
          28.332794727102513,
          17.696302774976502,
          8.777127141782751,
          2.953804399792963,
          0.19470372549708292,
          0,
          0,
          0,
          0,
          0,
          0,
          0,
          0,
          0.010142500899465307,
          2.519904792154862,
          8.493354551456711,
          18.934197418208313,
          30.587849822545376,
          40.18080840002087,
          46.05376047615209,
          47.463334113856064,
          45.1633112744922,
          40.501702325405844,
          34.2459505691445,
          26.247354281667697,
          17.350389490582316,
          8.302936963917782,
          2.9146049781232417,
          0.2557930102832418,
          0,
          0,
          0,
          0,
          0,
          0,
          0,
          0,
          0.03242491986911476,
          2.414066956058096,
          8.648623416131045,
          17.972810997471345,
          26.791105206856546,
          34.48282379894515,
          38.81592947025315,
          41.36362684485889,
          41.97797480775877,
          37.6319962265163,
          32.444807997342664,
          26.087268451489436,
          17.024862308802078,
          9.312185201891527,
          3.4626703432107453,
          0.2897357177584449,
          0,
          0,
          0,
          0,
          0,
          0
         ]
        },
        {
         "line": {
          "color": "orange",
          "width": 3
         },
         "mode": "lines+markers",
         "name": "true",
         "type": "scatter",
         "x": [
          "2000-05-13T00:00:00+00:00",
          "2000-05-13T01:00:00+00:00",
          "2000-05-13T02:00:00+00:00",
          "2000-05-13T03:00:00+00:00",
          "2000-05-13T04:00:00+00:00",
          "2000-05-13T05:00:00+00:00",
          "2000-05-13T06:00:00+00:00",
          "2000-05-13T07:00:00+00:00",
          "2000-05-13T08:00:00+00:00",
          "2000-05-13T09:00:00+00:00",
          "2000-05-13T10:00:00+00:00",
          "2000-05-13T11:00:00+00:00",
          "2000-05-13T12:00:00+00:00",
          "2000-05-13T13:00:00+00:00",
          "2000-05-13T14:00:00+00:00",
          "2000-05-13T15:00:00+00:00",
          "2000-05-13T16:00:00+00:00",
          "2000-05-13T17:00:00+00:00",
          "2000-05-13T18:00:00+00:00",
          "2000-05-13T19:00:00+00:00",
          "2000-05-13T20:00:00+00:00",
          "2000-05-13T21:00:00+00:00",
          "2000-05-13T22:00:00+00:00",
          "2000-05-13T23:00:00+00:00",
          "2000-05-14T00:00:00+00:00",
          "2000-05-14T01:00:00+00:00",
          "2000-05-14T02:00:00+00:00",
          "2000-05-14T03:00:00+00:00",
          "2000-05-14T04:00:00+00:00",
          "2000-05-14T05:00:00+00:00",
          "2000-05-14T06:00:00+00:00",
          "2000-05-14T07:00:00+00:00",
          "2000-05-14T08:00:00+00:00",
          "2000-05-14T09:00:00+00:00",
          "2000-05-14T10:00:00+00:00",
          "2000-05-14T11:00:00+00:00",
          "2000-05-14T12:00:00+00:00"
         ],
         "y": [
          0,
          0,
          0,
          0.1111111111111111,
          3.2222222222222223,
          12.88888888888889,
          35.333333333333336,
          56.111111111111114,
          72.33333333333334,
          83,
          88.22222222222223,
          88.11111111111111,
          83,
          72.66666666666667,
          57.22222222222222,
          37.111111111111114,
          15.11111111111111,
          3.7777777777777777,
          0.6666666666666666,
          0,
          0,
          0,
          0,
          0,
          0,
          0,
          0,
          0.1111111111111111,
          3.2222222222222223,
          12.666666666666668,
          34.44444444444444,
          54.222222222222214,
          69.66666666666667,
          80,
          85,
          85.11111111111111,
          80.11111111111111
         ]
        },
        {
         "line": {
          "color": "orange",
          "dash": "dash",
          "width": 3
         },
         "mode": "lines+markers",
         "name": "pred",
         "type": "scatter",
         "x": [
          "2000-05-15T01:00:00+00:00",
          "2000-05-15T02:00:00+00:00",
          "2000-05-15T03:00:00+00:00",
          "2000-05-15T04:00:00+00:00",
          "2000-05-15T05:00:00+00:00",
          "2000-05-15T06:00:00+00:00",
          "2000-05-15T07:00:00+00:00",
          "2000-05-15T08:00:00+00:00",
          "2000-05-15T09:00:00+00:00",
          "2000-05-15T10:00:00+00:00",
          "2000-05-15T11:00:00+00:00",
          "2000-05-15T12:00:00+00:00",
          "2000-05-15T13:00:00+00:00",
          "2000-05-15T14:00:00+00:00",
          "2000-05-15T15:00:00+00:00",
          "2000-05-15T16:00:00+00:00",
          "2000-05-15T17:00:00+00:00",
          "2000-05-15T18:00:00+00:00",
          "2000-05-15T19:00:00+00:00",
          "2000-05-15T20:00:00+00:00",
          "2000-05-15T21:00:00+00:00",
          "2000-05-15T22:00:00+00:00",
          "2000-05-15T23:00:00+00:00",
          "2000-05-16T00:00:00+00:00"
         ],
         "y": [
          0,
          0,
          0.2222222222222222,
          3.3333333333333335,
          12.444444444444445,
          33.55555555555556,
          52.77777777777778,
          67.88888888888889,
          77.99999999999999,
          83.22222222222221,
          83.22222222222221,
          78.66666666666666,
          68.88888888888889,
          54.222222222222214,
          35.22222222222222,
          14.555555555555555,
          4.111111111111111,
          0.7777777777777778,
          0,
          0,
          0,
          0,
          0,
          0
         ]
        }
       ],
       "layout": {
        "annotations": [
         {
          "showarrow": false,
          "text": "day-ahead",
          "x": 0.77,
          "xref": "paper",
          "y": 0.9,
          "yref": "paper"
         },
         {
          "showarrow": false,
          "text": "today",
          "x": 0.48,
          "xref": "paper",
          "y": 0.9,
          "yref": "paper"
         },
         {
          "showarrow": false,
          "text": "day-behind",
          "x": 0.15,
          "xref": "paper",
          "y": 0.9,
          "yref": "paper"
         },
         {
          "showarrow": false,
          "text": "order book closed",
          "x": 0.51,
          "xref": "paper",
          "y": 0.77,
          "yref": "paper"
         }
        ],
        "template": {
         "data": {
          "bar": [
           {
            "error_x": {
             "color": "#2a3f5f"
            },
            "error_y": {
             "color": "#2a3f5f"
            },
            "marker": {
             "line": {
              "color": "#E5ECF6",
              "width": 0.5
             },
             "pattern": {
              "fillmode": "overlay",
              "size": 10,
              "solidity": 0.2
             }
            },
            "type": "bar"
           }
          ],
          "barpolar": [
           {
            "marker": {
             "line": {
              "color": "#E5ECF6",
              "width": 0.5
             },
             "pattern": {
              "fillmode": "overlay",
              "size": 10,
              "solidity": 0.2
             }
            },
            "type": "barpolar"
           }
          ],
          "carpet": [
           {
            "aaxis": {
             "endlinecolor": "#2a3f5f",
             "gridcolor": "white",
             "linecolor": "white",
             "minorgridcolor": "white",
             "startlinecolor": "#2a3f5f"
            },
            "baxis": {
             "endlinecolor": "#2a3f5f",
             "gridcolor": "white",
             "linecolor": "white",
             "minorgridcolor": "white",
             "startlinecolor": "#2a3f5f"
            },
            "type": "carpet"
           }
          ],
          "choropleth": [
           {
            "colorbar": {
             "outlinewidth": 0,
             "ticks": ""
            },
            "type": "choropleth"
           }
          ],
          "contour": [
           {
            "colorbar": {
             "outlinewidth": 0,
             "ticks": ""
            },
            "colorscale": [
             [
              0,
              "#0d0887"
             ],
             [
              0.1111111111111111,
              "#46039f"
             ],
             [
              0.2222222222222222,
              "#7201a8"
             ],
             [
              0.3333333333333333,
              "#9c179e"
             ],
             [
              0.4444444444444444,
              "#bd3786"
             ],
             [
              0.5555555555555556,
              "#d8576b"
             ],
             [
              0.6666666666666666,
              "#ed7953"
             ],
             [
              0.7777777777777778,
              "#fb9f3a"
             ],
             [
              0.8888888888888888,
              "#fdca26"
             ],
             [
              1,
              "#f0f921"
             ]
            ],
            "type": "contour"
           }
          ],
          "contourcarpet": [
           {
            "colorbar": {
             "outlinewidth": 0,
             "ticks": ""
            },
            "type": "contourcarpet"
           }
          ],
          "heatmap": [
           {
            "colorbar": {
             "outlinewidth": 0,
             "ticks": ""
            },
            "colorscale": [
             [
              0,
              "#0d0887"
             ],
             [
              0.1111111111111111,
              "#46039f"
             ],
             [
              0.2222222222222222,
              "#7201a8"
             ],
             [
              0.3333333333333333,
              "#9c179e"
             ],
             [
              0.4444444444444444,
              "#bd3786"
             ],
             [
              0.5555555555555556,
              "#d8576b"
             ],
             [
              0.6666666666666666,
              "#ed7953"
             ],
             [
              0.7777777777777778,
              "#fb9f3a"
             ],
             [
              0.8888888888888888,
              "#fdca26"
             ],
             [
              1,
              "#f0f921"
             ]
            ],
            "type": "heatmap"
           }
          ],
          "heatmapgl": [
           {
            "colorbar": {
             "outlinewidth": 0,
             "ticks": ""
            },
            "colorscale": [
             [
              0,
              "#0d0887"
             ],
             [
              0.1111111111111111,
              "#46039f"
             ],
             [
              0.2222222222222222,
              "#7201a8"
             ],
             [
              0.3333333333333333,
              "#9c179e"
             ],
             [
              0.4444444444444444,
              "#bd3786"
             ],
             [
              0.5555555555555556,
              "#d8576b"
             ],
             [
              0.6666666666666666,
              "#ed7953"
             ],
             [
              0.7777777777777778,
              "#fb9f3a"
             ],
             [
              0.8888888888888888,
              "#fdca26"
             ],
             [
              1,
              "#f0f921"
             ]
            ],
            "type": "heatmapgl"
           }
          ],
          "histogram": [
           {
            "marker": {
             "pattern": {
              "fillmode": "overlay",
              "size": 10,
              "solidity": 0.2
             }
            },
            "type": "histogram"
           }
          ],
          "histogram2d": [
           {
            "colorbar": {
             "outlinewidth": 0,
             "ticks": ""
            },
            "colorscale": [
             [
              0,
              "#0d0887"
             ],
             [
              0.1111111111111111,
              "#46039f"
             ],
             [
              0.2222222222222222,
              "#7201a8"
             ],
             [
              0.3333333333333333,
              "#9c179e"
             ],
             [
              0.4444444444444444,
              "#bd3786"
             ],
             [
              0.5555555555555556,
              "#d8576b"
             ],
             [
              0.6666666666666666,
              "#ed7953"
             ],
             [
              0.7777777777777778,
              "#fb9f3a"
             ],
             [
              0.8888888888888888,
              "#fdca26"
             ],
             [
              1,
              "#f0f921"
             ]
            ],
            "type": "histogram2d"
           }
          ],
          "histogram2dcontour": [
           {
            "colorbar": {
             "outlinewidth": 0,
             "ticks": ""
            },
            "colorscale": [
             [
              0,
              "#0d0887"
             ],
             [
              0.1111111111111111,
              "#46039f"
             ],
             [
              0.2222222222222222,
              "#7201a8"
             ],
             [
              0.3333333333333333,
              "#9c179e"
             ],
             [
              0.4444444444444444,
              "#bd3786"
             ],
             [
              0.5555555555555556,
              "#d8576b"
             ],
             [
              0.6666666666666666,
              "#ed7953"
             ],
             [
              0.7777777777777778,
              "#fb9f3a"
             ],
             [
              0.8888888888888888,
              "#fdca26"
             ],
             [
              1,
              "#f0f921"
             ]
            ],
            "type": "histogram2dcontour"
           }
          ],
          "mesh3d": [
           {
            "colorbar": {
             "outlinewidth": 0,
             "ticks": ""
            },
            "type": "mesh3d"
           }
          ],
          "parcoords": [
           {
            "line": {
             "colorbar": {
              "outlinewidth": 0,
              "ticks": ""
             }
            },
            "type": "parcoords"
           }
          ],
          "pie": [
           {
            "automargin": true,
            "type": "pie"
           }
          ],
          "scatter": [
           {
            "fillpattern": {
             "fillmode": "overlay",
             "size": 10,
             "solidity": 0.2
            },
            "type": "scatter"
           }
          ],
          "scatter3d": [
           {
            "line": {
             "colorbar": {
              "outlinewidth": 0,
              "ticks": ""
             }
            },
            "marker": {
             "colorbar": {
              "outlinewidth": 0,
              "ticks": ""
             }
            },
            "type": "scatter3d"
           }
          ],
          "scattercarpet": [
           {
            "marker": {
             "colorbar": {
              "outlinewidth": 0,
              "ticks": ""
             }
            },
            "type": "scattercarpet"
           }
          ],
          "scattergeo": [
           {
            "marker": {
             "colorbar": {
              "outlinewidth": 0,
              "ticks": ""
             }
            },
            "type": "scattergeo"
           }
          ],
          "scattergl": [
           {
            "marker": {
             "colorbar": {
              "outlinewidth": 0,
              "ticks": ""
             }
            },
            "type": "scattergl"
           }
          ],
          "scattermapbox": [
           {
            "marker": {
             "colorbar": {
              "outlinewidth": 0,
              "ticks": ""
             }
            },
            "type": "scattermapbox"
           }
          ],
          "scatterpolar": [
           {
            "marker": {
             "colorbar": {
              "outlinewidth": 0,
              "ticks": ""
             }
            },
            "type": "scatterpolar"
           }
          ],
          "scatterpolargl": [
           {
            "marker": {
             "colorbar": {
              "outlinewidth": 0,
              "ticks": ""
             }
            },
            "type": "scatterpolargl"
           }
          ],
          "scatterternary": [
           {
            "marker": {
             "colorbar": {
              "outlinewidth": 0,
              "ticks": ""
             }
            },
            "type": "scatterternary"
           }
          ],
          "surface": [
           {
            "colorbar": {
             "outlinewidth": 0,
             "ticks": ""
            },
            "colorscale": [
             [
              0,
              "#0d0887"
             ],
             [
              0.1111111111111111,
              "#46039f"
             ],
             [
              0.2222222222222222,
              "#7201a8"
             ],
             [
              0.3333333333333333,
              "#9c179e"
             ],
             [
              0.4444444444444444,
              "#bd3786"
             ],
             [
              0.5555555555555556,
              "#d8576b"
             ],
             [
              0.6666666666666666,
              "#ed7953"
             ],
             [
              0.7777777777777778,
              "#fb9f3a"
             ],
             [
              0.8888888888888888,
              "#fdca26"
             ],
             [
              1,
              "#f0f921"
             ]
            ],
            "type": "surface"
           }
          ],
          "table": [
           {
            "cells": {
             "fill": {
              "color": "#EBF0F8"
             },
             "line": {
              "color": "white"
             }
            },
            "header": {
             "fill": {
              "color": "#C8D4E3"
             },
             "line": {
              "color": "white"
             }
            },
            "type": "table"
           }
          ]
         },
         "layout": {
          "annotationdefaults": {
           "arrowcolor": "#2a3f5f",
           "arrowhead": 0,
           "arrowwidth": 1
          },
          "autotypenumbers": "strict",
          "coloraxis": {
           "colorbar": {
            "outlinewidth": 0,
            "ticks": ""
           }
          },
          "colorscale": {
           "diverging": [
            [
             0,
             "#8e0152"
            ],
            [
             0.1,
             "#c51b7d"
            ],
            [
             0.2,
             "#de77ae"
            ],
            [
             0.3,
             "#f1b6da"
            ],
            [
             0.4,
             "#fde0ef"
            ],
            [
             0.5,
             "#f7f7f7"
            ],
            [
             0.6,
             "#e6f5d0"
            ],
            [
             0.7,
             "#b8e186"
            ],
            [
             0.8,
             "#7fbc41"
            ],
            [
             0.9,
             "#4d9221"
            ],
            [
             1,
             "#276419"
            ]
           ],
           "sequential": [
            [
             0,
             "#0d0887"
            ],
            [
             0.1111111111111111,
             "#46039f"
            ],
            [
             0.2222222222222222,
             "#7201a8"
            ],
            [
             0.3333333333333333,
             "#9c179e"
            ],
            [
             0.4444444444444444,
             "#bd3786"
            ],
            [
             0.5555555555555556,
             "#d8576b"
            ],
            [
             0.6666666666666666,
             "#ed7953"
            ],
            [
             0.7777777777777778,
             "#fb9f3a"
            ],
            [
             0.8888888888888888,
             "#fdca26"
            ],
            [
             1,
             "#f0f921"
            ]
           ],
           "sequentialminus": [
            [
             0,
             "#0d0887"
            ],
            [
             0.1111111111111111,
             "#46039f"
            ],
            [
             0.2222222222222222,
             "#7201a8"
            ],
            [
             0.3333333333333333,
             "#9c179e"
            ],
            [
             0.4444444444444444,
             "#bd3786"
            ],
            [
             0.5555555555555556,
             "#d8576b"
            ],
            [
             0.6666666666666666,
             "#ed7953"
            ],
            [
             0.7777777777777778,
             "#fb9f3a"
            ],
            [
             0.8888888888888888,
             "#fdca26"
            ],
            [
             1,
             "#f0f921"
            ]
           ]
          },
          "colorway": [
           "#636efa",
           "#EF553B",
           "#00cc96",
           "#ab63fa",
           "#FFA15A",
           "#19d3f3",
           "#FF6692",
           "#B6E880",
           "#FF97FF",
           "#FECB52"
          ],
          "font": {
           "color": "#2a3f5f"
          },
          "geo": {
           "bgcolor": "white",
           "lakecolor": "white",
           "landcolor": "#E5ECF6",
           "showlakes": true,
           "showland": true,
           "subunitcolor": "white"
          },
          "hoverlabel": {
           "align": "left"
          },
          "hovermode": "closest",
          "mapbox": {
           "style": "light"
          },
          "paper_bgcolor": "white",
          "plot_bgcolor": "#E5ECF6",
          "polar": {
           "angularaxis": {
            "gridcolor": "white",
            "linecolor": "white",
            "ticks": ""
           },
           "bgcolor": "#E5ECF6",
           "radialaxis": {
            "gridcolor": "white",
            "linecolor": "white",
            "ticks": ""
           }
          },
          "scene": {
           "xaxis": {
            "backgroundcolor": "#E5ECF6",
            "gridcolor": "white",
            "gridwidth": 2,
            "linecolor": "white",
            "showbackground": true,
            "ticks": "",
            "zerolinecolor": "white"
           },
           "yaxis": {
            "backgroundcolor": "#E5ECF6",
            "gridcolor": "white",
            "gridwidth": 2,
            "linecolor": "white",
            "showbackground": true,
            "ticks": "",
            "zerolinecolor": "white"
           },
           "zaxis": {
            "backgroundcolor": "#E5ECF6",
            "gridcolor": "white",
            "gridwidth": 2,
            "linecolor": "white",
            "showbackground": true,
            "ticks": "",
            "zerolinecolor": "white"
           }
          },
          "shapedefaults": {
           "line": {
            "color": "#2a3f5f"
           }
          },
          "ternary": {
           "aaxis": {
            "gridcolor": "white",
            "linecolor": "white",
            "ticks": ""
           },
           "baxis": {
            "gridcolor": "white",
            "linecolor": "white",
            "ticks": ""
           },
           "bgcolor": "#E5ECF6",
           "caxis": {
            "gridcolor": "white",
            "linecolor": "white",
            "ticks": ""
           }
          },
          "title": {
           "x": 0.05
          },
          "xaxis": {
           "automargin": true,
           "gridcolor": "white",
           "linecolor": "white",
           "ticks": "",
           "title": {
            "standoff": 15
           },
           "zerolinecolor": "white",
           "zerolinewidth": 2
          },
          "yaxis": {
           "automargin": true,
           "gridcolor": "white",
           "linecolor": "white",
           "ticks": "",
           "title": {
            "standoff": 15
           },
           "zerolinecolor": "white",
           "zerolinewidth": 2
          }
         }
        },
        "title": {
         "text": "Line Plot with Plotly"
        },
        "xaxis": {
         "tickformat": "%H:%M %d/%m/%Y",
         "tickmode": "array",
         "tickvals": [
          "2000-05-13T00:00:00+00:00",
          "2000-05-13T12:00:00+00:00",
          "2000-05-14T00:00:00+00:00",
          "2000-05-14T12:00:00+00:00",
          "2000-05-15T00:00:00+00:00",
          "2000-05-15T12:00:00+00:00",
          "2000-05-16T00:00:00+00:00"
         ],
         "title": {
          "text": "Time"
         }
        },
        "yaxis": {
         "range": [
          -5,
          110
         ],
         "title": {
          "text": "Capacity factor in %"
         }
        }
       }
      }
     },
     "metadata": {},
     "output_type": "display_data"
    }
   ],
   "source": [
    "# Assuming plot_df is your Pandas DataFrame\n",
    "# Assuming 'utc_time', 'min', 'max', 'mean', 'std', 'cap_fac', 'pred' are column names in your DataFrame\n",
    "# Assuming today_timestamp is defined elsewhere\n",
    "\n",
    "fig = go.Figure()\n",
    "\n",
    "# Stats\n",
    "alpha_stats = 0.2\n",
    "\n",
    "# Plot min and max\n",
    "fig.add_trace(\n",
    "    go.Scatter(\n",
    "        x=plot_df['utc_time'],\n",
    "        y=plot_df['min'],\n",
    "        mode='lines',\n",
    "        line=dict(color=\"black\", width=1, dash=\"dot\"),\n",
    "        name='min'\n",
    "    )\n",
    ")\n",
    "fig.add_trace(\n",
    "    go.Scatter(\n",
    "        x=plot_df['utc_time'],\n",
    "        y=plot_df['max'],\n",
    "        mode='lines',\n",
    "        line=dict(color=\"black\", width=1, dash=\"dot\"),\n",
    "        name='max'\n",
    "    )\n",
    ")\n",
    "\n",
    "# Plot mean and std\n",
    "fig.add_trace(\n",
    "    go.Scatter(\n",
    "        x=plot_df['utc_time'],\n",
    "        y=plot_df['mean'],\n",
    "        mode='lines+markers',\n",
    "        line=dict(color=\"black\", width=1),\n",
    "        name='mean'\n",
    "    )\n",
    ")\n",
    "fig.add_trace(\n",
    "    go.Scatter(\n",
    "        x=plot_df['utc_time'],\n",
    "        y=plot_df['mean'] - plot_df['std'],\n",
    "        mode='lines',\n",
    "        line=dict(color=\"black\", width=1),\n",
    "        fill='tonexty',\n",
    "        fillcolor='rgba(128,128,128,0.2)',\n",
    "        name='std'\n",
    "    )\n",
    ")\n",
    "\n",
    "# Plot true\n",
    "fig.add_trace(\n",
    "    go.Scatter(\n",
    "        x=plot_df['utc_time'][:37],  # Assuming 37 is the index where current production data ends\n",
    "        y=plot_df['cap_fac'][:37],\n",
    "        mode='lines+markers',\n",
    "        line=dict(color=\"orange\", width=3),\n",
    "        name='true'\n",
    "    )\n",
    ")\n",
    "\n",
    "# Plot prediction\n",
    "fig.add_trace(\n",
    "    go.Scatter(\n",
    "        x=plot_df['utc_time'][-24:],  # Assuming you're taking the last 24 hours for prediction\n",
    "        y=plot_df['pred'][-24:],\n",
    "        mode='lines+markers',\n",
    "        line=dict(color=\"orange\", width=3, dash=\"dash\"),\n",
    "        name='pred'\n",
    "    )\n",
    ")\n",
    "\n",
    "# Date ticks and layout settings\n",
    "fig.update_layout(\n",
    "    xaxis=dict(\n",
    "        tickmode='array',\n",
    "        tickvals=pd.date_range(today_timestamp - pd.Timedelta(days=2), today_timestamp + pd.Timedelta(days=1), freq='12H'),\n",
    "        tickformat='%H:%M %d/%m/%Y'\n",
    "    ),\n",
    "    yaxis=dict(range=[-5, 110]),\n",
    "    title='Line Plot with Plotly',\n",
    "    xaxis_title='Time',\n",
    "    yaxis_title='Capacity factor in %'\n",
    ")\n",
    "\n",
    "# Annotations\n",
    "fig.add_annotation(\n",
    "    x=0.77,\n",
    "    y=0.9,\n",
    "    xref=\"paper\",\n",
    "    yref=\"paper\",\n",
    "    text=\"day-ahead\",\n",
    "    showarrow=False\n",
    ")\n",
    "fig.add_annotation(\n",
    "    x=0.48,\n",
    "    y=0.9,\n",
    "    xref=\"paper\",\n",
    "    yref=\"paper\",\n",
    "    text=\"today\",\n",
    "    showarrow=False\n",
    ")\n",
    "fig.add_annotation(\n",
    "    x=0.15,\n",
    "    y=0.9,\n",
    "    xref=\"paper\",\n",
    "    yref=\"paper\",\n",
    "    text=\"day-behind\",\n",
    "    showarrow=False\n",
    ")\n",
    "fig.add_annotation(\n",
    "    x=0.51,\n",
    "    y=0.77,\n",
    "    xref=\"paper\",\n",
    "    yref=\"paper\",\n",
    "    text=\"order book closed\",\n",
    "    showarrow=False\n",
    ")\n",
    "\n",
    "fig.show()"
   ]
  }
 ],
 "metadata": {
  "kernelspec": {
   "display_name": "power",
   "language": "python",
   "name": "python3"
  },
  "language_info": {
   "codemirror_mode": {
    "name": "ipython",
    "version": 3
   },
   "file_extension": ".py",
   "mimetype": "text/x-python",
   "name": "python",
   "nbconvert_exporter": "python",
   "pygments_lexer": "ipython3",
   "version": "3.10.6"
  }
 },
 "nbformat": 4,
 "nbformat_minor": 2
}
