{
 "cells": [
  {
   "cell_type": "code",
   "execution_count": 21,
   "metadata": {},
   "outputs": [],
   "source": [
    "import pandas as pd\n",
    "from power.ml_ops.data import get_pv_data, clean_pv_data"
   ]
  },
  {
   "cell_type": "code",
   "execution_count": 22,
   "metadata": {},
   "outputs": [
    {
     "name": "stdout",
     "output_type": "stream",
     "text": [
      "# data loaded\n",
      "# data cleaned\n"
     ]
    }
   ],
   "source": [
    "data = get_pv_data()\n",
    "data_clean = clean_pv_data(data)"
   ]
  },
  {
   "cell_type": "code",
   "execution_count": 68,
   "metadata": {},
   "outputs": [
    {
     "data": {
      "text/html": [
       "<div>\n",
       "<style scoped>\n",
       "    .dataframe tbody tr th:only-of-type {\n",
       "        vertical-align: middle;\n",
       "    }\n",
       "\n",
       "    .dataframe tbody tr th {\n",
       "        vertical-align: top;\n",
       "    }\n",
       "\n",
       "    .dataframe thead th {\n",
       "        text-align: right;\n",
       "    }\n",
       "</style>\n",
       "<table border=\"1\" class=\"dataframe\">\n",
       "  <thead>\n",
       "    <tr style=\"text-align: right;\">\n",
       "      <th></th>\n",
       "      <th>utc_time</th>\n",
       "      <th>local_time</th>\n",
       "      <th>electricity</th>\n",
       "    </tr>\n",
       "  </thead>\n",
       "  <tbody>\n",
       "    <tr>\n",
       "      <th>0</th>\n",
       "      <td>1980-01-01 00:00:00+00:00</td>\n",
       "      <td>1980-01-01 01:00:00+01:00</td>\n",
       "      <td>0.000</td>\n",
       "    </tr>\n",
       "    <tr>\n",
       "      <th>1</th>\n",
       "      <td>1980-01-01 01:00:00+00:00</td>\n",
       "      <td>1980-01-01 02:00:00+01:00</td>\n",
       "      <td>0.000</td>\n",
       "    </tr>\n",
       "    <tr>\n",
       "      <th>2</th>\n",
       "      <td>1980-01-01 02:00:00+00:00</td>\n",
       "      <td>1980-01-01 03:00:00+01:00</td>\n",
       "      <td>0.000</td>\n",
       "    </tr>\n",
       "    <tr>\n",
       "      <th>3</th>\n",
       "      <td>1980-01-01 03:00:00+00:00</td>\n",
       "      <td>1980-01-01 04:00:00+01:00</td>\n",
       "      <td>0.000</td>\n",
       "    </tr>\n",
       "    <tr>\n",
       "      <th>4</th>\n",
       "      <td>1980-01-01 04:00:00+00:00</td>\n",
       "      <td>1980-01-01 05:00:00+01:00</td>\n",
       "      <td>0.000</td>\n",
       "    </tr>\n",
       "    <tr>\n",
       "      <th>5</th>\n",
       "      <td>1980-01-01 05:00:00+00:00</td>\n",
       "      <td>1980-01-01 06:00:00+01:00</td>\n",
       "      <td>0.000</td>\n",
       "    </tr>\n",
       "    <tr>\n",
       "      <th>6</th>\n",
       "      <td>1980-01-01 06:00:00+00:00</td>\n",
       "      <td>1980-01-01 07:00:00+01:00</td>\n",
       "      <td>0.000</td>\n",
       "    </tr>\n",
       "    <tr>\n",
       "      <th>7</th>\n",
       "      <td>1980-01-01 07:00:00+00:00</td>\n",
       "      <td>1980-01-01 08:00:00+01:00</td>\n",
       "      <td>0.000</td>\n",
       "    </tr>\n",
       "    <tr>\n",
       "      <th>8</th>\n",
       "      <td>1980-01-01 08:00:00+00:00</td>\n",
       "      <td>1980-01-01 09:00:00+01:00</td>\n",
       "      <td>0.019</td>\n",
       "    </tr>\n",
       "    <tr>\n",
       "      <th>9</th>\n",
       "      <td>1980-01-01 09:00:00+00:00</td>\n",
       "      <td>1980-01-01 10:00:00+01:00</td>\n",
       "      <td>0.062</td>\n",
       "    </tr>\n",
       "    <tr>\n",
       "      <th>10</th>\n",
       "      <td>1980-01-01 10:00:00+00:00</td>\n",
       "      <td>1980-01-01 11:00:00+01:00</td>\n",
       "      <td>0.165</td>\n",
       "    </tr>\n",
       "    <tr>\n",
       "      <th>11</th>\n",
       "      <td>1980-01-01 11:00:00+00:00</td>\n",
       "      <td>1980-01-01 12:00:00+01:00</td>\n",
       "      <td>0.274</td>\n",
       "    </tr>\n",
       "  </tbody>\n",
       "</table>\n",
       "</div>"
      ],
      "text/plain": [
       "                    utc_time                 local_time  electricity\n",
       "0  1980-01-01 00:00:00+00:00  1980-01-01 01:00:00+01:00        0.000\n",
       "1  1980-01-01 01:00:00+00:00  1980-01-01 02:00:00+01:00        0.000\n",
       "2  1980-01-01 02:00:00+00:00  1980-01-01 03:00:00+01:00        0.000\n",
       "3  1980-01-01 03:00:00+00:00  1980-01-01 04:00:00+01:00        0.000\n",
       "4  1980-01-01 04:00:00+00:00  1980-01-01 05:00:00+01:00        0.000\n",
       "5  1980-01-01 05:00:00+00:00  1980-01-01 06:00:00+01:00        0.000\n",
       "6  1980-01-01 06:00:00+00:00  1980-01-01 07:00:00+01:00        0.000\n",
       "7  1980-01-01 07:00:00+00:00  1980-01-01 08:00:00+01:00        0.000\n",
       "8  1980-01-01 08:00:00+00:00  1980-01-01 09:00:00+01:00        0.019\n",
       "9  1980-01-01 09:00:00+00:00  1980-01-01 10:00:00+01:00        0.062\n",
       "10 1980-01-01 10:00:00+00:00  1980-01-01 11:00:00+01:00        0.165\n",
       "11 1980-01-01 11:00:00+00:00  1980-01-01 12:00:00+01:00        0.274"
      ]
     },
     "execution_count": 68,
     "metadata": {},
     "output_type": "execute_result"
    }
   ],
   "source": [
    "def model_yesterday(X: pd.DataFrame, input_date: str) -> pd.DataFrame:\n",
    "    \"\"\"\n",
    "    Takes an enrgy Dataframe and a date input.\n",
    "    Datfrae: clean_data\n",
    "    Date format: \"YEAR-MONTH-DAY HOUR:MIN:SECONDS\"\n",
    "    Returns a Dataframe of the former day energy production\n",
    "    \"\"\"\n",
    "    input_timestamp = pd.Timestamp(input_date, tz='UTC')\n",
    "    idx = X[X.utc_time == input_timestamp].index[0]\n",
    "    if idx <= 24:\n",
    "        return X.iloc[0:idx,:]\n",
    "    return X.iloc[idx-24:idx,:]\n",
    "\n",
    "model_yesterday(data_clean, \"1980-01-01 12:00:00\")\n"
   ]
  },
  {
   "cell_type": "code",
   "execution_count": null,
   "metadata": {},
   "outputs": [],
   "source": []
  }
 ],
 "metadata": {
  "kernelspec": {
   "display_name": "power",
   "language": "python",
   "name": "python3"
  },
  "language_info": {
   "codemirror_mode": {
    "name": "ipython",
    "version": 3
   },
   "file_extension": ".py",
   "mimetype": "text/x-python",
   "name": "python",
   "nbconvert_exporter": "python",
   "pygments_lexer": "ipython3",
   "version": "3.10.6"
  }
 },
 "nbformat": 4,
 "nbformat_minor": 2
}
