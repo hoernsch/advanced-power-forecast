{
 "cells": [
  {
   "cell_type": "code",
   "execution_count": 24,
   "metadata": {},
   "outputs": [],
   "source": [
    "import requests\n",
    "import pandas as pd\n",
    "from power.ml_ops.data import get_pv_data, clean_pv_data\n",
    "from power.ml_ops.model import model_yesterday"
   ]
  },
  {
   "cell_type": "code",
   "execution_count": 2,
   "metadata": {},
   "outputs": [],
   "source": [
    "from statsmodels.tsa.seasonal import seasonal_decompose"
   ]
  },
  {
   "cell_type": "code",
   "execution_count": 3,
   "metadata": {},
   "outputs": [
    {
     "name": "stdout",
     "output_type": "stream",
     "text": [
      "# data loaded\n"
     ]
    }
   ],
   "source": [
    "data = get_pv_data()\n"
   ]
  },
  {
   "cell_type": "code",
   "execution_count": 4,
   "metadata": {},
   "outputs": [
    {
     "data": {
      "text/html": [
       "<div>\n",
       "<style scoped>\n",
       "    .dataframe tbody tr th:only-of-type {\n",
       "        vertical-align: middle;\n",
       "    }\n",
       "\n",
       "    .dataframe tbody tr th {\n",
       "        vertical-align: top;\n",
       "    }\n",
       "\n",
       "    .dataframe thead th {\n",
       "        text-align: right;\n",
       "    }\n",
       "</style>\n",
       "<table border=\"1\" class=\"dataframe\">\n",
       "  <thead>\n",
       "    <tr style=\"text-align: right;\">\n",
       "      <th></th>\n",
       "      <th>Unnamed: 0.1</th>\n",
       "      <th>Unnamed: 0</th>\n",
       "      <th>local_time</th>\n",
       "      <th>electricity</th>\n",
       "      <th>irradiance_direct</th>\n",
       "      <th>irradiance_diffuse</th>\n",
       "      <th>temperature</th>\n",
       "      <th>source</th>\n",
       "    </tr>\n",
       "  </thead>\n",
       "  <tbody>\n",
       "    <tr>\n",
       "      <th>0</th>\n",
       "      <td>0</td>\n",
       "      <td>315532800000</td>\n",
       "      <td>1980-01-01 01:00:00+01:00</td>\n",
       "      <td>0.0</td>\n",
       "      <td>0.0</td>\n",
       "      <td>0.0</td>\n",
       "      <td>-1.296</td>\n",
       "      <td>data/pv_data/1980_pv.csv</td>\n",
       "    </tr>\n",
       "    <tr>\n",
       "      <th>1</th>\n",
       "      <td>1</td>\n",
       "      <td>315536400000</td>\n",
       "      <td>1980-01-01 02:00:00+01:00</td>\n",
       "      <td>0.0</td>\n",
       "      <td>0.0</td>\n",
       "      <td>0.0</td>\n",
       "      <td>-1.216</td>\n",
       "      <td>data/pv_data/1980_pv.csv</td>\n",
       "    </tr>\n",
       "    <tr>\n",
       "      <th>2</th>\n",
       "      <td>2</td>\n",
       "      <td>315540000000</td>\n",
       "      <td>1980-01-01 03:00:00+01:00</td>\n",
       "      <td>0.0</td>\n",
       "      <td>0.0</td>\n",
       "      <td>0.0</td>\n",
       "      <td>-1.005</td>\n",
       "      <td>data/pv_data/1980_pv.csv</td>\n",
       "    </tr>\n",
       "    <tr>\n",
       "      <th>3</th>\n",
       "      <td>3</td>\n",
       "      <td>315543600000</td>\n",
       "      <td>1980-01-01 04:00:00+01:00</td>\n",
       "      <td>0.0</td>\n",
       "      <td>0.0</td>\n",
       "      <td>0.0</td>\n",
       "      <td>-1.063</td>\n",
       "      <td>data/pv_data/1980_pv.csv</td>\n",
       "    </tr>\n",
       "    <tr>\n",
       "      <th>4</th>\n",
       "      <td>4</td>\n",
       "      <td>315547200000</td>\n",
       "      <td>1980-01-01 05:00:00+01:00</td>\n",
       "      <td>0.0</td>\n",
       "      <td>0.0</td>\n",
       "      <td>0.0</td>\n",
       "      <td>-1.227</td>\n",
       "      <td>data/pv_data/1980_pv.csv</td>\n",
       "    </tr>\n",
       "    <tr>\n",
       "      <th>...</th>\n",
       "      <td>...</td>\n",
       "      <td>...</td>\n",
       "      <td>...</td>\n",
       "      <td>...</td>\n",
       "      <td>...</td>\n",
       "      <td>...</td>\n",
       "      <td>...</td>\n",
       "      <td>...</td>\n",
       "    </tr>\n",
       "    <tr>\n",
       "      <th>376939</th>\n",
       "      <td>8755</td>\n",
       "      <td>1672513200000</td>\n",
       "      <td>2022-12-31 20:00:00+01:00</td>\n",
       "      <td>0.0</td>\n",
       "      <td>0.0</td>\n",
       "      <td>0.0</td>\n",
       "      <td>12.240</td>\n",
       "      <td>data/pv_data/2022_pv.csv</td>\n",
       "    </tr>\n",
       "    <tr>\n",
       "      <th>376940</th>\n",
       "      <td>8756</td>\n",
       "      <td>1672516800000</td>\n",
       "      <td>2022-12-31 21:00:00+01:00</td>\n",
       "      <td>0.0</td>\n",
       "      <td>0.0</td>\n",
       "      <td>0.0</td>\n",
       "      <td>11.968</td>\n",
       "      <td>data/pv_data/2022_pv.csv</td>\n",
       "    </tr>\n",
       "    <tr>\n",
       "      <th>376941</th>\n",
       "      <td>8757</td>\n",
       "      <td>1672520400000</td>\n",
       "      <td>2022-12-31 22:00:00+01:00</td>\n",
       "      <td>0.0</td>\n",
       "      <td>0.0</td>\n",
       "      <td>0.0</td>\n",
       "      <td>11.953</td>\n",
       "      <td>data/pv_data/2022_pv.csv</td>\n",
       "    </tr>\n",
       "    <tr>\n",
       "      <th>376942</th>\n",
       "      <td>8758</td>\n",
       "      <td>1672524000000</td>\n",
       "      <td>2022-12-31 23:00:00+01:00</td>\n",
       "      <td>0.0</td>\n",
       "      <td>0.0</td>\n",
       "      <td>0.0</td>\n",
       "      <td>11.993</td>\n",
       "      <td>data/pv_data/2022_pv.csv</td>\n",
       "    </tr>\n",
       "    <tr>\n",
       "      <th>376943</th>\n",
       "      <td>8759</td>\n",
       "      <td>1672527600000</td>\n",
       "      <td>2023-01-01 00:00:00+01:00</td>\n",
       "      <td>0.0</td>\n",
       "      <td>0.0</td>\n",
       "      <td>0.0</td>\n",
       "      <td>11.945</td>\n",
       "      <td>data/pv_data/2022_pv.csv</td>\n",
       "    </tr>\n",
       "  </tbody>\n",
       "</table>\n",
       "<p>376944 rows × 8 columns</p>\n",
       "</div>"
      ],
      "text/plain": [
       "        Unnamed: 0.1     Unnamed: 0                 local_time  electricity  \\\n",
       "0                  0   315532800000  1980-01-01 01:00:00+01:00          0.0   \n",
       "1                  1   315536400000  1980-01-01 02:00:00+01:00          0.0   \n",
       "2                  2   315540000000  1980-01-01 03:00:00+01:00          0.0   \n",
       "3                  3   315543600000  1980-01-01 04:00:00+01:00          0.0   \n",
       "4                  4   315547200000  1980-01-01 05:00:00+01:00          0.0   \n",
       "...              ...            ...                        ...          ...   \n",
       "376939          8755  1672513200000  2022-12-31 20:00:00+01:00          0.0   \n",
       "376940          8756  1672516800000  2022-12-31 21:00:00+01:00          0.0   \n",
       "376941          8757  1672520400000  2022-12-31 22:00:00+01:00          0.0   \n",
       "376942          8758  1672524000000  2022-12-31 23:00:00+01:00          0.0   \n",
       "376943          8759  1672527600000  2023-01-01 00:00:00+01:00          0.0   \n",
       "\n",
       "        irradiance_direct  irradiance_diffuse  temperature  \\\n",
       "0                     0.0                 0.0       -1.296   \n",
       "1                     0.0                 0.0       -1.216   \n",
       "2                     0.0                 0.0       -1.005   \n",
       "3                     0.0                 0.0       -1.063   \n",
       "4                     0.0                 0.0       -1.227   \n",
       "...                   ...                 ...          ...   \n",
       "376939                0.0                 0.0       12.240   \n",
       "376940                0.0                 0.0       11.968   \n",
       "376941                0.0                 0.0       11.953   \n",
       "376942                0.0                 0.0       11.993   \n",
       "376943                0.0                 0.0       11.945   \n",
       "\n",
       "                          source  \n",
       "0       data/pv_data/1980_pv.csv  \n",
       "1       data/pv_data/1980_pv.csv  \n",
       "2       data/pv_data/1980_pv.csv  \n",
       "3       data/pv_data/1980_pv.csv  \n",
       "4       data/pv_data/1980_pv.csv  \n",
       "...                          ...  \n",
       "376939  data/pv_data/2022_pv.csv  \n",
       "376940  data/pv_data/2022_pv.csv  \n",
       "376941  data/pv_data/2022_pv.csv  \n",
       "376942  data/pv_data/2022_pv.csv  \n",
       "376943  data/pv_data/2022_pv.csv  \n",
       "\n",
       "[376944 rows x 8 columns]"
      ]
     },
     "execution_count": 4,
     "metadata": {},
     "output_type": "execute_result"
    }
   ],
   "source": [
    "data"
   ]
  },
  {
   "cell_type": "code",
   "execution_count": 5,
   "metadata": {},
   "outputs": [
    {
     "name": "stdout",
     "output_type": "stream",
     "text": [
      "# data cleaned\n"
     ]
    }
   ],
   "source": [
    "data_clean = clean_pv_data(data)"
   ]
  },
  {
   "cell_type": "code",
   "execution_count": 23,
   "metadata": {},
   "outputs": [
    {
     "name": "stdout",
     "output_type": "stream",
     "text": [
      "# data loaded\n",
      "# data cleaned\n"
     ]
    },
    {
     "data": {
      "text/plain": [
       "{'input_date': [0.127,\n",
       "  0.227,\n",
       "  0.366,\n",
       "  0.469,\n",
       "  0.417,\n",
       "  0.343,\n",
       "  0.361,\n",
       "  0.456,\n",
       "  0.464,\n",
       "  0.329,\n",
       "  0.215,\n",
       "  0.146,\n",
       "  0.057,\n",
       "  0.011,\n",
       "  0.0,\n",
       "  0.0,\n",
       "  0.0,\n",
       "  0.0,\n",
       "  0.0,\n",
       "  0.0,\n",
       "  0.0,\n",
       "  0.0,\n",
       "  0.012,\n",
       "  0.059]}"
      ]
     },
     "execution_count": 23,
     "metadata": {},
     "output_type": "execute_result"
    }
   ],
   "source": [
    "def predict_previous_value(input_date: str):\n",
    "    pv_data = get_pv_data()\n",
    "    pv_data_clean = clean_pv_data(pv_data)\n",
    "    yesterday_baseline = model_yesterday(pv_data_clean, input_date)\n",
    "    values = yesterday_baseline.get('electricity').to_list()\n",
    "    return {'input_date': values}\n",
    "\n",
    "predict_previous_value('1982-07-06 05:00:00')"
   ]
  },
  {
   "cell_type": "code",
   "execution_count": null,
   "metadata": {},
   "outputs": [],
   "source": [
    "data.head()"
   ]
  },
  {
   "cell_type": "code",
   "execution_count": null,
   "metadata": {},
   "outputs": [],
   "source": [
    "def model_yesterday(X: pd.DataFrame, input_date: str) -> pd.DataFrame:\n",
    "    \"\"\"\n",
    "    Takes an enrgy Dataframe and a date input.\n",
    "    Datfrae: clean_data\n",
    "    Date format: \"YEAR-MONTH-DAY HOUR:MIN:SECONDS\"\n",
    "    Returns a Dataframe of the former day energy production\n",
    "    \"\"\"\n",
    "    input_timestamp = pd.Timestamp(input_date, tz='UTC')\n",
    "    idx = X[X.utc_time == input_timestamp].index[0]\n",
    "    if idx <= 24:\n",
    "        return X.iloc[0:idx,:]\n",
    "    return X.iloc[idx-24:idx,:]\n",
    "\n",
    "model_yesterday(data_clean, \"1980-01-01 12:00:00\")\n"
   ]
  },
  {
   "cell_type": "code",
   "execution_count": 27,
   "metadata": {},
   "outputs": [
    {
     "data": {
      "text/plain": [
       "{'detail': 'Not Found'}"
      ]
     },
     "execution_count": 27,
     "metadata": {},
     "output_type": "execute_result"
    }
   ],
   "source": [
    "base_url = 'http://127.0.0.1:8000/'\n",
    "endpoint= '/predict/previous_day'\n",
    "url_ = f\"{base_url}{endpoint}\"\n",
    "params= {'input_date':\"1982-07-06 05:00:00\"}\n",
    "\n",
    "response = requests.get(url_, params=params).json()\n",
    "response"
   ]
  },
  {
   "cell_type": "code",
   "execution_count": null,
   "metadata": {},
   "outputs": [],
   "source": [
    "result_add = seasonal_decompose(df['value'], model='additive')\n",
    "result_add.plot();"
   ]
  },
  {
   "cell_type": "code",
   "execution_count": null,
   "metadata": {},
   "outputs": [],
   "source": [
    "parameter ={}"
   ]
  }
 ],
 "metadata": {
  "kernelspec": {
   "display_name": "power",
   "language": "python",
   "name": "python3"
  },
  "language_info": {
   "codemirror_mode": {
    "name": "ipython",
    "version": 3
   },
   "file_extension": ".py",
   "mimetype": "text/x-python",
   "name": "python",
   "nbconvert_exporter": "python",
   "pygments_lexer": "ipython3",
   "version": "3.10.6"
  }
 },
 "nbformat": 4,
 "nbformat_minor": 2
}
